{
  "nbformat": 4,
  "nbformat_minor": 0,
  "metadata": {
    "colab": {
      "name": "_09 모듈과 패키지.ipynb",
      "provenance": [],
      "collapsed_sections": [
        "bg5ZXMV2sn1M"
      ]
    },
    "kernelspec": {
      "name": "python3",
      "display_name": "Python 3"
    },
    "accelerator": "GPU",
    "gpuClass": "standard"
  },
  "cells": [
    {
      "cell_type": "markdown",
      "metadata": {
        "id": "bg5ZXMV2sn1M"
      },
      "source": [
        "# 모듈과 패키지"
      ]
    },
    {
      "cell_type": "markdown",
      "source": [
        "# 모듈\n",
        "* 함수, 변수 그리고 클래스의 집합\n",
        "* 다른 파이썬 프로그램에서 가져와 사용할 수 있는 파이썬 파일\n",
        "* 파이썬에는 다른 사람들이 만들어 놓은 모듈이 굉장히 많음\n",
        "* 사용자가 모듈은 직접 만들어서 사용할 수도 있음\n",
        "\n",
        "## 모듈의 장점\n",
        "* 단순성\n",
        " + 전체 문제에 초점을 맞추기보다는 문제의 상대적으로 작은 부분에만 초점을 맞춤\n",
        " + 단일 모듈로 작업할 수 있는 작은 도메인\n",
        " + 개발이 쉬우며 오류 발생이 적음\n",
        "* 유지보수성\n",
        " + 일반적으로 모듈은 서로 다른 문제 영역간에 논리적 경계를 설정하도록 설계\n",
        " + 상호 의존성을 최소화하는 방식으로 모듈을 작성하여 단일 모듈을 수정하면 프로그램의 다른 부분에 영향을 미칠 가능성이 줄어듬\n",
        " + 모듈 외부의 응용 프로그램에 대해 전혀 알지 못해도 모듈을 변경할 수 있음\n",
        " + 개발팀이 대규모 응용 프로그램에서 공동으로 작업할 수 있음\n",
        "* 재사용성\n",
        " + 단일 모듈에서 정의된 기능은 응용 프로그램의 다른 부분에서(적절히 정의된 인터페이스를 통해) 쉽게 재사용 가능\n",
        " + 중복 코드를 만들 필요가 없음\n",
        "* 범위 지정\n",
        " + 일반적으로 모듈은 프로그램의 여러 영역에서 식별자 간의 충돌을 피하는 데 도움이 되는 별도의 네임 스페이스를 정의\n",
        "\n",
        " ## 모듈의 종류\n",
        "* 사용자 정의 모듈: 사용자가 직접 정의해서 사용하는 모듈\n",
        "* 표준 모듈: 파이썬에서 기본 제공하는 모듈\n",
        "* 서드 파티 모듈: 외부에서 제공하는 모듈\n",
        " + 파이썬 표준 모듈에 모든 기능이 있지 않음\n",
        " + 서드 파티 모듈을 이용해 고급 프로그래밍 가능\n",
        " + 게임 개발을 위한 pygame, 데이터베이스 기능의 SQLAlchemy, 데이터 분석 기능의 Numpy"
      ],
      "metadata": {
        "id": "T6qI-d_DAMPh"
      }
    },
    {
      "cell_type": "markdown",
      "metadata": {
        "id": "Lj_iZPKnCRP0"
      },
      "source": [
        "\n",
        "\n",
        "---\n",
        "\n"
      ]
    },
    {
      "cell_type": "markdown",
      "metadata": {
        "id": "bO6PBIYbZZ_4"
      },
      "source": [
        "### 사용자 정의 모듈\n",
        "\n",
        "* 사용자가 사용할 모듈을 직접 정의\n",
        "* 모듈 이름으로 파일명을 사용\n",
        "\n",
        "* IPython 내장 매직 명령어 사용\n",
        " + __%%writefile__: 셀의 코드를 .py 파이썬 코드 파일로 저장\n",
        " + __%load__: 파이썬 코드 파일 불러오기\n",
        " + __%run__: 파이썬 코드 파일 실행"
      ]
    },
    {
      "cell_type": "code",
      "metadata": {
        "id": "CWZ8iKl6ap99",
        "colab": {
          "base_uri": "https://localhost:8080/"
        },
        "outputId": "f59bd499-59a8-4dfd-e5c0-c4581e7ea3c4"
      },
      "source": [
        "%%writefile Module.py\n",
        "def func1():\n",
        "  print(\"Module.py: func()\")\n",
        "\n",
        "def func2():\n",
        "  print(\"Module.py: func2()\")\n",
        "\n",
        "def func3():\n",
        "  print(\"Module.py: func3()\")\n"
      ],
      "execution_count": 1,
      "outputs": [
        {
          "output_type": "stream",
          "name": "stdout",
          "text": [
            "Writing Module.py\n"
          ]
        }
      ]
    },
    {
      "cell_type": "code",
      "metadata": {
        "id": "e-nLDjHWb1mX",
        "colab": {
          "base_uri": "https://localhost:8080/"
        },
        "outputId": "5a86c933-a390-4fe2-c058-08d9dcb3e1f6"
      },
      "source": [
        "!ls # 모듈.py가 만들어짐"
      ],
      "execution_count": 2,
      "outputs": [
        {
          "output_type": "stream",
          "name": "stdout",
          "text": [
            "Module.py  sample_data\n"
          ]
        }
      ]
    },
    {
      "cell_type": "code",
      "metadata": {
        "id": "bQcfKftxb9uR"
      },
      "source": [
        "%load Module.py # 모듈 갖고오기"
      ],
      "execution_count": 3,
      "outputs": []
    },
    {
      "cell_type": "code",
      "metadata": {
        "id": "bKlMMA4-cFVA"
      },
      "source": [
        "%run Module.py # 모듈실행하기"
      ],
      "execution_count": 4,
      "outputs": []
    },
    {
      "cell_type": "code",
      "metadata": {
        "id": "qsFSyO7scm1d",
        "colab": {
          "base_uri": "https://localhost:8080/"
        },
        "outputId": "edc77521-17c6-4b12-fddf-e38e9da7fef3"
      },
      "source": [
        "import Module #파일명이 곧 모듈명 .py 붙이면 안됨\n",
        "Module.func1() # 모듈에 우리가 펑션 1 2 3 저장해놈\n",
        "Module.func2()\n",
        "Module.func3() # 우리가 정의한 펑션 출력함."
      ],
      "execution_count": 5,
      "outputs": [
        {
          "output_type": "stream",
          "name": "stdout",
          "text": [
            "Module.py: func()\n",
            "Module.py: func2()\n",
            "Module.py: func3()\n"
          ]
        }
      ]
    },
    {
      "cell_type": "code",
      "metadata": {
        "id": "d2HOXB12DoqK",
        "colab": {
          "base_uri": "https://localhost:8080/"
        },
        "outputId": "4a84d619-9cb8-4788-dfb8-b7412ccf7e04"
      },
      "source": [
        "from Module import * # 모듈안에 전체 메서드 다 가져오기 (임포트 올 한것임)\n",
        "func1()\n",
        "func2()\n",
        "func3()"
      ],
      "execution_count": 6,
      "outputs": [
        {
          "output_type": "stream",
          "name": "stdout",
          "text": [
            "Module.py: func()\n",
            "Module.py: func2()\n",
            "Module.py: func3()\n"
          ]
        }
      ]
    },
    {
      "cell_type": "markdown",
      "metadata": {
        "id": "3sK8A00OD0wu"
      },
      "source": [
        "#### [Lab] 계산기 모듈 만들기\n",
        "\n",
        "* 사용자 정의 모듈을 이용해서 계산기에 필요한 기능들로 모듈 만들기"
      ]
    },
    {
      "cell_type": "code",
      "metadata": {
        "id": "r7UW1sFYD-fs",
        "colab": {
          "base_uri": "https://localhost:8080/"
        },
        "outputId": "0253bd38-ef25-4913-e00b-0134d8b39567"
      },
      "source": [
        "%%writefile calculator.py\n",
        "def add(a, b):\n",
        "  return a + b\n",
        "\n",
        "def sub(a, b):\n",
        "  return a - b\n",
        "\n",
        "def mul(a, b):\n",
        "  return a * b\n",
        "\n",
        "def div(a, b):\n",
        "  return a / b\n",
        "\n",
        "def mod(a, b): # 몫구하기\n",
        "  return a % b\n",
        "\n",
        "# cal--.py가 만들어짐!"
      ],
      "execution_count": 7,
      "outputs": [
        {
          "output_type": "stream",
          "name": "stdout",
          "text": [
            "Writing calculator.py\n"
          ]
        }
      ]
    },
    {
      "cell_type": "code",
      "metadata": {
        "id": "QUKdcfj7Em7-",
        "colab": {
          "base_uri": "https://localhost:8080/"
        },
        "outputId": "59ee628b-2c01-4528-b829-7bd650b4f35b"
      },
      "source": [
        "from calculator import * # 임포트 올\n",
        "\n",
        "print(add(3, 5))\n",
        "print(sub(3, 5))\n",
        "print(mul(3, 5))\n",
        "print(div(3, 5))\n",
        "print(mod(3, 5))"
      ],
      "execution_count": 10,
      "outputs": [
        {
          "output_type": "stream",
          "name": "stdout",
          "text": [
            "8\n",
            "-2\n",
            "15\n",
            "0.6\n",
            "3\n"
          ]
        }
      ]
    },
    {
      "cell_type": "markdown",
      "metadata": {
        "id": "0pHAl9UoZfu6"
      },
      "source": [
        "\n",
        "\n",
        "---\n",
        "\n"
      ]
    },
    {
      "cell_type": "markdown",
      "metadata": {
        "id": "ZkEj_NrE56Xf"
      },
      "source": [
        "### 파이썬 표준 모듈\n",
        "\n",
        "* 파이썬에서 기본으로 내장된 유용한 속성과 함수들이 많음"
      ]
    },
    {
      "cell_type": "code",
      "metadata": {
        "id": "vPxFygaF6KT-",
        "colab": {
          "base_uri": "https://localhost:8080/"
        },
        "outputId": "c2aa0c6e-7efe-4df2-af9c-6de7073502fc"
      },
      "source": [
        "import sys # sys에 빌트인으로 내장된 함수들 머있는지 불러오는것\n",
        "print(sys.builtin_module_names)"
      ],
      "execution_count": 11,
      "outputs": [
        {
          "output_type": "stream",
          "name": "stdout",
          "text": [
            "('_abc', '_ast', '_bisect', '_blake2', '_codecs', '_collections', '_datetime', '_elementtree', '_functools', '_heapq', '_imp', '_io', '_locale', '_md5', '_operator', '_pickle', '_posixsubprocess', '_random', '_sha1', '_sha256', '_sha3', '_sha512', '_signal', '_socket', '_sre', '_stat', '_string', '_struct', '_symtable', '_thread', '_tracemalloc', '_warnings', '_weakref', 'array', 'atexit', 'binascii', 'builtins', 'cmath', 'errno', 'faulthandler', 'fcntl', 'gc', 'grp', 'itertools', 'marshal', 'math', 'posix', 'pwd', 'pyexpat', 'select', 'spwd', 'sys', 'syslog', 'time', 'unicodedata', 'xxsubtype', 'zipimport', 'zlib')\n"
          ]
        }
      ]
    },
    {
      "cell_type": "code",
      "metadata": {
        "id": "E6pcvOoT6loa",
        "colab": {
          "base_uri": "https://localhost:8080/"
        },
        "outputId": "bcbdb00e-f30d-45a0-ca9f-cc41ab8cd334"
      },
      "source": [
        "print(dir(__builtins__))"
      ],
      "execution_count": 12,
      "outputs": [
        {
          "output_type": "stream",
          "name": "stdout",
          "text": [
            "['ArithmeticError', 'AssertionError', 'AttributeError', 'BaseException', 'BlockingIOError', 'BrokenPipeError', 'BufferError', 'BytesWarning', 'ChildProcessError', 'ConnectionAbortedError', 'ConnectionError', 'ConnectionRefusedError', 'ConnectionResetError', 'DeprecationWarning', 'EOFError', 'Ellipsis', 'EnvironmentError', 'Exception', 'False', 'FileExistsError', 'FileNotFoundError', 'FloatingPointError', 'FutureWarning', 'GeneratorExit', 'IOError', 'ImportError', 'ImportWarning', 'IndentationError', 'IndexError', 'InterruptedError', 'IsADirectoryError', 'KeyError', 'KeyboardInterrupt', 'LookupError', 'MemoryError', 'ModuleNotFoundError', 'NameError', 'None', 'NotADirectoryError', 'NotImplemented', 'NotImplementedError', 'OSError', 'OverflowError', 'PendingDeprecationWarning', 'PermissionError', 'ProcessLookupError', 'RecursionError', 'ReferenceError', 'ResourceWarning', 'RuntimeError', 'RuntimeWarning', 'StopAsyncIteration', 'StopIteration', 'SyntaxError', 'SyntaxWarning', 'SystemError', 'SystemExit', 'TabError', 'TimeoutError', 'True', 'TypeError', 'UnboundLocalError', 'UnicodeDecodeError', 'UnicodeEncodeError', 'UnicodeError', 'UnicodeTranslateError', 'UnicodeWarning', 'UserWarning', 'ValueError', 'Warning', 'ZeroDivisionError', '__IPYTHON__', '__build_class__', '__debug__', '__doc__', '__import__', '__loader__', '__name__', '__package__', '__spec__', 'abs', 'all', 'any', 'ascii', 'bin', 'bool', 'breakpoint', 'bytearray', 'bytes', 'callable', 'chr', 'classmethod', 'compile', 'complex', 'copyright', 'credits', 'delattr', 'dict', 'dir', 'display', 'divmod', 'dreload', 'enumerate', 'eval', 'exec', 'execfile', 'filter', 'float', 'format', 'frozenset', 'get_ipython', 'getattr', 'globals', 'hasattr', 'hash', 'help', 'hex', 'id', 'input', 'int', 'isinstance', 'issubclass', 'iter', 'len', 'license', 'list', 'locals', 'map', 'max', 'memoryview', 'min', 'next', 'object', 'oct', 'open', 'ord', 'pow', 'print', 'property', 'range', 'repr', 'reversed', 'round', 'runfile', 'set', 'setattr', 'slice', 'sorted', 'staticmethod', 'str', 'sum', 'super', 'tuple', 'type', 'vars', 'zip']\n"
          ]
        }
      ]
    },
    {
      "cell_type": "markdown",
      "metadata": {
        "id": "ILtHUW9h6zKi"
      },
      "source": [
        "### 시간 모듈(datetime)\n",
        "\n",
        "* 운영체제가 제공하는 시간 기능을 파이썬에서 사용할 수 있도록 만들어진 모듈\n",
        "* 시간 모듈을 사용하기 위해서는 `import time` 필요"
      ]
    },
    {
      "cell_type": "code",
      "metadata": {
        "id": "MbSkRsQp622D",
        "colab": {
          "base_uri": "https://localhost:8080/"
        },
        "outputId": "24f09bf2-bdfa-48b3-9a2f-fe819ceeb33a"
      },
      "source": [
        "import time\n",
        "print(dir(time)) \n",
        "# 타임모듈에 이런게 들어가 있음"
      ],
      "execution_count": 13,
      "outputs": [
        {
          "output_type": "stream",
          "name": "stdout",
          "text": [
            "['CLOCK_BOOTTIME', 'CLOCK_MONOTONIC', 'CLOCK_MONOTONIC_RAW', 'CLOCK_PROCESS_CPUTIME_ID', 'CLOCK_REALTIME', 'CLOCK_THREAD_CPUTIME_ID', '_STRUCT_TM_ITEMS', '__doc__', '__loader__', '__name__', '__package__', '__spec__', 'altzone', 'asctime', 'clock', 'clock_getres', 'clock_gettime', 'clock_gettime_ns', 'clock_settime', 'clock_settime_ns', 'ctime', 'daylight', 'get_clock_info', 'gmtime', 'localtime', 'mktime', 'monotonic', 'monotonic_ns', 'perf_counter', 'perf_counter_ns', 'process_time', 'process_time_ns', 'pthread_getcpuclockid', 'sleep', 'strftime', 'strptime', 'struct_time', 'thread_time', 'thread_time_ns', 'time', 'time_ns', 'timezone', 'tzname', 'tzset']\n"
          ]
        }
      ]
    },
    {
      "cell_type": "markdown",
      "metadata": {
        "id": "z9LVec3hYyqa"
      },
      "source": [
        "* 시간 모듈 `time` 예제"
      ]
    },
    {
      "cell_type": "code",
      "metadata": {
        "id": "DnE8kYXuYzC8",
        "colab": {
          "base_uri": "https://localhost:8080/"
        },
        "outputId": "53d46848-52a3-4a09-d8ea-cc3f2935ec58"
      },
      "source": [
        "import time\n",
        "print(time)\n",
        "print(time.time()) # 타임이란 패키지에 타임이란 메서드 실행. 얼만큼이 걸렸는지 계산하는 것\n",
        "print(time.time()) \n",
        "print(time.time()) # 세개 값이 다 다름. 조금씩 추가 되고 있음\n",
        "\n",
        "now = time.gmtime(time.time()) # gmtime은 우리가 실제 쓰는 시간임. 컴퓨터의 시간이 아니라.\n",
        "print(now)\n",
        "\n",
        "year = str(now.tm_year)\n",
        "month = str(now.tm_mon)\n",
        "day = str(now.tm_mday)\n",
        "print(year + \"년\", month + \"월\", day + \"일\")\n",
        "\n",
        "hour = str(now.tm_hour)\n",
        "minute = str(now.tm_min)\n",
        "sec = str(now.tm_sec)\n",
        "print(hour + \"시\", minute + \"분\", sec + \"초\")"
      ],
      "execution_count": 22,
      "outputs": [
        {
          "output_type": "stream",
          "name": "stdout",
          "text": [
            "<module 'time' (built-in)>\n",
            "1658486986.8534257\n",
            "1658486986.8534987\n",
            "1658486986.8535683\n",
            "time.struct_time(tm_year=2022, tm_mon=7, tm_mday=22, tm_hour=10, tm_min=49, tm_sec=46, tm_wday=4, tm_yday=203, tm_isdst=0)\n",
            "2022년 7월 22일\n",
            "10시 49분 46초\n"
          ]
        }
      ]
    },
    {
      "cell_type": "markdown",
      "metadata": {
        "id": "BbFoAvcKYnOI"
      },
      "source": [
        "* 날짜시간 모듈 `datetime`의 `date` 클래스 예제"
      ]
    },
    {
      "cell_type": "code",
      "metadata": {
        "id": "RvkSO1yhYs5W",
        "colab": {
          "base_uri": "https://localhost:8080/"
        },
        "outputId": "b6438331-593d-449e-8a77-430b7068873c"
      },
      "source": [
        "from datetime import date # 시간출력 모듈\n",
        "print(date)\n",
        "print(date(2000, 1, 1))\n",
        "print(date(year = 2010, month = 1, day = 1))\n",
        "print(date.today())\n",
        "\n",
        "today = date.today()\n",
        "year = str(today. year)\n",
        "month = str(today.month)\n",
        "day = str(today.day)\n",
        "weekday = \"월화수목금토일\"[today.weekday()]\n",
        "print(year + \"년\", month + \"월\", day + \"일\", weekday + \"요일\")"
      ],
      "execution_count": 26,
      "outputs": [
        {
          "output_type": "stream",
          "name": "stdout",
          "text": [
            "<class 'datetime.date'>\n",
            "2000-01-01\n",
            "2010-01-01\n",
            "2022-07-22\n",
            "2022년 7월 22일 금요일\n"
          ]
        }
      ]
    },
    {
      "cell_type": "markdown",
      "metadata": {
        "id": "MYSooRuLaOym"
      },
      "source": [
        "* 날짜시간 모듈 `datetime`의 `time` 클래스 예제"
      ]
    },
    {
      "cell_type": "code",
      "metadata": {
        "id": "qSF7YJg_aPHn",
        "colab": {
          "base_uri": "https://localhost:8080/"
        },
        "outputId": "8459d4e5-a4bb-4427-ecf3-dbaafb9146e5"
      },
      "source": [
        "from datetime import time\n",
        "print(time)\n",
        "print(time(12, 0))\n",
        "print(time(14, 30))\n",
        "print(time(16, 30, 45))\n",
        "print(time(18, 00, 15, 100000))\n",
        "\n",
        "now = time(20, 40, 15, 20000)\n",
        "hour = str(now.hour)\n",
        "minute = str(now.minute)\n",
        "sec = str(now.second)\n",
        "msec = str(now.microsecond)\n",
        "print(hour + \"시\", minute + \"분\", sec + \"초\", msec + \"마이크로초\")"
      ],
      "execution_count": 27,
      "outputs": [
        {
          "output_type": "stream",
          "name": "stdout",
          "text": [
            "<class 'datetime.time'>\n",
            "12:00:00\n",
            "14:30:00\n",
            "16:30:45\n",
            "18:00:15.100000\n",
            "20시 40분 15초 20000마이크로초\n"
          ]
        }
      ]
    },
    {
      "cell_type": "markdown",
      "metadata": {
        "id": "sdtzTp5tlqSb"
      },
      "source": [
        "* 날짜시간 모듈 `datetime`의 `datetime` 클래스 예제\n",
        "* 날짜시간을 문자열로 표현하기 위한 `strftime()` 메소드 예제"
      ]
    },
    {
      "cell_type": "code",
      "metadata": {
        "id": "mlwwukrqlsKn",
        "colab": {
          "base_uri": "https://localhost:8080/"
        },
        "outputId": "781c35ba-fa48-471b-9f80-037c767ba404"
      },
      "source": [
        "from datetime import datetime\n",
        "print(datetime)\n",
        "print(datetime(2020, 1, 1))\n",
        "print(datetime(2020, 1, 1, 1, 15, 45))\n",
        "print(datetime.now())\n",
        "now = datetime.now()\n",
        "print(now.strftime('%Y년 %m월 %d일 %H시 %M분 %S초'))\n",
        "print(now.strftime('%y/%m/%d %p %1:%M:%S:%f'))"
      ],
      "execution_count": 34,
      "outputs": [
        {
          "output_type": "stream",
          "name": "stdout",
          "text": [
            "<class 'datetime.datetime'>\n",
            "2020-01-01 00:00:00\n",
            "2020-01-01 01:15:45\n",
            "2022-07-22 11:04:19.458002\n",
            "2022년 07월 22일 11시 04분 19초\n",
            "22/07/22 AM %1:04:19:458061\n"
          ]
        }
      ]
    },
    {
      "cell_type": "markdown",
      "metadata": {
        "id": "iE13qouhqEGd"
      },
      "source": [
        "#### [Lab] 태어난지 몇 일이 되었는가?\n",
        "\n",
        "* 태어난지 얼마나 지났는지 계산하기"
      ]
    },
    {
      "cell_type": "code",
      "metadata": {
        "id": "LvW2SqpYpXex",
        "colab": {
          "base_uri": "https://localhost:8080/"
        },
        "outputId": "d953a645-e8a3-4fd4-aa7a-39514eabe114"
      },
      "source": [
        "from datetime import date\n",
        "birthday = date(1993, 9, 4)\n",
        "today = date.today()\n",
        "day = today - birthday\n",
        "print(day)"
      ],
      "execution_count": 36,
      "outputs": [
        {
          "output_type": "stream",
          "name": "stdout",
          "text": [
            "10548 days, 0:00:00\n"
          ]
        }
      ]
    },
    {
      "cell_type": "markdown",
      "metadata": {
        "id": "nl1EYj9c6pTG"
      },
      "source": [
        "### 수학 모듈(math)\n",
        "\n",
        "* 파이썬에서 수학에 필요한 math 모듈 제공\n"
      ]
    },
    {
      "cell_type": "code",
      "metadata": {
        "id": "iwKRg4ZI6sds",
        "colab": {
          "base_uri": "https://localhost:8080/"
        },
        "outputId": "dc92ad9d-461b-4b5a-81a2-08f99e3c7e9a"
      },
      "source": [
        "import math\n",
        "print(dir(math)) # math와 관련된 많은 수학 모듈들- 필요할때 찾아 걍 쓰면 됨"
      ],
      "execution_count": 37,
      "outputs": [
        {
          "output_type": "stream",
          "name": "stdout",
          "text": [
            "['__doc__', '__loader__', '__name__', '__package__', '__spec__', 'acos', 'acosh', 'asin', 'asinh', 'atan', 'atan2', 'atanh', 'ceil', 'copysign', 'cos', 'cosh', 'degrees', 'e', 'erf', 'erfc', 'exp', 'expm1', 'fabs', 'factorial', 'floor', 'fmod', 'frexp', 'fsum', 'gamma', 'gcd', 'hypot', 'inf', 'isclose', 'isfinite', 'isinf', 'isnan', 'ldexp', 'lgamma', 'log', 'log10', 'log1p', 'log2', 'modf', 'nan', 'pi', 'pow', 'radians', 'remainder', 'sin', 'sinh', 'sqrt', 'tan', 'tanh', 'tau', 'trunc']\n"
          ]
        }
      ]
    },
    {
      "cell_type": "code",
      "metadata": {
        "id": "d3mmKmFiswty",
        "colab": {
          "base_uri": "https://localhost:8080/"
        },
        "outputId": "7c8bf3de-0d90-4645-8a6a-03b09afe5660"
      },
      "source": [
        "import math\n",
        "print(math.factorial(3))\n",
        "print(math.gcd(12, 24))\n",
        "print(math.floor(math.pi)) #floor = 내림값\n",
        "print(math.ceil(math.pi)) #ceil = 올림값\n",
        "print(math.pow(2, 10))\n",
        "print(math.sqrt(10))\n",
        "print(math.log(10, 2))\n",
        "print(math.degrees(math.pi))\n",
        "print(math.radians(180)) \n",
        "print(math.sin(math.radians(90)))\n",
        "print(math.cos(math.radians(180)))"
      ],
      "execution_count": 46,
      "outputs": [
        {
          "output_type": "stream",
          "name": "stdout",
          "text": [
            "6\n",
            "12\n",
            "3\n",
            "4\n",
            "1024.0\n",
            "3.1622776601683795\n",
            "3.3219280948873626\n",
            "180.0\n",
            "3.141592653589793\n",
            "1.0\n",
            "-1.0\n"
          ]
        }
      ]
    },
    {
      "cell_type": "markdown",
      "metadata": {
        "id": "iAbuv-GxzRH0"
      },
      "source": [
        "### 순열과 조합 모듈(itertools)\n",
        "\n",
        "* `itertools` 모듈에서 곱집합, 순열, 조합 등을 구하는 함수 제공\n"
      ]
    },
    {
      "cell_type": "markdown",
      "source": [
        ".product(seq1, ...): 시퀀스의 곱집합<br>\n",
        ".permutations(p, r): p시퀀스의 요소 r개를 나열하는 순열<br>\n",
        ".combinations(p, r): p시퀀스의 요소 r개를 선택하는 조합<br>\n",
        ".combinations_with_replacement(p, r): p시퀀스의 요소 r개를 중복 허용해 선택하는 조합"
      ],
      "metadata": {
        "id": "w55111XSnnu5"
      }
    },
    {
      "cell_type": "code",
      "metadata": {
        "id": "fG_PztCsz4xk",
        "colab": {
          "base_uri": "https://localhost:8080/"
        },
        "outputId": "fc57234a-5773-49f9-e498-b6ad4d13ad8a"
      },
      "source": [
        "import itertools\n",
        "list_1 = ['a', 'b', 'c']\n",
        "print(list_1)\n",
        "list_2 = [1, 2]\n",
        "print(list_2)\n",
        "list_cp = list(itertools.product(list_1, list_2)) #시퀀스의 곱집합\n",
        "print(list_cp)\n",
        "list_p = list(itertools.permutations(list_1, 2)) # p시퀀스의 요소 r개를 나열하는 순열\n",
        "print(list_p)\n",
        "list_c = list(itertools.combinations(list_1, 2))# p시퀀스의 요소 r개를 선택하는 조합\n",
        "print(list_c)\n",
        "list_cr = list(itertools.combinations_with_replacement(list_1, 2))# p시퀀스의 요소 r개를 중복 허용해 선택하는 조합\n",
        "print(list_cr)"
      ],
      "execution_count": 51,
      "outputs": [
        {
          "output_type": "stream",
          "name": "stdout",
          "text": [
            "['a', 'b', 'c']\n",
            "[1, 2]\n",
            "[('a', 1), ('a', 2), ('b', 1), ('b', 2), ('c', 1), ('c', 2)]\n",
            "[('a', 'b'), ('a', 'c'), ('b', 'a'), ('b', 'c'), ('c', 'a'), ('c', 'b')]\n",
            "[('a', 'b'), ('a', 'c'), ('b', 'c')]\n",
            "[('a', 'a'), ('a', 'b'), ('a', 'c'), ('b', 'b'), ('b', 'c'), ('c', 'c')]\n"
          ]
        }
      ]
    },
    {
      "cell_type": "markdown",
      "metadata": {
        "id": "UNlrNquK2eMg"
      },
      "source": [
        "### 통계 모듈(statistics)\n",
        "\n",
        "* `statistics` 모듈에서는 산술평균, 표준편차 등 통계에 필요한 계산 관련 함수들을 제공\n"
      ]
    },
    {
      "cell_type": "code",
      "metadata": {
        "id": "sqQiNW-k21XJ",
        "colab": {
          "base_uri": "https://localhost:8080/"
        },
        "outputId": "029824a6-eeff-44bf-cd86-f6b689892d38"
      },
      "source": [
        "import statistics\n",
        "values = [56, 44, 67, 47, 82, 67, 92, 89, 81, 82]\n",
        "print(statistics.median(values)) # 중앙값\n",
        "print(statistics.mean(values)) # 산술평균\n",
        "print(statistics.harmonic_mean(values)) # 조화평균\n",
        "print(statistics.stdev(values)) # 표본표준편차\n",
        "print(statistics.variance(values)) # 표본분산\n"
      ],
      "execution_count": 53,
      "outputs": [
        {
          "output_type": "stream",
          "name": "stdout",
          "text": [
            "74.0\n",
            "70.7\n",
            "66.42170307761845\n",
            "17.217884758458442\n",
            "296.4555555555556\n"
          ]
        }
      ]
    },
    {
      "cell_type": "markdown",
      "metadata": {
        "id": "nwW2LgNc67u3"
      },
      "source": [
        "### 랜덤 모듈(random)\n",
        "\n",
        "* 랜덤 모듈을 사용하기 위해서는 `import random` 필요"
      ]
    },
    {
      "cell_type": "markdown",
      "source": [
        "+ __random.random()__: 0.0~1.0 미만의 실수값 반환\n",
        "+ __random.randint(1, 10)__: 1~10 사이의 정수 반환\n",
        "+ __random.randrange(0, 10, 2)__: 1~10 미만의 2의 배수만 반환\n",
        "+ __random.choice()__: 자료형 변수에서 임의의 값 반환\n",
        "+ __random.sample()__: 자료형 변수에서 필요한 개수만큼 반환\n",
        "+ __random.shuffle()__: 자료형 변수 내용을 랜덤으로 셔플"
      ],
      "metadata": {
        "id": "iRLf7zT0pgCA"
      }
    },
    {
      "cell_type": "code",
      "metadata": {
        "id": "PuAbFRsa7IUH",
        "colab": {
          "base_uri": "https://localhost:8080/"
        },
        "outputId": "62893d81-9f3a-484a-b349-0bd36a8c523d"
      },
      "source": [
        "import random\n",
        "print(random.random())\n",
        "print(random.randint(1, 10))\n",
        "print(random.randrange(0, 10, 2))"
      ],
      "execution_count": 56,
      "outputs": [
        {
          "output_type": "stream",
          "name": "stdout",
          "text": [
            "0.10141125622644698\n",
            "5\n",
            "8\n"
          ]
        }
      ]
    },
    {
      "cell_type": "code",
      "metadata": {
        "id": "aDz_82bc7qJx",
        "colab": {
          "base_uri": "https://localhost:8080/"
        },
        "outputId": "8b9267a5-3885-4a4a-d466-44e4d816519a"
      },
      "source": [
        "li = [10, 20, 30, 40, 50]\n",
        "print(li)\n",
        "print(random.choice(li))\n",
        "print(random.sample(li, 2))\n",
        "random.shuffle(li)\n",
        "print(li)"
      ],
      "execution_count": 57,
      "outputs": [
        {
          "output_type": "stream",
          "name": "stdout",
          "text": [
            "[10, 20, 30, 40, 50]\n",
            "30\n",
            "[10, 50]\n",
            "[10, 40, 30, 20, 50]\n"
          ]
        }
      ]
    },
    {
      "cell_type": "markdown",
      "metadata": {
        "id": "RFMGmK8r79zv"
      },
      "source": [
        "### 네임스페이스(Namespace)\n",
        "\n",
        "* 모듈 호출의 범위 지정\n",
        "* 모듈 이름에 alias를 생성하여 모듈의 이름을 바꿔 사용"
      ]
    },
    {
      "cell_type": "code",
      "metadata": {
        "id": "OmY9T8g68M5J",
        "colab": {
          "base_uri": "https://localhost:8080/"
        },
        "outputId": "938d1bd5-c522-4f6d-832b-ce7d16346ce2"
      },
      "source": [
        "import random\n",
        "print(random.random())\n",
        "print(random.randrange(0, 10, 2))\n",
        "\n",
        "import random as rd # rd로 내가 붙이고 싶은 이름으로 모듈이름을 바꿔서 사용할수도 있음\n",
        "print(rd.random())\n",
        "print(rd.randrange(0, 10, 2))"
      ],
      "execution_count": 59,
      "outputs": [
        {
          "output_type": "stream",
          "name": "stdout",
          "text": [
            "0.17505897161239647\n",
            "2\n",
            "0.9064731909840428\n",
            "4\n"
          ]
        }
      ]
    },
    {
      "cell_type": "markdown",
      "metadata": {
        "id": "ijyblqrg8NfX"
      },
      "source": [
        "* from 구문을 사용하여 모듈에서 특정 함수 또는 클래스만 호출"
      ]
    },
    {
      "cell_type": "code",
      "metadata": {
        "id": "YwkdUeaL8PeK",
        "colab": {
          "base_uri": "https://localhost:8080/"
        },
        "outputId": "fdd8da1e-4dfe-4eb7-fbef-622526d0f82a"
      },
      "source": [
        "from random import random, randrange\n",
        "\n",
        "print(random())\n",
        "print(randrange(0, 10, 2))"
      ],
      "execution_count": 60,
      "outputs": [
        {
          "output_type": "stream",
          "name": "stdout",
          "text": [
            "0.9484063224442403\n",
            "6\n"
          ]
        }
      ]
    },
    {
      "cell_type": "markdown",
      "metadata": {
        "id": "6jIH8CcK8P9Q"
      },
      "source": [
        "* '*'을 사용하여 모듈 안에 모든 함수, 클래스, 변수를 가져옴"
      ]
    },
    {
      "cell_type": "code",
      "metadata": {
        "id": "NdCD7wxF8Rpj",
        "colab": {
          "base_uri": "https://localhost:8080/"
        },
        "outputId": "dbab4f22-81ce-4a17-d7dd-13ec134bead5"
      },
      "source": [
        "from random import *\n",
        "\n",
        "print(random())\n",
        "print(randrange(0, 10, 2))"
      ],
      "execution_count": 61,
      "outputs": [
        {
          "output_type": "stream",
          "name": "stdout",
          "text": [
            "0.7452791016750632\n",
            "4\n"
          ]
        }
      ]
    },
    {
      "cell_type": "markdown",
      "metadata": {
        "id": "qQc_0nwV1YyE"
      },
      "source": [
        "## 패키지(Packages)\n"
      ]
    },
    {
      "cell_type": "markdown",
      "source": [
        "* 패키지는 모듈의 집합\n",
        "* 패키지 안에 여러 모듈이 존재\n",
        "* 모듈을 주제별로 분리할 때 사용\n",
        "* 디렉터리와 같이 계층적 구조로 관리\n",
        "* 모듈들이 서로 포함관계를 가지며 거대한 패키지를 가짐\n",
        "* 파이썬에서는 패키지가 하나의 라이브러리"
      ],
      "metadata": {
        "id": "cTk_LSK_sqMF"
      }
    },
    {
      "cell_type": "code",
      "metadata": {
        "id": "jekuqE1NI0mJ"
      },
      "source": [
        "!mkdir package\n",
        "!mkdir package/sub_package_1\n",
        "!mkdir package/sub_package_2\n",
        "!mkdir package/sub_package_3"
      ],
      "execution_count": 62,
      "outputs": []
    },
    {
      "cell_type": "code",
      "metadata": {
        "id": "bPz0apRgJSJ-",
        "colab": {
          "base_uri": "https://localhost:8080/"
        },
        "outputId": "5cc0cb47-b2f0-43fd-9bc1-56fcd8486aac"
      },
      "source": [
        "!ls package"
      ],
      "execution_count": 63,
      "outputs": [
        {
          "output_type": "stream",
          "name": "stdout",
          "text": [
            "sub_package_1  sub_package_2  sub_package_3\n"
          ]
        }
      ]
    },
    {
      "cell_type": "code",
      "metadata": {
        "id": "Z39w6vP1Jnuu",
        "colab": {
          "base_uri": "https://localhost:8080/"
        },
        "outputId": "ea2d5907-93e1-45e0-a452-a9fd9e6675cc"
      },
      "source": [
        "%%writefile package/sub_package_1/sub1_module_1.py\n",
        "def print_module():\n",
        "  print(\"sub_package_1/sub1_module_1\")"
      ],
      "execution_count": 73,
      "outputs": [
        {
          "output_type": "stream",
          "name": "stdout",
          "text": [
            "Overwriting package/sub_package_1/sub1_module_1.py\n"
          ]
        }
      ]
    },
    {
      "cell_type": "code",
      "metadata": {
        "id": "6U6AkKypKILn",
        "colab": {
          "base_uri": "https://localhost:8080/"
        },
        "outputId": "e9e9b54b-7fcd-4e07-8185-459547dc2e2c"
      },
      "source": [
        "%%writefile package/sub_package_1/sub1_module_2.py\n",
        "def print_module():\n",
        "  print(\"sub_package_1/sub1_module_2\")"
      ],
      "execution_count": 74,
      "outputs": [
        {
          "output_type": "stream",
          "name": "stdout",
          "text": [
            "Overwriting package/sub_package_1/sub1_module_2.py\n"
          ]
        }
      ]
    },
    {
      "cell_type": "code",
      "metadata": {
        "id": "RSuJJKzvKKx6",
        "colab": {
          "base_uri": "https://localhost:8080/"
        },
        "outputId": "a6e28b2c-a651-47c0-ec5b-5229ea5fc8c8"
      },
      "source": [
        "%%writefile package/sub_package_2/sub2_module_1.py\n",
        "def print_module():\n",
        "  print(\"sub_package_2/sub1_module_1\")"
      ],
      "execution_count": 75,
      "outputs": [
        {
          "output_type": "stream",
          "name": "stdout",
          "text": [
            "Writing package/sub_package_2/sub2_module_1.py\n"
          ]
        }
      ]
    },
    {
      "cell_type": "code",
      "metadata": {
        "id": "BhqpvBAXKNGo",
        "colab": {
          "base_uri": "https://localhost:8080/"
        },
        "outputId": "b1346e6f-697f-4a35-c653-2eb3d4f35f17"
      },
      "source": [
        "%%writefile package/sub_package_2/sub2_module_2.py\n",
        "def print_module():\n",
        "  print(\"sub_package_2/sub1_module_2\")"
      ],
      "execution_count": 76,
      "outputs": [
        {
          "output_type": "stream",
          "name": "stdout",
          "text": [
            "Writing package/sub_package_2/sub2_module_2.py\n"
          ]
        }
      ]
    },
    {
      "cell_type": "code",
      "metadata": {
        "id": "mRe1x_7XKORQ",
        "colab": {
          "base_uri": "https://localhost:8080/"
        },
        "outputId": "39809932-40c1-4b7a-e56a-6e2cf697d3b9"
      },
      "source": [
        "%%writefile package/sub_package_3/sub3_module_1.py\n",
        "def print_module():\n",
        "  print(\"sub_package_3/sub1_module_1\")"
      ],
      "execution_count": 77,
      "outputs": [
        {
          "output_type": "stream",
          "name": "stdout",
          "text": [
            "Writing package/sub_package_3/sub3_module_1.py\n"
          ]
        }
      ]
    },
    {
      "cell_type": "code",
      "metadata": {
        "id": "8kQUk7O0KP3w",
        "colab": {
          "base_uri": "https://localhost:8080/"
        },
        "outputId": "3d4d9cb1-265d-441e-aea1-fb8266370d79"
      },
      "source": [
        "%%writefile package/sub_package_3/sub3_module_2.py\n",
        "def print_module():\n",
        "  print(\"sub_package_3/sub1_module_2\")"
      ],
      "execution_count": 78,
      "outputs": [
        {
          "output_type": "stream",
          "name": "stdout",
          "text": [
            "Writing package/sub_package_3/sub3_module_2.py\n"
          ]
        }
      ]
    },
    {
      "cell_type": "markdown",
      "metadata": {
        "id": "wljVmXlNIrvv"
      },
      "source": [
        "### 패키지 실행\n",
        "\n",
        "* 정의한 패키지의 모듈 실행"
      ]
    },
    {
      "cell_type": "code",
      "metadata": {
        "id": "3yew_JCLMsp7",
        "colab": {
          "base_uri": "https://localhost:8080/"
        },
        "outputId": "95b4f192-803f-47ee-a923-47ed20143a52"
      },
      "source": [
        "from package.sub_package_1 import sub1_module_1, sub1_module_2\n",
        "sub1_module_1.print_module()\n",
        "sub1_module_2.print_module()"
      ],
      "execution_count": 79,
      "outputs": [
        {
          "output_type": "stream",
          "name": "stdout",
          "text": [
            "sub_package_1/sub1_module_1\n",
            "sub_package_1/sub1_module_2\n"
          ]
        }
      ]
    },
    {
      "cell_type": "code",
      "metadata": {
        "id": "vkRbKEa8NOmh",
        "colab": {
          "base_uri": "https://localhost:8080/"
        },
        "outputId": "d3c6791c-df44-4a7c-f46a-2d18d097ef04"
      },
      "source": [
        "from package.sub_package_2 import sub2_module_1, sub2_module_2\n",
        "sub2_module_1.print_module()\n",
        "sub2_module_2.print_module()"
      ],
      "execution_count": 80,
      "outputs": [
        {
          "output_type": "stream",
          "name": "stdout",
          "text": [
            "sub_package_2/sub1_module_1\n",
            "sub_package_2/sub1_module_2\n"
          ]
        }
      ]
    },
    {
      "cell_type": "code",
      "metadata": {
        "id": "3d0daVmONRBT",
        "colab": {
          "base_uri": "https://localhost:8080/"
        },
        "outputId": "b2decdde-3a52-4ea2-96a7-164aeab3e72e"
      },
      "source": [
        "from package.sub_package_3 import sub3_module_1, sub3_module_2\n",
        "sub3_module_1.print_module()\n",
        "sub3_module_2.print_module()"
      ],
      "execution_count": 81,
      "outputs": [
        {
          "output_type": "stream",
          "name": "stdout",
          "text": [
            "sub_package_3/sub1_module_1\n",
            "sub_package_3/sub1_module_2\n"
          ]
        }
      ]
    },
    {
      "cell_type": "code",
      "metadata": {
        "id": "Dy0EJOccNrrS",
        "colab": {
          "base_uri": "https://localhost:8080/"
        },
        "outputId": "978365f9-79c2-4a00-fe96-3fbe3a728bb1"
      },
      "source": [
        "from package import * # 한꺼번에 부르기\n",
        "sub1_module_1.print_module()\n",
        "sub1_module_2.print_module()\n",
        "sub2_module_1.print_module()\n",
        "sub2_module_2.print_module()\n",
        "sub3_module_1.print_module()\n",
        "sub3_module_2.print_module()"
      ],
      "execution_count": 82,
      "outputs": [
        {
          "output_type": "stream",
          "name": "stdout",
          "text": [
            "sub_package_1/sub1_module_1\n",
            "sub_package_1/sub1_module_2\n",
            "sub_package_2/sub1_module_1\n",
            "sub_package_2/sub1_module_2\n",
            "sub_package_3/sub1_module_1\n",
            "sub_package_3/sub1_module_2\n"
          ]
        }
      ]
    },
    {
      "cell_type": "markdown",
      "metadata": {
        "id": "CrmBC32pe2Ag"
      },
      "source": [
        "### 패키지 구성 파일\n",
        "\n",
        "* \\_\\_init\\_\\_.py\n",
        " + 파이썬 패키지를 선언하는 초기화 스크립트\n",
        " + 패키지에 대한 메타데이터에 해당하는 내용 포함\n",
        " + 파이썬의 거의 모든 라이브러리에 포함\n",
        " + 파이썬 버전 3.3부터는 __init__.py 파일이 없어도 패키지로 인식\n",
        " + 파이썬 버전 3.3 밑의 하위 버전과 호환을 위해 __init__.py 파일 생성\n",
        " + __all__ 이라는 리스트형의 변수에 하위 패키지의 이름을 작성\n",
        " + `__all__=['sub_package_1', 'sub_package_2', 'sub_package_3']`\n",
        "\n"
      ]
    },
    {
      "cell_type": "code",
      "metadata": {
        "id": "S80DN-P9IYKw",
        "colab": {
          "base_uri": "https://localhost:8080/"
        },
        "outputId": "8ba55849-c292-4d05-a73f-7346cc60aba1"
      },
      "source": [
        "%%writefile package/__init__.py\n",
        "__all__=['sub_package_1', 'sub_package_2', 'sub_package_3']"
      ],
      "execution_count": 83,
      "outputs": [
        {
          "output_type": "stream",
          "name": "stdout",
          "text": [
            "Writing package/__init__.py\n"
          ]
        }
      ]
    },
    {
      "cell_type": "code",
      "metadata": {
        "id": "T_Lv285gPt_4",
        "colab": {
          "base_uri": "https://localhost:8080/"
        },
        "outputId": "a8ad0cb9-ae20-4ba0-ec5e-67bc4bab1d28"
      },
      "source": [
        "%%writefile package/sub_package_1/__init__.py\n",
        "__all__ = ['sub1_module_1', 'sub1_module_2']"
      ],
      "execution_count": 84,
      "outputs": [
        {
          "output_type": "stream",
          "name": "stdout",
          "text": [
            "Writing package/sub_package_1/__init__.py\n"
          ]
        }
      ]
    },
    {
      "cell_type": "code",
      "metadata": {
        "id": "MWb5eNCAP56o",
        "colab": {
          "base_uri": "https://localhost:8080/"
        },
        "outputId": "91c9c8e0-0886-4b0c-b091-19446727684a"
      },
      "source": [
        "%%writefile package/sub_package_1/__init__.py\n",
        "__all__ = ['sub2_module_1', 'sub2_module_2']"
      ],
      "execution_count": 85,
      "outputs": [
        {
          "output_type": "stream",
          "name": "stdout",
          "text": [
            "Overwriting package/sub_package_1/__init__.py\n"
          ]
        }
      ]
    },
    {
      "cell_type": "code",
      "metadata": {
        "id": "EvYOqe0KP6de",
        "colab": {
          "base_uri": "https://localhost:8080/"
        },
        "outputId": "c79a628f-b2d0-46d5-b255-77deb6da1e95"
      },
      "source": [
        "%%writefile package/sub_package_1/__init__.py\n",
        "__all__ = ['sub3_module_1', 'sub3_module_2']"
      ],
      "execution_count": 86,
      "outputs": [
        {
          "output_type": "stream",
          "name": "stdout",
          "text": [
            "Overwriting package/sub_package_1/__init__.py\n"
          ]
        }
      ]
    },
    {
      "cell_type": "code",
      "metadata": {
        "id": "t47pORCoP_Ks",
        "colab": {
          "base_uri": "https://localhost:8080/"
        },
        "outputId": "a4fcd0a0-d4cf-44d2-b184-7ff0c93dabc9"
      },
      "source": [
        "!ls package # 패키지 안에 이닛 있는지"
      ],
      "execution_count": 87,
      "outputs": [
        {
          "output_type": "stream",
          "name": "stdout",
          "text": [
            "__init__.py  sub_package_1  sub_package_2  sub_package_3\n"
          ]
        }
      ]
    },
    {
      "cell_type": "code",
      "metadata": {
        "id": "FygAt2laQDes",
        "colab": {
          "base_uri": "https://localhost:8080/"
        },
        "outputId": "fd9ad311-ec59-4537-c43c-2ccbdbe05894"
      },
      "source": [
        "!ls package/sub_package_1"
      ],
      "execution_count": 88,
      "outputs": [
        {
          "output_type": "stream",
          "name": "stdout",
          "text": [
            "__init__.py  __pycache__  sub1_module_1.py  sub1_module_2.py\n"
          ]
        }
      ]
    },
    {
      "cell_type": "markdown",
      "metadata": {
        "id": "ErE9_A3uPcAJ"
      },
      "source": [
        "\n",
        "* \\_\\_main\\_\\_.py\n",
        "  + 패키지 자체를 실행하기 위한 용도\n",
        "  + 패키지를 실행시키면 \\_\\_main\\_\\_.py 실행"
      ]
    },
    {
      "cell_type": "code",
      "metadata": {
        "id": "_leUWfUDNTQZ",
        "colab": {
          "base_uri": "https://localhost:8080/"
        },
        "outputId": "9d366743-2d7b-4b70-e860-78b4f3601b68"
      },
      "source": [
        "%%writefile package/__main__.py\n",
        "from sub_package_1 import *\n",
        "from sub_package_2 import *\n",
        "from sub_package_3 import *\n",
        "\n",
        "if __name__ == '__main__':\n",
        "  sub1_module_1.print_module()\n",
        "  sub1_module_2.print_module()\n",
        "  sub2_module_1.print_module()\n",
        "  sub2_module_2.print_module()\n",
        "  sub3_module_1.print_module()\n",
        "  sub3_module_2.print_module()"
      ],
      "execution_count": 94,
      "outputs": [
        {
          "output_type": "stream",
          "name": "stdout",
          "text": [
            "Overwriting package/__main__.py\n"
          ]
        }
      ]
    },
    {
      "cell_type": "code",
      "metadata": {
        "id": "jl-y2mT6OTb9",
        "colab": {
          "base_uri": "https://localhost:8080/"
        },
        "outputId": "98f95de3-25b0-4a4c-fb63-d7807d59dbef"
      },
      "source": [
        "!python package"
      ],
      "execution_count": 95,
      "outputs": [
        {
          "output_type": "stream",
          "name": "stdout",
          "text": [
            "Traceback (most recent call last):\n",
            "  File \"/usr/lib/python3.7/runpy.py\", line 193, in _run_module_as_main\n",
            "    \"__main__\", mod_spec)\n",
            "  File \"/usr/lib/python3.7/runpy.py\", line 85, in _run_code\n",
            "    exec(code, run_globals)\n",
            "  File \"package/__main__.py\", line 1, in <module>\n",
            "    from sub_package_1 import *\n",
            "AttributeError: module 'sub_package_1' has no attribute 'sub3_module_1'\n"
          ]
        }
      ]
    },
    {
      "cell_type": "markdown",
      "metadata": {
        "id": "H5rv_z4nZg3v"
      },
      "source": [
        "\n",
        "\n",
        "---\n",
        "\n"
      ]
    }
  ]
}
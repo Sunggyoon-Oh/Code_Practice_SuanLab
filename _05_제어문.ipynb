{
  "nbformat": 4,
  "nbformat_minor": 0,
  "metadata": {
    "colab": {
      "name": "_05 제어문.ipynb",
      "provenance": [],
      "collapsed_sections": []
    },
    "kernelspec": {
      "name": "python3",
      "display_name": "Python 3"
    },
    "accelerator": "GPU",
    "gpuClass": "standard"
  },
  "cells": [
    {
      "cell_type": "markdown",
      "metadata": {
        "id": "bg5ZXMV2sn1M"
      },
      "source": [
        "# 제어문(Control Statement)"
      ]
    },
    {
      "cell_type": "markdown",
      "metadata": {
        "id": "Lj_iZPKnCRP0"
      },
      "source": [
        "\n",
        "\n",
        "---\n",
        "\n"
      ]
    },
    {
      "cell_type": "markdown",
      "metadata": {
        "id": "zXbENjlMCrkU"
      },
      "source": [
        "## 조건문(Conditional Statement)\n"
      ]
    },
    {
      "cell_type": "markdown",
      "metadata": {
        "id": "QerabWfwCvtt"
      },
      "source": [
        "### if 문\n"
      ]
    },
    {
      "cell_type": "markdown",
      "source": [
        "True와 false를 판단하는 조건문 <br>\n",
        "if 조건 뒤에는 콜론(:)<br>\n",
        "if 기본 문법 \n",
        "\n",
        "if <조건>: <br>\n",
        "  <문장>\n",
        "\n",
        "조건이 만약 트루면 문장을 실행하고 펄스면 문장 실행 안하고 넘어간다.\n",
        "조건 뒤에 콜론 꼭 붙여야함."
      ],
      "metadata": {
        "id": "YY7nLOH0aHNo"
      }
    },
    {
      "cell_type": "markdown",
      "metadata": {
        "id": "UkYuDgdYjW1p"
      },
      "source": [
        "* if 문을 이용한 미세먼지 측정\n",
        "  + 미세먼지 농도 pm\n",
        "  + 35 초과는 미세먼지 농도 나쁨"
      ]
    },
    {
      "cell_type": "code",
      "metadata": {
        "id": "22ALZ21LE60j",
        "colab": {
          "base_uri": "https://localhost:8080/"
        },
        "outputId": "3d503490-898d-4001-8f65-0fc13acab763"
      },
      "source": [
        "pm =40 \n",
        "if pm > 35:\n",
        "  print(\"미세먼지 농도: 나쁨\") # 조건에 해당이 되니까 출력함. 조건에 해당이 안되면 출력 안하는 것임."
      ],
      "execution_count": null,
      "outputs": [
        {
          "output_type": "stream",
          "name": "stdout",
          "text": [
            "미세먼지 농도: 나쁨\n"
          ]
        }
      ]
    },
    {
      "cell_type": "code",
      "source": [
        "pm = 30\n",
        "if pm > 35:\n",
        "  print(\"미세먼지 농도: 나쁨\") # 조건에 해당이 안되면 출력 안하는 것임."
      ],
      "metadata": {
        "id": "KJnOFNRmcDjG"
      },
      "execution_count": null,
      "outputs": []
    },
    {
      "cell_type": "markdown",
      "metadata": {
        "id": "of4Jq8l-McX7"
      },
      "source": [
        "### if-else 문\n"
      ]
    },
    {
      "cell_type": "markdown",
      "source": [
        "if <조건>: <br>\n",
        "  <문장 1> - if 조건을 만족하지 않았을 경우에(false일때) 문장1은 패스<br>\n",
        "else:      - 대신 else로 들어감. 문장 2가 출력<br>  \n",
        "  <문장 2><br>"
      ],
      "metadata": {
        "id": "gKrNrQfFcKqN"
      }
    },
    {
      "cell_type": "markdown",
      "metadata": {
        "id": "KBi_DsHtkj5R"
      },
      "source": [
        "* if-else 문을 이용한 미세먼지 측정\n",
        "  + 미세먼지 농도 pm\n",
        "  + 36 이상은 미세먼지 농도 나쁨\n",
        "  + 35 이하는 미세먼지 농도 좋음"
      ]
    },
    {
      "cell_type": "code",
      "metadata": {
        "id": "w4JB__zpL_BW",
        "colab": {
          "base_uri": "https://localhost:8080/"
        },
        "outputId": "cb7e0e43-3b34-48c6-e8ae-d19d3a25c99a"
      },
      "source": [
        "pm = 40\n",
        "if pm >= 36:\n",
        "  print(\"미세먼지 농도: 나쁨\")\n",
        "else:\n",
        "  print(\"미세먼지 농도: 좋음\")"
      ],
      "execution_count": null,
      "outputs": [
        {
          "output_type": "stream",
          "name": "stdout",
          "text": [
            "미세먼지 농도: 나쁨\n"
          ]
        }
      ]
    },
    {
      "cell_type": "code",
      "source": [
        "pm = 30\n",
        "if pm >= 36: # 30이 36 이상이 아니라 이하임. 그러니 if 문장은 패스하고 else로 들어가는것임\n",
        "  print(\"미세먼지 농도: 나쁨\")\n",
        "else:\n",
        "  print(\"미세먼지 농도: 좋음\")"
      ],
      "metadata": {
        "colab": {
          "base_uri": "https://localhost:8080/"
        },
        "id": "geJwNUdNdWT_",
        "outputId": "239d0ed4-42e5-456d-b9b8-be22dc2c0c7f"
      },
      "execution_count": null,
      "outputs": [
        {
          "output_type": "stream",
          "name": "stdout",
          "text": [
            "미세먼지 농도: 좋음\n"
          ]
        }
      ]
    },
    {
      "cell_type": "markdown",
      "metadata": {
        "id": "lcdJvb_vFiKf"
      },
      "source": [
        "### if-elif-else 문\n"
      ]
    },
    {
      "cell_type": "markdown",
      "source": [
        "if <조건>:    <br>\n",
        "  <문장 1>    <br>\n",
        "elif <조건>:  -새로운 조건(if와 else 조건과 다른 조건)을 __계속__ 추가할수있슴<br>\n",
        "  <문장 2>    <br>\n",
        "else:         <br>\n",
        "  <문장 3>    <br>\n",
        "\n",
        "if 조건에 트루면 문장1 출력, false면 elif에 들어감. elif 조건에 트루면 문장2 출력, false면 else로 들어감. "
      ],
      "metadata": {
        "id": "GJJ0wVRMdni0"
      }
    },
    {
      "cell_type": "markdown",
      "metadata": {
        "id": "DV4n1qxhnFIV"
      },
      "source": [
        "* if-elif-else 문을 이용한 미세먼지 측정\n",
        "  + 미세먼지 농도 pm\n",
        "  + 미세먼지 농도 0~15: 좋음\n",
        "  + 미세먼지 농도 16~35: 보통\n",
        "  + 미세먼지 농도 36~75: 나쁨\n",
        "  + 미세먼지 농도 76~: 매우나쁨"
      ]
    },
    {
      "cell_type": "code",
      "metadata": {
        "id": "xlo8NoTeF0dV",
        "colab": {
          "base_uri": "https://localhost:8080/"
        },
        "outputId": "4fbab482-8939-4f66-fe84-60d56be430c8"
      },
      "source": [
        "pm = 40\n",
        "if pm < 16:\n",
        "  print(\"미세먼지 농도: 좋음\")\n",
        "elif pm < 36:  # 16 =< pm < 36 이라고 처음에 썼는데 그럴필요 없음. if 조건에 어차피 안맞아서 튕겨나온거기 때문에 if의 조건을 다시 고려할 필요 X \n",
        "  print(\"미세먼지 농도: 보통\")\n",
        "elif pm < 76:\n",
        "  print(\"미세먼지 농도: 나쁨\")\n",
        "else:\n",
        "  print(\"미세먼지 농도: 매우나쁨\")"
      ],
      "execution_count": null,
      "outputs": [
        {
          "output_type": "stream",
          "name": "stdout",
          "text": [
            "미세먼지 농도: 나쁨\n"
          ]
        }
      ]
    },
    {
      "cell_type": "code",
      "source": [
        "pm = 78\n",
        "if pm < 16:\n",
        "  print(\"미세먼지 농도: 좋음\")\n",
        "elif pm < 36:\n",
        "  print(\"미세먼지 농도: 보통\")\n",
        "elif pm < 76:\n",
        "  print(\"미세먼지 농도: 나쁨\")\n",
        "else:\n",
        "  print(\"미세먼지 농도: 매우나쁨\")"
      ],
      "metadata": {
        "colab": {
          "base_uri": "https://localhost:8080/"
        },
        "id": "3vw90_UIfe4x",
        "outputId": "9569fceb-3c2c-48ac-8ecc-0f4ff3a445ad"
      },
      "execution_count": null,
      "outputs": [
        {
          "output_type": "stream",
          "name": "stdout",
          "text": [
            "미세먼지 농도: 매우나쁨\n"
          ]
        }
      ]
    },
    {
      "cell_type": "markdown",
      "metadata": {
        "id": "PdkLJlqioT_b"
      },
      "source": [
        "### 중첩 if 문\n",
        "\n",
        "들여쓰기 이프문 안에 또 이프문이 있는것\n",
        "\n",
        "\n"
      ]
    },
    {
      "cell_type": "markdown",
      "metadata": {
        "id": "8JdYeATzowCy"
      },
      "source": [
        "* 중첩 if 문을 이용한 미세먼지 측정\n",
        "  + 미세먼지 농도 pm\n",
        "  + 미세먼지 농도 0~15: 좋음\n",
        "  + 미세먼지 농도 16~35: 보통\n",
        "  + 미세먼지 농도 36~75: 나쁨\n",
        "  + 미세먼지 농도 76~: 매우나쁨"
      ]
    },
    {
      "cell_type": "code",
      "metadata": {
        "id": "ZuYX5TCro3B9",
        "colab": {
          "base_uri": "https://localhost:8080/"
        },
        "outputId": "031f4adc-79f5-4171-8681-0071fcf5337e"
      },
      "source": [
        "pm = 80\n",
        "if pm < 36: #일단 절반 부분인 36을 기준으로 잡고 크게 두덩이로 나눔\n",
        "  if pm < 16:\n",
        "    print(\"미세먼지 농도: 좋음\")\n",
        "  else:\n",
        "    print(\"미세먼지 농도: 보통\")\n",
        "else: # else 써주고 이프문 밑에 또 추가해줌\n",
        "  if pm < 76:\n",
        "    print(\"미세먼지 농도: 나쁨\")\n",
        "  else:\n",
        "    print(\"미세먼지 농도: 매우나쁨\")"
      ],
      "execution_count": null,
      "outputs": [
        {
          "output_type": "stream",
          "name": "stdout",
          "text": [
            "미세먼지 농도: 매우나쁨\n"
          ]
        }
      ]
    },
    {
      "cell_type": "code",
      "source": [
        "pm = 40\n",
        "if pm < 36: #일단 절반 부분인 36을 기준으로 잡고 크게 두덩이로 나눔\n",
        "  if pm < 16:\n",
        "    print(\"미세먼지 농도: 좋음\")\n",
        "  else:\n",
        "    print(\"미세먼지 농도: 보통\")\n",
        "else: # else 써주고 이프문 밑에 또 추가해줌\n",
        "  if pm < 76:\n",
        "    print(\"미세먼지 농도: 나쁨\")\n",
        "  else:\n",
        "    print(\"미세먼지 농도: 매우나쁨\")"
      ],
      "metadata": {
        "colab": {
          "base_uri": "https://localhost:8080/"
        },
        "id": "g--S9BMkjEZW",
        "outputId": "740964b2-8ac6-48d6-ccb6-b2a40cb5eb46"
      },
      "execution_count": null,
      "outputs": [
        {
          "output_type": "stream",
          "name": "stdout",
          "text": [
            "미세먼지 농도: 나쁨\n"
          ]
        }
      ]
    },
    {
      "cell_type": "markdown",
      "metadata": {
        "id": "sB6Li0FmU9eM"
      },
      "source": [
        "### if-pass 문\n",
        "\n",
        "* 조건문은 있지만 실행할 문장이 없는 경우, **오류가 발생하지 않도록 무시하고 넘어가는** 기능"
      ]
    },
    {
      "cell_type": "code",
      "metadata": {
        "id": "iIOjo8LEVPqy",
        "colab": {
          "base_uri": "https://localhost:8080/"
        },
        "outputId": "c89cb58f-6289-4282-d596-1f4eb72a20c5"
      },
      "source": [
        "if 10 > 5: # 당연하게 맞는 말을 써줌. 10이 5보다 크면 100이라고 출력해주세요\n",
        "  print(100)\n",
        "else: # else문 에 문장 안써주니 오류남.\n",
        "  pass # pass 라고 써주니 오류 안나고 잘 나옴"
      ],
      "execution_count": null,
      "outputs": [
        {
          "output_type": "stream",
          "name": "stdout",
          "text": [
            "100\n"
          ]
        }
      ]
    },
    {
      "cell_type": "markdown",
      "metadata": {
        "id": "ERFC5XXnqTab"
      },
      "source": [
        "### if 조건 연산자\n",
        "\n",
        "* 비교연산자: <, >, ==, !=, >=, <=\n"
      ]
    },
    {
      "cell_type": "code",
      "metadata": {
        "id": "oON1NgdYvSVj",
        "colab": {
          "base_uri": "https://localhost:8080/"
        },
        "outputId": "01972c0b-f58f-4eeb-9e28-ec56f2a75a5d"
      },
      "source": [
        "if 2 > 1:\n",
        "  print(2)\n",
        "if 3 == 3:\n",
        "  print(3)\n",
        "if 1 != 2: # !=는 not equal to 라는 뜻임. 느낌표가 낫임.\n",
        "  print(1)"
      ],
      "execution_count": null,
      "outputs": [
        {
          "output_type": "stream",
          "name": "stdout",
          "text": [
            "2\n",
            "3\n",
            "1\n"
          ]
        }
      ]
    },
    {
      "cell_type": "markdown",
      "metadata": {
        "id": "tsZNODf8vMdM"
      },
      "source": [
        "* 논리연산자: and, or, not"
      ]
    },
    {
      "cell_type": "code",
      "metadata": {
        "id": "xbhbbC_urU5t",
        "colab": {
          "base_uri": "https://localhost:8080/"
        },
        "outputId": "27deffde-2c92-4689-ea90-1b3a90234d14"
      },
      "source": [
        "rain = True\n",
        "snow = True\n",
        "sun = False\n",
        "\n",
        "if rain and snow: # 비가 오고 눈이 오면 true true 진눈깨비\n",
        "  print(\"진눈깨비\")\n",
        "\n",
        "if not sun: # 해가 안떠있으면 false 면 흐림이라고 출력이 됨. sun=true면 출력 안됨\n",
        "  print(\"흐림\")\n",
        "else: # 해가 떠있으면 true면 맑음이 뜸\n",
        "  print(\"맑음\")"
      ],
      "execution_count": null,
      "outputs": [
        {
          "output_type": "stream",
          "name": "stdout",
          "text": [
            "진눈깨비\n",
            "흐림\n"
          ]
        }
      ]
    },
    {
      "cell_type": "markdown",
      "metadata": {
        "id": "neifpa1BvNya"
      },
      "source": [
        "* 멤버연산자: in, not in\n"
      ]
    },
    {
      "cell_type": "code",
      "metadata": {
        "id": "WWu4uaX5rcTb",
        "colab": {
          "base_uri": "https://localhost:8080/"
        },
        "outputId": "240981c2-17ca-4eed-e827-23f0a83e053e"
      },
      "source": [
        "list  = ['One', 'Two', 'Three'] #이런 리스트가 있음\n",
        "\n",
        "if 'One' in list: # 리스트에 One이 있을때 One이라고 출력해라, in 멤버연산자 활용\n",
        "  print('One')\n",
        "\n",
        "if 'Four' not in list: # 리스트에 Four이 없을때 no Four라고 출력해라.\n",
        "  print('no Four')"
      ],
      "execution_count": null,
      "outputs": [
        {
          "output_type": "stream",
          "name": "stdout",
          "text": [
            "One\n",
            "no Four\n"
          ]
        }
      ]
    },
    {
      "cell_type": "markdown",
      "metadata": {
        "id": "0V1ky9ZMucnL"
      },
      "source": [
        "* 식별연산자: is, is not"
      ]
    },
    {
      "cell_type": "code",
      "metadata": {
        "id": "puETQb28t3ua",
        "colab": {
          "base_uri": "https://localhost:8080/"
        },
        "outputId": "8d77bc63-985a-4d35-bc70-ad74cabdd532"
      },
      "source": [
        "if 'One' is 'One':\n",
        "  print('One')\n",
        "\n",
        "if 'One' is not 'Two':\n",
        "  print('One != Two')"
      ],
      "execution_count": 35,
      "outputs": [
        {
          "output_type": "stream",
          "name": "stdout",
          "text": [
            "One\n",
            "One != Two\n"
          ]
        }
      ]
    },
    {
      "cell_type": "markdown",
      "metadata": {
        "id": "9iV-FsBWzZ0k"
      },
      "source": [
        "### 조건부 표현식(Conditional Expression)\n",
        "\n",
        "* 한 라인으로 조건식을 사용한 표현"
      ]
    },
    {
      "cell_type": "code",
      "metadata": {
        "id": "_oS5aQybzfxw",
        "colab": {
          "base_uri": "https://localhost:8080/"
        },
        "outputId": "f36afae4-8eb6-401e-b559-6794daade06f"
      },
      "source": [
        "score = 75\n",
        "msg = \"통과\" if score >= 70 else \"탈락\" # 한줄로 표현하는게 핵심\n",
        "print(msg)"
      ],
      "execution_count": 1,
      "outputs": [
        {
          "output_type": "stream",
          "name": "stdout",
          "text": [
            "통과\n"
          ]
        }
      ]
    },
    {
      "cell_type": "code",
      "source": [
        "score = 65\n",
        "msg = \"통과\" if score >= 70 else \"탈락\"\n",
        "print(msg)"
      ],
      "metadata": {
        "colab": {
          "base_uri": "https://localhost:8080/"
        },
        "id": "M1ewsQkonOua",
        "outputId": "0fca2293-126c-4d72-f9d7-53c0b60bbb7f"
      },
      "execution_count": 2,
      "outputs": [
        {
          "output_type": "stream",
          "name": "stdout",
          "text": [
            "탈락\n"
          ]
        }
      ]
    },
    {
      "cell_type": "markdown",
      "metadata": {
        "id": "iaXO0nIe4IsM"
      },
      "source": [
        "### [Lab] 학생 종류\n",
        "\n",
        "* 8세 미만 \"학생 아님\"\n",
        "* 14세 미만 \"초등학생\"\n",
        "* 17세 미만 \"중학생\"\n",
        "* 20세 미만 \"고등학생\"\n",
        "* 26세 미만 \"대학생\"\n",
        "* 그 외에 \"학생 아님\""
      ]
    },
    {
      "cell_type": "code",
      "metadata": {
        "id": "tiSoSbvB4yZa",
        "colab": {
          "base_uri": "https://localhost:8080/"
        },
        "outputId": "0f13bf65-383c-46e1-8d4b-c8b9166834a2"
      },
      "source": [
        "age = 22\n",
        "if age < 8:\n",
        "  print(\"학생 아님\")\n",
        "elif age < 14:\n",
        "  print(\"초등학생\")\n",
        "elif age < 17:\n",
        "  print(\"중학생\")\n",
        "elif age < 20:\n",
        "  print(\"고등학생\")\n",
        "elif age < 26:\n",
        "  print(\"대학생\")\n",
        "else:\n",
        "  print(\"학생 아님\")"
      ],
      "execution_count": 3,
      "outputs": [
        {
          "output_type": "stream",
          "name": "stdout",
          "text": [
            "대학생\n"
          ]
        }
      ]
    },
    {
      "cell_type": "markdown",
      "metadata": {
        "id": "Xaqknnv_5weC"
      },
      "source": [
        "### [Lab] 학점 계산\n",
        "\n",
        "* 95점 이상 \"A+\"\n",
        "* 90점 이상 \"A\"\n",
        "* 85점 이상 \"B+\"\n",
        "* 80점 이상 \"B\"\n",
        "* 75점 이상 \"C+\"\n",
        "* 70점 이상 \"C\"\n",
        "* 65점 이상 \"D+\"\n",
        "* 60점 이상 \"D\"\n",
        "* 그 외 \"F\""
      ]
    },
    {
      "cell_type": "code",
      "metadata": {
        "id": "4fn4sB6a6BUL",
        "colab": {
          "base_uri": "https://localhost:8080/"
        },
        "outputId": "6834f483-fca3-449d-aa46-7a6be4e3f04c"
      },
      "source": [
        "socre = 65\n",
        "if score >= 95:\n",
        "  print(\"A+\")\n",
        "elif score >= 90:\n",
        "  print(\"A\")\n",
        "elif score >= 85:\n",
        "  print(\"B+\")\n",
        "elif score >= 80:  \n",
        "  print(\"B\")\n",
        "elif score >= 75:\n",
        "  print(\"C+\")\n",
        "elif score >= 70:\n",
        "  print(\"C\")\n",
        "elif score >= 65:  \n",
        "  print(\"D+\")\n",
        "elif score >= 60:\n",
        "  print(\"D\")\n",
        "else:\n",
        "  print(\"F\")"
      ],
      "execution_count": 13,
      "outputs": [
        {
          "output_type": "stream",
          "name": "stdout",
          "text": [
            "D+\n"
          ]
        }
      ]
    },
    {
      "cell_type": "markdown",
      "metadata": {
        "id": "0BWIlqrPCr__"
      },
      "source": [
        "\n",
        "\n",
        "---\n",
        "\n"
      ]
    },
    {
      "cell_type": "markdown",
      "metadata": {
        "id": "ZfKg8LniN113"
      },
      "source": [
        "## 반복문(Repetitive Statement)\n"
      ]
    },
    {
      "cell_type": "markdown",
      "source": [
        "문장을 반복적으로 수행<br>\n",
        "정해진 동작을 반복하여 처리할 때 사용<br>\n",
        "파이썬에서 제공하는 반복문<br>\n",
        "while<br>\n",
        "for"
      ],
      "metadata": {
        "id": "Mp6BxfHUpkeY"
      }
    },
    {
      "cell_type": "markdown",
      "metadata": {
        "id": "tsxOiKAD7Lfw"
      },
      "source": [
        "### while 문\n"
      ]
    },
    {
      "cell_type": "markdown",
      "source": [
        "어떤 조건이 만족하는 동안 문장을 수행하고 만족하지 않는 경우 수행 중단<br>\n",
        "while 기본문법<br>\n",
        "while<조건>:<br>\n",
        "  <문장>"
      ],
      "metadata": {
        "id": "zXctJc0xpuSr"
      }
    },
    {
      "cell_type": "markdown",
      "metadata": {
        "id": "q9SCeICMB32o"
      },
      "source": [
        "* while 문 예제: 1부터 10까지 반복"
      ]
    },
    {
      "cell_type": "code",
      "metadata": {
        "id": "zjBqbHUhPjUX",
        "colab": {
          "base_uri": "https://localhost:8080/"
        },
        "outputId": "5f9f78c0-6219-4d05-ff7c-9316657567a5"
      },
      "source": [
        "i = 1\n",
        "while i <= 10:\n",
        "  print(i) # 여기까지만 쓰고 실행하면 1이 무한으로 출력됨\n",
        "  i += 1 # i가 1, 2, 3, 4~ 10까지 출력하고 11이 되면 false가 돼서 출력 멈춤"
      ],
      "execution_count": 15,
      "outputs": [
        {
          "output_type": "stream",
          "name": "stdout",
          "text": [
            "1\n",
            "2\n",
            "3\n",
            "4\n",
            "5\n",
            "6\n",
            "7\n",
            "8\n",
            "9\n",
            "10\n"
          ]
        }
      ]
    },
    {
      "cell_type": "markdown",
      "metadata": {
        "id": "GWKxC-EyB-ou"
      },
      "source": [
        "* while 문 예제: 1부터 10까지 더하기"
      ]
    },
    {
      "cell_type": "code",
      "metadata": {
        "id": "KamhbhLtBjyu",
        "colab": {
          "base_uri": "https://localhost:8080/"
        },
        "outputId": "a5712220-a9b5-4cee-e84b-3a6d31858d81"
      },
      "source": [
        "i = 1 # i를 1 sum을 0이라고 처음에 지정해 놈. \n",
        "sum = 0  # 여기서 sum은 그냥 변수인거 같음. 함수 노\n",
        "while i <= 10:\n",
        "  sum += i  # i가 10 이하니 sum에 1씩 추가, i에도 1씩 추가. i가 2가 됨. 2가 된 i가 다시 sum에 들어감. sum에는 아까 1이 있었고 거기에 2가 또 들어가서 3이됨.\n",
        "            # 그 3이 다시 i가 됨. 3이 sum에 다시 들어감. sum 1+2+3=6이 됨. 또 1 추가하면 4가 되고 등등 반복..\n",
        "            # 11이 되어보니 와일 조건에 만족안해서 바로 끝남 -> 출력(1에서 10까지 더한 결과값)\n",
        "  i += 1\n",
        "\n",
        "print(sum) # 1에서 10까지 더하면 55임."
      ],
      "execution_count": 16,
      "outputs": [
        {
          "output_type": "stream",
          "name": "stdout",
          "text": [
            "55\n"
          ]
        }
      ]
    },
    {
      "cell_type": "markdown",
      "metadata": {
        "id": "fE4el4w8CVnn"
      },
      "source": [
        "### for 문\n"
      ]
    },
    {
      "cell_type": "markdown",
      "source": [
        "for 변수 in 리스트, 튜플, 문자열: <br>\n",
        "  <문장>\n",
        "\n",
        "반복 **범위** 를 지정하여 반복 수행"
      ],
      "metadata": {
        "id": "XWmxgxcECORy"
      }
    },
    {
      "cell_type": "markdown",
      "metadata": {
        "id": "Szg_RE0dDVUI"
      },
      "source": [
        "* 리스트 요소 반복"
      ]
    },
    {
      "cell_type": "code",
      "metadata": {
        "id": "q-6XmZ7pCKfu",
        "colab": {
          "base_uri": "https://localhost:8080/"
        },
        "outputId": "abd9cd8a-e56c-4048-ecd8-65d5041288d2"
      },
      "source": [
        "list = ['One', 'Two', 'Three']\n",
        "for i in list: # 리스트에 있는걸 하나 씩 가져오기\n",
        "  print(i) "
      ],
      "execution_count": 17,
      "outputs": [
        {
          "output_type": "stream",
          "name": "stdout",
          "text": [
            "One\n",
            "Two\n",
            "Three\n"
          ]
        }
      ]
    },
    {
      "cell_type": "markdown",
      "metadata": {
        "id": "Jxy-YCKaJy6U"
      },
      "source": [
        "* 튜플 요소 반복"
      ]
    },
    {
      "cell_type": "code",
      "metadata": {
        "id": "bPTK1Da9DifT",
        "colab": {
          "base_uri": "https://localhost:8080/"
        },
        "outputId": "e22159ac-02f6-469c-f8b1-ac4b08e79c2b"
      },
      "source": [
        "tuple = ('One', 'Two', 'Three')\n",
        "for i in tuple:\n",
        "  print(i)"
      ],
      "execution_count": 19,
      "outputs": [
        {
          "output_type": "stream",
          "name": "stdout",
          "text": [
            "One\n",
            "Two\n",
            "Three\n"
          ]
        }
      ]
    },
    {
      "cell_type": "markdown",
      "metadata": {
        "id": "-a5BBmWHJ08e"
      },
      "source": [
        "* 문자열 요소 반복"
      ]
    },
    {
      "cell_type": "code",
      "metadata": {
        "id": "sg2jzObGDk5u",
        "colab": {
          "base_uri": "https://localhost:8080/"
        },
        "outputId": "eb4a6caf-ca66-4eeb-e3e5-04f34d8c2721"
      },
      "source": [
        "string = 'SuanLab'\n",
        "for i in string:\n",
        "  print(i)"
      ],
      "execution_count": 20,
      "outputs": [
        {
          "output_type": "stream",
          "name": "stdout",
          "text": [
            "S\n",
            "u\n",
            "a\n",
            "n\n",
            "L\n",
            "a\n",
            "b\n"
          ]
        }
      ]
    },
    {
      "cell_type": "markdown",
      "metadata": {
        "id": "6bel7wU6EFp4"
      },
      "source": [
        "#### range()\n"
      ]
    },
    {
      "cell_type": "markdown",
      "source": [
        "범위반복에 사용<br>\n",
        "for 변수 in range(시작값, 마지막값, 증가값): - 근데 시작값 증가값은 생략가능. 디폴트로 각각 0, 1이 들어감\n",
        "<문장>"
      ],
      "metadata": {
        "id": "F6xxtokRDBO1"
      }
    },
    {
      "cell_type": "code",
      "metadata": {
        "id": "sIV6ouO3D1Pj",
        "colab": {
          "base_uri": "https://localhost:8080/"
        },
        "outputId": "5f1ce511-8557-4b5a-b29d-2d02c43fd4e7"
      },
      "source": [
        "sum = 0\n",
        "for i in range(10):\n",
        "  sum += i\n",
        "\n",
        "print(sum) # 10까지 더해야 하는데 range의 10은 마지막 값이라서 9까지밖에 안해줌. 1에서 9를 더한값이 45임."
      ],
      "execution_count": 21,
      "outputs": [
        {
          "output_type": "stream",
          "name": "stdout",
          "text": [
            "45\n"
          ]
        }
      ]
    },
    {
      "cell_type": "code",
      "source": [
        "sum = 0\n",
        "for i in range(101):\n",
        "  sum += i\n",
        "\n",
        "print(sum) # 1에서 100까지 더하면 5050임"
      ],
      "metadata": {
        "colab": {
          "base_uri": "https://localhost:8080/"
        },
        "id": "09WvQrc6Daxx",
        "outputId": "02cc6dd6-db5d-4b59-a9bb-926773e04949"
      },
      "execution_count": 22,
      "outputs": [
        {
          "output_type": "stream",
          "name": "stdout",
          "text": [
            "5050\n"
          ]
        }
      ]
    },
    {
      "cell_type": "code",
      "metadata": {
        "id": "VtCQOfDpGG59",
        "colab": {
          "base_uri": "https://localhost:8080/"
        },
        "outputId": "83a48efd-193d-4d04-d234-7621e9c91364"
      },
      "source": [
        "for i in range(1, 10, 2): # 1에서 10까지 2간격으로\n",
        "  print(i) # 1, 3, 5, 7, 9 홀수만 출력"
      ],
      "execution_count": 24,
      "outputs": [
        {
          "output_type": "stream",
          "name": "stdout",
          "text": [
            "1\n",
            "3\n",
            "5\n",
            "7\n",
            "9\n"
          ]
        }
      ]
    },
    {
      "cell_type": "markdown",
      "metadata": {
        "id": "1otcwtcWGU-Z"
      },
      "source": [
        "* 범위 반복 range를 이용한 구구단"
      ]
    },
    {
      "cell_type": "code",
      "metadata": {
        "id": "0AgNJV5LGJLf",
        "colab": {
          "base_uri": "https://localhost:8080/"
        },
        "outputId": "bdc007a1-b456-4cd6-8931-2816e7727a33"
      },
      "source": [
        "for i in range(2, 10): # (2, 3, 4, 5, 6, 7, 8, 9)단을 증가\n",
        "  for j in range(1, 10): # 배수를 입력해주는거 1~9, i 2에서 j가 10이 되면 조건 만족을 안하니까 i로 고백, i 3으로 늘어나서 다시 반복.\n",
        "    print('{0} x {1} = {2}'.format(i, j, i * j))"
      ],
      "execution_count": 27,
      "outputs": [
        {
          "output_type": "stream",
          "name": "stdout",
          "text": [
            "2 x 1 = 2\n",
            "2 x 2 = 4\n",
            "2 x 3 = 6\n",
            "2 x 4 = 8\n",
            "2 x 5 = 10\n",
            "2 x 6 = 12\n",
            "2 x 7 = 14\n",
            "2 x 8 = 16\n",
            "2 x 9 = 18\n",
            "3 x 1 = 3\n",
            "3 x 2 = 6\n",
            "3 x 3 = 9\n",
            "3 x 4 = 12\n",
            "3 x 5 = 15\n",
            "3 x 6 = 18\n",
            "3 x 7 = 21\n",
            "3 x 8 = 24\n",
            "3 x 9 = 27\n",
            "4 x 1 = 4\n",
            "4 x 2 = 8\n",
            "4 x 3 = 12\n",
            "4 x 4 = 16\n",
            "4 x 5 = 20\n",
            "4 x 6 = 24\n",
            "4 x 7 = 28\n",
            "4 x 8 = 32\n",
            "4 x 9 = 36\n",
            "5 x 1 = 5\n",
            "5 x 2 = 10\n",
            "5 x 3 = 15\n",
            "5 x 4 = 20\n",
            "5 x 5 = 25\n",
            "5 x 6 = 30\n",
            "5 x 7 = 35\n",
            "5 x 8 = 40\n",
            "5 x 9 = 45\n",
            "6 x 1 = 6\n",
            "6 x 2 = 12\n",
            "6 x 3 = 18\n",
            "6 x 4 = 24\n",
            "6 x 5 = 30\n",
            "6 x 6 = 36\n",
            "6 x 7 = 42\n",
            "6 x 8 = 48\n",
            "6 x 9 = 54\n",
            "7 x 1 = 7\n",
            "7 x 2 = 14\n",
            "7 x 3 = 21\n",
            "7 x 4 = 28\n",
            "7 x 5 = 35\n",
            "7 x 6 = 42\n",
            "7 x 7 = 49\n",
            "7 x 8 = 56\n",
            "7 x 9 = 63\n",
            "8 x 1 = 8\n",
            "8 x 2 = 16\n",
            "8 x 3 = 24\n",
            "8 x 4 = 32\n",
            "8 x 5 = 40\n",
            "8 x 6 = 48\n",
            "8 x 7 = 56\n",
            "8 x 8 = 64\n",
            "8 x 9 = 72\n",
            "9 x 1 = 9\n",
            "9 x 2 = 18\n",
            "9 x 3 = 27\n",
            "9 x 4 = 36\n",
            "9 x 5 = 45\n",
            "9 x 6 = 54\n",
            "9 x 7 = 63\n",
            "9 x 8 = 72\n",
            "9 x 9 = 81\n"
          ]
        }
      ]
    },
    {
      "cell_type": "markdown",
      "metadata": {
        "id": "y9DVAjy0r5Ty"
      },
      "source": [
        "#### _ 기능\n"
      ]
    },
    {
      "cell_type": "markdown",
      "source": [
        "for문을 사용하면서 iterator 역할을 위해서 i 변수가 필요<br>\n",
        "for문 이후에는 iterator 변수 i가 필요하지 않음<br>\n",
        "이후에 사용되지 않을 변수에 어떤 이름을 부여하고 싶지 않을때 _를 사용"
      ],
      "metadata": {
        "id": "u0ydkoO8E2Gm"
      }
    },
    {
      "cell_type": "code",
      "metadata": {
        "id": "pf8fIpSBsHZL",
        "colab": {
          "base_uri": "https://localhost:8080/"
        },
        "outputId": "2cbfb154-9f55-46c5-eb50-d532ab86ad37"
      },
      "source": [
        "for i in range(5):\n",
        "  print(\"SuanLab\")"
      ],
      "execution_count": 30,
      "outputs": [
        {
          "output_type": "stream",
          "name": "stdout",
          "text": [
            "SuanLab\n",
            "SuanLab\n",
            "SuanLab\n",
            "SuanLab\n",
            "SuanLab\n"
          ]
        }
      ]
    },
    {
      "cell_type": "code",
      "metadata": {
        "id": "qv8HZNCTsDFf",
        "colab": {
          "base_uri": "https://localhost:8080/"
        },
        "outputId": "8a2129ab-bfb9-4cb8-cdf2-2bcd86cdeb70"
      },
      "source": [
        "for _ in range(5): # 수안랩을 5번 출력하라는 건데 변수이름을 안만들고 싶어서 i로 안하고 그냥 _로 퉁친것임.\n",
        "  print(\"SuanLab\")"
      ],
      "execution_count": 29,
      "outputs": [
        {
          "output_type": "stream",
          "name": "stdout",
          "text": [
            "SuanLab\n",
            "SuanLab\n",
            "SuanLab\n",
            "SuanLab\n",
            "SuanLab\n"
          ]
        }
      ]
    },
    {
      "cell_type": "markdown",
      "metadata": {
        "id": "-t7UubcSKJHY"
      },
      "source": [
        "### else 문\n",
        "\n",
        "* 반복이 **종료된 후에** 한번 더 실행되는 문장"
      ]
    },
    {
      "cell_type": "code",
      "metadata": {
        "id": "clXMvxeyMFj_",
        "colab": {
          "base_uri": "https://localhost:8080/"
        },
        "outputId": "145579fc-086d-46d2-b8be-87d903ca4614"
      },
      "source": [
        "i = 1\n",
        "sum = 0\n",
        "while i <= 10:\n",
        "  sum += i\n",
        "  i += 1\n",
        "else:   # 위에서 else없이 바로 프린트 했던것보다 좀더 직관적으로 예쁘게 정리돼 보인다.\n",
        "  print(sum)"
      ],
      "execution_count": 34,
      "outputs": [
        {
          "output_type": "stream",
          "name": "stdout",
          "text": [
            "55\n"
          ]
        }
      ]
    },
    {
      "cell_type": "code",
      "metadata": {
        "id": "4B6-nPWEGjvG",
        "colab": {
          "base_uri": "https://localhost:8080/"
        },
        "outputId": "011e7181-5100-4a6b-89bd-112fb623c554"
      },
      "source": [
        "sum = 0\n",
        "for i in range(11):\n",
        "  sum += i\n",
        "else:\n",
        "  print(sum)"
      ],
      "execution_count": 36,
      "outputs": [
        {
          "output_type": "stream",
          "name": "stdout",
          "text": [
            "55\n"
          ]
        }
      ]
    },
    {
      "cell_type": "markdown",
      "metadata": {
        "id": "BlF9QvR5LTar"
      },
      "source": [
        "### break 문\n",
        "\n",
        "* 반복문 종료"
      ]
    },
    {
      "cell_type": "code",
      "metadata": {
        "id": "u0HvxKWvKSou",
        "colab": {
          "base_uri": "https://localhost:8080/"
        },
        "outputId": "aed231d7-d7d6-4827-e0d7-e6c4789c9857"
      },
      "source": [
        "i = 0\n",
        "while i < 100:\n",
        "  print(i)\n",
        "  if i == 10:\n",
        "    break\n",
        "  i += 1 # 이프-브레이크문 없으면 i를 0부터 99까지 출력함. 근데 브레이크를 줘서 10에 끝내는거"
      ],
      "execution_count": 38,
      "outputs": [
        {
          "output_type": "stream",
          "name": "stdout",
          "text": [
            "0\n",
            "1\n",
            "2\n",
            "3\n",
            "4\n",
            "5\n",
            "6\n",
            "7\n",
            "8\n",
            "9\n",
            "10\n"
          ]
        }
      ]
    },
    {
      "cell_type": "code",
      "metadata": {
        "id": "TJyNX_deMUvq",
        "colab": {
          "base_uri": "https://localhost:8080/"
        },
        "outputId": "edee1ff9-47ce-4ebd-8b50-5456abea7ef1"
      },
      "source": [
        "for i in range(100):\n",
        "  print(i)\n",
        "  if i == 10:\n",
        "    break"
      ],
      "execution_count": 41,
      "outputs": [
        {
          "output_type": "stream",
          "name": "stdout",
          "text": [
            "0\n",
            "1\n",
            "2\n",
            "3\n",
            "4\n",
            "5\n",
            "6\n",
            "7\n",
            "8\n",
            "9\n",
            "10\n"
          ]
        }
      ]
    },
    {
      "cell_type": "markdown",
      "metadata": {
        "id": "m7jZ8oc8Mezu"
      },
      "source": [
        "### continue 문\n",
        "\n",
        "* 반복 조건문으로 이동"
      ]
    },
    {
      "cell_type": "code",
      "metadata": {
        "id": "MpTJ5WtPMbYm",
        "colab": {
          "base_uri": "https://localhost:8080/"
        },
        "outputId": "5fe00243-1791-4c59-e707-03d699af9427"
      },
      "source": [
        "i = 0\n",
        "while i < 10:\n",
        "  i += 1\n",
        "  if i % 2 == 0: #i를 2로나눈 나머지가 0일경우= 'i가 짝수'일경우\n",
        "    continue     #컨티뉴, 다음계산으로 계속 가라는것.  i를 2로나눈 나머지가 0이 '아닐' 경우= 홀수일경우 \n",
        "  print(i)    #출력 되는 것임"
      ],
      "execution_count": 44,
      "outputs": [
        {
          "output_type": "stream",
          "name": "stdout",
          "text": [
            "1\n",
            "3\n",
            "5\n",
            "7\n",
            "9\n"
          ]
        }
      ]
    },
    {
      "cell_type": "code",
      "metadata": {
        "id": "2oWKM2NDMqJ4",
        "colab": {
          "base_uri": "https://localhost:8080/"
        },
        "outputId": "ac8e5303-82c7-4d6e-f6e3-25dd96780db9"
      },
      "source": [
        "for i in range(10):\n",
        "  if i % 2 == 0:\n",
        "    continue\n",
        "  print(i)"
      ],
      "execution_count": 46,
      "outputs": [
        {
          "output_type": "stream",
          "name": "stdout",
          "text": [
            "1\n",
            "3\n",
            "5\n",
            "7\n",
            "9\n"
          ]
        }
      ]
    },
    {
      "cell_type": "markdown",
      "metadata": {
        "id": "qQoq1VqQMxdR"
      },
      "source": [
        "### 리스트 내포(List Comprehension)\n",
        "\n",
        "* 리스트 안에 for 문과 if 문 사용"
      ]
    },
    {
      "cell_type": "code",
      "metadata": {
        "id": "dYS40UmTMuHf",
        "colab": {
          "base_uri": "https://localhost:8080/"
        },
        "outputId": "5a66f7f8-f4b3-473f-8930-8742ca1996ff"
      },
      "source": [
        "list = [1, 2, 3, 4, 5]\n",
        "print([i for i in list]) # 그대로 나옴"
      ],
      "execution_count": 47,
      "outputs": [
        {
          "output_type": "stream",
          "name": "stdout",
          "text": [
            "[1, 2, 3, 4, 5]\n"
          ]
        }
      ]
    },
    {
      "cell_type": "code",
      "source": [
        "list = [1, 2, 3, 4, 5]\n",
        "print([i * 2 for i in list]) # 2씩 곱해서 나옴\n",
        "\n",
        "print([i for i in range(10)])\n",
        "print([i * 2 for i in range(10)]) # 바로 위에 2를 곱해줘서 나오는거\n",
        "\n",
        "print([i * 2 for i in range(10) if i % 2 == 0]) #짝수인거 0, 2, 4, 6, 8이 곱하기 2씩된 값이 나옴"
      ],
      "metadata": {
        "colab": {
          "base_uri": "https://localhost:8080/"
        },
        "id": "_xDg0wn4NmzU",
        "outputId": "a3605db6-a841-4cb4-f4b8-54dacf9c643d"
      },
      "execution_count": 53,
      "outputs": [
        {
          "output_type": "stream",
          "name": "stdout",
          "text": [
            "[2, 4, 6, 8, 10]\n",
            "[0, 1, 2, 3, 4, 5, 6, 7, 8, 9]\n",
            "[0, 2, 4, 6, 8, 10, 12, 14, 16, 18]\n",
            "[0, 4, 8, 12, 16]\n"
          ]
        }
      ]
    },
    {
      "cell_type": "markdown",
      "metadata": {
        "id": "BNJU3Dz8NEtW"
      },
      "source": [
        "### [Lab] 문자열 반전\n",
        "\n",
        "* 문자열을 역순으로 만들기"
      ]
    },
    {
      "cell_type": "code",
      "metadata": {
        "id": "vtOOAlwBM7Ls",
        "colab": {
          "base_uri": "https://localhost:8080/"
        },
        "outputId": "6de6deb4-82b0-43ec-8785-e0145bce7aa8"
      },
      "source": [
        "string = \"SuanLab\"\n",
        "reverse = \"\"\n",
        "for c in string: # 변수 c에 S u a n L a b 를 하나씩 넣는것임\n",
        "  reverse = c + reverse # reverse는 위에 설정해놨듯이 \"\" 빈값임\n",
        "                        # 처음 S가 들어와서 reverse 변수에 저장됨\n",
        "                        # 두번째로 u가 들어옴 근데 이미 S가 있음 따라서 uS가 reverse 변수에 저장됨\n",
        "                        # 세번째로 a가 들어옴 근데 이미 uS가 있음 따라서 auS가 reverse 변수에 저장돔\n",
        "                        # So on\n",
        "\n",
        "print(string)\n",
        "print(reverse) # 거꾸로 나옴."
      ],
      "execution_count": 55,
      "outputs": [
        {
          "output_type": "stream",
          "name": "stdout",
          "text": [
            "SuanLab\n",
            "baLnauS\n"
          ]
        }
      ]
    },
    {
      "cell_type": "markdown",
      "metadata": {
        "id": "e-5QZsGNXsrz"
      },
      "source": [
        "\n",
        "\n",
        "---\n",
        "\n"
      ]
    },
    {
      "cell_type": "markdown",
      "metadata": {
        "id": "9ygGlaKjKZRs"
      },
      "source": [
        "## 에러와 예외(Errors and Exceptions)\n",
        "\n",
        "* 프로그램에서는 에러가 발생\n",
        "* 에러에 대한 예외 처리가 필요"
      ]
    },
    {
      "cell_type": "markdown",
      "source": [
        "AssertionError: assert무이 실패할때 발생<br>\n",
        "AttributeError: 속성에 참조가 대입이 실패할때<br>\n",
        "EOFError end of file 조건 만날때, 파일끝에 접근할때<br>\n",
        "Importerror 임포트 했을때 모듈로드 못했을때 에러<br>\n",
        "moduleNotFoundError 임포트할 모듈 못찾았을때<br>\n",
        "IndexError 시퀀스 인덱스 범위를 벗어날때, 인덱스에 해당값이 없을때<br>\n",
        "KeyError 딕셔너리 키가 키 집합에 없을때<br>\n",
        "KeyboardInterrupt 사용자가 인터룹트 컨트롤씨 또는 딜리트 누를때<br>\n",
        "MemoryError 작업에 메모리 부족할때 근데 일부객체 삭제해서 복구할수 있을때<br>\n",
        "NameError 지역 또는 전역 이름 못찾을때<br>\n",
        "NotImplementedError 런타임에러에서 내용이 없는 메소드 호출시<br>\n",
        "OSError 운영체제에 에러있을때<br>\n",
        "OverflowError 산술연산 결과가 넘 클때,<br>\n",
        "RuntimeError 다른범주에 속하지 않는 에러가 있을때<br>\n",
        "SyntaxError 문법오류<br>\n",
        "IndentationError 들여쓰기<br>\n",
        "TabError 들여쓰기 일관성 없을때, 탭+스페이스로<br>\n",
        "SystemError 인터프리터 내부에 에러 있을때<br>\n",
        "SystemExit sys.ext() 함수 호출될때, 프로그램 종료할때<br>\n",
        "TypeError 연산 또는 함수가 부적절한 형의 객체에 적용될때<br>\n",
        "UnboundlocalError 함수나 메소드에서 지역변수 참조하지만 해당 변수가 값이 <br>연결안될때\n",
        "Unicodeerror 유니코드 인코딩디코딩 에러<br>\n",
        "valueerror 함수가 올바른데 값이 잘못됐을때<br>\n",
        "zerodivisionerror 0으로 다른숫자를 나눌때<br>\n",
        "fileexistserror 이미 존재하는 파일이나 디렉토리를 만들려할때<br>\n",
        "filenotfounderoor 파일이나 디렉토리가 요청됐는데 존재 안 할때<br>\n",
        "interruptedError 시스쳄 호출이 시그널에 의해 중단될때<br>\n",
        "IsADirectoryError 디렉토리에 파일연산이 요청됐을때. 파일이 아니라 디렉토리에 연산시도할때<br>\n",
        "NotADirectoryError 디렉토리가 아닌것에 디렉토리 연산 요청했을때 <br>\n",
        "PermissionError 접근권없이 연산하려할때<br>\n",
        "ProcessLockupError 주어진 프로세스가 없을때<br>\n",
        "TimeoutError 시간초과할때 <br>\n",
        "Warning 오류는 아니고 주의필요할떄"
      ],
      "metadata": {
        "id": "hacgKCF4Tm_G"
      }
    },
    {
      "cell_type": "markdown",
      "metadata": {
        "id": "Sem87gmsXux8"
      },
      "source": [
        "### 에러 예제\n",
        "\n",
        "* ZeroDivisionError"
      ]
    },
    {
      "cell_type": "code",
      "metadata": {
        "id": "nea-tg6gNSQB",
        "colab": {
          "base_uri": "https://localhost:8080/",
          "height": 174
        },
        "outputId": "6bbf424f-a114-4129-cf7c-f195d02f5385"
      },
      "source": [
        "10 / 0 # 분모가 0이 아니면 됨"
      ],
      "execution_count": 1,
      "outputs": [
        {
          "output_type": "error",
          "ename": "ZeroDivisionError",
          "evalue": "ignored",
          "traceback": [
            "\u001b[0;31m---------------------------------------------------------------------------\u001b[0m",
            "\u001b[0;31mZeroDivisionError\u001b[0m                         Traceback (most recent call last)",
            "\u001b[0;32m<ipython-input-1-cd759d3fcf39>\u001b[0m in \u001b[0;36m<module>\u001b[0;34m()\u001b[0m\n\u001b[0;32m----> 1\u001b[0;31m \u001b[0;36m10\u001b[0m \u001b[0;34m/\u001b[0m \u001b[0;36m0\u001b[0m\u001b[0;34m\u001b[0m\u001b[0;34m\u001b[0m\u001b[0m\n\u001b[0m",
            "\u001b[0;31mZeroDivisionError\u001b[0m: division by zero"
          ]
        }
      ]
    },
    {
      "cell_type": "markdown",
      "metadata": {
        "id": "5Ape-cL37GWg"
      },
      "source": [
        "* NameError"
      ]
    },
    {
      "cell_type": "code",
      "metadata": {
        "id": "rX3x3eE_6zcJ",
        "colab": {
          "base_uri": "https://localhost:8080/",
          "height": 174
        },
        "outputId": "b297b3a6-1d1f-47f2-d0ba-9b8940514769"
      },
      "source": [
        "noname + 3 # noname 변수를 지정을 안해줌"
      ],
      "execution_count": 2,
      "outputs": [
        {
          "output_type": "error",
          "ename": "NameError",
          "evalue": "ignored",
          "traceback": [
            "\u001b[0;31m---------------------------------------------------------------------------\u001b[0m",
            "\u001b[0;31mNameError\u001b[0m                                 Traceback (most recent call last)",
            "\u001b[0;32m<ipython-input-2-e253214df6f7>\u001b[0m in \u001b[0;36m<module>\u001b[0;34m()\u001b[0m\n\u001b[0;32m----> 1\u001b[0;31m \u001b[0mnoname\u001b[0m \u001b[0;34m+\u001b[0m \u001b[0;36m3\u001b[0m\u001b[0;34m\u001b[0m\u001b[0;34m\u001b[0m\u001b[0m\n\u001b[0m",
            "\u001b[0;31mNameError\u001b[0m: name 'noname' is not defined"
          ]
        }
      ]
    },
    {
      "cell_type": "markdown",
      "metadata": {
        "id": "Ij6ieZ6v7JXo"
      },
      "source": [
        "* TypeError"
      ]
    },
    {
      "cell_type": "code",
      "metadata": {
        "id": "EwuWO4tP68OT",
        "colab": {
          "base_uri": "https://localhost:8080/",
          "height": 174
        },
        "outputId": "6a9cb928-2ca2-4af9-e0b8-131913c59547"
      },
      "source": [
        "'1' + 1 # 문자str에다 숫자int를 더하니 안됨"
      ],
      "execution_count": 3,
      "outputs": [
        {
          "output_type": "error",
          "ename": "TypeError",
          "evalue": "ignored",
          "traceback": [
            "\u001b[0;31m---------------------------------------------------------------------------\u001b[0m",
            "\u001b[0;31mTypeError\u001b[0m                                 Traceback (most recent call last)",
            "\u001b[0;32m<ipython-input-3-cc892b1f57d5>\u001b[0m in \u001b[0;36m<module>\u001b[0;34m()\u001b[0m\n\u001b[0;32m----> 1\u001b[0;31m \u001b[0;34m'1'\u001b[0m \u001b[0;34m+\u001b[0m \u001b[0;36m1\u001b[0m\u001b[0;34m\u001b[0m\u001b[0;34m\u001b[0m\u001b[0m\n\u001b[0m",
            "\u001b[0;31mTypeError\u001b[0m: can only concatenate str (not \"int\") to str"
          ]
        }
      ]
    },
    {
      "cell_type": "markdown",
      "metadata": {
        "id": "TSahjFWRNFSY"
      },
      "source": [
        "* ValueError"
      ]
    },
    {
      "cell_type": "code",
      "metadata": {
        "id": "QkZGJiqcNElu",
        "colab": {
          "base_uri": "https://localhost:8080/",
          "height": 174
        },
        "outputId": "9a1ca07d-3f55-4665-fb63-1ae5649d2ff2"
      },
      "source": [
        "int(\"String\") # 숫자에 문자열을 집어넣으니 에러- base 10 십진수로 읽었는데 안되는거"
      ],
      "execution_count": 4,
      "outputs": [
        {
          "output_type": "error",
          "ename": "ValueError",
          "evalue": "ignored",
          "traceback": [
            "\u001b[0;31m---------------------------------------------------------------------------\u001b[0m",
            "\u001b[0;31mValueError\u001b[0m                                Traceback (most recent call last)",
            "\u001b[0;32m<ipython-input-4-7bf3cc52d08f>\u001b[0m in \u001b[0;36m<module>\u001b[0;34m()\u001b[0m\n\u001b[0;32m----> 1\u001b[0;31m \u001b[0mint\u001b[0m\u001b[0;34m(\u001b[0m\u001b[0;34m\"String\"\u001b[0m\u001b[0;34m)\u001b[0m\u001b[0;34m\u001b[0m\u001b[0;34m\u001b[0m\u001b[0m\n\u001b[0m",
            "\u001b[0;31mValueError\u001b[0m: invalid literal for int() with base 10: 'String'"
          ]
        }
      ]
    },
    {
      "cell_type": "markdown",
      "metadata": {
        "id": "6gu37rq_AciU"
      },
      "source": [
        "### 예외 처리(Exception Handling)"
      ]
    },
    {
      "cell_type": "markdown",
      "metadata": {
        "id": "FYZUyQqgK5Z_"
      },
      "source": [
        "#### try, except 문\n",
        "\n",
        "* try 문을 통해 예외 발생 가능한 코드에 정의\n",
        "* except 문을 이용해 예외 처리 방법을 정의"
      ]
    },
    {
      "cell_type": "code",
      "metadata": {
        "id": "wfONldWmjWjI",
        "colab": {
          "base_uri": "https://localhost:8080/"
        },
        "outputId": "760e873f-c352-48c1-aa3f-92de900e8e8e"
      },
      "source": [
        "try:\n",
        "  print(2/0)\n",
        "except:\n",
        "  print(\"Error\") # try서 에러나는 함수라서 except로 가서 출력됨"
      ],
      "execution_count": 5,
      "outputs": [
        {
          "output_type": "stream",
          "name": "stdout",
          "text": [
            "Error\n"
          ]
        }
      ]
    },
    {
      "cell_type": "markdown",
      "metadata": {
        "id": "wCZtKuol63ET"
      },
      "source": [
        "#### 에러 분류에 따른 except 문\n",
        "\n",
        "* `ZeroDivisionError`에 대한 except 처리"
      ]
    },
    {
      "cell_type": "code",
      "metadata": {
        "id": "iI9q62ukjhLI",
        "colab": {
          "base_uri": "https://localhost:8080/"
        },
        "outputId": "2b45c363-fcda-43f9-b5fc-846cac90cfd8"
      },
      "source": [
        "try:\n",
        "  print(2/0)\n",
        "except ZeroDivisionError:\n",
        "  print(\"ZeroDivisionError\") "
      ],
      "execution_count": 6,
      "outputs": [
        {
          "output_type": "stream",
          "name": "stdout",
          "text": [
            "ZeroDivisionError\n"
          ]
        }
      ]
    },
    {
      "cell_type": "markdown",
      "metadata": {
        "id": "5xb7qltz7EkZ"
      },
      "source": [
        "#### 에러 메시지가 포함된 except 문\n",
        "\n",
        "* `ZeroDivisionError`에 포함된 에러 메시지 `e`를 출력"
      ]
    },
    {
      "cell_type": "code",
      "metadata": {
        "id": "Hd8posBzjmQa",
        "colab": {
          "base_uri": "https://localhost:8080/"
        },
        "outputId": "d3d1892e-41a9-4a6c-c7a8-06e231cfdf96"
      },
      "source": [
        "try:\n",
        "  print(2/0)\n",
        "except ZeroDivisionError as e:\n",
        "  print(e)"
      ],
      "execution_count": 7,
      "outputs": [
        {
          "output_type": "stream",
          "name": "stdout",
          "text": [
            "division by zero\n"
          ]
        }
      ]
    },
    {
      "cell_type": "markdown",
      "metadata": {
        "id": "JAasRBB0-BLK"
      },
      "source": [
        "#### 여러 에러 분류가 포함된 except 문"
      ]
    },
    {
      "cell_type": "code",
      "source": [
        "try:\n",
        "  n = int(input(\"입력: \"))\n",
        "  result = 1 / n\n",
        "except ZeroDivisionError as e: # 0은 여기에 걸림\n",
        "  print(e)\n",
        "except ValueError as e:\n",
        "  print(e)\n",
        "else:\n",
        "  print(\"결과: \" + str(result))"
      ],
      "metadata": {
        "colab": {
          "base_uri": "https://localhost:8080/"
        },
        "id": "kO7y3RN4ZZ5J",
        "outputId": "5b8fca91-14b0-415d-916e-cf67016d07ff"
      },
      "execution_count": 9,
      "outputs": [
        {
          "output_type": "stream",
          "name": "stdout",
          "text": [
            "입력: 0\n",
            "division by zero\n"
          ]
        }
      ]
    },
    {
      "cell_type": "code",
      "metadata": {
        "id": "IHqjg-lf6-SG",
        "colab": {
          "base_uri": "https://localhost:8080/"
        },
        "outputId": "0c6c7441-c0cf-4abd-8b85-a7e342d98063"
      },
      "source": [
        "try:\n",
        "  n = int(input(\"입력: \"))\n",
        "  result = 1 / n\n",
        "except ZeroDivisionError as e:\n",
        "  print(e)\n",
        "except ValueError as e: # %는 value 에러로뜸\n",
        "  print(e)\n",
        "else:\n",
        "  print(\"결과: \" + str(result))"
      ],
      "execution_count": 8,
      "outputs": [
        {
          "output_type": "stream",
          "name": "stdout",
          "text": [
            "입력: %\n",
            "invalid literal for int() with base 10: '%'\n"
          ]
        }
      ]
    },
    {
      "cell_type": "code",
      "source": [
        "try:\n",
        "  n = int(input(\"입력: \"))\n",
        "  result = 1 / n\n",
        "except ZeroDivisionError as e:\n",
        "  print(e)\n",
        "except ValueError as e:\n",
        "  print(e)\n",
        "else:\n",
        "  print(\"결과: \" + str(result)) # 4는 여기에 잘 걸림"
      ],
      "metadata": {
        "colab": {
          "base_uri": "https://localhost:8080/"
        },
        "id": "M-twwmf7ZaDb",
        "outputId": "53e3ae1b-5fc8-4b6e-869e-8549cbfe1e18"
      },
      "execution_count": 10,
      "outputs": [
        {
          "output_type": "stream",
          "name": "stdout",
          "text": [
            "입력: 4\n",
            "결과: 0.25\n"
          ]
        }
      ]
    },
    {
      "cell_type": "markdown",
      "metadata": {
        "id": "1yvDiPGN9ko0"
      },
      "source": [
        "### 에러 발생"
      ]
    },
    {
      "cell_type": "markdown",
      "metadata": {
        "id": "UZVye8Ot9r3u"
      },
      "source": [
        "#### raise 문\n",
        "\n",
        "* 직접적으로 에러를 발생시킬 수 있음\n",
        "* 에러의 종류와 에러 상황을 정의하고 발생"
      ]
    },
    {
      "cell_type": "code",
      "metadata": {
        "id": "YhXCjSq-D0oX",
        "colab": {
          "base_uri": "https://localhost:8080/",
          "height": 174
        },
        "outputId": "d5edc6eb-494e-4874-80c7-bac0ce047ac6"
      },
      "source": [
        "raise ZeroDivisionError(\"숫자를 0으로 나눔\") # 에러 메세지 내용을 띄울수 있음"
      ],
      "execution_count": 11,
      "outputs": [
        {
          "output_type": "error",
          "ename": "ZeroDivisionError",
          "evalue": "ignored",
          "traceback": [
            "\u001b[0;31m---------------------------------------------------------------------------\u001b[0m",
            "\u001b[0;31mZeroDivisionError\u001b[0m                         Traceback (most recent call last)",
            "\u001b[0;32m<ipython-input-11-fb78988de7bc>\u001b[0m in \u001b[0;36m<module>\u001b[0;34m()\u001b[0m\n\u001b[0;32m----> 1\u001b[0;31m \u001b[0;32mraise\u001b[0m \u001b[0mZeroDivisionError\u001b[0m\u001b[0;34m(\u001b[0m\u001b[0;34m\"숫자를 0으로 나눔\"\u001b[0m\u001b[0;34m)\u001b[0m\u001b[0;34m\u001b[0m\u001b[0;34m\u001b[0m\u001b[0m\n\u001b[0m",
            "\u001b[0;31mZeroDivisionError\u001b[0m: 숫자를 0으로 나눔"
          ]
        }
      ]
    },
    {
      "cell_type": "code",
      "metadata": {
        "id": "seVpG5qoEDUL",
        "colab": {
          "base_uri": "https://localhost:8080/",
          "height": 174
        },
        "outputId": "f58342d0-d8ee-4300-ff4a-a7219dd48ef1"
      },
      "source": [
        "raise NameError(\"지역 또는 전역 이름을 찾을 수 없음\")"
      ],
      "execution_count": 12,
      "outputs": [
        {
          "output_type": "error",
          "ename": "NameError",
          "evalue": "ignored",
          "traceback": [
            "\u001b[0;31m---------------------------------------------------------------------------\u001b[0m",
            "\u001b[0;31mNameError\u001b[0m                                 Traceback (most recent call last)",
            "\u001b[0;32m<ipython-input-12-e10ce1eb02bb>\u001b[0m in \u001b[0;36m<module>\u001b[0;34m()\u001b[0m\n\u001b[0;32m----> 1\u001b[0;31m \u001b[0;32mraise\u001b[0m \u001b[0mNameError\u001b[0m\u001b[0;34m(\u001b[0m\u001b[0;34m\"지역 또는 전역 이름을 찾을 수 없음\"\u001b[0m\u001b[0;34m)\u001b[0m\u001b[0;34m\u001b[0m\u001b[0;34m\u001b[0m\u001b[0m\n\u001b[0m",
            "\u001b[0;31mNameError\u001b[0m: 지역 또는 전역 이름을 찾을 수 없음"
          ]
        }
      ]
    },
    {
      "cell_type": "code",
      "metadata": {
        "id": "Sg6jO8soEFRQ",
        "colab": {
          "base_uri": "https://localhost:8080/",
          "height": 174
        },
        "outputId": "cbfa1035-a381-4a0b-c42a-7c1bf2553af8"
      },
      "source": [
        "raise TypeError(\"연산이나 함수가 부적절한 형의 객체에 적용\")"
      ],
      "execution_count": 13,
      "outputs": [
        {
          "output_type": "error",
          "ename": "TypeError",
          "evalue": "ignored",
          "traceback": [
            "\u001b[0;31m---------------------------------------------------------------------------\u001b[0m",
            "\u001b[0;31mTypeError\u001b[0m                                 Traceback (most recent call last)",
            "\u001b[0;32m<ipython-input-13-90a278017362>\u001b[0m in \u001b[0;36m<module>\u001b[0;34m()\u001b[0m\n\u001b[0;32m----> 1\u001b[0;31m \u001b[0;32mraise\u001b[0m \u001b[0mTypeError\u001b[0m\u001b[0;34m(\u001b[0m\u001b[0;34m\"연산이나 함수가 부적절한 형의 객체에 적용\"\u001b[0m\u001b[0;34m)\u001b[0m\u001b[0;34m\u001b[0m\u001b[0;34m\u001b[0m\u001b[0m\n\u001b[0m",
            "\u001b[0;31mTypeError\u001b[0m: 연산이나 함수가 부적절한 형의 객체에 적용"
          ]
        }
      ]
    },
    {
      "cell_type": "code",
      "metadata": {
        "id": "44cMcYh6EGmQ",
        "colab": {
          "base_uri": "https://localhost:8080/",
          "height": 174
        },
        "outputId": "1abcb366-699d-47ab-d239-63baa7e4c3b5"
      },
      "source": [
        "raise ValueError(\"연산이나 함수가 부적절한 값을 인자로 받음\")"
      ],
      "execution_count": 14,
      "outputs": [
        {
          "output_type": "error",
          "ename": "ValueError",
          "evalue": "ignored",
          "traceback": [
            "\u001b[0;31m---------------------------------------------------------------------------\u001b[0m",
            "\u001b[0;31mValueError\u001b[0m                                Traceback (most recent call last)",
            "\u001b[0;32m<ipython-input-14-afc754670e9e>\u001b[0m in \u001b[0;36m<module>\u001b[0;34m()\u001b[0m\n\u001b[0;32m----> 1\u001b[0;31m \u001b[0;32mraise\u001b[0m \u001b[0mValueError\u001b[0m\u001b[0;34m(\u001b[0m\u001b[0;34m\"연산이나 함수가 부적절한 값을 인자로 받음\"\u001b[0m\u001b[0;34m)\u001b[0m\u001b[0;34m\u001b[0m\u001b[0;34m\u001b[0m\u001b[0m\n\u001b[0m",
            "\u001b[0;31mValueError\u001b[0m: 연산이나 함수가 부적절한 값을 인자로 받음"
          ]
        }
      ]
    },
    {
      "cell_type": "markdown",
      "metadata": {
        "id": "1tlN-WGZ9the"
      },
      "source": [
        "#### assert 문\n",
        "\n",
        "* raise 문과 달리 주로 검증을 위한 목적으로 작성\n",
        "* 상태를 **검증**하는 목적으로 작성되며 검증식이 포함됨\n",
        "* 검증식이 `False`일 경우 `AssertionError` 발생"
      ]
    },
    {
      "cell_type": "code",
      "metadata": {
        "id": "RDT6GAzpMtFu"
      },
      "source": [
        "assert True"
      ],
      "execution_count": 15,
      "outputs": []
    },
    {
      "cell_type": "code",
      "metadata": {
        "id": "Wi5Dhu2yFzfW",
        "colab": {
          "base_uri": "https://localhost:8080/",
          "height": 174
        },
        "outputId": "38049833-a32b-49db-d782-d15feb8203f4"
      },
      "source": [
        "assert False # 검증식이 펄스일 경우 어설쎤 에러가 나옴"
      ],
      "execution_count": 16,
      "outputs": [
        {
          "output_type": "error",
          "ename": "AssertionError",
          "evalue": "ignored",
          "traceback": [
            "\u001b[0;31m---------------------------------------------------------------------------\u001b[0m",
            "\u001b[0;31mAssertionError\u001b[0m                            Traceback (most recent call last)",
            "\u001b[0;32m<ipython-input-16-a871fdc9ebee>\u001b[0m in \u001b[0;36m<module>\u001b[0;34m()\u001b[0m\n\u001b[0;32m----> 1\u001b[0;31m \u001b[0;32massert\u001b[0m \u001b[0;32mFalse\u001b[0m\u001b[0;34m\u001b[0m\u001b[0;34m\u001b[0m\u001b[0m\n\u001b[0m",
            "\u001b[0;31mAssertionError\u001b[0m: "
          ]
        }
      ]
    },
    {
      "cell_type": "code",
      "metadata": {
        "id": "__lmGJw2G323",
        "colab": {
          "base_uri": "https://localhost:8080/",
          "height": 174
        },
        "outputId": "8c84da94-b537-4351-a6f3-3821578a6db4"
      },
      "source": [
        "assert False, \"에러 메세지\""
      ],
      "execution_count": 17,
      "outputs": [
        {
          "output_type": "error",
          "ename": "AssertionError",
          "evalue": "ignored",
          "traceback": [
            "\u001b[0;31m---------------------------------------------------------------------------\u001b[0m",
            "\u001b[0;31mAssertionError\u001b[0m                            Traceback (most recent call last)",
            "\u001b[0;32m<ipython-input-17-4364ad964f82>\u001b[0m in \u001b[0;36m<module>\u001b[0;34m()\u001b[0m\n\u001b[0;32m----> 1\u001b[0;31m \u001b[0;32massert\u001b[0m \u001b[0;32mFalse\u001b[0m\u001b[0;34m,\u001b[0m \u001b[0;34m\"에러 메세지\"\u001b[0m\u001b[0;34m\u001b[0m\u001b[0;34m\u001b[0m\u001b[0m\n\u001b[0m",
            "\u001b[0;31mAssertionError\u001b[0m: 에러 메세지"
          ]
        }
      ]
    },
    {
      "cell_type": "code",
      "metadata": {
        "id": "vmNwfDLcF0dm",
        "colab": {
          "base_uri": "https://localhost:8080/",
          "height": 193
        },
        "outputId": "ca6b6da0-c251-414e-ca9e-25459511f96f"
      },
      "source": [
        "b = 0\n",
        "assert b != 0, \"상태에 따라서 발생\" # assert문이 b가 0이면 false가 되니까 에러 메세지가 나옴"
      ],
      "execution_count": 18,
      "outputs": [
        {
          "output_type": "error",
          "ename": "AssertionError",
          "evalue": "ignored",
          "traceback": [
            "\u001b[0;31m---------------------------------------------------------------------------\u001b[0m",
            "\u001b[0;31mAssertionError\u001b[0m                            Traceback (most recent call last)",
            "\u001b[0;32m<ipython-input-18-91ab28e2d37f>\u001b[0m in \u001b[0;36m<module>\u001b[0;34m()\u001b[0m\n\u001b[1;32m      1\u001b[0m \u001b[0mb\u001b[0m \u001b[0;34m=\u001b[0m \u001b[0;36m0\u001b[0m\u001b[0;34m\u001b[0m\u001b[0;34m\u001b[0m\u001b[0m\n\u001b[0;32m----> 2\u001b[0;31m \u001b[0;32massert\u001b[0m \u001b[0mb\u001b[0m \u001b[0;34m!=\u001b[0m \u001b[0;36m0\u001b[0m\u001b[0;34m,\u001b[0m \u001b[0;34m\"상태에 따라서 발생\"\u001b[0m\u001b[0;34m\u001b[0m\u001b[0;34m\u001b[0m\u001b[0m\n\u001b[0m",
            "\u001b[0;31mAssertionError\u001b[0m: 상태에 따라서 발생"
          ]
        }
      ]
    },
    {
      "cell_type": "code",
      "source": [
        "b = 1\n",
        "assert b != 0, \"상태에 따라서 발생\" # b가 1이면 assert문의 b != 0에 트루가 되니 에러메세지 안뜨고 그냥 넘어감 "
      ],
      "metadata": {
        "id": "PYkzgQ4YakxI"
      },
      "execution_count": 20,
      "outputs": []
    },
    {
      "cell_type": "markdown",
      "source": [
        "개발하다가 이 값이 오면 안되는데 올수 있겠다. 그 값이 올때 메세지를 띄우려고 먼저 에러메세지를 띄워 검증하려고 rasie와 assert를 만드는것"
      ],
      "metadata": {
        "id": "mX12q4pOa9VD"
      }
    }
  ]
}
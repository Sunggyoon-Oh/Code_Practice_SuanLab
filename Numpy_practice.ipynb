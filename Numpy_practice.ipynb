{
  "nbformat": 4,
  "nbformat_minor": 0,
  "metadata": {
    "colab": {
      "name": "Numpy_practice.ipynb",
      "provenance": [],
      "collapsed_sections": [],
      "authorship_tag": "ABX9TyPxdSizvjkZT5cDb67/nH27"
    },
    "kernelspec": {
      "name": "python3",
      "display_name": "Python 3"
    },
    "language_info": {
      "name": "python"
    },
    "accelerator": "GPU",
    "gpuClass": "standard"
  },
  "cells": [
    {
      "cell_type": "code",
      "execution_count": 1,
      "metadata": {
        "colab": {
          "base_uri": "https://localhost:8080/"
        },
        "id": "PdJELKdaGf6j",
        "outputId": "2dac9739-590b-4411-af0b-0ecb1b6cb394"
      },
      "outputs": [
        {
          "output_type": "stream",
          "name": "stdout",
          "text": [
            "25\n"
          ]
        }
      ],
      "source": [
        "a=10\n",
        "b= 15\n",
        "print(a+b)"
      ]
    },
    {
      "cell_type": "markdown",
      "source": [
        "실행 관련 단축키<br>\n",
        "Ctrl + Enter : 해당 셀을 실행하고 커서를 해당 셀에 위치 시킨다. (결과 값만 보고자 할 때)<br>\n",
        "Shift + Enter : 해당 셀을 실행하고 커서를 다음 셀로 이동 시킨다.<br>\n",
        "Alt + Enter : 해당 셀을 실행하고 셀을 삽입한 후 커서를 삽입한 셀로 이동시킨다. (다음 작업 공간이 없을 때)<br>\n",
        "\n",
        "쉘 삽입 / 삭제 관련 단축키\n",
        "맥은 Ctrl 대신 Command 사용\n",
        "\n",
        "Ctrl + M A : 코드 셀을 위에 삽입<br>\n",
        "Ctrl + M B : 코드 셀을 아래 삽입<br>\n",
        "Ctrl + M D : 셀 지우기<br>\n",
        "Ctrl + M Y : 해당 셀을 코드 쉘로 변경<br>\n",
        "Ctrl + M M : 해당 셀을 마크 다운 쉘로 변경<br>\n",
        "Ctrl + M Z : 실행 취소"
      ],
      "metadata": {
        "id": "Uhu8jx06HFeI"
      }
    },
    {
      "cell_type": "code",
      "source": [
        "import numpy as np"
      ],
      "metadata": {
        "id": "VMgrRS6jHyNo"
      },
      "execution_count": 4,
      "outputs": []
    },
    {
      "cell_type": "markdown",
      "source": [
        "# Section 1. N차원 배열 생성\n",
        "\n",
        "## 1-1. N차원 배열(ndarray) 생성하기"
      ],
      "metadata": {
        "id": "HqMqqV5GKT1O"
      }
    },
    {
      "cell_type": "code",
      "source": [
        "# 1차원 배열\n",
        "arr = np.array([1, 2, 3])\n",
        "print(arr)\n",
        "\n",
        "# 2차원 배열\n",
        "arr = np.array([[1, 2, 3],\n",
        "                 [4, 5, 6]])\n",
        "print(arr)"
      ],
      "metadata": {
        "colab": {
          "base_uri": "https://localhost:8080/"
        },
        "id": "EJxA-CelH1lW",
        "outputId": "4e4ece81-8bc4-4270-b253-cc966c14fd9e"
      },
      "execution_count": 3,
      "outputs": [
        {
          "output_type": "stream",
          "name": "stdout",
          "text": [
            "[1 2 3]\n",
            "[[1 2 3]\n",
            " [4 5 6]]\n"
          ]
        }
      ]
    },
    {
      "cell_type": "code",
      "source": [
        "type([1, 2, 3]) # 이건 리스트"
      ],
      "metadata": {
        "colab": {
          "base_uri": "https://localhost:8080/"
        },
        "id": "wdY3KfZZKzJv",
        "outputId": "fb825c18-fcdc-4c7e-cc6a-de55f1c07613"
      },
      "execution_count": 4,
      "outputs": [
        {
          "output_type": "execute_result",
          "data": {
            "text/plain": [
              "list"
            ]
          },
          "metadata": {},
          "execution_count": 4
        }
      ]
    },
    {
      "cell_type": "code",
      "source": [
        "type(arr) # 이건 넘파이 어레이"
      ],
      "metadata": {
        "colab": {
          "base_uri": "https://localhost:8080/"
        },
        "id": "eB7Rh5VfLBFX",
        "outputId": "ea932dd5-6edc-4777-9b1e-0de54822ccaa"
      },
      "execution_count": 5,
      "outputs": [
        {
          "output_type": "execute_result",
          "data": {
            "text/plain": [
              "numpy.ndarray"
            ]
          },
          "metadata": {},
          "execution_count": 5
        }
      ]
    },
    {
      "cell_type": "code",
      "source": [
        "tpl = (4, 5, 6)\n",
        "arr = np.array(tpl)\n",
        "print(arr) # 튜플도 넘파이 어레이 될수있고\n",
        "\n",
        "lst = [1, 2, 3]\n",
        "arr = np.array(lst)\n",
        "print(arr) # 리스트도 넘파이 어레이 될수 있고.\n",
        "\n",
        "lst2 = ([[1,2,3], [4,5,6]])\n",
        "arr = np.array(lst2)\n",
        "print(arr) # 2차원 어레이도 만들수 있다."
      ],
      "metadata": {
        "colab": {
          "base_uri": "https://localhost:8080/"
        },
        "id": "PiCyeINZLFaT",
        "outputId": "4c6b9de4-9dc7-49b3-9998-27990b46a6c0"
      },
      "execution_count": 6,
      "outputs": [
        {
          "output_type": "stream",
          "name": "stdout",
          "text": [
            "[4 5 6]\n",
            "[1 2 3]\n",
            "[[1 2 3]\n",
            " [4 5 6]]\n"
          ]
        }
      ]
    },
    {
      "cell_type": "code",
      "source": [
        "# shape: 배열의 형태, 모양\n",
        "arr1 = np.array([1, 2, 3])\n",
        "arr2 = np.array([[1,2,3], [4,5,6]])\n",
        "\n",
        "print(arr1.shape) # 원소가 3개인 1차원 배열(어레이)이라는 결과물\n",
        "print(arr2.shape) # 행이 2개, 열이 3개인 2차원 배열이라는 결과물\n",
        "\n",
        "# ndim: 배열의 차원을 말함\n",
        "print(arr1.ndim, arr2.ndim) # arr1은 1차원 arr는 2차원이라고 표시됨\n",
        "\n",
        "# size\n",
        "print(arr1.size, arr2.size) # arr1은 원소가 3개, arr2는 원사가 6개"
      ],
      "metadata": {
        "colab": {
          "base_uri": "https://localhost:8080/"
        },
        "id": "W24txFquLiQN",
        "outputId": "c45c4c9f-2d6f-40d2-87ec-813a4e1b04e9"
      },
      "execution_count": 7,
      "outputs": [
        {
          "output_type": "stream",
          "name": "stdout",
          "text": [
            "(3,)\n",
            "(2, 3)\n",
            "1 2\n",
            "3 6\n"
          ]
        }
      ]
    },
    {
      "cell_type": "markdown",
      "source": [
        "## 1-2. N차원 배열의 데이터타입<br>\n",
        "모든 넘파이 배열은 고유한 데이터타입을 가진다."
      ],
      "metadata": {
        "id": "gdi0MA9iaULy"
      }
    },
    {
      "cell_type": "code",
      "source": [
        "arr = np.array([1, 2, 3])\n",
        "print(arr) # 넘파이가 자동으로 데이터 형을 인식해서 정수형으로 출력"
      ],
      "metadata": {
        "colab": {
          "base_uri": "https://localhost:8080/"
        },
        "id": "iZzfGb_SbRM-",
        "outputId": "f6cd4668-a0bd-4c49-b304-9435632cb5b1"
      },
      "execution_count": 8,
      "outputs": [
        {
          "output_type": "stream",
          "name": "stdout",
          "text": [
            "[1 2 3]\n"
          ]
        }
      ]
    },
    {
      "cell_type": "code",
      "source": [
        "arr = np.array([1, 2, 3], dtype=np.float) # dtype 함수로 직접 데이터형을 정해줄수도 있음. 뒤에 소수점이 붙은 실수형(float)으로 출력됨\n",
        "print(arr, arr.dtype) # float64라고 뜸, 메모리상에서 몇비트를 사용할 것인지 말하는것. "
      ],
      "metadata": {
        "colab": {
          "base_uri": "https://localhost:8080/"
        },
        "id": "-maAM62zbh1m",
        "outputId": "068fcd6a-a17e-42d8-f3dd-ec58d215063c"
      },
      "execution_count": 9,
      "outputs": [
        {
          "output_type": "stream",
          "name": "stdout",
          "text": [
            "[1. 2. 3.] float64\n"
          ]
        },
        {
          "output_type": "stream",
          "name": "stderr",
          "text": [
            "/usr/local/lib/python3.7/dist-packages/ipykernel_launcher.py:1: DeprecationWarning: `np.float` is a deprecated alias for the builtin `float`. To silence this warning, use `float` by itself. Doing this will not modify any behavior and is safe. If you specifically wanted the numpy scalar type, use `np.float64` here.\n",
            "Deprecated in NumPy 1.20; for more details and guidance: https://numpy.org/devdocs/release/1.20.0-notes.html#deprecations\n",
            "  \"\"\"Entry point for launching an IPython kernel.\n"
          ]
        }
      ]
    },
    {
      "cell_type": "code",
      "source": [
        "arr = np.array([1.1, 2.1, 3.1], dtype=np.int) # 인트로 주면 소수점 이하는 버리고 줌.\n",
        "print(arr, arr.dtype)"
      ],
      "metadata": {
        "colab": {
          "base_uri": "https://localhost:8080/"
        },
        "id": "anhYpPgCcisI",
        "outputId": "d7557576-da2d-4052-de7e-0ad56c8128ce"
      },
      "execution_count": 10,
      "outputs": [
        {
          "output_type": "stream",
          "name": "stdout",
          "text": [
            "[1 2 3] int64\n"
          ]
        },
        {
          "output_type": "stream",
          "name": "stderr",
          "text": [
            "/usr/local/lib/python3.7/dist-packages/ipykernel_launcher.py:1: DeprecationWarning: `np.int` is a deprecated alias for the builtin `int`. To silence this warning, use `int` by itself. Doing this will not modify any behavior and is safe. When replacing `np.int`, you may wish to use e.g. `np.int64` or `np.int32` to specify the precision. If you wish to review your current use, check the release note link for additional information.\n",
            "Deprecated in NumPy 1.20; for more details and guidance: https://numpy.org/devdocs/release/1.20.0-notes.html#deprecations\n",
            "  \"\"\"Entry point for launching an IPython kernel.\n"
          ]
        }
      ]
    },
    {
      "cell_type": "code",
      "source": [
        "arr = np.array([0, 1, 1], dtype=np.bool) # 부울로 주면 T/F로 반환.\n",
        "print(arr, arr.dtype)"
      ],
      "metadata": {
        "colab": {
          "base_uri": "https://localhost:8080/"
        },
        "id": "-zRTPFtqcxyU",
        "outputId": "b019ef0e-1c9c-4c79-bfe9-7bb17957d32d"
      },
      "execution_count": 11,
      "outputs": [
        {
          "output_type": "stream",
          "name": "stdout",
          "text": [
            "[False  True  True] bool\n"
          ]
        },
        {
          "output_type": "stream",
          "name": "stderr",
          "text": [
            "/usr/local/lib/python3.7/dist-packages/ipykernel_launcher.py:1: DeprecationWarning: `np.bool` is a deprecated alias for the builtin `bool`. To silence this warning, use `bool` by itself. Doing this will not modify any behavior and is safe. If you specifically wanted the numpy scalar type, use `np.bool_` here.\n",
            "Deprecated in NumPy 1.20; for more details and guidance: https://numpy.org/devdocs/release/1.20.0-notes.html#deprecations\n",
            "  \"\"\"Entry point for launching an IPython kernel.\n"
          ]
        }
      ]
    },
    {
      "cell_type": "code",
      "source": [
        "arr = np.array([0, 1, 2, 3])\n",
        "print(arr, arr.dtype)\n",
        "\n",
        "arr = arr.astype(np.float32) # astype으로 int에서 float으로 바꿈\n",
        "print(arr, arr.dtype)"
      ],
      "metadata": {
        "colab": {
          "base_uri": "https://localhost:8080/"
        },
        "id": "xKos4Hc_b4zt",
        "outputId": "10da1571-effc-45fd-f09a-ada4d8b22b2f"
      },
      "execution_count": 12,
      "outputs": [
        {
          "output_type": "stream",
          "name": "stdout",
          "text": [
            "[0 1 2 3] int64\n",
            "[0. 1. 2. 3.] float32\n"
          ]
        }
      ]
    },
    {
      "cell_type": "code",
      "source": [
        "# 데이터 타입이 혼재하는 경우\n",
        "# 파이썬은 혼재해도 되는데 넘파이는 데이터 타입이 같아야함. 자동으로 변경해줌.\n",
        "arr = np.array([1, 2, 3.4]) # int와 float이 혼재, int들이 float으로 변환됨.\n",
        "print(arr, arr.dtype)\n",
        "\n",
        "arr = np.array([1, 2, 3.4, \"문자열\"]) # int와 float과 str이 혼재, 나머지 원소들이 다 str으로 변환됨\n",
        "print(arr, arr.dtype) # <U32는 유니코드 형식으로 출력됐단말"
      ],
      "metadata": {
        "colab": {
          "base_uri": "https://localhost:8080/"
        },
        "id": "S0kriMWKc6Wv",
        "outputId": "06d413e6-ba33-44d9-8a20-28c75a90a875"
      },
      "execution_count": 13,
      "outputs": [
        {
          "output_type": "stream",
          "name": "stdout",
          "text": [
            "[1.  2.  3.4] float64\n",
            "['1' '2' '3.4' '문자열'] <U32\n"
          ]
        }
      ]
    },
    {
      "cell_type": "markdown",
      "source": [
        "### 1-3. 정해진 형식의 N차원 배열 생성하기 <br>\n",
        "넘파이는 '자주쓰는 배열'을 구현하는 함수가 있음."
      ],
      "metadata": {
        "id": "-rItikF5c6fA"
      }
    },
    {
      "cell_type": "code",
      "source": [
        "# np.zeros(), 0 만드는 함수\n",
        "arr = np.zeros([2, 2]) # 2x2 쉐잎의 행렬 생성\n",
        "print(arr) # 원소가 0인 배열 출력."
      ],
      "metadata": {
        "colab": {
          "base_uri": "https://localhost:8080/"
        },
        "id": "velKic5jc6lo",
        "outputId": "6ae78cb1-c02d-4727-8466-e8352aae48b7"
      },
      "execution_count": 14,
      "outputs": [
        {
          "output_type": "stream",
          "name": "stdout",
          "text": [
            "[[0. 0.]\n",
            " [0. 0.]]\n"
          ]
        }
      ]
    },
    {
      "cell_type": "code",
      "source": [
        "# np.ones(), 1 만드는 함수\n",
        "arr = np.ones([3, 5])\n",
        "print(arr)"
      ],
      "metadata": {
        "colab": {
          "base_uri": "https://localhost:8080/"
        },
        "id": "lEUmYSQAc6qh",
        "outputId": "00b045fd-f0b0-4ca5-f609-1f52c7652df6"
      },
      "execution_count": 15,
      "outputs": [
        {
          "output_type": "stream",
          "name": "stdout",
          "text": [
            "[[1. 1. 1. 1. 1.]\n",
            " [1. 1. 1. 1. 1.]\n",
            " [1. 1. 1. 1. 1.]]\n"
          ]
        }
      ]
    },
    {
      "cell_type": "code",
      "source": [
        "# np.full(), 모든 원소들이 지정된 fill value로 이루어진 배열 생성\n",
        "arr = np.full((2,3), 5)\n",
        "print(arr) # 2x3 쉐잎 5로 된 행렬 출력."
      ],
      "metadata": {
        "colab": {
          "base_uri": "https://localhost:8080/"
        },
        "id": "VmB_OUUmc6v0",
        "outputId": "9a526b7f-858d-47fa-fc04-c7472ce21c83"
      },
      "execution_count": 16,
      "outputs": [
        {
          "output_type": "stream",
          "name": "stdout",
          "text": [
            "[[5 5 5]\n",
            " [5 5 5]]\n"
          ]
        }
      ]
    },
    {
      "cell_type": "code",
      "source": [
        "# np.eye()\n",
        "arr = np.eye(3, 4, k=0)\n",
        "print(arr) # 대각선 배열 만들어짐. k값 바꾸면 대각이 시작하는 1행 인덱스가 바뀜.\n",
        "\n",
        "arr = np.eye(3) # 정방행렬\n",
        "print(arr)"
      ],
      "metadata": {
        "colab": {
          "base_uri": "https://localhost:8080/"
        },
        "id": "hhO9Yruxc60n",
        "outputId": "018ccf96-f850-4f05-dc9e-74265673a33a"
      },
      "execution_count": 17,
      "outputs": [
        {
          "output_type": "stream",
          "name": "stdout",
          "text": [
            "[[1. 0. 0. 0.]\n",
            " [0. 1. 0. 0.]\n",
            " [0. 0. 1. 0.]]\n",
            "[[1. 0. 0.]\n",
            " [0. 1. 0.]\n",
            " [0. 0. 1.]]\n"
          ]
        }
      ]
    },
    {
      "cell_type": "code",
      "source": [
        "arr = np.array([[1, 2, 3],\n",
        "                [4, 5, 6]])\n",
        "# np.zeros_like()\n",
        "arr_z = np.zeros_like(arr) # _like를 써서 원래 본 행렬과 똑같은 쉐잎을 만드는것, 단 zeros니까 다 0임\n",
        "print(arr_z)\n",
        "\n",
        "# np.ones_like()\n",
        "arr_o = np.ones_like(arr)\n",
        "print(arr_o)\n",
        "\n",
        "# np.full_like()\n",
        "arr_f = np.full_like(arr, 9)\n",
        "print(arr_f)"
      ],
      "metadata": {
        "colab": {
          "base_uri": "https://localhost:8080/"
        },
        "id": "L0cQtTqEc65Q",
        "outputId": "52c8e5fd-edff-468d-96d0-e59cd3ee2eec"
      },
      "execution_count": 18,
      "outputs": [
        {
          "output_type": "stream",
          "name": "stdout",
          "text": [
            "[[0 0 0]\n",
            " [0 0 0]]\n",
            "[[1 1 1]\n",
            " [1 1 1]]\n",
            "[[9 9 9]\n",
            " [9 9 9]]\n"
          ]
        }
      ]
    },
    {
      "cell_type": "markdown",
      "source": [
        "## 1-4. 특정 범위의 값을 가지는 N차원 배열 생성하기"
      ],
      "metadata": {
        "id": "r4rAeAZQc692"
      }
    },
    {
      "cell_type": "code",
      "source": [
        "lst = list(range(0, 9, 2))\n",
        "print(lst)"
      ],
      "metadata": {
        "colab": {
          "base_uri": "https://localhost:8080/"
        },
        "id": "6wSg3lINc7Bn",
        "outputId": "d9d07aca-ee42-4419-9180-d80dcfe2ab91"
      },
      "execution_count": 19,
      "outputs": [
        {
          "output_type": "stream",
          "name": "stdout",
          "text": [
            "[0, 2, 4, 6, 8]\n"
          ]
        }
      ]
    },
    {
      "cell_type": "code",
      "source": [
        "# 파이썬 레인지처럼 넘파이로 특정범위 값을 가지는 n차원 배열 생성할수 있음\n",
        "arr = np.arange(9) # 0~8 출력\n",
        "print(arr)\n",
        "\n",
        "arr = np.arange(3, 12) # 3~11 출력\n",
        "print(arr)\n",
        "\n",
        "arr = np.arange(3, 12, 3) # 3~11을 3스텝으로 출력\n",
        "print(arr)"
      ],
      "metadata": {
        "colab": {
          "base_uri": "https://localhost:8080/"
        },
        "id": "CYujWjmyc7F0",
        "outputId": "78a6e9f2-c04c-4cd2-ea30-6ca922401712"
      },
      "execution_count": 20,
      "outputs": [
        {
          "output_type": "stream",
          "name": "stdout",
          "text": [
            "[0 1 2 3 4 5 6 7 8]\n",
            "[ 3  4  5  6  7  8  9 10 11]\n",
            "[3 6 9]\n"
          ]
        }
      ]
    },
    {
      "cell_type": "code",
      "source": [
        "# np.linspace()\n",
        "arr = np.linspace(0, 100, 11) # 0부터 100 사이의 원소를 11의 균등한 간격으로 출력\n",
        "print(arr) # lin은 마지막 원소(100)까지 다 포함해서 출력"
      ],
      "metadata": {
        "colab": {
          "base_uri": "https://localhost:8080/"
        },
        "id": "h1FfKF0fjfmN",
        "outputId": "323de93a-4dde-46a3-e973-1994bb5522ee"
      },
      "execution_count": 21,
      "outputs": [
        {
          "output_type": "stream",
          "name": "stdout",
          "text": [
            "[  0.  10.  20.  30.  40.  50.  60.  70.  80.  90. 100.]\n"
          ]
        }
      ]
    },
    {
      "cell_type": "code",
      "source": [
        "# np.logspace()\n",
        "arr = np.linspace(1, 10, 10)\n",
        "print(arr, end=\"\\n\\n\")\n",
        "\n",
        "arr = np.logspace(1, 10, 10, base=2) # 밑이 2인 로그 스케일 값\n",
        "print(arr)\n",
        "\n",
        "arr = np.logspace(1, 10, 10) # 상용로그 스탈, 10, 100, 1000, 10000 --- 으로 출력됨\n",
        "print(arr)"
      ],
      "metadata": {
        "colab": {
          "base_uri": "https://localhost:8080/"
        },
        "id": "XHBZraBBjfo0",
        "outputId": "fd307ccf-fba9-4de2-ae87-adc810a4655c"
      },
      "execution_count": 22,
      "outputs": [
        {
          "output_type": "stream",
          "name": "stdout",
          "text": [
            "[ 1.  2.  3.  4.  5.  6.  7.  8.  9. 10.]\n",
            "\n",
            "[   2.    4.    8.   16.   32.   64.  128.  256.  512. 1024.]\n",
            "[1.e+01 1.e+02 1.e+03 1.e+04 1.e+05 1.e+06 1.e+07 1.e+08 1.e+09 1.e+10]\n"
          ]
        }
      ]
    },
    {
      "cell_type": "markdown",
      "source": [
        "## 1-5. 난수로 N차원 배열 생성하기"
      ],
      "metadata": {
        "id": "mQeVlUhSjfrL"
      }
    },
    {
      "cell_type": "code",
      "source": [
        "import matplotlib.pyplot as plt"
      ],
      "metadata": {
        "id": "rYMTMl9Sjftv"
      },
      "execution_count": 23,
      "outputs": []
    },
    {
      "cell_type": "code",
      "source": [
        "# np.random.normal() 정규확률분포에서 표본 추출\n",
        "arr = np.random.normal(0, 1, 10) # (loc, sclae, size) 각각 평균0, 표준편차1, 표본 갯수 10개인 난수 추출\n",
        "print(arr)\n",
        "arr = np.random.normal(0, 1, (2,3)) # 2x3 쉐잎 평균0 표준편차1인 난수 추출\n",
        "print(arr)"
      ],
      "metadata": {
        "colab": {
          "base_uri": "https://localhost:8080/"
        },
        "id": "UFBORLLNjfwr",
        "outputId": "0ab3d10a-e988-4344-f29e-cdd928679865"
      },
      "execution_count": 24,
      "outputs": [
        {
          "output_type": "stream",
          "name": "stdout",
          "text": [
            "[-1.36025397 -0.18256885 -0.0208701  -1.29709605 -0.79479647 -0.77212604\n",
            " -2.67244571 -0.97594125  0.4009337   0.42818231]\n",
            "[[-1.11544793  0.50306968 -0.79822227]\n",
            " [ 0.90421451 -0.43780503 -1.23103031]]\n"
          ]
        }
      ]
    },
    {
      "cell_type": "code",
      "source": [
        "arr = np.random.normal(0, 1, 10000)\n",
        "plt.hist(arr, bins=100) # bins 난수를 몇개의 구간으로 구분해서 보여줄지\n",
        "plt.show()"
      ],
      "metadata": {
        "colab": {
          "base_uri": "https://localhost:8080/",
          "height": 265
        },
        "id": "l7IlKvRQjfzy",
        "outputId": "b9b72aef-2f5b-4bf8-9296-7545d1b15cf6"
      },
      "execution_count": 25,
      "outputs": [
        {
          "output_type": "display_data",
          "data": {
            "text/plain": [
              "<Figure size 432x288 with 1 Axes>"
            ],
            "image/png": "[encoded data removed]"
          },
          "metadata": {
            "needs_background": "light"
          }
        }
      ]
    },
    {
      "cell_type": "code",
      "source": [
        "# np.random.rand() '균등' 하게 분포하게\n",
        "arr = np.random.rand(1000) # 표본갯수 1000개\n",
        "plt.hist(arr, bins=100)\n",
        "plt.show()"
      ],
      "metadata": {
        "colab": {
          "base_uri": "https://localhost:8080/",
          "height": 265
        },
        "id": "M0HM9Jd3jf2d",
        "outputId": "48882a55-de22-4318-c805-675300988eab"
      },
      "execution_count": 26,
      "outputs": [
        {
          "output_type": "display_data",
          "data": {
            "text/plain": [
              "<Figure size 432x288 with 1 Axes>"
            ],
            "image/png": "[encoded data removed]"
          },
          "metadata": {
            "needs_background": "light"
          }
        }
      ]
    },
    {
      "cell_type": "code",
      "source": [
        "# np.random.randn() 가우시안, 정규분포 따르게\n",
        "arr = np.random.randn(1000)\n",
        "plt.hist(arr, bins=100)\n",
        "plt.show()"
      ],
      "metadata": {
        "colab": {
          "base_uri": "https://localhost:8080/",
          "height": 265
        },
        "id": "QYEoGeMUjf5Y",
        "outputId": "f04374fe-8855-40dc-917d-bedf8229f66c"
      },
      "execution_count": 27,
      "outputs": [
        {
          "output_type": "display_data",
          "data": {
            "text/plain": [
              "<Figure size 432x288 with 1 Axes>"
            ],
            "image/png": "[encoded data removed]"
          },
          "metadata": {
            "needs_background": "light"
          }
        }
      ]
    },
    {
      "cell_type": "code",
      "source": [
        "# np.random.randint() 랜덤한 정수만\n",
        "arr = np.random.randint(low=1, high=5, size=10) # low값부터 high값 미만까지 size 모양대로 배열만들어줌\n",
        "print(arr)"
      ],
      "metadata": {
        "colab": {
          "base_uri": "https://localhost:8080/"
        },
        "id": "SmZynMi9jf8P",
        "outputId": "a6bbbaf5-6dee-47b8-f9ec-280553a4d37f"
      },
      "execution_count": 28,
      "outputs": [
        {
          "output_type": "stream",
          "name": "stdout",
          "text": [
            "[2 1 4 4 1 1 1 1 2 2]\n"
          ]
        }
      ]
    },
    {
      "cell_type": "code",
      "source": [
        "arr = np.random.randint(100, 200, 1000)\n",
        "plt.hist(arr, bins=100)\n",
        "plt.show()"
      ],
      "metadata": {
        "colab": {
          "base_uri": "https://localhost:8080/",
          "height": 265
        },
        "id": "izu-UtzTjf_e",
        "outputId": "da05d792-7b5e-434f-d7a3-83b7fbe75991"
      },
      "execution_count": 29,
      "outputs": [
        {
          "output_type": "display_data",
          "data": {
            "text/plain": [
              "<Figure size 432x288 with 1 Axes>"
            ],
            "image/png": "[encoded data removed]"
          },
          "metadata": {
            "needs_background": "light"
          }
        }
      ]
    },
    {
      "cell_type": "markdown",
      "source": [
        "## 1-6. 시드(seed)값을 통한 난수 생성 제어 <br>\n",
        "난수는 랜덤으로 만들어진 수, 특정 시작점으로부터 난수처럼 보이는 수열을 만듬. 특정 시작점을 내가 설정하기"
      ],
      "metadata": {
        "id": "c9lA87M0jgDr"
      }
    },
    {
      "cell_type": "code",
      "source": [
        "arr = np.random.rand(10)\n",
        "print(\"난수 발생1 \\n\", arr)\n",
        "\n",
        "arr = np.random.rand(10)\n",
        "print(\"난수 발생2 \\n\", arr)"
      ],
      "metadata": {
        "colab": {
          "base_uri": "https://localhost:8080/"
        },
        "id": "B8D35M_GjgGn",
        "outputId": "7306c4bb-3cc8-47f3-ea62-99a9a4137208"
      },
      "execution_count": 30,
      "outputs": [
        {
          "output_type": "stream",
          "name": "stdout",
          "text": [
            "난수 발생1 \n",
            " [0.86297336 0.52648449 0.74639318 0.19961847 0.68667584 0.57577515\n",
            " 0.84854107 0.11966602 0.49788934 0.28684883]\n",
            "난수 발생2 \n",
            " [0.18135753 0.36827279 0.4145834  0.17170186 0.93215809 0.71761347\n",
            " 0.3226077  0.37245497 0.90605378 0.37418506]\n"
          ]
        }
      ]
    },
    {
      "cell_type": "code",
      "source": [
        "np.random.seed(1)\n",
        "arr = np.random.rand(10)\n",
        "print(\"난수 발생1 \\n\", arr)\n",
        "\n",
        "np.random.seed(1)\n",
        "arr = np.random.rand(10)\n",
        "print(\"난수 발생2 \\n\", arr)\n",
        "\n",
        "# 시작점(seed값)만 1로 같으면 동일한 난수가 출력"
      ],
      "metadata": {
        "colab": {
          "base_uri": "https://localhost:8080/"
        },
        "id": "dfYneO53jgJl",
        "outputId": "93703848-bd07-4136-8807-65a717e35552"
      },
      "execution_count": 31,
      "outputs": [
        {
          "output_type": "stream",
          "name": "stdout",
          "text": [
            "난수 발생1 \n",
            " [4.17022005e-01 7.20324493e-01 1.14374817e-04 3.02332573e-01\n",
            " 1.46755891e-01 9.23385948e-02 1.86260211e-01 3.45560727e-01\n",
            " 3.96767474e-01 5.38816734e-01]\n",
            "난수 발생2 \n",
            " [4.17022005e-01 7.20324493e-01 1.14374817e-04 3.02332573e-01\n",
            " 1.46755891e-01 9.23385948e-02 1.86260211e-01 3.45560727e-01\n",
            " 3.96767474e-01 5.38816734e-01]\n"
          ]
        }
      ]
    },
    {
      "cell_type": "markdown",
      "source": [
        "# Section 2. N차원 배열 인덱싱\n",
        "## 2-1. 배열의 인덱스 접근하기"
      ],
      "metadata": {
        "id": "KiKICLKQjgLx"
      }
    },
    {
      "cell_type": "code",
      "source": [
        "# 1차원 배열\n",
        "arr = np.array([0, 1, 2, 3, 4, 5, 6, 7, 8, 9])\n",
        "arr = np.arange(10)\n",
        "print(arr)\n",
        "\n",
        "print(arr[3]) # 3번째 인덱스 출력\n",
        "print(arr[1])\n",
        "print(arr[9])\n",
        "print(arr[-1])\n",
        "print(arr[-10])"
      ],
      "metadata": {
        "colab": {
          "base_uri": "https://localhost:8080/"
        },
        "id": "T680W8HxjgOW",
        "outputId": "ab4dd296-66e0-40c9-f9e9-5362c69b0553"
      },
      "execution_count": 32,
      "outputs": [
        {
          "output_type": "stream",
          "name": "stdout",
          "text": [
            "[0 1 2 3 4 5 6 7 8 9]\n",
            "3\n",
            "1\n",
            "9\n",
            "9\n",
            "0\n"
          ]
        }
      ]
    },
    {
      "cell_type": "code",
      "source": [
        "# 2차원 배열 인덱싱\n",
        "arr = np.array([[1, 2, 3, 4],\n",
        "               [5, 6, 7, 8],\n",
        "               [9, 10, 11, 12]])\n",
        "print(arr, arr.shape, arr.ndim) # 어레이 자체출력, 어레이쉐잎(3,4), 어레이 차원\n",
        "\n",
        "print(arr[0][3]) # 0행 3열 출력\n",
        "print(arr[0, 3]) # 0행 3열 출력"
      ],
      "metadata": {
        "colab": {
          "base_uri": "https://localhost:8080/"
        },
        "id": "ZlLEmzmvjgRQ",
        "outputId": "4d0bd2bf-ff5f-4a5c-9c9e-f99d543b81c5"
      },
      "execution_count": 33,
      "outputs": [
        {
          "output_type": "stream",
          "name": "stdout",
          "text": [
            "[[ 1  2  3  4]\n",
            " [ 5  6  7  8]\n",
            " [ 9 10 11 12]] (3, 4) 2\n",
            "4\n",
            "4\n"
          ]
        }
      ]
    },
    {
      "cell_type": "code",
      "source": [
        "arr = np.array([0, 1, 2, 3, 4, 5, 6, 7, 8, 9])\n",
        "print(arr[3:8])\n",
        "print(arr[3:])\n",
        "print(arr[:7])\n",
        "print(arr[:-1]) # 9 미만 모든값 출력"
      ],
      "metadata": {
        "colab": {
          "base_uri": "https://localhost:8080/"
        },
        "id": "XKpphdi6jgUY",
        "outputId": "4683396e-fa82-4353-980d-e59529d05f13"
      },
      "execution_count": 34,
      "outputs": [
        {
          "output_type": "stream",
          "name": "stdout",
          "text": [
            "[3 4 5 6 7]\n",
            "[3 4 5 6 7 8 9]\n",
            "[0 1 2 3 4 5 6]\n",
            "[0 1 2 3 4 5 6 7 8]\n"
          ]
        }
      ]
    },
    {
      "cell_type": "code",
      "source": [
        "arr = np.array([[1, 2, 3, 4],\n",
        "               [5, 6, 7, 8],\n",
        "               [9, 10, 11, 12]])\n",
        "\n",
        "print(arr[0, :]) # 0행 모든원소 출력\n",
        "print(arr[:, 1]) # 모든행의 1열 출력\n"
      ],
      "metadata": {
        "colab": {
          "base_uri": "https://localhost:8080/"
        },
        "id": "fGGqHUUGjgXm",
        "outputId": "aafaaf17-7cd6-43e5-aab1-9b22a81aac69"
      },
      "execution_count": 35,
      "outputs": [
        {
          "output_type": "stream",
          "name": "stdout",
          "text": [
            "[1 2 3 4]\n",
            "[ 2  6 10]\n"
          ]
        }
      ]
    },
    {
      "cell_type": "code",
      "source": [
        "print(arr[:3, :]) # 0~3미만 행의 모든 열 출력\n",
        "print(arr[:2, 2:]) # 0,1행 2,3열 출력"
      ],
      "metadata": {
        "colab": {
          "base_uri": "https://localhost:8080/"
        },
        "id": "m7nNrw1IjgbH",
        "outputId": "ff2a9496-62f2-4b85-9186-5a99efbb96ba"
      },
      "execution_count": 36,
      "outputs": [
        {
          "output_type": "stream",
          "name": "stdout",
          "text": [
            "[[ 1  2  3  4]\n",
            " [ 5  6  7  8]\n",
            " [ 9 10 11 12]]\n",
            "[[3 4]\n",
            " [7 8]]\n"
          ]
        }
      ]
    },
    {
      "cell_type": "markdown",
      "source": [
        "## 2-2. 배열의 Fancy 인덱싱<br>\n",
        "특정 인덱스를 여러개 선택을 해서 탐색하는 방법"
      ],
      "metadata": {
        "id": "s4jjXZ6xjgdT"
      }
    },
    {
      "cell_type": "code",
      "source": [
        "# 1차원 배열\n",
        "arr = np.array([5, 10, 15, 20, 25, 30])\n",
        "print(arr[[0, 2, 4]])"
      ],
      "metadata": {
        "colab": {
          "base_uri": "https://localhost:8080/"
        },
        "id": "9BIMtcZajggB",
        "outputId": "548c9e49-8224-4115-826e-2e6fa7208a52"
      },
      "execution_count": 37,
      "outputs": [
        {
          "output_type": "stream",
          "name": "stdout",
          "text": [
            "[ 5 15 25]\n"
          ]
        }
      ]
    },
    {
      "cell_type": "code",
      "source": [
        "# 2차원 배열\n",
        "arr = np.array([[5, 10, 15, 20],\n",
        "                [25, 30, 35, 40],\n",
        "                [45, 50, 55, 60]])\n",
        "print(arr[[0, 2], 2:]) # 0, 2행의 2,3 열 출력\n",
        "print(arr[1:, [2,3]]) # 1,2행 2,3열 출력"
      ],
      "metadata": {
        "colab": {
          "base_uri": "https://localhost:8080/"
        },
        "id": "N_r3J9uCjgiO",
        "outputId": "58887292-f3a6-4fe7-850c-fe586386cd85"
      },
      "execution_count": 38,
      "outputs": [
        {
          "output_type": "stream",
          "name": "stdout",
          "text": [
            "[[15 20]\n",
            " [55 60]]\n",
            "[[35 40]\n",
            " [55 60]]\n"
          ]
        }
      ]
    },
    {
      "cell_type": "markdown",
      "source": [
        "## 2-3. 배열의 불리언 인덱싱"
      ],
      "metadata": {
        "id": "vRy1jJzSjglH"
      }
    },
    {
      "cell_type": "code",
      "source": [
        "arr = np.array([1, 2, 3, 4])\n",
        "print(arr[[True, False, True, True]]) # 1234가 TFTT로 배정되는것. T값만 가져오고 F값은 안가져옴\n",
        "# 1,3,4 출력\n",
        "\n",
        "arr = np.array([[1,2,3,4],\n",
        "                [5,6,7,8]])\n",
        "print(arr[[True, False], True]) # 0행T 1행F 열은 다T"
      ],
      "metadata": {
        "colab": {
          "base_uri": "https://localhost:8080/"
        },
        "id": "4G1UTXe8jgns",
        "outputId": "6f42bdcf-d56b-48b8-a412-b6dce36ee0a8"
      },
      "execution_count": 39,
      "outputs": [
        {
          "output_type": "stream",
          "name": "stdout",
          "text": [
            "[1 3 4]\n",
            "[[1 2 3 4]]\n"
          ]
        }
      ]
    },
    {
      "cell_type": "code",
      "source": [
        "arr = np.array([[1,2,3,4],\n",
        "                [5,6,7,8]])\n",
        "print(arr[arr >4])\n",
        "print(arr[arr <=2])"
      ],
      "metadata": {
        "colab": {
          "base_uri": "https://localhost:8080/"
        },
        "id": "uowx5uBojgq3",
        "outputId": "b8b5b98b-22b1-4ba0-c740-bc0545e22cab"
      },
      "execution_count": 40,
      "outputs": [
        {
          "output_type": "stream",
          "name": "stdout",
          "text": [
            "[5 6 7 8]\n",
            "[1 2]\n"
          ]
        }
      ]
    },
    {
      "cell_type": "markdown",
      "source": [
        "# 섹션 3. N차원 배열 연산법<br>\n",
        "## 3-1. 배열의 연산1: 사칙연산/제곱/제곱근/몫/나머지"
      ],
      "metadata": {
        "id": "gFX-YVDYjgtq"
      }
    },
    {
      "cell_type": "code",
      "source": [
        "arr1 = np.array([[1, 2, 3],\n",
        "                 [4, 5, 6],\n",
        "                 [7, 8, 9]])\n",
        "arr2 = np.array([[2, 2, 2],\n",
        "                 [2, 2, 2],\n",
        "                 [2, 2, 2]])\n",
        "print(arr1)\n",
        "print(arr2)"
      ],
      "metadata": {
        "colab": {
          "base_uri": "https://localhost:8080/"
        },
        "id": "ey4kbhlajgxF",
        "outputId": "568b208d-13bc-489f-fd1d-e7c3defaa1ce"
      },
      "execution_count": 41,
      "outputs": [
        {
          "output_type": "stream",
          "name": "stdout",
          "text": [
            "[[1 2 3]\n",
            " [4 5 6]\n",
            " [7 8 9]]\n",
            "[[2 2 2]\n",
            " [2 2 2]\n",
            " [2 2 2]]\n"
          ]
        }
      ]
    },
    {
      "cell_type": "code",
      "source": [
        "# 덧셈\n",
        "print(arr1 + arr2)\n",
        "print(np.add(arr1, arr2))"
      ],
      "metadata": {
        "colab": {
          "base_uri": "https://localhost:8080/"
        },
        "id": "kadhsgtvjgzc",
        "outputId": "bfc057a0-52bf-448a-8883-0c0153f9b2dd"
      },
      "execution_count": 42,
      "outputs": [
        {
          "output_type": "stream",
          "name": "stdout",
          "text": [
            "[[ 3  4  5]\n",
            " [ 6  7  8]\n",
            " [ 9 10 11]]\n",
            "[[ 3  4  5]\n",
            " [ 6  7  8]\n",
            " [ 9 10 11]]\n"
          ]
        }
      ]
    },
    {
      "cell_type": "code",
      "source": [
        "# 뺄셈\n",
        "print(arr1 - arr2)\n",
        "print(np.subtract(arr1, arr2))"
      ],
      "metadata": {
        "colab": {
          "base_uri": "https://localhost:8080/"
        },
        "id": "3MSzMVTIjg2b",
        "outputId": "9a2a8bfa-682e-4022-bec7-bf1e4b3784f5"
      },
      "execution_count": 43,
      "outputs": [
        {
          "output_type": "stream",
          "name": "stdout",
          "text": [
            "[[-1  0  1]\n",
            " [ 2  3  4]\n",
            " [ 5  6  7]]\n",
            "[[-1  0  1]\n",
            " [ 2  3  4]\n",
            " [ 5  6  7]]\n"
          ]
        }
      ]
    },
    {
      "cell_type": "code",
      "source": [
        "# 곱셈\n",
        "print(arr1 * arr2)\n",
        "print(np.multiply(arr1, arr2))"
      ],
      "metadata": {
        "colab": {
          "base_uri": "https://localhost:8080/"
        },
        "id": "zsgmrgjEjg6A",
        "outputId": "3152c1a9-aaa7-4ed8-d017-6108c82adeb0"
      },
      "execution_count": 44,
      "outputs": [
        {
          "output_type": "stream",
          "name": "stdout",
          "text": [
            "[[ 2  4  6]\n",
            " [ 8 10 12]\n",
            " [14 16 18]]\n",
            "[[ 2  4  6]\n",
            " [ 8 10 12]\n",
            " [14 16 18]]\n"
          ]
        }
      ]
    },
    {
      "cell_type": "code",
      "source": [
        "# 나눗셈\n",
        "print(arr1 / arr2)\n",
        "print(np.divide(arr1, arr2))"
      ],
      "metadata": {
        "colab": {
          "base_uri": "https://localhost:8080/"
        },
        "id": "Pw22BerWjg8Q",
        "outputId": "551e51b6-3639-42cc-e74a-0d48af6fa49c"
      },
      "execution_count": 45,
      "outputs": [
        {
          "output_type": "stream",
          "name": "stdout",
          "text": [
            "[[0.5 1.  1.5]\n",
            " [2.  2.5 3. ]\n",
            " [3.5 4.  4.5]]\n",
            "[[0.5 1.  1.5]\n",
            " [2.  2.5 3. ]\n",
            " [3.5 4.  4.5]]\n"
          ]
        }
      ]
    },
    {
      "cell_type": "code",
      "source": [
        "# 제곱\n",
        "arr1 = np.array([[1, 2, 3],\n",
        "                 [4, 5, 6],\n",
        "                 [7, 8, 9]])\n",
        "arr2 = np.array([[2, 2, 2],\n",
        "                 [2, 2, 2],\n",
        "                 [2, 2, 2]])\n",
        "print(arr1 ** 2)\n",
        "print(np.square(arr1))\n",
        "\n",
        "#제곱근\n",
        "print(np.sqrt(arr1))"
      ],
      "metadata": {
        "colab": {
          "base_uri": "https://localhost:8080/"
        },
        "id": "gVZXqiyr-N0A",
        "outputId": "43cc430e-c356-44c8-c861-b7741fa7cfe7"
      },
      "execution_count": 46,
      "outputs": [
        {
          "output_type": "stream",
          "name": "stdout",
          "text": [
            "[[ 1  4  9]\n",
            " [16 25 36]\n",
            " [49 64 81]]\n",
            "[[ 1  4  9]\n",
            " [16 25 36]\n",
            " [49 64 81]]\n",
            "[[1.         1.41421356 1.73205081]\n",
            " [2.         2.23606798 2.44948974]\n",
            " [2.64575131 2.82842712 3.        ]]\n"
          ]
        }
      ]
    },
    {
      "cell_type": "code",
      "source": [
        "# 몫\n",
        "print(arr1 // 2)\n",
        "\n",
        "# 나머지\n",
        "print(arr1 % 2)"
      ],
      "metadata": {
        "colab": {
          "base_uri": "https://localhost:8080/"
        },
        "id": "r1AyZkr1-N2e",
        "outputId": "89f619f8-4f02-4f3a-d575-8bcb82ab6ed6"
      },
      "execution_count": 47,
      "outputs": [
        {
          "output_type": "stream",
          "name": "stdout",
          "text": [
            "[[0 1 1]\n",
            " [2 2 3]\n",
            " [3 4 4]]\n",
            "[[1 0 1]\n",
            " [0 1 0]\n",
            " [1 0 1]]\n"
          ]
        }
      ]
    },
    {
      "cell_type": "markdown",
      "source": [
        "## 3-2. 배열의 연산2: 내적(dot product)/절댓값/올림/내림/반올림/버림<br>\n",
        "내적(dot product)=두 벡터(행렬)을 곱했을때 결과값이 스칼라값가 나오는 연산"
      ],
      "metadata": {
        "id": "LzqWaq6l-N5x"
      }
    },
    {
      "cell_type": "code",
      "source": [
        "#1차원 행렬\n",
        "arr1 = np.array([2, 3, 4])\n",
        "arr2 = np.array([1, 2, 3])\n",
        "\n",
        "print(np.dot(arr1, arr2)) # 2*1 + 3*2 + 4*3"
      ],
      "metadata": {
        "colab": {
          "base_uri": "https://localhost:8080/"
        },
        "id": "-YhT_Lix-N8K",
        "outputId": "f5ae6e35-1407-4d21-d5fb-99e8198dbf12"
      },
      "execution_count": 48,
      "outputs": [
        {
          "output_type": "stream",
          "name": "stdout",
          "text": [
            "20\n"
          ]
        }
      ]
    },
    {
      "cell_type": "code",
      "source": [
        "# 2차원 행렬\n",
        "'''\n",
        "[[a,b], [[e,f]        [[ae+bg, af+bh]\n",
        " [c,d]]  [g,h]]   =>   [ce+dg, cf+dh]]\n",
        "'''\n",
        "\n",
        "arr1 = np.array([[1, 2],\n",
        "                 [4, 5]])\n",
        "arr2 = np.array([[1, 2],\n",
        "                 [0, 3]])\n",
        "print(np.dot(arr1, arr2))"
      ],
      "metadata": {
        "colab": {
          "base_uri": "https://localhost:8080/"
        },
        "id": "yYK8LejA-N-s",
        "outputId": "13613db7-e5dd-4aec-a1a8-b420a1e05ba4"
      },
      "execution_count": 49,
      "outputs": [
        {
          "output_type": "stream",
          "name": "stdout",
          "text": [
            "[[ 1  8]\n",
            " [ 4 23]]\n"
          ]
        }
      ]
    },
    {
      "cell_type": "code",
      "source": [
        "# 절댓값\n",
        "arr1 = np.array([[1, -2],\n",
        "                 [-4, 5]])\n",
        "print(np.abs(arr1))"
      ],
      "metadata": {
        "colab": {
          "base_uri": "https://localhost:8080/"
        },
        "id": "r1VVQutZ-OA8",
        "outputId": "90b76b2a-5fe9-4a0a-fbd9-638a35503386"
      },
      "execution_count": 50,
      "outputs": [
        {
          "output_type": "stream",
          "name": "stdout",
          "text": [
            "[[1 2]\n",
            " [4 5]]\n"
          ]
        }
      ]
    },
    {
      "cell_type": "code",
      "source": [
        "# 올림\n",
        "arr1 = np.array([[1.932, -2.339],\n",
        "                 [-4.145, 5.206]])\n",
        "print(np.ceil(arr1)) \n",
        "\n",
        "# 내림\n",
        "print(np.floor(arr1)) \n",
        "\n",
        "# 반올림\n",
        "print(np.round(arr1))\n",
        "\n",
        "# 버림\n",
        "print(np.trunc(arr1))\n",
        "\n",
        "# ceil이 올림, floor 내림, round 반올림, trunc 버림"
      ],
      "metadata": {
        "colab": {
          "base_uri": "https://localhost:8080/"
        },
        "id": "9BGhudTD-ODp",
        "outputId": "8c2641ca-5237-4249-90b7-b57362c14248"
      },
      "execution_count": 51,
      "outputs": [
        {
          "output_type": "stream",
          "name": "stdout",
          "text": [
            "[[ 2. -2.]\n",
            " [-4.  6.]]\n",
            "[[ 1. -3.]\n",
            " [-5.  5.]]\n",
            "[[ 2. -2.]\n",
            " [-4.  5.]]\n",
            "[[ 1. -2.]\n",
            " [-4.  5.]]\n"
          ]
        }
      ]
    },
    {
      "cell_type": "markdown",
      "source": [
        "## 3-3. 배열의 연산3: min/max/sum/mean/std/cumsum/median"
      ],
      "metadata": {
        "id": "GcO1Ppg8-OG8"
      }
    },
    {
      "cell_type": "code",
      "source": [
        "arr = np.array([[1, 2, 3],\n",
        "                [0, 1, 4]])"
      ],
      "metadata": {
        "id": "zOw3WN1K-OKu"
      },
      "execution_count": 52,
      "outputs": []
    },
    {
      "cell_type": "code",
      "source": [
        "# min()\n",
        "print(np.min(arr))\n",
        "print(arr.min())\n",
        "print(arr.min(axis=0)) # aixs0(열)에서 각각 작은 숫자 출력\n",
        "print(arr.min(axis=1)) # aixs1(행)에서 각각 작은 숫자 출력"
      ],
      "metadata": {
        "colab": {
          "base_uri": "https://localhost:8080/"
        },
        "id": "4ahCLk1J-OOT",
        "outputId": "d9605fbc-4b18-4043-a45b-8df5dc89322c"
      },
      "execution_count": 53,
      "outputs": [
        {
          "output_type": "stream",
          "name": "stdout",
          "text": [
            "0\n",
            "0\n",
            "[0 1 3]\n",
            "[1 0]\n"
          ]
        }
      ]
    },
    {
      "cell_type": "code",
      "source": [
        "# max()\n",
        "print(np.max(arr))\n",
        "print(arr.max(axis=0))\n",
        "print(arr.max(axis=1))"
      ],
      "metadata": {
        "colab": {
          "base_uri": "https://localhost:8080/"
        },
        "id": "2a4hD_rv-Od6",
        "outputId": "06c9a558-759f-43f5-c136-8eae7b438f36"
      },
      "execution_count": 54,
      "outputs": [
        {
          "output_type": "stream",
          "name": "stdout",
          "text": [
            "4\n",
            "[1 2 4]\n",
            "[3 4]\n"
          ]
        }
      ]
    },
    {
      "cell_type": "code",
      "source": [
        "# sum()\n",
        "print(np.sum(arr))\n",
        "print(arr.sum(axis=0))\n",
        "\n",
        "# mean()\n",
        "print(np.mean(arr))\n",
        "print(arr.mean(axis=0))\n",
        "print(arr.mean(axis=1))"
      ],
      "metadata": {
        "colab": {
          "base_uri": "https://localhost:8080/"
        },
        "id": "LWDkTFbk-Ogi",
        "outputId": "c23a53cb-7017-4b33-fdf5-825d0536e917"
      },
      "execution_count": 55,
      "outputs": [
        {
          "output_type": "stream",
          "name": "stdout",
          "text": [
            "11\n",
            "[1 3 7]\n",
            "1.8333333333333333\n",
            "[0.5 1.5 3.5]\n",
            "[2.         1.66666667]\n"
          ]
        }
      ]
    },
    {
      "cell_type": "code",
      "source": [
        "# std()\n",
        "print(np.std(arr))\n",
        "print(arr.std(axis=0))\n",
        "\n",
        "# cumsum() 누적합 계산\n",
        "print(np.cumsum(arr))\n",
        "print(arr.cumsum())\n",
        "print(arr.cumsum(axis=0))\n",
        "print(arr.cumsum(axis=1))"
      ],
      "metadata": {
        "colab": {
          "base_uri": "https://localhost:8080/"
        },
        "id": "I-vuhoX9-OjH",
        "outputId": "530793c9-8650-47ce-c791-e041676b75bc"
      },
      "execution_count": 56,
      "outputs": [
        {
          "output_type": "stream",
          "name": "stdout",
          "text": [
            "1.343709624716425\n",
            "[0.5 0.5 0.5]\n",
            "[ 1  3  6  6  7 11]\n",
            "[ 1  3  6  6  7 11]\n",
            "[[1 2 3]\n",
            " [1 3 7]]\n",
            "[[1 3 6]\n",
            " [0 1 5]]\n"
          ]
        }
      ]
    },
    {
      "cell_type": "code",
      "source": [
        "arr = np.array([[1, 2, 3],\n",
        "                [0, 1, 4],\n",
        "                [1, 5, 2]])"
      ],
      "metadata": {
        "id": "mA-6uv_FELJ-"
      },
      "execution_count": 57,
      "outputs": []
    },
    {
      "cell_type": "code",
      "source": [
        "# median()\n",
        "print(np.median(arr))\n",
        "print(np.median(arr, axis=0))\n",
        "print(np.median(arr, axis=1))"
      ],
      "metadata": {
        "colab": {
          "base_uri": "https://localhost:8080/"
        },
        "id": "L5510vgV-Olm",
        "outputId": "59fb3c9a-efdb-4d35-aec1-9d65abc8d204"
      },
      "execution_count": 58,
      "outputs": [
        {
          "output_type": "stream",
          "name": "stdout",
          "text": [
            "2.0\n",
            "[1. 2. 3.]\n",
            "[2. 1. 2.]\n"
          ]
        }
      ]
    },
    {
      "cell_type": "markdown",
      "source": [
        "## 3-4. 배열의 연산4: 비교연산/삼각함수"
      ],
      "metadata": {
        "id": "5TQkfWA0-On5"
      }
    },
    {
      "cell_type": "code",
      "source": [
        "# 비교연산, 값이 불리언으로 출력됨\n",
        "arr1 = np.array([[1, 2, 3],\n",
        "                  [4, 5, 6]])\n",
        "arr2 = np.array([[1, 0, 3],\n",
        "                  [4, -2, 9]])\n",
        "print(arr1 == arr2) # 동일하면 T 다르면 F로 출력\n",
        "print(arr1 > arr2)\n",
        "print(arr1 <= arr2)\n",
        "\n",
        "print(np.array_equal(arr1, arr2)) # arr1, arr2 가 달라서 F임."
      ],
      "metadata": {
        "colab": {
          "base_uri": "https://localhost:8080/"
        },
        "id": "WkP1gHBi-Oqy",
        "outputId": "bb7ca0c2-3006-44b6-f39a-c08a761c4656"
      },
      "execution_count": 59,
      "outputs": [
        {
          "output_type": "stream",
          "name": "stdout",
          "text": [
            "[[ True False  True]\n",
            " [ True False False]]\n",
            "[[False  True False]\n",
            " [False  True False]]\n",
            "[[ True False  True]\n",
            " [ True False  True]]\n",
            "False\n"
          ]
        }
      ]
    },
    {
      "cell_type": "code",
      "source": [
        "# 삼각 함수\n",
        "arr = np.array([[1, 2, 3],\n",
        "                [4, 5, 6]])\n",
        "# sin()\n",
        "print(np.sin(arr))\n",
        "# cos()\n",
        "print(np.cos(arr))\n",
        "# tan()\n",
        "print(np.tan(arr))\n",
        "# pi\n",
        "print(np.pi)"
      ],
      "metadata": {
        "colab": {
          "base_uri": "https://localhost:8080/"
        },
        "id": "GEcez6Ip-OtG",
        "outputId": "406e5e3a-d132-4e8b-ff19-875444ad6f12"
      },
      "execution_count": 60,
      "outputs": [
        {
          "output_type": "stream",
          "name": "stdout",
          "text": [
            "[[ 0.84147098  0.90929743  0.14112001]\n",
            " [-0.7568025  -0.95892427 -0.2794155 ]]\n",
            "[[ 0.54030231 -0.41614684 -0.9899925 ]\n",
            " [-0.65364362  0.28366219  0.96017029]]\n",
            "[[ 1.55740772 -2.18503986 -0.14254654]\n",
            " [ 1.15782128 -3.38051501 -0.29100619]]\n",
            "3.141592653589793\n"
          ]
        }
      ]
    },
    {
      "cell_type": "markdown",
      "source": [
        "## 3-5. 브로드캐스팅<br>\n",
        "연산을 할 배열의 쉐잎이 원래는 같아야함.<br> \n",
        "근데 쉐잎 맞추는게 넘 번거로움.<br> \n",
        "So 브로드캐스팅을 쓰자."
      ],
      "metadata": {
        "id": "p6BMWfPy-Ovx"
      }
    },
    {
      "cell_type": "code",
      "source": [
        "arr1 = np.array([[0,0,0],\n",
        "                 [1,1,1],\n",
        "                 [2,2,2]])\n",
        "arr2 = np.array([[5,6,7]]) # 두번째 배열이 첫번째 배열에 맞춰서 확장됨 567\n",
        "                           #                                           567\n",
        "                           #                                           567\n",
        "print(arr1 + arr2)\n",
        "\n",
        "arr1 = np.array([[1, 1, 1]]) # 두번째 배열에 맞춰서 111/111/111로 바뀜\n",
        "arr2 = np.array([[0],        # 첫번째 배열에 맞춰서 000/111/222 로 바뀜\n",
        "                 [1],\n",
        "                 [2]])\n",
        "\n",
        "print(arr1 + arr2)"
      ],
      "metadata": {
        "colab": {
          "base_uri": "https://localhost:8080/"
        },
        "id": "tZIEPlSS-OzX",
        "outputId": "1588fdf6-b58b-4f29-9a7f-c687257f7399"
      },
      "execution_count": 61,
      "outputs": [
        {
          "output_type": "stream",
          "name": "stdout",
          "text": [
            "[[5 6 7]\n",
            " [6 7 8]\n",
            " [7 8 9]]\n",
            "[[1 1 1]\n",
            " [2 2 2]\n",
            " [3 3 3]]\n"
          ]
        }
      ]
    },
    {
      "cell_type": "markdown",
      "source": [
        "## 3-6. 벡터 연산의 장점"
      ],
      "metadata": {
        "id": "e2aeVFYs-O41"
      }
    },
    {
      "cell_type": "code",
      "source": [
        "import time"
      ],
      "metadata": {
        "id": "Rq-18srQ-O_0"
      },
      "execution_count": 62,
      "outputs": []
    },
    {
      "cell_type": "code",
      "source": [
        "arr = np.arange(99999999)"
      ],
      "metadata": {
        "id": "O7aLzUz8HFoN"
      },
      "execution_count": 63,
      "outputs": []
    },
    {
      "cell_type": "code",
      "source": [
        "# for\n",
        "sum = 0;\n",
        "before = time.time()\n",
        "for i in arr:\n",
        "  sum += i\n",
        "after = time.time()\n",
        "print(sum ,after - before, \"초\")"
      ],
      "metadata": {
        "colab": {
          "base_uri": "https://localhost:8080/"
        },
        "id": "1M8yJRZsHFrc",
        "outputId": "01fa1083-77ec-4142-ade5-78c7e2ea47b9"
      },
      "execution_count": 64,
      "outputs": [
        {
          "output_type": "stream",
          "name": "stdout",
          "text": [
            "4999999850000001 19.419424295425415 초\n"
          ]
        }
      ]
    },
    {
      "cell_type": "code",
      "source": [
        "# 벡터 연산\n",
        "before = time.time()\n",
        "sum = np.sum(arr)\n",
        "after = time.time()\n",
        "print(sum, after - before, \"초\")\n",
        "# 윗 연산과 비교해서 백터연산의 장점. 개빠르다."
      ],
      "metadata": {
        "colab": {
          "base_uri": "https://localhost:8080/"
        },
        "id": "Yp_-4TaPHFua",
        "outputId": "002dfb80-c883-4f58-c5c5-e0220dd55e5c"
      },
      "execution_count": 65,
      "outputs": [
        {
          "output_type": "stream",
          "name": "stdout",
          "text": [
            "4999999850000001 0.08975100517272949 초\n"
          ]
        }
      ]
    },
    {
      "cell_type": "code",
      "source": [
        "arr1 = np.arange(99999999)\n",
        "arr2 = np.arange(99999999)"
      ],
      "metadata": {
        "id": "KyTIHNT5HFxK"
      },
      "execution_count": 66,
      "outputs": []
    },
    {
      "cell_type": "code",
      "source": [
        "# for\n",
        "sum = 0\n",
        "before = time.time()\n",
        "for i, j in zip(arr1, arr2):\n",
        "  sum += i * j\n",
        "after = time.time()\n",
        "print(sum, after - before, \"초\")"
      ],
      "metadata": {
        "colab": {
          "base_uri": "https://localhost:8080/"
        },
        "id": "2H1RZffyHF0h",
        "outputId": "bd292bc8-f876-4863-be82-72b78f132ab4"
      },
      "execution_count": 67,
      "outputs": [
        {
          "output_type": "stream",
          "name": "stderr",
          "text": [
            "/usr/local/lib/python3.7/dist-packages/ipykernel_launcher.py:5: RuntimeWarning: overflow encountered in long_scalars\n",
            "  \"\"\"\n"
          ]
        },
        {
          "output_type": "stream",
          "name": "stdout",
          "text": [
            "652921401952298879 30.1241512298584 초\n"
          ]
        }
      ]
    },
    {
      "cell_type": "code",
      "source": [
        "# 벡터 연산\n",
        "before = time.time()\n",
        "sum = np.dot(arr1, arr2)\n",
        "after = time.time()\n",
        "print(sum, after - before, \"초\")\n",
        "# 역시 벡터연산이 훠얼씬 빠르다!"
      ],
      "metadata": {
        "colab": {
          "base_uri": "https://localhost:8080/"
        },
        "id": "yFoPiXMEIJnR",
        "outputId": "b124d3e7-9633-4d8c-bbf3-7f658c4fc6a0"
      },
      "execution_count": 68,
      "outputs": [
        {
          "output_type": "stream",
          "name": "stdout",
          "text": [
            "652921401952298879 0.16481757164001465 초\n"
          ]
        }
      ]
    },
    {
      "cell_type": "markdown",
      "source": [
        "# Section 4. N차원 배열 정렬\n",
        "## 4-1. N차원 배열 정렬"
      ],
      "metadata": {
        "id": "j1P5Qerb94PE"
      }
    },
    {
      "cell_type": "code",
      "source": [
        "arr = np.random.randint(10, size=10) # 총 10개 수 랜덤으로.\n",
        "print(arr) "
      ],
      "metadata": {
        "colab": {
          "base_uri": "https://localhost:8080/"
        },
        "id": "Mbk8QdyP-HL8",
        "outputId": "cd9bd39e-b460-426f-cc04-370f896ced61"
      },
      "execution_count": 70,
      "outputs": [
        {
          "output_type": "stream",
          "name": "stdout",
          "text": [
            "[5 2 4 2 4 7 7 9 1 7]\n"
          ]
        }
      ]
    },
    {
      "cell_type": "code",
      "source": [
        "print(np.sort(arr)) # 오름차순 정렬\n",
        "print(np.sort(arr)[::-1]) # 내림차순 정렬"
      ],
      "metadata": {
        "colab": {
          "base_uri": "https://localhost:8080/"
        },
        "id": "sL72szBO-HYM",
        "outputId": "216d0362-b729-49d6-ac7d-b90f2ce75ede"
      },
      "execution_count": 73,
      "outputs": [
        {
          "output_type": "stream",
          "name": "stdout",
          "text": [
            "[1 2 2 4 4 5 7 7 7 9]\n",
            "[9 7 7 7 5 4 4 2 2 1]\n"
          ]
        }
      ]
    },
    {
      "cell_type": "code",
      "source": [
        "arr = np.sort(arr)\n",
        "print(arr) # 값 유지하는 방법1\n",
        "arr.sort()\n",
        "print(arr) # 값 유지하는 방법2"
      ],
      "metadata": {
        "colab": {
          "base_uri": "https://localhost:8080/"
        },
        "id": "9I1NiwUt-IIc",
        "outputId": "8a16150c-0f21-4061-a9df-fd844afa948e"
      },
      "execution_count": 77,
      "outputs": [
        {
          "output_type": "stream",
          "name": "stdout",
          "text": [
            "[1 2 2 4 4 5 7 7 7 9]\n",
            "[1 2 2 4 4 5 7 7 7 9]\n"
          ]
        }
      ]
    },
    {
      "cell_type": "markdown",
      "source": [
        "## 4-2. 2차원 배열의 정렬"
      ],
      "metadata": {
        "id": "PMhGkDTD-INR"
      }
    },
    {
      "cell_type": "code",
      "source": [
        "arr = np.random.randint(15, size=(3, 4)) # 사이즈로 2차원 배열\n",
        "print(arr)"
      ],
      "metadata": {
        "colab": {
          "base_uri": "https://localhost:8080/"
        },
        "id": "-kPnT7oz-JJz",
        "outputId": "ac224a8e-09d8-45f0-b877-9e15078f1129"
      },
      "execution_count": 79,
      "outputs": [
        {
          "output_type": "stream",
          "name": "stdout",
          "text": [
            "[[14  0  6 13]\n",
            " [ 9  9  7 13]\n",
            " [ 6  9  1  0]]\n"
          ]
        }
      ]
    },
    {
      "cell_type": "code",
      "source": [
        "print(np.sort(arr)) # axis=1(행)을 기준으로 오름차순 정렬\n",
        "print(np.sort(arr, axis=0)) # 열 기준으로 오름차순\n",
        "print(np.sort(arr, axis=None)) # 2차원 배열을 1차원으로 변경후 오름차순"
      ],
      "metadata": {
        "colab": {
          "base_uri": "https://localhost:8080/"
        },
        "id": "MlLhBl44-JNU",
        "outputId": "5340a67a-ce68-4a4a-9a8e-eb4b41a0f691"
      },
      "execution_count": 83,
      "outputs": [
        {
          "output_type": "stream",
          "name": "stdout",
          "text": [
            "[[ 0  6 13 14]\n",
            " [ 7  9  9 13]\n",
            " [ 0  1  6  9]]\n",
            "[[ 6  0  1  0]\n",
            " [ 9  9  6 13]\n",
            " [14  9  7 13]]\n",
            "[ 0  0  1  6  6  7  9  9  9 13 13 14]\n"
          ]
        }
      ]
    },
    {
      "cell_type": "code",
      "source": [
        "# argsort()\n",
        "print(arr) # 원본\n",
        "print(np.sort(arr, axis=1))\n",
        "print(np.argsort(arr, axis=1)) # 정렬된 원소의 '원래 배열 행에서의 인덱스'를 나타냄.\n",
        "print(np.sort(arr, axis=0))\n",
        "print(np.argsort(arr, axis=0)) # 정렬된 원소의 '원래 배열 열에서의 인덱스'를 나타냄."
      ],
      "metadata": {
        "colab": {
          "base_uri": "https://localhost:8080/"
        },
        "id": "c9ycBJsR-JSN",
        "outputId": "e0a76889-7ba1-47df-b3ba-89e1bfc9396b"
      },
      "execution_count": 87,
      "outputs": [
        {
          "output_type": "stream",
          "name": "stdout",
          "text": [
            "[[14  0  6 13]\n",
            " [ 9  9  7 13]\n",
            " [ 6  9  1  0]]\n",
            "[[ 0  6 13 14]\n",
            " [ 7  9  9 13]\n",
            " [ 0  1  6  9]]\n",
            "[[1 2 3 0]\n",
            " [2 0 1 3]\n",
            " [3 2 0 1]]\n",
            "[[ 6  0  1  0]\n",
            " [ 9  9  6 13]\n",
            " [14  9  7 13]]\n",
            "[[2 0 2 2]\n",
            " [1 1 0 0]\n",
            " [0 2 1 1]]\n"
          ]
        }
      ]
    },
    {
      "cell_type": "markdown",
      "source": [
        "# Section 5. N차원 배열의 형태 변경\n",
        "## 5-1. 배열의 형태 변경1: reshape()"
      ],
      "metadata": {
        "id": "IglbiRtN-JVR"
      }
    },
    {
      "cell_type": "code",
      "source": [
        "arr = np.arange(12) # 12미만 범위 1차원 배열\n",
        "print(arr, arr.ndim)\n",
        "\n",
        "arr = arr.reshape((3, 4)) # 3x4 배열로 reshape, 차원도 2차원으로 바뀜\n",
        "print(arr, arr.ndim)\n",
        "\n",
        "arr = arr.reshape((2, 3, 2)) # 2x3x2 배열로 reshape, 차원도 2차원으로\n",
        "print(arr, arr.ndim)\n",
        "\n",
        "arr = arr.reshape((2, 2, 1, 3)) #4차원으로 reshape\n",
        "print(arr, arr.ndim) "
      ],
      "metadata": {
        "colab": {
          "base_uri": "https://localhost:8080/"
        },
        "id": "yYF7CLN2-JYt",
        "outputId": "a9a697bf-013b-4039-d242-08f8468c5497"
      },
      "execution_count": 95,
      "outputs": [
        {
          "output_type": "stream",
          "name": "stdout",
          "text": [
            "[ 0  1  2  3  4  5  6  7  8  9 10 11] 1\n",
            "[[ 0  1  2  3]\n",
            " [ 4  5  6  7]\n",
            " [ 8  9 10 11]] 2\n",
            "[[[ 0  1]\n",
            "  [ 2  3]\n",
            "  [ 4  5]]\n",
            "\n",
            " [[ 6  7]\n",
            "  [ 8  9]\n",
            "  [10 11]]] 3\n",
            "[[[[ 0  1  2]]\n",
            "\n",
            "  [[ 3  4  5]]]\n",
            "\n",
            "\n",
            " [[[ 6  7  8]]\n",
            "\n",
            "  [[ 9 10 11]]]] 4\n"
          ]
        }
      ]
    },
    {
      "cell_type": "markdown",
      "source": [
        "## 차원의 저주: 차원이 커지면서 데이터들 사이의 거리가 기하급수적으로 커짐"
      ],
      "metadata": {
        "id": "USQuR1hTBwEk"
      }
    },
    {
      "cell_type": "markdown",
      "source": [
        "## 5-2. 배열의 형태 변경2: resize(), ravel()"
      ],
      "metadata": {
        "id": "MiR3HmPCBwIN"
      }
    },
    {
      "cell_type": "code",
      "source": [
        "arr = np.arange(12)\n",
        "print(arr)"
      ],
      "metadata": {
        "colab": {
          "base_uri": "https://localhost:8080/"
        },
        "id": "r3vvGO01BwRf",
        "outputId": "0eb96b28-8be1-4e3d-e676-ae1b9f82747f"
      },
      "execution_count": 96,
      "outputs": [
        {
          "output_type": "stream",
          "name": "stdout",
          "text": [
            "[ 0  1  2  3  4  5  6  7  8  9 10 11]\n"
          ]
        }
      ]
    },
    {
      "cell_type": "code",
      "source": [
        "arr.resize(3, 4) # resize는 원본데이터를 변경시킨다는 점이 reshape과 다름\n",
        "print(arr)\n",
        "\n",
        "arr = arr.ravel() # 1차원 배열로 변경해줌\n",
        "print(arr)"
      ],
      "metadata": {
        "colab": {
          "base_uri": "https://localhost:8080/"
        },
        "id": "tJ0NwGsoBwXt",
        "outputId": "fda97971-4e84-4524-9500-319bc819cdae"
      },
      "execution_count": 98,
      "outputs": [
        {
          "output_type": "stream",
          "name": "stdout",
          "text": [
            "[[ 0  1  2  3]\n",
            " [ 4  5  6  7]\n",
            " [ 8  9 10 11]]\n",
            "[ 0  1  2  3  4  5  6  7  8  9 10 11]\n"
          ]
        }
      ]
    },
    {
      "cell_type": "code",
      "source": [
        "arr = np.arange(1, 13)\n",
        "print(arr)\n",
        "\n",
        "arr = arr.reshape(3, -1) # 열 -1은 행에 맞춰서 자동으로 쉐잎 만들어주는 역할\n",
        "print(arr)\n",
        "\n",
        "arr = arr.reshape(3, 2, -1)\n",
        "print(arr)"
      ],
      "metadata": {
        "colab": {
          "base_uri": "https://localhost:8080/"
        },
        "id": "Jb_ehgzJBwgU",
        "outputId": "c579c8db-ada6-48de-da2f-f16eb7a0d2ca"
      },
      "execution_count": 100,
      "outputs": [
        {
          "output_type": "stream",
          "name": "stdout",
          "text": [
            "[ 1  2  3  4  5  6  7  8  9 10 11 12]\n",
            "[[ 1  2  3  4]\n",
            " [ 5  6  7  8]\n",
            " [ 9 10 11 12]]\n",
            "[[[ 1  2]\n",
            "  [ 3  4]]\n",
            "\n",
            " [[ 5  6]\n",
            "  [ 7  8]]\n",
            "\n",
            " [[ 9 10]\n",
            "  [11 12]]]\n"
          ]
        }
      ]
    },
    {
      "cell_type": "markdown",
      "source": [
        "## 5-3. 배열의 형태 변경3: expand_dims(), squeeze()"
      ],
      "metadata": {
        "id": "5M6-PJ5g-Jb1"
      }
    },
    {
      "cell_type": "code",
      "source": [
        "# expand_dims()\n",
        "arr = np.array([1, 2])\n",
        "print(arr, arr.shape)\n",
        "arr = np.expand_dims(arr, axis=0)\n",
        "print(arr, arr.shape)"
      ],
      "metadata": {
        "colab": {
          "base_uri": "https://localhost:8080/"
        },
        "id": "Q74S7xLT-Jey",
        "outputId": "de7139c1-1ec0-4002-e712-d458683bcf15"
      },
      "execution_count": 102,
      "outputs": [
        {
          "output_type": "stream",
          "name": "stdout",
          "text": [
            "[1 2] (2,)\n",
            "[[1 2]] (1, 2)\n"
          ]
        }
      ]
    },
    {
      "cell_type": "code",
      "source": [
        "# squeeze() 차원축소\n",
        "arr = np.array([[1, 2]])\n",
        "print(arr, arr.shape, arr.ndim)\n",
        "arr = np.squeeze(arr, axis=0)\n",
        "print(arr, arr.shape, arr.ndim)\n",
        "\n",
        "arr = np.array([[[1],\n",
        "                 [2],\n",
        "                 [3]]])\n",
        "print(arr, arr.shape, arr.ndim)\n",
        "arr = np.squeeze(arr, axis=0)\n",
        "print(arr, arr.shape, arr.ndim)\n",
        "\n",
        "arr = np.array([[[1, 2, 3]]])\n",
        "print(arr, arr.shape, arr.ndim)\n",
        "arr = np.squeeze(arr, axis=1)\n",
        "print(arr, arr.shape, arr.ndim)"
      ],
      "metadata": {
        "colab": {
          "base_uri": "https://localhost:8080/"
        },
        "id": "SNq9-NbX-IWL",
        "outputId": "3e40e0ff-9d1f-4e4b-8dda-755eb1922be8"
      },
      "execution_count": 105,
      "outputs": [
        {
          "output_type": "stream",
          "name": "stdout",
          "text": [
            "[[1 2]] (1, 2) 2\n",
            "[1 2] (2,) 1\n",
            "[[[1]\n",
            "  [2]\n",
            "  [3]]] (1, 3, 1) 3\n",
            "[[1]\n",
            " [2]\n",
            " [3]] (3, 1) 2\n",
            "[[[1 2 3]]] (1, 1, 3) 3\n",
            "[[1 2 3]] (1, 3) 2\n"
          ]
        }
      ]
    },
    {
      "cell_type": "markdown",
      "source": [
        "## 5-4. 전치행렬 \n",
        "### i행 j열 값을 j행 i열 값과 바꿈."
      ],
      "metadata": {
        "id": "nhDruP0--IZ-"
      }
    },
    {
      "cell_type": "code",
      "source": [
        "arr = np.array([[1, 2],\n",
        "                [3, 4]])\n",
        "print(arr.T)\n",
        "\n",
        "arr = np.array([[1, 2, 3],\n",
        "                [4, 5, 6],\n",
        "                [7, 8, 9]])\n",
        "print(arr.T)"
      ],
      "metadata": {
        "colab": {
          "base_uri": "https://localhost:8080/"
        },
        "id": "Tt1KxWWt-IeN",
        "outputId": "fe151b47-e8a4-40ff-e71b-8428a63ec141"
      },
      "execution_count": 107,
      "outputs": [
        {
          "output_type": "stream",
          "name": "stdout",
          "text": [
            "[[1 3]\n",
            " [2 4]]\n",
            "[[1 4 7]\n",
            " [2 5 8]\n",
            " [3 6 9]]\n"
          ]
        }
      ]
    },
    {
      "cell_type": "code",
      "source": [
        "arr = np.array([[1, 2],\n",
        "                [3, 4],\n",
        "                [5, 6]])\n",
        "print(arr.T)"
      ],
      "metadata": {
        "colab": {
          "base_uri": "https://localhost:8080/"
        },
        "id": "eTCrNp7CFDeG",
        "outputId": "fd991ab9-ad73-4fa1-8db9-d2b2b8a4e5e6"
      },
      "execution_count": 110,
      "outputs": [
        {
          "output_type": "stream",
          "name": "stdout",
          "text": [
            "[[1 3 5]\n",
            " [2 4 6]]\n"
          ]
        }
      ]
    },
    {
      "cell_type": "code",
      "source": [
        "arr = np.array([[1, 2],\n",
        "                [3, 4],\n",
        "                [5, 6]])\n",
        "print(arr.T)\n",
        "\n",
        "arr2 = np.full((3, 2), 2)\n",
        "print(arr.dot(arr2)) # dot 계산을 위해선 정방행열이여야함."
      ],
      "metadata": {
        "colab": {
          "base_uri": "https://localhost:8080/",
          "height": 245
        },
        "id": "qaGUIbH2FDjG",
        "outputId": "4444b3f7-e413-46a4-d6f6-14b66ec572dc"
      },
      "execution_count": 111,
      "outputs": [
        {
          "output_type": "stream",
          "name": "stdout",
          "text": [
            "[[1 3 5]\n",
            " [2 4 6]]\n"
          ]
        },
        {
          "output_type": "error",
          "ename": "ValueError",
          "evalue": "ignored",
          "traceback": [
            "\u001b[0;31m---------------------------------------------------------------------------\u001b[0m",
            "\u001b[0;31mValueError\u001b[0m                                Traceback (most recent call last)",
            "\u001b[0;32m<ipython-input-111-e5478a62b36a>\u001b[0m in \u001b[0;36m<module>\u001b[0;34m()\u001b[0m\n\u001b[1;32m      5\u001b[0m \u001b[0;34m\u001b[0m\u001b[0m\n\u001b[1;32m      6\u001b[0m \u001b[0marr2\u001b[0m \u001b[0;34m=\u001b[0m \u001b[0mnp\u001b[0m\u001b[0;34m.\u001b[0m\u001b[0mfull\u001b[0m\u001b[0;34m(\u001b[0m\u001b[0;34m(\u001b[0m\u001b[0;36m3\u001b[0m\u001b[0;34m,\u001b[0m \u001b[0;36m2\u001b[0m\u001b[0;34m)\u001b[0m\u001b[0;34m,\u001b[0m \u001b[0;36m2\u001b[0m\u001b[0;34m)\u001b[0m\u001b[0;34m\u001b[0m\u001b[0;34m\u001b[0m\u001b[0m\n\u001b[0;32m----> 7\u001b[0;31m \u001b[0mprint\u001b[0m\u001b[0;34m(\u001b[0m\u001b[0marr\u001b[0m\u001b[0;34m.\u001b[0m\u001b[0mdot\u001b[0m\u001b[0;34m(\u001b[0m\u001b[0marr2\u001b[0m\u001b[0;34m)\u001b[0m\u001b[0;34m)\u001b[0m \u001b[0;31m# dot 계산을 위해선 정방행열이여야함.\u001b[0m\u001b[0;34m\u001b[0m\u001b[0;34m\u001b[0m\u001b[0m\n\u001b[0m",
            "\u001b[0;31mValueError\u001b[0m: shapes (3,2) and (3,2) not aligned: 2 (dim 1) != 3 (dim 0)"
          ]
        }
      ]
    },
    {
      "cell_type": "markdown",
      "source": [
        "# Section 6. N차원 배열의 병합\n",
        "## 6-1. 배열에 원소 추가 및 삭제"
      ],
      "metadata": {
        "id": "R8BZXJSoFDm6"
      }
    },
    {
      "cell_type": "code",
      "source": [
        "# python list\n",
        "arr = [1, 2, 3, 4, 5, 6, 7, 8]\n",
        "arr.insert(2, 50) # 2번 인덱스에 50 삽입\n",
        "print(arr)\n",
        "\n",
        "# 1차원 배열\n",
        "arr = np.arange(1, 9)\n",
        "arr = np.insert(arr, 2, 50)\n",
        "print(arr)"
      ],
      "metadata": {
        "colab": {
          "base_uri": "https://localhost:8080/"
        },
        "id": "AdVjKuZSFDqW",
        "outputId": "9780ed2e-298d-43da-9877-15ad446bba15"
      },
      "execution_count": 113,
      "outputs": [
        {
          "output_type": "stream",
          "name": "stdout",
          "text": [
            "[1, 2, 50, 3, 4, 5, 6, 7, 8]\n",
            "[ 1  2 50  3  4  5  6  7  8]\n"
          ]
        }
      ]
    },
    {
      "cell_type": "code",
      "source": [
        "# 2차원 배열\n",
        "arr = np.arange(1, 13).reshape(3, 4)\n",
        "arr = np.insert(arr, 2, 50, axis=0) # aixs=0 로우 기준으로 2인덱스에 50 삽입\n",
        "print(arr)"
      ],
      "metadata": {
        "colab": {
          "base_uri": "https://localhost:8080/"
        },
        "id": "PgI5hrrMFDtG",
        "outputId": "000e2122-7e3b-4d62-b124-d4bd5398403f"
      },
      "execution_count": 114,
      "outputs": [
        {
          "output_type": "stream",
          "name": "stdout",
          "text": [
            "[[ 1  2  3  4]\n",
            " [ 5  6  7  8]\n",
            " [50 50 50 50]\n",
            " [ 9 10 11 12]]\n"
          ]
        }
      ]
    },
    {
      "cell_type": "code",
      "source": [
        "# 2차원 배열\n",
        "arr = np.arange(1, 13).reshape(3, 4)\n",
        "arr = np.insert(arr, 2, 50, axis=1) # aixs=1 컬럼 기준으로 2인덱스에 50 삽입\n",
        "print(arr)"
      ],
      "metadata": {
        "colab": {
          "base_uri": "https://localhost:8080/"
        },
        "id": "PH79avKhFDwH",
        "outputId": "395e717b-2640-4d62-f42d-5787b541a8d4"
      },
      "execution_count": 116,
      "outputs": [
        {
          "output_type": "stream",
          "name": "stdout",
          "text": [
            "[[ 1  2 50  3  4]\n",
            " [ 5  6 50  7  8]\n",
            " [ 9 10 50 11 12]]\n"
          ]
        }
      ]
    },
    {
      "cell_type": "code",
      "source": [
        "# 2차원 배열\n",
        "arr = np.arange(1, 13).reshape(3, 4)\n",
        "arr = np.insert(arr, 2, 50) # aixs값 안주면 1차원 배열의 2인덱스에 50 삽입\n",
        "print(arr)"
      ],
      "metadata": {
        "colab": {
          "base_uri": "https://localhost:8080/"
        },
        "id": "3ozaTIsHFDzl",
        "outputId": "7e12ac2b-90af-4fa5-8905-53dd1463c04d"
      },
      "execution_count": 117,
      "outputs": [
        {
          "output_type": "stream",
          "name": "stdout",
          "text": [
            "[ 1  2 50  3  4  5  6  7  8  9 10 11 12]\n"
          ]
        }
      ]
    },
    {
      "cell_type": "code",
      "source": [
        "# delete()\n",
        "arr = np.arange(1, 13).reshape(3, 4)\n",
        "print(arr)\n",
        "\n",
        "arr = np.delete(arr, 2, axis=0) # row 기준\n",
        "print(arr)"
      ],
      "metadata": {
        "colab": {
          "base_uri": "https://localhost:8080/"
        },
        "id": "HuEnVTXNFD2j",
        "outputId": "cba71e09-0247-4559-c83f-c9568e1c6818"
      },
      "execution_count": 118,
      "outputs": [
        {
          "output_type": "stream",
          "name": "stdout",
          "text": [
            "[[ 1  2  3  4]\n",
            " [ 5  6  7  8]\n",
            " [ 9 10 11 12]]\n",
            "[[1 2 3 4]\n",
            " [5 6 7 8]]\n"
          ]
        }
      ]
    },
    {
      "cell_type": "code",
      "source": [
        "# delete()\n",
        "arr = np.arange(1, 13).reshape(3, 4)\n",
        "print(arr)\n",
        "\n",
        "arr = np.delete(arr, 2, axis=1) # 칼럼 기준\n",
        "print(arr)"
      ],
      "metadata": {
        "colab": {
          "base_uri": "https://localhost:8080/"
        },
        "id": "lUF3T5YtFD5t",
        "outputId": "9396ee42-69da-4e79-d8e7-ee9deb480b0b"
      },
      "execution_count": 119,
      "outputs": [
        {
          "output_type": "stream",
          "name": "stdout",
          "text": [
            "[[ 1  2  3  4]\n",
            " [ 5  6  7  8]\n",
            " [ 9 10 11 12]]\n",
            "[[ 1  2  4]\n",
            " [ 5  6  8]\n",
            " [ 9 10 12]]\n"
          ]
        }
      ]
    },
    {
      "cell_type": "code",
      "source": [
        "# delete()\n",
        "arr = np.arange(1, 13).reshape(3, 4)\n",
        "print(arr)\n",
        "\n",
        "arr = np.delete(arr, 2) # 1차원으로 변경후 인덱스2 삭제\n",
        "print(arr)"
      ],
      "metadata": {
        "colab": {
          "base_uri": "https://localhost:8080/"
        },
        "id": "6iNz8EOVFD9H",
        "outputId": "e2aca9dd-d3c7-49bc-9bf7-48e3011c6250"
      },
      "execution_count": 120,
      "outputs": [
        {
          "output_type": "stream",
          "name": "stdout",
          "text": [
            "[[ 1  2  3  4]\n",
            " [ 5  6  7  8]\n",
            " [ 9 10 11 12]]\n",
            "[ 1  2  4  5  6  7  8  9 10 11 12]\n"
          ]
        }
      ]
    },
    {
      "cell_type": "markdown",
      "source": [
        "## 6-2. N차원 배열의 병합"
      ],
      "metadata": {
        "id": "NsX9RRVvIjGR"
      }
    },
    {
      "cell_type": "code",
      "source": [
        "# append() 배열 마지막 부분에 배열 또 추가\n",
        "arr1 = np.arange(1, 13).reshape(3, 4)\n",
        "arr2 = np.arange(13, 25).reshape(3, 4)\n",
        "\n",
        "print(arr1)\n",
        "print(arr2, end=\"\\n\\n\")\n",
        "\n",
        "# axis=0\n",
        "arr3 = np.append(arr1, arr2, axis=0) # axis0 로우 기준 배열뒤에 배열 병합됨\n",
        "print(arr3, end=\"\\n\\n\")"
      ],
      "metadata": {
        "colab": {
          "base_uri": "https://localhost:8080/"
        },
        "id": "LznFtCNJIjOc",
        "outputId": "f96ffcd3-42b4-4a49-d358-b6b29b330ccd"
      },
      "execution_count": 121,
      "outputs": [
        {
          "output_type": "stream",
          "name": "stdout",
          "text": [
            "[[ 1  2  3  4]\n",
            " [ 5  6  7  8]\n",
            " [ 9 10 11 12]]\n",
            "[[13 14 15 16]\n",
            " [17 18 19 20]\n",
            " [21 22 23 24]]\n",
            "\n",
            "[[ 1  2  3  4]\n",
            " [ 5  6  7  8]\n",
            " [ 9 10 11 12]\n",
            " [13 14 15 16]\n",
            " [17 18 19 20]\n",
            " [21 22 23 24]]\n",
            "\n"
          ]
        }
      ]
    },
    {
      "cell_type": "code",
      "source": [
        "# vstack(), hstack() 각각 axis=0(행)기준, axis=1(열)을 기준으로 병합함.\n",
        "# 2차원일 경우 : (행,열) 행0, 열1\n",
        "# 3차원일 경우 : (깊이,행,열)  깊이0, 행1, 열2\n",
        "arr1 = np.arange(1, 7).reshape(2, 3)\n",
        "arr2 = np.arange(7, 13).reshape(2, 3)\n",
        "\n",
        "arr3 = np.vstack((arr1, arr2)) # 행 기준으로 병합\n",
        "print(arr3)\n",
        "\n",
        "arr3 = np.hstack((arr1, arr2)) # 열 기준으로 병합\n",
        "print(arr3)"
      ],
      "metadata": {
        "colab": {
          "base_uri": "https://localhost:8080/"
        },
        "id": "F-WZZ2TGIjSY",
        "outputId": "7353b763-4fff-4b6b-f9c3-b1459833ae93"
      },
      "execution_count": 124,
      "outputs": [
        {
          "output_type": "stream",
          "name": "stdout",
          "text": [
            "[[ 1  2  3]\n",
            " [ 4  5  6]\n",
            " [ 7  8  9]\n",
            " [10 11 12]]\n",
            "[[ 1  2  3  7  8  9]\n",
            " [ 4  5  6 10 11 12]]\n"
          ]
        }
      ]
    },
    {
      "cell_type": "code",
      "source": [
        "# concatenate()\n",
        "arr1 = np.arange(1, 7).reshape(2, 3)\n",
        "arr2 = np.arange(7, 13).reshape(2, 3)\n",
        "\n",
        "arr3 = np.concatenate([arr1, arr2], axis=0) # 행, x축 기준으로 병합\n",
        "print(arr3)"
      ],
      "metadata": {
        "colab": {
          "base_uri": "https://localhost:8080/"
        },
        "id": "2hWrWW0lIjYN",
        "outputId": "b2587fe8-59f9-46e0-85ca-9c6422ca6d85"
      },
      "execution_count": 125,
      "outputs": [
        {
          "output_type": "stream",
          "name": "stdout",
          "text": [
            "[[ 1  2  3]\n",
            " [ 4  5  6]\n",
            " [ 7  8  9]\n",
            " [10 11 12]]\n"
          ]
        }
      ]
    },
    {
      "cell_type": "markdown",
      "source": [
        "## 6-3. 배열 분할"
      ],
      "metadata": {
        "id": "hVL7aMv_Iji5"
      }
    },
    {
      "cell_type": "code",
      "source": [
        "# 2차원 배열\n",
        "arr = np.arange(1, 13).reshape(3, 4)\n",
        "print(arr)\n",
        "\n",
        "# vsplit() => axis=0 기준으로 분할\n",
        "arr_vsplit = np.vsplit(arr, 3) # 행이 3이기 땜에 반드시 홀수로 나눠줄것\n",
        "print(arr_vsplit)\n",
        "\n",
        "# hsplit() => axis=1 기준으로 분할\n",
        "arr_hsplit = np.hsplit(arr, 2) # 열이 4이기 땜에 짝수로 나눠줄것\n",
        "print(arr_hsplit)\n"
      ],
      "metadata": {
        "colab": {
          "base_uri": "https://localhost:8080/"
        },
        "id": "f1_Rv1-XIjbn",
        "outputId": "fdaa8383-80d2-432b-87df-a1bca41f0d9c"
      },
      "execution_count": 128,
      "outputs": [
        {
          "output_type": "stream",
          "name": "stdout",
          "text": [
            "[[ 1  2  3  4]\n",
            " [ 5  6  7  8]\n",
            " [ 9 10 11 12]]\n",
            "[array([[1, 2, 3, 4]]), array([[5, 6, 7, 8]]), array([[ 9, 10, 11, 12]])]\n",
            "[array([[ 1,  2],\n",
            "       [ 5,  6],\n",
            "       [ 9, 10]]), array([[ 3,  4],\n",
            "       [ 7,  8],\n",
            "       [11, 12]])]\n"
          ]
        }
      ]
    },
    {
      "cell_type": "code",
      "source": [
        "# 3차원 배열\n",
        "arr = np.random.randint(0, 10, (4, 6, 8))\n",
        "print(arr)"
      ],
      "metadata": {
        "colab": {
          "base_uri": "https://localhost:8080/"
        },
        "id": "rj0CUw_BIjel",
        "outputId": "9394574d-d9a1-4fd4-bcb5-df66235f4919"
      },
      "execution_count": 129,
      "outputs": [
        {
          "output_type": "stream",
          "name": "stdout",
          "text": [
            "[[[1 8 8 3 9 8 7 3]\n",
            "  [6 5 1 9 3 4 8 1]\n",
            "  [4 0 3 9 2 0 4 9]\n",
            "  [2 7 7 9 8 6 9 3]\n",
            "  [7 7 4 5 9 3 6 8]\n",
            "  [0 2 7 7 9 7 3 0]]\n",
            "\n",
            " [[8 7 7 1 1 3 0 8]\n",
            "  [6 4 5 6 2 5 7 8]\n",
            "  [4 4 7 7 4 9 0 2]\n",
            "  [0 7 1 7 9 8 4 0]\n",
            "  [1 9 8 2 3 1 2 7]\n",
            "  [2 6 0 9 2 6 6 2]]\n",
            "\n",
            " [[7 7 0 6 5 1 4 6]\n",
            "  [0 6 5 1 2 1 5 4]\n",
            "  [0 7 8 9 5 7 0 9]\n",
            "  [3 9 1 4 4 6 8 8]\n",
            "  [9 2 7 5 5 4 5 8]\n",
            "  [5 8 1 1 8 7 0 3]]\n",
            "\n",
            " [[4 2 0 3 5 1 2 4]\n",
            "  [3 0 6 0 7 2 8 3]\n",
            "  [0 8 4 2 9 0 3 8]\n",
            "  [1 4 3 3 6 7 3 5]\n",
            "  [3 2 4 4 0 3 3 8]\n",
            "  [3 5 6 7 5 1 7 0]]]\n"
          ]
        }
      ]
    },
    {
      "cell_type": "code",
      "source": [
        "arr_vsplit = np.vsplit(arr, 2)\n",
        "print(arr_vsplit)"
      ],
      "metadata": {
        "colab": {
          "base_uri": "https://localhost:8080/"
        },
        "id": "TNJqW-mUIjm2",
        "outputId": "1a45549e-c41b-4fe7-c588-555e0ffa678b"
      },
      "execution_count": 131,
      "outputs": [
        {
          "output_type": "stream",
          "name": "stdout",
          "text": [
            "[array([[[1, 8, 8, 3, 9, 8, 7, 3],\n",
            "        [6, 5, 1, 9, 3, 4, 8, 1],\n",
            "        [4, 0, 3, 9, 2, 0, 4, 9],\n",
            "        [2, 7, 7, 9, 8, 6, 9, 3],\n",
            "        [7, 7, 4, 5, 9, 3, 6, 8],\n",
            "        [0, 2, 7, 7, 9, 7, 3, 0]],\n",
            "\n",
            "       [[8, 7, 7, 1, 1, 3, 0, 8],\n",
            "        [6, 4, 5, 6, 2, 5, 7, 8],\n",
            "        [4, 4, 7, 7, 4, 9, 0, 2],\n",
            "        [0, 7, 1, 7, 9, 8, 4, 0],\n",
            "        [1, 9, 8, 2, 3, 1, 2, 7],\n",
            "        [2, 6, 0, 9, 2, 6, 6, 2]]]), array([[[7, 7, 0, 6, 5, 1, 4, 6],\n",
            "        [0, 6, 5, 1, 2, 1, 5, 4],\n",
            "        [0, 7, 8, 9, 5, 7, 0, 9],\n",
            "        [3, 9, 1, 4, 4, 6, 8, 8],\n",
            "        [9, 2, 7, 5, 5, 4, 5, 8],\n",
            "        [5, 8, 1, 1, 8, 7, 0, 3]],\n",
            "\n",
            "       [[4, 2, 0, 3, 5, 1, 2, 4],\n",
            "        [3, 0, 6, 0, 7, 2, 8, 3],\n",
            "        [0, 8, 4, 2, 9, 0, 3, 8],\n",
            "        [1, 4, 3, 3, 6, 7, 3, 5],\n",
            "        [3, 2, 4, 4, 0, 3, 3, 8],\n",
            "        [3, 5, 6, 7, 5, 1, 7, 0]]])]\n"
          ]
        }
      ]
    },
    {
      "cell_type": "code",
      "source": [
        "arr_hsplit = np.hsplit(arr, 2)\n",
        "print(arr_hsplit)"
      ],
      "metadata": {
        "colab": {
          "base_uri": "https://localhost:8080/"
        },
        "id": "jQ20eeFeIjqz",
        "outputId": "d025dc99-c55a-4b10-b194-e5d723493916"
      },
      "execution_count": 132,
      "outputs": [
        {
          "output_type": "stream",
          "name": "stdout",
          "text": [
            "[array([[[1, 8, 8, 3, 9, 8, 7, 3],\n",
            "        [6, 5, 1, 9, 3, 4, 8, 1],\n",
            "        [4, 0, 3, 9, 2, 0, 4, 9]],\n",
            "\n",
            "       [[8, 7, 7, 1, 1, 3, 0, 8],\n",
            "        [6, 4, 5, 6, 2, 5, 7, 8],\n",
            "        [4, 4, 7, 7, 4, 9, 0, 2]],\n",
            "\n",
            "       [[7, 7, 0, 6, 5, 1, 4, 6],\n",
            "        [0, 6, 5, 1, 2, 1, 5, 4],\n",
            "        [0, 7, 8, 9, 5, 7, 0, 9]],\n",
            "\n",
            "       [[4, 2, 0, 3, 5, 1, 2, 4],\n",
            "        [3, 0, 6, 0, 7, 2, 8, 3],\n",
            "        [0, 8, 4, 2, 9, 0, 3, 8]]]), array([[[2, 7, 7, 9, 8, 6, 9, 3],\n",
            "        [7, 7, 4, 5, 9, 3, 6, 8],\n",
            "        [0, 2, 7, 7, 9, 7, 3, 0]],\n",
            "\n",
            "       [[0, 7, 1, 7, 9, 8, 4, 0],\n",
            "        [1, 9, 8, 2, 3, 1, 2, 7],\n",
            "        [2, 6, 0, 9, 2, 6, 6, 2]],\n",
            "\n",
            "       [[3, 9, 1, 4, 4, 6, 8, 8],\n",
            "        [9, 2, 7, 5, 5, 4, 5, 8],\n",
            "        [5, 8, 1, 1, 8, 7, 0, 3]],\n",
            "\n",
            "       [[1, 4, 3, 3, 6, 7, 3, 5],\n",
            "        [3, 2, 4, 4, 0, 3, 3, 8],\n",
            "        [3, 5, 6, 7, 5, 1, 7, 0]]])]\n"
          ]
        }
      ]
    },
    {
      "cell_type": "markdown",
      "source": [
        "# 7. Numpy 실습예제\n",
        "## 7-1. 실습예제 1~3"
      ],
      "metadata": {
        "id": "Moun8q6MIjvT"
      }
    },
    {
      "cell_type": "markdown",
      "source": [
        "<예제1> 원소가 모두 3인 (3, 4, 5) 형태의 numpy,array를 출력\n"
      ],
      "metadata": {
        "id": "c_kTb401h-VX"
      }
    },
    {
      "cell_type": "code",
      "source": [
        "arr = np.full((3, 4, 5), 3)\n",
        "print(arr)"
      ],
      "metadata": {
        "colab": {
          "base_uri": "https://localhost:8080/"
        },
        "id": "435jhyQ7h-zz",
        "outputId": "e35f567c-9ef6-4a15-9470-d638eae957f6"
      },
      "execution_count": 3,
      "outputs": [
        {
          "output_type": "stream",
          "name": "stdout",
          "text": [
            "[[[3 3 3 3 3]\n",
            "  [3 3 3 3 3]\n",
            "  [3 3 3 3 3]\n",
            "  [3 3 3 3 3]]\n",
            "\n",
            " [[3 3 3 3 3]\n",
            "  [3 3 3 3 3]\n",
            "  [3 3 3 3 3]\n",
            "  [3 3 3 3 3]]\n",
            "\n",
            " [[3 3 3 3 3]\n",
            "  [3 3 3 3 3]\n",
            "  [3 3 3 3 3]\n",
            "  [3 3 3 3 3]]]\n"
          ]
        }
      ]
    },
    {
      "cell_type": "markdown",
      "source": [
        "<예제2> 정수 -50 ~ 50 범위 안의 난수로 이뤄진 (4,5) 형태 numpy.array 출력하고,<br>\n",
        "행을 기준으로 오름차순 정렬한 결과와<br>\n",
        "전체 배열을 1차원 배열로 변경하여 오름차순 정렬한 결과를 출력"
      ],
      "metadata": {
        "id": "ykRp51s7h-69"
      }
    },
    {
      "cell_type": "code",
      "source": [
        "# array 작성\n",
        "arr = np.random.randint(-50, 50, (4, 5))\n",
        "print(arr)\n",
        "# 행을 기준으로 정렬한 결과\n",
        "print(np.sort(arr, axis=0))\n",
        "# 1차원 배열로 변경하여 정렬한 결과 작성\n",
        "print(np.sort(arr, axis=None))"
      ],
      "metadata": {
        "colab": {
          "base_uri": "https://localhost:8080/"
        },
        "id": "pDlZlGwRh_DB",
        "outputId": "01dedac7-3fbb-48b0-cd6f-ce673223df48"
      },
      "execution_count": 6,
      "outputs": [
        {
          "output_type": "stream",
          "name": "stdout",
          "text": [
            "[[ 16 -20 -24   1  34]\n",
            " [ 36 -47  24   9   4]\n",
            " [ 35  29  14  -1  10]\n",
            " [ 17 -14 -12  32  33]]\n",
            "[[ 16 -47 -24  -1   4]\n",
            " [ 17 -20 -12   1  10]\n",
            " [ 35 -14  14   9  33]\n",
            " [ 36  29  24  32  34]]\n",
            "[-47 -24 -20 -14 -12  -1   1   4   9  10  14  16  17  24  29  32  33  34\n",
            "  35  36]\n"
          ]
        }
      ]
    },
    {
      "cell_type": "markdown",
      "source": [
        "<예제3> 다음과 같은 파이썬 list가 있을때, list 안에 있는 각 numpy.array의 원소들 평균값, 표준편차, 중앙값을 순서대로 구하고, 구한 순서대로 원소가 이루어진 새로운 list를 만들어 출력"
      ],
      "metadata": {
        "id": "fvZm0nIph_Ma"
      }
    },
    {
      "cell_type": "markdown",
      "source": [
        "`py_list = [\n",
        "    np.full(3, 8),\n",
        "    np.array([33, -15, 26]),\n",
        "    np.linspace(17, 26, 3)\n",
        " ]`"
      ],
      "metadata": {
        "id": "0GwfwcxVh_WU"
      }
    },
    {
      "cell_type": "code",
      "source": [
        "py_list = [\n",
        "    np.full(3, 8),\n",
        "    np.array([33, -15, 26]),\n",
        "    np.linspace(17, 26, 3)\n",
        "]\n",
        "\n",
        "result_arr = []\n",
        "for i in py_list:\n",
        "  result_arr.append(np.mean(i))\n",
        "  result_arr.append(np.std(i))\n",
        "  result_arr.append(np.median(i))\n",
        "print(result_arr)"
      ],
      "metadata": {
        "colab": {
          "base_uri": "https://localhost:8080/"
        },
        "id": "HtzH4nlUh_ff",
        "outputId": "d0f47111-af2b-4f9f-fce7-7258785b0db1"
      },
      "execution_count": 9,
      "outputs": [
        {
          "output_type": "stream",
          "name": "stdout",
          "text": [
            "[8.0, 0.0, 8.0, 14.666666666666666, 21.171259344267224, 26.0, 21.5, 3.6742346141747673, 21.5]\n"
          ]
        }
      ]
    },
    {
      "cell_type": "markdown",
      "source": [
        "<예제 4> 담과 같은 numpy.array 존재. 이 배열을 행을 기준, 3개의 배열로 분할,<br> 분할된 각 배열 원소들을 제곱한 결과를 다시 원본배열에 행을 기준으로 병합하라.<br>(단, 마지막 출력 결과는 원본 배열과 차원이 같아야함"
      ],
      "metadata": {
        "id": "4TS2p4DBjmzs"
      }
    },
    {
      "cell_type": "code",
      "source": [
        "arr = np.arange(2, 20, 2).reshape((3, 3))\n",
        "\n",
        "s1 = np.vsplit(arr, 3)\n",
        "print(s1)\n",
        "s2 = np.square(s1)\n",
        "print(s2)\n",
        "s3 = np.squeeze(s2, axis=1)\n",
        "print(s3)\n",
        "result_arr = np.vstack((arr, s3))\n",
        "print(result_arr)"
      ],
      "metadata": {
        "colab": {
          "base_uri": "https://localhost:8080/"
        },
        "id": "3Mk5UwRnh_mo",
        "outputId": "de265f33-f25c-48b7-bc5e-72845e8ed122"
      },
      "execution_count": 13,
      "outputs": [
        {
          "output_type": "stream",
          "name": "stdout",
          "text": [
            "[array([[2, 4, 6]]), array([[ 8, 10, 12]]), array([[14, 16, 18]])]\n",
            "[[[  4  16  36]]\n",
            "\n",
            " [[ 64 100 144]]\n",
            "\n",
            " [[196 256 324]]]\n",
            "[[  4  16  36]\n",
            " [ 64 100 144]\n",
            " [196 256 324]]\n",
            "[[  2   4   6]\n",
            " [  8  10  12]\n",
            " [ 14  16  18]\n",
            " [  4  16  36]\n",
            " [ 64 100 144]\n",
            " [196 256 324]]\n"
          ]
        }
      ]
    },
    {
      "cell_type": "markdown",
      "source": [
        "<예제 5> 삼각함수의 특수각(0, 30, 60, 90)을 numpy.array로 생성하고, <br>특수각에 해당하는 sin, cos, tan 값을 각각 구하여 파이썬 리스트에 담은 후 해당 리스트 값을 출력하라.<br>\n",
        "(단, 값이 무한대면 \"INF\" 문자열 출력할 것)"
      ],
      "metadata": {
        "id": "iFYmg0Hikmcm"
      }
    },
    {
      "cell_type": "code",
      "source": [
        "arr = np.arange(0, 91, 30)\n",
        "print(arr)\n",
        "\n",
        "lst = []\n",
        "lst.append(np.sin(arr * np.pi / 180))\n",
        "lst.append(np.cos(arr * np.pi / 180))\n",
        "lst.append(np.tan(arr * np.pi / 180))\n",
        "\n",
        "for value_lst in lst:\n",
        "  for value in value_lst:\n",
        "    if value > 9999999:\n",
        "      print(\"INF\")\n",
        "      continue;\n",
        "    print(value)\n",
        "  print()"
      ],
      "metadata": {
        "colab": {
          "base_uri": "https://localhost:8080/"
        },
        "id": "p40pHmbRh_sE",
        "outputId": "a386e283-9def-45c1-ddc0-bbb0c09fab7b"
      },
      "execution_count": 17,
      "outputs": [
        {
          "output_type": "stream",
          "name": "stdout",
          "text": [
            "[ 0 30 60 90]\n",
            "0.0\n",
            "0.49999999999999994\n",
            "0.8660254037844386\n",
            "1.0\n",
            "\n",
            "1.0\n",
            "0.8660254037844387\n",
            "0.5000000000000001\n",
            "6.123233995736766e-17\n",
            "\n",
            "0.0\n",
            "0.5773502691896257\n",
            "1.7320508075688767\n",
            "INF\n",
            "\n"
          ]
        }
      ]
    },
    {
      "cell_type": "markdown",
      "source": [
        "<예제 6> numpy.array를 이용해 다음 패턴을 출력하시오 (반복문 사용)"
      ],
      "metadata": {
        "id": "Y2puzsodh_we"
      }
    },
    {
      "cell_type": "code",
      "source": [
        "arr = np.zeros((7, 7), dtype=int)\n",
        "print(arr)\n",
        "\n",
        "arr[::2, 1::2] = 1 # 첨부터끝까지 2칸 간격, 1행부터 끝까지 2간격\n",
        "arr[1::2, ::2] = 1\n",
        "\n",
        "for row in range(7):\n",
        "  for col in range(7):\n",
        "    print(arr[row, col], end=\" \")\n",
        "  print()"
      ],
      "metadata": {
        "colab": {
          "base_uri": "https://localhost:8080/"
        },
        "id": "czNr_DKTh_1i",
        "outputId": "619d52ac-ab6f-44c6-d0f6-152d54c80a94"
      },
      "execution_count": 21,
      "outputs": [
        {
          "output_type": "stream",
          "name": "stdout",
          "text": [
            "[[0 0 0 0 0 0 0]\n",
            " [0 0 0 0 0 0 0]\n",
            " [0 0 0 0 0 0 0]\n",
            " [0 0 0 0 0 0 0]\n",
            " [0 0 0 0 0 0 0]\n",
            " [0 0 0 0 0 0 0]\n",
            " [0 0 0 0 0 0 0]]\n",
            "0 1 0 1 0 1 0 \n",
            "1 0 1 0 1 0 1 \n",
            "0 1 0 1 0 1 0 \n",
            "1 0 1 0 1 0 1 \n",
            "0 1 0 1 0 1 0 \n",
            "1 0 1 0 1 0 1 \n",
            "0 1 0 1 0 1 0 \n"
          ]
        }
      ]
    },
    {
      "cell_type": "markdown",
      "source": [
        "<예제 7> 다음 두 행렬에 대해 내적연산 수행한 결괏값 출력하시오. (소수점 아래는 제거)"
      ],
      "metadata": {
        "id": "JdJnRI42h_8s"
      }
    },
    {
      "cell_type": "code",
      "source": [
        "2.1 3.5   5 2 3\n",
        "4.2 2.7   1 3 5\n",
        "2.3 1.9"
      ],
      "metadata": {
        "id": "TsHT2IV9iAMi"
      },
      "execution_count": null,
      "outputs": []
    },
    {
      "cell_type": "code",
      "source": [
        "import numpy as np\n",
        "arr1 = np.array([[2.1, 3.5],\n",
        "                 [4.2, 2.7],\n",
        "                 [2.3, 1.9]])\n",
        "arr2 = np.array([[5, 2, 3],\n",
        "                 [1, 3, 5]])\n",
        "\n",
        "print(np.trunc(np.dot(arr1, arr2))) # dot이 내적연산 truc가 소숫점 아래 버리기"
      ],
      "metadata": {
        "colab": {
          "base_uri": "https://localhost:8080/"
        },
        "id": "tCVpzLGUiATF",
        "outputId": "5c5a53e1-a618-4513-cdf2-62b34a70232d"
      },
      "execution_count": 7,
      "outputs": [
        {
          "output_type": "stream",
          "name": "stdout",
          "text": [
            "[[14. 14. 23.]\n",
            " [23. 16. 26.]\n",
            " [13. 10. 16.]]\n"
          ]
        }
      ]
    },
    {
      "cell_type": "markdown",
      "source": [
        "<예제 8> 조건 연산자를 활용한 불리언 인덱싱을 이용해 다음 배열의 원소들 중<br> 2, 5의 배수만 추출한 결과를 오름차순 정렬해 (2,4) 행렬로 출력하시오"
      ],
      "metadata": {
        "id": "vy0_0GPsiAdk"
      }
    },
    {
      "cell_type": "code",
      "source": [
        "# 1. 조건연산자 활용 2. 2,5 배수만 추출하기 3. 오름차순 4. 2,4행렬로 출력하기\n",
        "arr = np.array([[1, 2, 3, 4],\n",
        "                [5, 6, 7, 8],\n",
        "                [9, 10, 11, 12]])\n",
        "\n",
        "\n",
        "print(np.sort(np.append(arr[arr % 2 == 0], arr[arr % 5 == 0])).reshape(2, 4))"
      ],
      "metadata": {
        "colab": {
          "base_uri": "https://localhost:8080/"
        },
        "id": "EU__ptTQiAmk",
        "outputId": "3b5ba6b4-06dc-441f-aea6-be058ab9783f"
      },
      "execution_count": 10,
      "outputs": [
        {
          "output_type": "stream",
          "name": "stdout",
          "text": [
            "[[ 2  4  5  6]\n",
            " [ 8 10 10 12]]\n"
          ]
        }
      ]
    },
    {
      "cell_type": "code",
      "source": [
        ""
      ],
      "metadata": {
        "id": "s_elj47zykYv"
      },
      "execution_count": null,
      "outputs": []
    },
    {
      "cell_type": "markdown",
      "source": [
        "<예제 9> 10진수 100 이상 150 미만 사이에 존재하는 정수를 무작위 추출해<br>\n",
        "(3, 10) 행렬로 만들고 행과 열을 전치한 결과 출력하기"
      ],
      "metadata": {
        "id": "88_BtaFkiAss"
      }
    },
    {
      "cell_type": "code",
      "source": [
        "import numpy as np\n",
        "arr = np.random.randint(low=100, high=150, size=(3, 10))\n",
        "print(arr.T)"
      ],
      "metadata": {
        "colab": {
          "base_uri": "https://localhost:8080/"
        },
        "id": "WrvJFZW_ynfI",
        "outputId": "93f61ddd-d5ab-4061-c92d-cec4a8bb3995"
      },
      "execution_count": 23,
      "outputs": [
        {
          "output_type": "stream",
          "name": "stdout",
          "text": [
            "[[109 127 108]\n",
            " [135 142 134]\n",
            " [109 104 134]\n",
            " [103 135 105]\n",
            " [124 119 104]\n",
            " [126 120 131]\n",
            " [126 142 134]\n",
            " [143 147 149]\n",
            " [148 111 108]\n",
            " [149 115 148]]\n"
          ]
        }
      ]
    },
    {
      "cell_type": "markdown",
      "source": [
        "<예제 10> 10진수 10~20 사이의 실수형의 수를 무작위로 10000개 추출하여 100개 구간에 그래프로 시각화하시오.<br>\n",
        "(단, 무작위 실수 값은 균등한 비율로 추출하고 그래프 시각화는 pyplot으로)"
      ],
      "metadata": {
        "id": "nSyhgsBJzDmY"
      }
    },
    {
      "cell_type": "code",
      "source": [
        "import numpy as np\n",
        "!pip install matplotlib"
      ],
      "metadata": {
        "colab": {
          "base_uri": "https://localhost:8080/"
        },
        "id": "m9XTGZw8zDuq",
        "outputId": "804e756d-2fc2-4da7-f303-f538f1e35f50"
      },
      "execution_count": 24,
      "outputs": [
        {
          "output_type": "stream",
          "name": "stdout",
          "text": [
            "Looking in indexes: https://pypi.org/simple, https://us-python.pkg.dev/colab-wheels/public/simple/\n",
            "Requirement already satisfied: matplotlib in /usr/local/lib/python3.7/dist-packages (3.2.2)\n",
            "Requirement already satisfied: numpy>=1.11 in /usr/local/lib/python3.7/dist-packages (from matplotlib) (1.21.6)\n",
            "Requirement already satisfied: pyparsing!=2.0.4,!=2.1.2,!=2.1.6,>=2.0.1 in /usr/local/lib/python3.7/dist-packages (from matplotlib) (3.0.9)\n",
            "Requirement already satisfied: python-dateutil>=2.1 in /usr/local/lib/python3.7/dist-packages (from matplotlib) (2.8.2)\n",
            "Requirement already satisfied: cycler>=0.10 in /usr/local/lib/python3.7/dist-packages (from matplotlib) (0.11.0)\n",
            "Requirement already satisfied: kiwisolver>=1.0.1 in /usr/local/lib/python3.7/dist-packages (from matplotlib) (1.4.4)\n",
            "Requirement already satisfied: typing-extensions in /usr/local/lib/python3.7/dist-packages (from kiwisolver>=1.0.1->matplotlib) (4.1.1)\n",
            "Requirement already satisfied: six>=1.5 in /usr/local/lib/python3.7/dist-packages (from python-dateutil>=2.1->matplotlib) (1.15.0)\n"
          ]
        }
      ]
    },
    {
      "cell_type": "code",
      "source": [
        "import matplotlib.pyplot as plt\n",
        "randoms = 10 + np.random.rand(10000) * 10\n",
        "plt.hist(randoms, bins=100)\n",
        "plt.show()"
      ],
      "metadata": {
        "colab": {
          "base_uri": "https://localhost:8080/",
          "height": 265
        },
        "id": "A8BI_YhizUw8",
        "outputId": "3f3d3122-c930-497f-fd16-6841830e1cc5"
      },
      "execution_count": 25,
      "outputs": [
        {
          "output_type": "display_data",
          "data": {
            "text/plain": [
              "<Figure size 432x288 with 1 Axes>"
            ],
            "image/png": "[encoded data removed]"
          },
          "metadata": {
            "needs_background": "light"
          }
        }
      ]
    }
  ]
}
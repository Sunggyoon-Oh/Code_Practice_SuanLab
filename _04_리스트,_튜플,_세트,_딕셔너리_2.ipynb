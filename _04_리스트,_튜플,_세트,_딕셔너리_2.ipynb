{
  "nbformat": 4,
  "nbformat_minor": 0,
  "metadata": {
    "colab": {
      "name": "_04 리스트, 튜플, 세트, 딕셔너리 2.ipynb",
      "provenance": [],
      "collapsed_sections": []
    },
    "kernelspec": {
      "name": "python3",
      "display_name": "Python 3"
    },
    "accelerator": "GPU",
    "gpuClass": "standard"
  },
  "cells": [
    {
      "cell_type": "markdown",
      "metadata": {
        "id": "bg5ZXMV2sn1M"
      },
      "source": [
        "# 리스트, 튜플, 세트, 딕셔너리"
      ]
    },
    {
      "cell_type": "markdown",
      "metadata": {
        "id": "u9_0Hh5NyXXh"
      },
      "source": [
        "#### remove()\n",
        "\n",
        "* 리스트 요소 제거"
      ]
    },
    {
      "cell_type": "code",
      "metadata": {
        "id": "55jgJF1ZyjIp",
        "colab": {
          "base_uri": "https://localhost:8080/"
        },
        "outputId": "633c0f1a-f22d-4ec1-c6d6-2249a3caafbe"
      },
      "source": [
        "list = [10, 40, 20, 30]\n",
        "print(list)\n",
        "list.remove(40)\n",
        "print(list)\n",
        "list.remove(30)\n",
        "print(list)"
      ],
      "execution_count": 1,
      "outputs": [
        {
          "output_type": "stream",
          "name": "stdout",
          "text": [
            "[10, 40, 20, 30]\n",
            "[10, 20, 30]\n",
            "[10, 20]\n"
          ]
        }
      ]
    },
    {
      "cell_type": "markdown",
      "metadata": {
        "id": "XE2VEcqyywE4"
      },
      "source": [
        "#### del\n",
        "\n",
        "* 리스트 요소 제거 연산"
      ]
    },
    {
      "cell_type": "code",
      "metadata": {
        "id": "AMDGcMSTy7RO",
        "colab": {
          "base_uri": "https://localhost:8080/"
        },
        "outputId": "102cb271-032b-4923-f8e2-f9f4ab56358b"
      },
      "source": [
        "list = [10, 40, 20, 30]\n",
        "print(list)\n",
        "del list[0] # 값에대한 접근이 아니라 인덱스의 위치값에 대해 접근하는것\n",
        "print(list)\n",
        "del list[2]\n",
        "print(list)\n",
        "# 삭제가 되면 될수록 인덱스 위치값이 바뀌니 주의해서 사용해야함"
      ],
      "execution_count": 4,
      "outputs": [
        {
          "output_type": "stream",
          "name": "stdout",
          "text": [
            "[10, 40, 20, 30]\n",
            "[40, 20, 30]\n",
            "[40, 20]\n"
          ]
        }
      ]
    },
    {
      "cell_type": "markdown",
      "metadata": {
        "id": "0R1KumQ8zPqj"
      },
      "source": [
        "#### pop()\n",
        "\n",
        "* 리스트 요소를 방출"
      ]
    },
    {
      "cell_type": "code",
      "metadata": {
        "id": "AES7G1e-za4k",
        "colab": {
          "base_uri": "https://localhost:8080/"
        },
        "outputId": "0c390df5-c3e7-4f2a-e072-e8cb9571acda"
      },
      "source": [
        "list = [10, 40, 20, 30]\n",
        "print(list)\n",
        "list.pop() # 끝에 있는 인덱스를 방출(30을 방출)\n",
        "print(list)\n",
        "list.pop(0)\n",
        "print(list)"
      ],
      "execution_count": 5,
      "outputs": [
        {
          "output_type": "stream",
          "name": "stdout",
          "text": [
            "[10, 40, 20, 30]\n",
            "[10, 40, 20]\n",
            "[40, 20]\n"
          ]
        }
      ]
    },
    {
      "cell_type": "markdown",
      "metadata": {
        "id": "BnKMoBtrzkUP"
      },
      "source": [
        "#### count()\n",
        "\n",
        "* 리스트 요소의 갯수 계산"
      ]
    },
    {
      "cell_type": "code",
      "metadata": {
        "id": "iv13N4uWznsm",
        "colab": {
          "base_uri": "https://localhost:8080/"
        },
        "outputId": "09a6b6ff-ab05-4718-e16e-8bb857b21b5f"
      },
      "source": [
        "list = [10, 20, 20, 30, 30, 30]\n",
        "print(list)\n",
        "# 내가 어떤 값이 몇개가 있는지 알고 싶다.\n",
        "print(list.count(30))  # 30이란 값이 몇개 있니?\n",
        "list.count(20) # 20이란 값이 몇개 있니?"
      ],
      "execution_count": 9,
      "outputs": [
        {
          "output_type": "stream",
          "name": "stdout",
          "text": [
            "[10, 20, 20, 30, 30, 30]\n",
            "3\n"
          ]
        },
        {
          "output_type": "execute_result",
          "data": {
            "text/plain": [
              "2"
            ]
          },
          "metadata": {},
          "execution_count": 9
        }
      ]
    },
    {
      "cell_type": "markdown",
      "metadata": {
        "id": "sI87ApvJzxcM"
      },
      "source": [
        "#### extend()\n",
        "\n",
        "* 리스트 확장"
      ]
    },
    {
      "cell_type": "code",
      "metadata": {
        "id": "0q944_Znz0XJ",
        "colab": {
          "base_uri": "https://localhost:8080/"
        },
        "outputId": "3efe03a5-2876-4a06-9a65-273644bcdbd6"
      },
      "source": [
        "list = [10, 40, 20, 30]\n",
        "print(list)\n",
        "list.extend([50, 60]) # 리스트 안에 리스트가 포함된 형태(컨캐티네이트)로 확장하게 됨\n",
        "print(list)"
      ],
      "execution_count": 10,
      "outputs": [
        {
          "output_type": "stream",
          "name": "stdout",
          "text": [
            "[10, 40, 20, 30]\n",
            "[10, 40, 20, 30, 50, 60]\n"
          ]
        }
      ]
    },
    {
      "cell_type": "markdown",
      "metadata": {
        "id": "PzXHy8FxoW5l"
      },
      "source": [
        "\n",
        "\n",
        "---\n",
        "\n"
      ]
    },
    {
      "cell_type": "markdown",
      "metadata": {
        "id": "d38eO6_roX5E"
      },
      "source": [
        "## 튜플(Tuple)\n",
        "\n",
        "* 리스트와 유사하지만 **변경 불가능**한 시퀀스 자료형\n",
        "* 하나의 변수에 여러 값 할당 가능\n",
        "* ‘(‘와 ‘)’를 사용하여 표현"
      ]
    },
    {
      "cell_type": "code",
      "metadata": {
        "id": "1s9_Z7hQ0Ft0",
        "colab": {
          "base_uri": "https://localhost:8080/"
        },
        "outputId": "f4236a33-7f1c-4e7b-eb5f-6f5c197aa038"
      },
      "source": [
        "print(())\n",
        "print((1, 2, 3))\n",
        "print(('One', 'Two', 'Three'))\n",
        "print((1, 'One', 2, 'Two', 3, 'Three'))\n",
        "print((1, 2, 3, ('One', 'Two', 'Three')))"
      ],
      "execution_count": 14,
      "outputs": [
        {
          "output_type": "stream",
          "name": "stdout",
          "text": [
            "()\n",
            "(1, 2, 3)\n",
            "('One', 'Two', 'Three')\n",
            "(1, 'One', 2, 'Two', 3, 'Three')\n",
            "(1, 2, 3, ('One', 'Two', 'Three'))\n"
          ]
        }
      ]
    },
    {
      "cell_type": "markdown",
      "metadata": {
        "id": "e3TE7eO00UKJ"
      },
      "source": [
        "### 튜플 인덱싱(Tuple Indexing)\n",
        "\n",
        "* 튜플의 각 위치에 해당하는 값에 접근하기 위해서 주소 개념의 숫자를 사용"
      ]
    },
    {
      "cell_type": "code",
      "metadata": {
        "id": "_usfNdhc0a_7",
        "colab": {
          "base_uri": "https://localhost:8080/"
        },
        "outputId": "593eb39d-514d-4065-cae7-225d5be814ad"
      },
      "source": [
        "tuple = ('One', 'Two', 'Three')\n",
        "print(tuple)\n",
        "print(tuple[0])\n",
        "print(tuple[-1]) # -1 인덱스는 맨끝"
      ],
      "execution_count": 15,
      "outputs": [
        {
          "output_type": "stream",
          "name": "stdout",
          "text": [
            "('One', 'Two', 'Three')\n",
            "One\n",
            "Three\n"
          ]
        }
      ]
    },
    {
      "cell_type": "markdown",
      "metadata": {
        "id": "bFGXVZ8-05z2"
      },
      "source": [
        "### 중첩 튜플 인덱싱(Nested Tuple Indexing)\n",
        "\n",
        "* 튜플 안에 튜플이 중첩되어 있을 경우, 인덱스 접근 방법"
      ]
    },
    {
      "cell_type": "code",
      "metadata": {
        "id": "eq996H91097z",
        "colab": {
          "base_uri": "https://localhost:8080/"
        },
        "outputId": "f1218dcc-2cb9-4ea2-eed9-df7335af73f2"
      },
      "source": [
        "tuple = (1, 2, 3, ('One', 'Two', 'Three'))\n",
        "print(tuple)\n",
        "print(tuple[3])\n",
        "print(tuple[3][1]) # 세번째 인덱스 안에서 1번 인덱스니까 Two임"
      ],
      "execution_count": 18,
      "outputs": [
        {
          "output_type": "stream",
          "name": "stdout",
          "text": [
            "(1, 2, 3, ('One', 'Two', 'Three'))\n",
            "('One', 'Two', 'Three')\n",
            "Two\n"
          ]
        }
      ]
    },
    {
      "cell_type": "markdown",
      "metadata": {
        "id": "nYYF6L223714"
      },
      "source": [
        "### 튜플 슬라이싱(Tuple Slicing)\n",
        "\n",
        "* 튜플의 인덱스를 통해서 부분만 가져올 때 사용"
      ]
    },
    {
      "cell_type": "code",
      "metadata": {
        "id": "J0lgz4SR67d8",
        "colab": {
          "base_uri": "https://localhost:8080/"
        },
        "outputId": "1542b8bf-ae09-4002-ffd8-3d369297bb94"
      },
      "source": [
        "tuple = ('One', 'Two', 'Three')\n",
        "print(tuple)\n",
        "print(tuple[0:])\n",
        "print(tuple[1:2])\n",
        "print(tuple[1:])"
      ],
      "execution_count": 21,
      "outputs": [
        {
          "output_type": "stream",
          "name": "stdout",
          "text": [
            "('One', 'Two', 'Three')\n",
            "('One', 'Two', 'Three')\n",
            "('Two',)\n",
            "('Two', 'Three')\n"
          ]
        }
      ]
    },
    {
      "cell_type": "markdown",
      "metadata": {
        "id": "ddlDZ-iH7JI0"
      },
      "source": [
        "### 중첩 튜플 슬라이싱(Nested Tuple Slicing)\n",
        "\n",
        "* 중첩된 튜플에서 일부분만 인덱스를 통해서 가져올 때 사용"
      ]
    },
    {
      "cell_type": "code",
      "metadata": {
        "id": "2GeXCqV37Nc3",
        "colab": {
          "base_uri": "https://localhost:8080/"
        },
        "outputId": "8b9a134e-9faa-4147-d5de-3d08757446a3"
      },
      "source": [
        "tuple = (1, 2, 3, ('One', 'Two', 'Three'))\n",
        "print(tuple)\n",
        "print(tuple[3])\n",
        "print(tuple[3][2:])\n",
        "print(tuple[3][:2])"
      ],
      "execution_count": 23,
      "outputs": [
        {
          "output_type": "stream",
          "name": "stdout",
          "text": [
            "(1, 2, 3, ('One', 'Two', 'Three'))\n",
            "('One', 'Two', 'Three')\n",
            "('Three',)\n",
            "('One', 'Two')\n"
          ]
        }
      ]
    },
    {
      "cell_type": "markdown",
      "metadata": {
        "id": "V7H6n4Ps7u5M"
      },
      "source": [
        "### 튜플 연산자/함수(Tuple Operators/Function)\n",
        "\n",
        "* 더하기 + 연산\n",
        "* 곱하기 * 연산\n",
        "* 튜플 길이를 구하는 `len()` 함수\n",
        "\n"
      ]
    },
    {
      "cell_type": "code",
      "metadata": {
        "id": "QJstv3_T9LiY",
        "colab": {
          "base_uri": "https://localhost:8080/"
        },
        "outputId": "a8636e14-3d48-4ab1-a500-4d323ef58888"
      },
      "source": [
        "tuple_1 = ('One', 'Two', 'Three')\n",
        "tuple_2 = ('Four', 'Five', 'Six')\n",
        "print(tuple_1)\n",
        "print(tuple_2)\n",
        "print(tuple_1 + tuple_2)\n",
        "print(tuple_1 * 3)\n",
        "print(len(tuple_1))\n",
        "print(len(tuple_1 + tuple_2))"
      ],
      "execution_count": 26,
      "outputs": [
        {
          "output_type": "stream",
          "name": "stdout",
          "text": [
            "('One', 'Two', 'Three')\n",
            "('Four', 'Five', 'Six')\n",
            "('One', 'Two', 'Three', 'Four', 'Five', 'Six')\n",
            "('One', 'Two', 'Three', 'One', 'Two', 'Three', 'One', 'Two', 'Three')\n",
            "3\n",
            "6\n"
          ]
        }
      ]
    },
    {
      "cell_type": "markdown",
      "metadata": {
        "id": "-drrAXi3xY3y"
      },
      "source": [
        "\n",
        "\n",
        "---\n",
        "\n"
      ]
    },
    {
      "cell_type": "markdown",
      "metadata": {
        "id": "zXbENjlMCrkU"
      },
      "source": [
        "## 세트(Set)\n",
        "\n",
        "* 데이터 중복을 허용하지 않는 구조\n",
        "* 순서가 없는 데이터 집합을 위한 구조\n",
        "* 인덱싱으로 값을 접근할 수 없음\n",
        "\n",
        "### 중복X, 순서X 가장 큰 특징"
      ]
    },
    {
      "cell_type": "code",
      "source": [
        "print({})\n",
        "print({'One', 'Two', 'Three'}) # 집합에선 순성가 의미 없게 저장되어 있음\n",
        "print({10, 20, 30, 40})"
      ],
      "metadata": {
        "colab": {
          "base_uri": "https://localhost:8080/"
        },
        "id": "eHB7FsiXPvbh",
        "outputId": "23cc0f6e-7fad-410c-e505-159578a15acc"
      },
      "execution_count": 31,
      "outputs": [
        {
          "output_type": "stream",
          "name": "stdout",
          "text": [
            "{}\n",
            "{'One', 'Two', 'Three'}\n",
            "{40, 10, 20, 30}\n"
          ]
        }
      ]
    },
    {
      "cell_type": "markdown",
      "metadata": {
        "id": "QerabWfwCvtt"
      },
      "source": [
        "### 세트 연산자(Set Operators)\n",
        "\n",
        "* 교집합: &\n",
        "* 합집합: |\n",
        "* 차집합: -\n",
        "* 여집합: ^"
      ]
    },
    {
      "cell_type": "code",
      "metadata": {
        "id": "22ALZ21LE60j",
        "colab": {
          "base_uri": "https://localhost:8080/"
        },
        "outputId": "0136b22e-efb0-4bb7-dff9-b748261817f0"
      },
      "source": [
        "set_1 = {10, 20, 20, 30}\n",
        "set_2 = {30, 30, 40, 50}\n",
        "print(set_1) # 같은 값이 여러개 있어도 중복이 허용이 안됨\n",
        "print(set_2)\n",
        "print(set_1 & set_2) # &는 교집합이란 뜻\n",
        "print(set_1 | set_2) # 엔터 위에 있는 파이프라인은 합집합이란 뜻, 30 겹치는거 빼고 나옴\n",
        "print(set_1 - set_2) # - 차집합\n",
        "print(set_1 ^ set_2) # ^ 여집합, 전체 합집합에서 교집합을 뺀 것."
      ],
      "execution_count": 35,
      "outputs": [
        {
          "output_type": "stream",
          "name": "stdout",
          "text": [
            "{10, 20, 30}\n",
            "{40, 50, 30}\n",
            "{30}\n",
            "{50, 20, 40, 10, 30}\n",
            "{10, 20}\n",
            "{40, 10, 50, 20}\n"
          ]
        }
      ]
    },
    {
      "cell_type": "markdown",
      "metadata": {
        "id": "of4Jq8l-McX7"
      },
      "source": [
        "### 세트 메소드(Set Methods)\n",
        "\n",
        "* 교집합: intersection()\n",
        "* 합집합: union()\n",
        "* 차집합: difference()\n",
        "* 여집합: symmetric_difference()"
      ]
    },
    {
      "cell_type": "code",
      "metadata": {
        "id": "w4JB__zpL_BW",
        "colab": {
          "base_uri": "https://localhost:8080/"
        },
        "outputId": "f1bb140c-9193-4e27-8d8c-e47da6bf98d2"
      },
      "source": [
        "set_1 = {10, 20, 20, 30}\n",
        "set_2 = {30, 30, 40, 50}\n",
        "print(set_1) \n",
        "print(set_2)\n",
        "print(set_1.intersection(set_2)) # 인터섹션은 교집합\n",
        "print(set_1.union(set_2)) # 유니언이 합집합\n",
        "print(set_1.difference(set_2)) # 디퍼런스는 차집합\n",
        "print(set_1.symmetric_difference(set_2)) # 시메트릭 디퍼런스는 여집합"
      ],
      "execution_count": 38,
      "outputs": [
        {
          "output_type": "stream",
          "name": "stdout",
          "text": [
            "{10, 20, 30}\n",
            "{40, 50, 30}\n",
            "{30}\n",
            "{50, 20, 40, 10, 30}\n",
            "{10, 20}\n",
            "{40, 10, 50, 20}\n"
          ]
        }
      ]
    },
    {
      "cell_type": "markdown",
      "metadata": {
        "id": "lcdJvb_vFiKf"
      },
      "source": [
        "* 요소 추가: add()\n",
        "* 여러 요소 추가: update()\n",
        "* 요소 제거: remove()\n",
        "* 요소 제거: discard()\n",
        "* 모든 요소 제거: clear()"
      ]
    },
    {
      "cell_type": "code",
      "metadata": {
        "id": "xlo8NoTeF0dV",
        "colab": {
          "base_uri": "https://localhost:8080/"
        },
        "outputId": "0731cf07-89ac-4abe-a0fd-77c2ca016b69"
      },
      "source": [
        "set = {10, 20, 30, 40}\n",
        "print(set)\n",
        "\n",
        "set.add(50)\n",
        "print(set)\n",
        "\n",
        "set.update([60, 70]) #여러 요소를 추가할때 업데이트, 하나 추가할땐 add\n",
        "print(set)\n",
        "\n",
        "set.remove(70)\n",
        "set.remove(60)\n",
        "print(set)\n",
        "\n",
        "set.discard(30)\n",
        "print(set)\n",
        "\n",
        "set.clear()\n",
        "print(set)"
      ],
      "execution_count": 45,
      "outputs": [
        {
          "output_type": "stream",
          "name": "stdout",
          "text": [
            "{40, 10, 20, 30}\n",
            "{40, 10, 50, 20, 30}\n",
            "{70, 40, 10, 50, 20, 60, 30}\n",
            "{40, 10, 50, 20, 30}\n",
            "{40, 10, 50, 20}\n",
            "set()\n"
          ]
        }
      ]
    },
    {
      "cell_type": "markdown",
      "metadata": {
        "id": "0BWIlqrPCr__"
      },
      "source": [
        "\n",
        "\n",
        "---\n",
        "\n"
      ]
    },
    {
      "cell_type": "markdown",
      "metadata": {
        "id": "ZfKg8LniN113"
      },
      "source": [
        "## 딕셔너리(Dictionary)\n",
        "\n",
        "* 키(key)와 값(value)의 쌍으로 구성된 데이터\n",
        "* 순서가 없는 데이터\n",
        "* 키를 통해 값을 얻음\n",
        "* 동일한 키가 있을경우 덮어씀"
      ]
    },
    {
      "cell_type": "code",
      "metadata": {
        "id": "Ij33VNSGN7_D",
        "colab": {
          "base_uri": "https://localhost:8080/"
        },
        "outputId": "9594b42b-fb3f-4444-f489-9192499c7ed7"
      },
      "source": [
        "dic = {1:'One', 2:'Two', 3:'Three'}\n",
        "print(dic)\n",
        "\n",
        "dic = {1:'One', 2:'Two', 3:'Three', 1:'One', 2:'Two', 3:'Three'}\n",
        "print(dic)"
      ],
      "execution_count": 47,
      "outputs": [
        {
          "output_type": "stream",
          "name": "stdout",
          "text": [
            "{1: 'One', 2: 'Two', 3: 'Three'}\n",
            "{1: 'One', 2: 'Two', 3: 'Three'}\n"
          ]
        }
      ]
    },
    {
      "cell_type": "markdown",
      "metadata": {
        "id": "Vq8tORypPmPX"
      },
      "source": [
        "### 딕셔너리 요소 추가/삭제\n",
        "\n",
        "* 딕셔너리의 해당 **키 값**에 값을 추가하여 요소 추가\n",
        "* del을 이용하여 요소 제거"
      ]
    },
    {
      "cell_type": "code",
      "metadata": {
        "id": "zjBqbHUhPjUX",
        "colab": {
          "base_uri": "https://localhost:8080/"
        },
        "outputId": "746b7b83-c75b-4009-9ebd-87f92d74c78c"
      },
      "source": [
        "dic = {1:'One', 2:'Two', 3:'Three'}\n",
        "print(dic)\n",
        "print(dic[2]) # 2가 키값임\n",
        "dic[4] = 'Four'\n",
        "print(dic)\n",
        "dic[5] = 'Five'\n",
        "print(dic)\n",
        "del dic[4]\n",
        "print(dic)"
      ],
      "execution_count": 52,
      "outputs": [
        {
          "output_type": "stream",
          "name": "stdout",
          "text": [
            "{1: 'One', 2: 'Two', 3: 'Three'}\n",
            "Two\n",
            "{1: 'One', 2: 'Two', 3: 'Three', 4: 'Four'}\n",
            "{1: 'One', 2: 'Two', 3: 'Three', 4: 'Four', 5: 'Five'}\n",
            "{1: 'One', 2: 'Two', 3: 'Three', 5: 'Five'}\n"
          ]
        }
      ]
    },
    {
      "cell_type": "markdown",
      "metadata": {
        "id": "SlUKOt2tSatr"
      },
      "source": [
        "### 딕셔너리 메소드(Dictionary Methods)\n"
      ]
    },
    {
      "cell_type": "markdown",
      "source": [
        "keys() 딕셔너리 키 가져오기<br>\n",
        "values() 딕셔너리 값 가져오기<br>\n",
        "items() 딕셔너리의 키와 값을 모두 가져오기<br>\n",
        "get() 딕셔너리에서 키에 해당하는 값 가져오기<br>\n",
        "pop() 딕셔너리에서 키에 해당하는 값 추출하기<br>\n",
        "clear() 딕셔너리의 모든 요소를 제거하기"
      ],
      "metadata": {
        "id": "EFfjDk2irQYE"
      }
    },
    {
      "cell_type": "code",
      "metadata": {
        "id": "JjF0-2zFP4vN",
        "colab": {
          "base_uri": "https://localhost:8080/"
        },
        "outputId": "17596100-61b4-403a-c95a-f49acd46cd0f"
      },
      "source": [
        "dic = {1:'One', 2:'Two', 3:'Three'}\n",
        "print(dic)\n",
        "print(dic.keys())\n",
        "print(dic.values())\n",
        "print(dic.items()) # 키 밸류 쌍으로 나옴\n",
        "print(dic.get(2)) # 키의 값을 가져와서 보여주기만 함 \n",
        "print(dic.pop(3)) # 키의 값을 추출한다. 딕셔너리에서 이 값을 빼내고 보여줌. \n",
        "print(dic)\n",
        "dic.clear()\n",
        "print(dic)"
      ],
      "execution_count": 58,
      "outputs": [
        {
          "output_type": "stream",
          "name": "stdout",
          "text": [
            "{1: 'One', 2: 'Two', 3: 'Three'}\n",
            "dict_keys([1, 2, 3])\n",
            "dict_values(['One', 'Two', 'Three'])\n",
            "dict_items([(1, 'One'), (2, 'Two'), (3, 'Three')])\n",
            "Two\n",
            "Three\n",
            "{1: 'One', 2: 'Two'}\n",
            "{}\n"
          ]
        }
      ]
    }
  ]
}
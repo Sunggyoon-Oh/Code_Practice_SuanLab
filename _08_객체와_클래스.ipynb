{
  "nbformat": 4,
  "nbformat_minor": 0,
  "metadata": {
    "colab": {
      "name": "_08 객체와 클래스.ipynb",
      "provenance": [],
      "collapsed_sections": [
        "zXbENjlMCrkU",
        "41GeF0a5KMPU",
        "qQc_0nwV1YyE",
        "u91KX7n6K1Qx",
        "b0ybpBx4B-NI",
        "8x-oWtbBxCpE",
        "GbFr5qM78B41",
        "QJg6wYdSHKFh",
        "vCwxB_lyIv5D",
        "5rb7_sHfotYO",
        "jp55uMrGpYsv",
        "wfmzBAGRBtWi",
        "EZwYD92qt4gh",
        "gTRPQI5cu_vU",
        "400E5EtqwBq3",
        "7rnSGoFCxvKK",
        "YILvez-k05pV"
      ]
    },
    "kernelspec": {
      "name": "python3",
      "display_name": "Python 3"
    },
    "accelerator": "GPU",
    "gpuClass": "standard"
  },
  "cells": [
    {
      "cell_type": "markdown",
      "metadata": {
        "id": "bg5ZXMV2sn1M"
      },
      "source": [
        "# 객체와 클래스"
      ]
    },
    {
      "cell_type": "markdown",
      "metadata": {
        "id": "Lj_iZPKnCRP0"
      },
      "source": [
        "\n",
        "\n",
        "---\n",
        "\n"
      ]
    },
    {
      "cell_type": "markdown",
      "metadata": {
        "id": "zXbENjlMCrkU"
      },
      "source": [
        "## 객체(Object)\n",
        "\n"
      ]
    },
    {
      "cell_type": "markdown",
      "source": [
        "* 객채란 존재하는 모든것\n",
        "* 현실 세계는 객체로 이뤄져 있음. 모든 사건들은 상호간의 상호작용을 통해 발생\n",
        "* 객체란 객체의 속성을 이루는 데이터들 뿐만 아니라 그 데이터의 조작바법에 대한 내용도 포함\n",
        "* 객체는 **속성**과 **기능**을 가지고 있는 것이 핵심\n",
        "\n",
        "__객체__ <br>\n",
        "Name 이름<br>\n",
        "Attributes 속성<br>\n",
        "Methods 기능<br>\n",
        "으로 이루어짐"
      ],
      "metadata": {
        "id": "VVKtUYDCrFJ7"
      }
    },
    {
      "cell_type": "markdown",
      "metadata": {
        "id": "41GeF0a5KMPU"
      },
      "source": [
        "### 객체 지향 프로그래밍(Object Oriented Programming)\n",
        "\n"
      ]
    },
    {
      "cell_type": "markdown",
      "source": [
        "* 객체 개념을 다루는 것이 객체 지향\n",
        "* 객체 지향 프로그래밍은 컴퓨터 프로그래밍 기법 중 하나\n",
        "* 프로그램을 단순히 데이터와 처리 방법으로 나누는 것이 아니라, 프로그램을 수많은 '객체'라는 단위로 구분, 이 객체들의 상호작용하는 방식\n",
        "* 각각의 객체는 메세지를 주고 받고, 데이터를 처리"
      ],
      "metadata": {
        "id": "GLnr36Yyrcxd"
      }
    },
    {
      "cell_type": "markdown",
      "metadata": {
        "id": "qQc_0nwV1YyE"
      },
      "source": [
        "## 클래스(Class)\n",
        "\n"
      ]
    },
    {
      "cell_type": "markdown",
      "source": [
        "* 객체의 구성 요소를 담는 개념\n",
        "* 여러개의 속성(attribute)와 기능(method)를 포함하는 개념\n",
        "* 객체를 정의하는 틀 또는 설계도\n",
        "* 실제 생성된 객체는 인스턴스(instance)\n",
        "* 인스턴스는 메모리에 할당된 객체를 의미\n",
        "* 클래스 문법<br>\n",
        "`class Name(object):`\n",
        "+ class: 클래스 정의 \n",
        "+ Name: 클래스 명\n",
        "+ object: 상속받는 객체명"
      ],
      "metadata": {
        "id": "2TRllbZZtR8D"
      }
    },
    {
      "cell_type": "markdown",
      "metadata": {
        "id": "u91KX7n6K1Qx"
      },
      "source": [
        "### Book 클래스 정의\n",
        "\n",
        "* 클래스 이름: Book\n",
        "* 속성\n",
        "  + 저자: author\n",
        "  + 책 이름: name\n",
        "  + 출판사: publisher\n",
        "  + 발행일: date\n",
        "\n"
      ]
    },
    {
      "cell_type": "code",
      "metadata": {
        "id": "VIauKM25w6Aw"
      },
      "source": [
        "class Book(object): # 북이라는 클래스 정의\n",
        "  author = \"\"\n",
        "  title = \"\"\n",
        "  publisher = \"\"\n",
        "  date = \"\""
      ],
      "execution_count": 2,
      "outputs": []
    },
    {
      "cell_type": "code",
      "metadata": {
        "id": "oboUm_0ZmkwC",
        "colab": {
          "base_uri": "https://localhost:8080/"
        },
        "outputId": "c190ccfe-aecc-4351-f68c-aaa764a6c68a"
      },
      "source": [
        "book = Book() #Book()이라는 클래스를 book이라는 '인스턴스'로 할당하는 것!! = Book()이라는 클래스의 실제적인 인스턴스인 '객체'가 만들어진 것임, 메모리에 할당이 된 것임.\n",
        "book.author = \"Suan\" # 북이라는 인스턴스에 어써라는 속성값(.author식으로 .으로 접근할수 있음)에 수안이라는 문자열을 넣은것\n",
        "print(book.author)\n",
        "book.title = \"Python Programming\"\n",
        "print(book.title)\n",
        "#윗 코드 블럭에서 북이라는 클래스를 정의하고\n",
        "#밑 코드 블럭에서 그 북이라는 클래스에 대해서 인스턴스 book을 만든다음에 그 인스턴에 포함되어 있는 어써에다가 수안을 넣어서 출력하고 타이틀에다 파이썬 프로그래밍 넣고 출력."
      ],
      "execution_count": 5,
      "outputs": [
        {
          "output_type": "stream",
          "name": "stdout",
          "text": [
            "Suan\n",
            "Python Programming\n"
          ]
        }
      ]
    },
    {
      "cell_type": "markdown",
      "metadata": {
        "id": "b0ybpBx4B-NI"
      },
      "source": [
        "### Book 클래스 메소드 정의\n",
        "\n",
        "* 메소드\n",
        "  + 책 정보 출력: `print_info(self)`\n",
        "  + `self`가 있어야만 실제로 인스턴스가 사용할 수 있는 메소드로 선언\n",
        "  + `print_info(self)`에서 `self`는 실제적으로 `book` 인스턴스를 의미\n",
        "  + 메소드 안에서 속성 값을 사용하지 않을 경우에는 `self` 생략 가능"
      ]
    },
    {
      "cell_type": "code",
      "metadata": {
        "id": "bvq4rgKACKGh"
      },
      "source": [
        "class Book(object): # 북이라는 클래스 정의\n",
        "  author = \"\"\n",
        "  title = \"\"\n",
        "  publisher = \"\"\n",
        "  date = \"\"\n",
        "\n",
        "  def print_info(self):\n",
        "    print(\"Author:\", self.author)\n",
        "    print(\"Title:\", self.title)"
      ],
      "execution_count": 1,
      "outputs": []
    },
    {
      "cell_type": "code",
      "metadata": {
        "id": "QLYRU__lmoQx",
        "colab": {
          "base_uri": "https://localhost:8080/"
        },
        "outputId": "d907b932-4f2f-4490-e70b-7c7c632d691d"
      },
      "source": [
        "book = Book() # Book클래스로 book 인스턴스 생성\n",
        "book.author = \"Suan\"\n",
        "book.title = \"Python Programming\"\n",
        "book.print_info() #여기서 프린트 인포를 호출했는데 프린트 인포는 위의 코드블락에(self)로 되어있음. 이 self는 누굴까?\n",
        "                  # 바로 여기 book.print_info()의 'book'임!! "
      ],
      "execution_count": 2,
      "outputs": [
        {
          "output_type": "stream",
          "name": "stdout",
          "text": [
            "Author: Suan\n",
            "Title: Python Programming\n"
          ]
        }
      ]
    },
    {
      "cell_type": "markdown",
      "metadata": {
        "id": "8x-oWtbBxCpE"
      },
      "source": [
        "## 인스턴스 속성(Instance Attribute)\n",
        "\n",
        "* 인스턴스 속성은 객체로부터 인스턴스가 생성된 후에 인스턴스에서 활용하는 속성\n",
        "\n",
        "\n"
      ]
    },
    {
      "cell_type": "markdown",
      "metadata": {
        "id": "GbFr5qM78B41"
      },
      "source": [
        "### Book 인스턴스(b1) 속성\n",
        "\n",
        "* `Book` 클래스에서 생성된 인스턴스 `b1`에서 속성을 활용"
      ]
    },
    {
      "cell_type": "code",
      "metadata": {
        "id": "A25zZg3vjmk0"
      },
      "source": [
        "class Book(object):\n",
        "  author = \"\"\n",
        "  title = \"\"\n",
        "  publisher = \"\"\n",
        "  date = \"\"\n",
        "\n",
        "  def print_info(self):\n",
        "    print(\"Author:\", self.author)\n",
        "    print(\"Title:\", self.title)\n",
        "    print(\"Publisher:\", self.publisher)\n",
        "    print(\"Date:\", self.date)"
      ],
      "execution_count": 3,
      "outputs": []
    },
    {
      "cell_type": "code",
      "metadata": {
        "id": "h-Ja0er-oZpe",
        "colab": {
          "base_uri": "https://localhost:8080/"
        },
        "outputId": "a4f1ae84-82cc-45f1-8ba3-f2e1a2753727"
      },
      "source": [
        "b1 = Book() # Book클래스 b1 인스턴스 \n",
        "b1.author = \"Suan\" # b1 인스턴스에 딸린 속성값들~~\n",
        "b1.title = \"Python Programming\"\n",
        "b1.publisher = \"Colab\"\n",
        "b1.date = 2020\n",
        "b1.print_info()\n",
        "# b1인스턴스의 속성을 이용해 출력할 수 있음"
      ],
      "execution_count": 4,
      "outputs": [
        {
          "output_type": "stream",
          "name": "stdout",
          "text": [
            "Author: Suan\n",
            "Title: Python Programming\n",
            "Publisher: Colab\n",
            "Date: 2020\n"
          ]
        }
      ]
    },
    {
      "cell_type": "markdown",
      "metadata": {
        "id": "QJg6wYdSHKFh"
      },
      "source": [
        "## 클래스 속성(Class Attribute)\n",
        "\n",
        "* 클래스 속성은 클래스 자체에서 사용되는 속성\n",
        "\n",
        "\n"
      ]
    },
    {
      "cell_type": "markdown",
      "metadata": {
        "id": "vCwxB_lyIv5D"
      },
      "source": [
        "### Book 클래스 속성\n",
        "\n",
        "* Book 클래스 자체에서 사용되는 속성"
      ]
    },
    {
      "cell_type": "code",
      "metadata": {
        "id": "YH4BbYHookXd"
      },
      "source": [
        "class Book(object):\n",
        "  author = \"\"\n",
        "  title = \"\"\n",
        "  publisher = \"\"\n",
        "  date = \"\"\n",
        "\n",
        "  def print_info(self):\n",
        "    print(\"Author:\", self.author)\n",
        "    print(\"Title:\", self.title)\n",
        "    print(\"Publisher:\", self.publisher)\n",
        "    print(\"Date:\", self.date)"
      ],
      "execution_count": null,
      "outputs": []
    },
    {
      "cell_type": "code",
      "metadata": {
        "id": "YBLwbRcrogBc",
        "colab": {
          "base_uri": "https://localhost:8080/"
        },
        "outputId": "d3dcee03-4766-448c-8129-987dc9807346"
      },
      "source": [
        "b1 = Book() # Book클래스 b1 인스턴스 \n",
        "Book.author = \"Suan\" # Book 클래스 자체에 사용되는 속성값들~~\n",
        "Book.title = \"Python Programming\"\n",
        "Book.publisher = \"Colab\"\n",
        "Book.date = 2020\n",
        "b1.print_info()"
      ],
      "execution_count": 7,
      "outputs": [
        {
          "output_type": "stream",
          "name": "stdout",
          "text": [
            "Author: Suan\n",
            "Title: Python Programming\n",
            "Publisher: Colab\n",
            "Date: 2020\n"
          ]
        }
      ]
    },
    {
      "cell_type": "markdown",
      "metadata": {
        "id": "5rb7_sHfotYO"
      },
      "source": [
        "## 인스턴스 속성와 클래스 속성의 활용\n",
        "\n",
        "* 인스턴스 속성과 클래스 속성을 목적에 맞도록 나누어서 활용\n",
        "\n"
      ]
    },
    {
      "cell_type": "markdown",
      "metadata": {
        "id": "jp55uMrGpYsv"
      },
      "source": [
        "### Book 인스턴스 속성과 클래스 속성\n",
        "\n",
        "* 인스턴스 속성\n",
        "  + 저자: author\n",
        "  + 제목: title\n",
        "  + 출판사: publisher\n",
        "  + 발행일: date\n",
        "* 클래스 속성\n",
        "  + 수량: count \n",
        "\n",
        "이 수량같은 경우는 인스턴스에 저장해봤자 다 어차피 책은 1권씩이니까 1로밖에 안뜸.<br> 전체 책의 권수를 알고 싶으면 클래스에다 아예 저장해야함"
      ]
    },
    {
      "cell_type": "code",
      "metadata": {
        "id": "6FJ2zFwepLrv"
      },
      "source": [
        "class Book(object):\n",
        "  author = \"\"\n",
        "  title = \"\"\n",
        "  publisher = \"\"\n",
        "  date = \"\"\n",
        "  count = 0\n",
        "  \n",
        "  def print_info(self):\n",
        "    print(\"Author:\", self.author)\n",
        "    print(\"Title:\", self.title)\n",
        "    print(\"Publisher:\", self.publisher)\n",
        "    print(\"Date:\", self.date)"
      ],
      "execution_count": 8,
      "outputs": []
    },
    {
      "cell_type": "code",
      "metadata": {
        "id": "QidaPjC2pthz",
        "colab": {
          "base_uri": "https://localhost:8080/"
        },
        "outputId": "b2e40c2f-8ddf-4f72-ba0d-914367a66b1e"
      },
      "source": [
        "b1 = Book() \n",
        "Book.count += 1 # 카운트 속성을 Book 클래스에 넣음\n",
        "b1.author = \"Suan\" \n",
        "b1.title = \"Python Programming\"\n",
        "b1.publisher = \"Colab\"\n",
        "b1.date = 2020\n",
        "b1.print_info()\n",
        "print(\"Number of Books:\", str(Book.count))"
      ],
      "execution_count": 9,
      "outputs": [
        {
          "output_type": "stream",
          "name": "stdout",
          "text": [
            "Author: Suan\n",
            "Title: Python Programming\n",
            "Publisher: Colab\n",
            "Date: 2020\n",
            "Number of Books: 1\n"
          ]
        }
      ]
    },
    {
      "cell_type": "markdown",
      "metadata": {
        "id": "wfmzBAGRBtWi"
      },
      "source": [
        "## 클래스 매직 메소드(Class Masic Methods)\n"
      ]
    },
    {
      "cell_type": "markdown",
      "source": [
        "* '_'를 두개 붙여서 매직 메서드 또는 속성에 사용\n",
        "* __을 속성 앞에 붙이면 가시성을 위한 속성으로 사용\n",
        "* 클래스 매직 메서드의 종류"
      ],
      "metadata": {
        "id": "Lb3uWax0U0bG"
      }
    },
    {
      "cell_type": "markdown",
      "source": [
        "**매직메서드**                      **설명** <br>\n",
        "`__init__`: 객체의 초기화를 위해 클래스 생성시 호출되는 동작을 정의<br>\n",
        "`__str__`:클래스의 인스턴스에서 str()호출될때의 동작을 정의<br>\n",
        "`__repr__`:클래스의 인스턴스에서 repr()호출될때의 동작을 정의<br>\n",
        "`__new__`:객체의 인스턴스화에서 호출되는 첫번째 메서드<br>\n",
        "`__del__`:객체가 소멸될때 호출되는 메서드<br>\n",
        "`__dir__`:클래스의 인스턴스에서 dir()이 호출될때의 동작을 정의<br>\n",
        "`__getattr__`:존재하지 않는 속성에 엑세스 하려고 시도할 때 행위를 정의<br>\n",
        "`__setattr__`:캡슐화를 위한 방법 정의<br>\n",
        "`__add__`:두 인스턴스의 더하기가 일어날때 실행되는 동작 정의<br>\n",
        "`__lt__``__le__``__gt__``__ge__``__eq__``__ne__`:인스턴스 간의 < <= >= == != 비교 메서드\n"
      ],
      "metadata": {
        "id": "1HDfPuhLT3xO"
      }
    },
    {
      "cell_type": "markdown",
      "metadata": {
        "id": "EZwYD92qt4gh"
      },
      "source": [
        "### `__init__()`\n",
        "\n",
        "\n",
        "* `__init__()` 메소드를 이용하여 클래스의 속성들을 초기화"
      ]
    },
    {
      "cell_type": "code",
      "metadata": {
        "id": "_nq6-s-qBwio"
      },
      "source": [
        "class Book(object):\n",
        "  count = 0\n",
        "\n",
        "  def __init__(self, author, title, publisher, date):\n",
        "    self.author = author\n",
        "    self.title = title\n",
        "    self.publisher = publisher\n",
        "    self.date = date\n",
        "    Book.count += 1\n",
        "    # 이렇게 해놓으면 Book 클래스를 생성할 때마다 알아서 인스턴스의 속성들이 초기화 될수 있게 해줌\n",
        "\n",
        "  def print_info(self):\n",
        "    print(\"Author:\", self.author)\n",
        "    print(\"Title:\", self.title)\n",
        "    print(\"Publisher:\", self.publisher)\n",
        "    print(\"Date:\", self.date)"
      ],
      "execution_count": 16,
      "outputs": []
    },
    {
      "cell_type": "code",
      "metadata": {
        "id": "oQknTy7Mul4a",
        "colab": {
          "base_uri": "https://localhost:8080/"
        },
        "outputId": "6831f5df-7046-481c-b500-52dd05443823"
      },
      "source": [
        "book = Book(\"Suan\", \"Python Programming\", \"Colab\", \"2020\")\n",
        "book.print_info()\n",
        "# 1. 수안은 저 윗 코드블락의 def init() 괄호 안의 author에 걸리게 됨, 파이썬프로그래밍은 타이틀에, 코랩은 퍼블리셔에 2020은 date에 걸림.\n",
        "# 2. 각 전달받은 값(author)은 실제 인스턴스(self.author)의 속성값으로 하나하나 추가해서 넣어지게 됨.\n",
        "# 이렇게 만 하더라도 book이라는 인스턴스의 각 속성값들이 다 초기화가 됨.\n",
        "# 그 초기화된 값 형태로 출력이 됨\n",
        "print(\"Number of Books\", str(Book.count)) # 이 넘버오브 북스는 이 셀을 한번 실행시킬때마다 계속 숫자가 1씩 커짐. 위에서 카운트는 += 1 형태로 저장해놈"
      ],
      "execution_count": 19,
      "outputs": [
        {
          "output_type": "stream",
          "name": "stdout",
          "text": [
            "Author: Suan\n",
            "Title: Python Programming\n",
            "Publisher: Colab\n",
            "Date: 2020\n",
            "Number of Books 3\n"
          ]
        }
      ]
    },
    {
      "cell_type": "markdown",
      "metadata": {
        "id": "gTRPQI5cu_vU"
      },
      "source": [
        "### `__str__()`\n",
        "\n",
        "* `__str__()` 메소드를 이용하여 인스턴스 출력"
      ]
    },
    {
      "cell_type": "code",
      "metadata": {
        "id": "QYd5z8z2vIq2"
      },
      "source": [
        "class Book(object):\n",
        "  count = 0\n",
        "\n",
        "  def __init__(self, author, title, publisher, date):\n",
        "    self.author = author\n",
        "    self.title = title\n",
        "    self.publisher = publisher\n",
        "    self.date = date\n",
        "    Book.count += 1\n",
        "\n",
        "  def __str__(self): # 매직메서드를 사용해 인스턴스 출력할때 나오는 결과를 그냥 보여주기\n",
        "    return (\"Author:\" + self.author + \\\n",
        "            \"\\nTitle:\" + self.title + \\\n",
        "            \"\\nPublisher:\" + self.publisher + \\\n",
        "            \"\\nDate:\" + self.date)"
      ],
      "execution_count": 20,
      "outputs": []
    },
    {
      "cell_type": "code",
      "metadata": {
        "id": "eECQWpfkvimX",
        "colab": {
          "base_uri": "https://localhost:8080/"
        },
        "outputId": "4251cc32-38b7-4af2-a4f9-06f42faec666"
      },
      "source": [
        "book = Book(\"Suan\", \"Python Programming\", \"Colab\", \"2020\")\n",
        "print(book) # 그냥 book 인스턴스 프린트 하면 됨\n",
        "print(\"Number of Books\", str(Book.count))"
      ],
      "execution_count": 21,
      "outputs": [
        {
          "output_type": "stream",
          "name": "stdout",
          "text": [
            "Author:Suan\n",
            "Title:Python Programming\n",
            "Publisher:Colab\n",
            "Date:2020\n",
            "Number of Books 1\n"
          ]
        }
      ]
    },
    {
      "cell_type": "markdown",
      "metadata": {
        "id": "400E5EtqwBq3"
      },
      "source": [
        "### 매직 메소드 예제\n",
        "\n",
        "* Line 클래스"
      ]
    },
    {
      "cell_type": "code",
      "metadata": {
        "id": "XFXm9WwCwcUD"
      },
      "source": [
        "class Line(object):\n",
        "  length = 0\n",
        "\n",
        "  def __init__(self, length): # 이닛 메서드로 렝스를 자동 초기화\n",
        "    self.length = length\n",
        "    print(self.length, \"길이의 선 생성\") # 이런 길이의 선이 생성이 됐다를 출력\n",
        "  \n",
        "  def __del__(self): \n",
        "    print(self.length, \"길이의 선 제거\")\n",
        "\n",
        "  def __repr__(self): # 선의 길이 출력\n",
        "    return str(self.length)\n",
        "\n",
        "  def __add__(self, other):\n",
        "    return self.length + other.length\n",
        "\n",
        "  def __lt__(self, other):\n",
        "    return self.length < other.length\n",
        "\n",
        "  def __gt__(self, other):\n",
        "    return self.length <= other.length \n",
        "  \n",
        "  def __ge__(self, other):\n",
        "    return self.length >= other.length\n",
        "\n",
        "  def __eq__(self, other):\n",
        "    return self.length == other.length\n",
        "\n",
        "  def __ne__(self, other):\n",
        "    return self.length != other.length\n",
        "# Line이라는 클래스를 매직메서드 들로 정의해놈"
      ],
      "execution_count": 24,
      "outputs": []
    },
    {
      "cell_type": "code",
      "metadata": {
        "id": "nFThopZjxPRK",
        "colab": {
          "base_uri": "https://localhost:8080/"
        },
        "outputId": "3bf3ac6f-3ec5-4cdb-829a-889380c3cd04"
      },
      "source": [
        "l1 = Line(30)\n",
        "print(l1)\n",
        "\n",
        "l2 = Line(20)\n",
        "print(l2) #이게 repr\n",
        "\n",
        "print(\"선의 합:\", l1 + l2) # 이게 add\n",
        "\n",
        "if l1 < l2:\n",
        "  print(l1, '<', l2)\n",
        "elif l1 <= l2:\n",
        "  print(l1, '<=', l2)\n",
        "elif l1 > l2:\n",
        "  print(l1, '>', l2)\n",
        "elif l1 >= l2:\n",
        "  print(l1, '>=', l2)\n",
        "elif l1 == l2:\n",
        "  print(l1, '==', l2)\n",
        "elif l1 != l2:\n",
        "  print(l1, '!=', l2)\n",
        "else:\n",
        "  pass\n",
        "\n",
        "del(l1)\n",
        "del(l2)"
      ],
      "execution_count": 33,
      "outputs": [
        {
          "output_type": "stream",
          "name": "stdout",
          "text": [
            "30 길이의 선 생성\n",
            "30\n",
            "20 길이의 선 생성\n",
            "20\n",
            "선의 합: 50\n",
            "30 >= 20\n",
            "30 길이의 선 제거\n",
            "20 길이의 선 제거\n",
            "30 길이의 선 제거\n",
            "20 길이의 선 제거\n"
          ]
        }
      ]
    },
    {
      "cell_type": "markdown",
      "metadata": {
        "id": "7rnSGoFCxvKK"
      },
      "source": [
        "### 가시성 예제\n",
        "\n",
        "* `__items` 속성은 Box 객체 외부에서 보이지 않도록 캡슐화와 정보 은닉이 가능\n",
        "* 외부에서 `__items` 속성에 접근하면 속성 오류 발생"
      ]
    },
    {
      "cell_type": "code",
      "metadata": {
        "id": "DTrIbq53x3ZI"
      },
      "source": [
        "class Box(object):\n",
        "  def __init__(self, name):\n",
        "    self.name = name\n",
        "    self.__items = [] # 일단 박스안의 내용을 빈걸로 만든다\n",
        "\n",
        "  def add_item(self, item):\n",
        "    self.__items.append(item)\n",
        "    print(\"아이템 추가\")\n",
        "\n",
        "  def get_number_of_items(self):\n",
        "    return len(self.__items) # 아이템의 갯수는 알수 있지만 아이템 자체가 먼지는 모르게"
      ],
      "execution_count": 35,
      "outputs": []
    },
    {
      "cell_type": "code",
      "metadata": {
        "id": "AU5wHppgyLbh",
        "colab": {
          "base_uri": "https://localhost:8080/",
          "height": 284
        },
        "outputId": "5abaa8d8-d2cf-4cea-e650-1234407ff1e0"
      },
      "source": [
        "box = Box(\"Box\")\n",
        "box.add_item(\"Item1\")\n",
        "box.add_item(\"Item2\")\n",
        "print(box.name)\n",
        "print(box.get_number_of_items()) # 아이템이 두개라고 알려줌\n",
        "print(box.__items) # 위에는 있는 속성인데 출력이 안되게 은닉 시켜놓은 것임."
      ],
      "execution_count": 37,
      "outputs": [
        {
          "output_type": "stream",
          "name": "stdout",
          "text": [
            "아이템 추가\n",
            "아이템 추가\n",
            "Box\n",
            "2\n"
          ]
        },
        {
          "output_type": "error",
          "ename": "AttributeError",
          "evalue": "ignored",
          "traceback": [
            "\u001b[0;31m---------------------------------------------------------------------------\u001b[0m",
            "\u001b[0;31mAttributeError\u001b[0m                            Traceback (most recent call last)",
            "\u001b[0;32m<ipython-input-37-acc7bc007193>\u001b[0m in \u001b[0;36m<module>\u001b[0;34m()\u001b[0m\n\u001b[1;32m      4\u001b[0m \u001b[0mprint\u001b[0m\u001b[0;34m(\u001b[0m\u001b[0mbox\u001b[0m\u001b[0;34m.\u001b[0m\u001b[0mname\u001b[0m\u001b[0;34m)\u001b[0m\u001b[0;34m\u001b[0m\u001b[0;34m\u001b[0m\u001b[0m\n\u001b[1;32m      5\u001b[0m \u001b[0mprint\u001b[0m\u001b[0;34m(\u001b[0m\u001b[0mbox\u001b[0m\u001b[0;34m.\u001b[0m\u001b[0mget_number_of_items\u001b[0m\u001b[0;34m(\u001b[0m\u001b[0;34m)\u001b[0m\u001b[0;34m)\u001b[0m \u001b[0;31m# 아이템이 두개라고 알려줌\u001b[0m\u001b[0;34m\u001b[0m\u001b[0;34m\u001b[0m\u001b[0m\n\u001b[0;32m----> 6\u001b[0;31m \u001b[0mprint\u001b[0m\u001b[0;34m(\u001b[0m\u001b[0mbox\u001b[0m\u001b[0;34m.\u001b[0m\u001b[0m__items\u001b[0m\u001b[0;34m)\u001b[0m\u001b[0;34m\u001b[0m\u001b[0;34m\u001b[0m\u001b[0m\n\u001b[0m",
            "\u001b[0;31mAttributeError\u001b[0m: 'Box' object has no attribute '__items'"
          ]
        }
      ]
    },
    {
      "cell_type": "markdown",
      "metadata": {
        "id": "Gid0aLGUBx9D"
      },
      "source": [
        "## 클래스 상속(Class Inheritance)\n"
      ]
    },
    {
      "cell_type": "markdown",
      "source": [
        "* 기존 클래스에 있는 속성과 메소드를 그대로 상속받아 새로운 클래스를 생성\n",
        "* 공통된 클래스를 부모로 두고 자식들이 상속을 받아 클래스를 생성하므로 일관성있는 프로그래밍 가능\n",
        "* 기존 클래스에서 일부를 추가/변경한 새로운 클래스 생성으로 코드 재사용(reuse) 가능\n",
        "* 클래스 상속 문법: `class SubClass(SuperClass):`"
      ],
      "metadata": {
        "id": "hmbionMvjDxa"
      }
    },
    {
      "cell_type": "code",
      "metadata": {
        "id": "QFIEB2XP1XsW"
      },
      "source": [
        "class SuperClass(object):\n",
        "  pass\n",
        "\n",
        "class SubClass(SuperClass):\n",
        "  pass #상속이란 개념 완성, 위의 수퍼클래스 내용을 밑의 서브클래스에서 그대로 갖다 쓸수 있음"
      ],
      "execution_count": 39,
      "outputs": []
    },
    {
      "cell_type": "markdown",
      "metadata": {
        "id": "YILvez-k05pV"
      },
      "source": [
        "### 메소드 오버라이딩(Method Overriding)\n",
        "\n",
        "\n"
      ]
    },
    {
      "cell_type": "markdown",
      "source": [
        "* `SuperClass`로부터 `SubClass1`와 `SubClass2`가 클래스 상속\n",
        "* 아무 내용도 없는 추상 메서드(Abstract Method) `method()`를 정의\n",
        "* `SubClass1`의 `method()`는 `SuperClass`의 추상 메소드를 오버라이딩"
      ],
      "metadata": {
        "id": "-U8adhNbjaZW"
      }
    },
    {
      "cell_type": "code",
      "metadata": {
        "id": "np_aylDHzSXs"
      },
      "source": [
        "class SuperClass(object):\n",
        "  def method(self):\n",
        "    pass # 빈 메서드, 앱스트랙트 메서드를 정의\n",
        "\n",
        "class SubClass1(SuperClass):\n",
        "  def method(self):\n",
        "    print(\"Method Overriding\") # 기존에는 패스였는데 오버라이딩을 하는 것임\n",
        "  \n",
        "class SubClass2(SuperClass):\n",
        "  pass"
      ],
      "execution_count": 42,
      "outputs": []
    },
    {
      "cell_type": "code",
      "metadata": {
        "id": "HCPloTpu2tJf",
        "colab": {
          "base_uri": "https://localhost:8080/"
        },
        "outputId": "857a2775-da04-43f1-88ae-dbeafbfc95f9"
      },
      "source": [
        "sub1 = SubClass1()\n",
        "sub2 = SubClass2()\n",
        "\n",
        "sub1.method()\n",
        "sub2.method() #위 셀에 subclass 2는 비었는데 여기 출력할때 에러가 안남. 왜? 그래도 수퍼클래스를 상속받아온 애라서임"
      ],
      "execution_count": 44,
      "outputs": [
        {
          "output_type": "stream",
          "name": "stdout",
          "text": [
            "Method Overriding\n"
          ]
        }
      ]
    },
    {
      "cell_type": "markdown",
      "metadata": {
        "id": "5JcJXHiUyqmt"
      },
      "source": [
        "### 클래스 상속, 메소드 오버라이딩 예제\n",
        "\n",
        "* Vehicle 클래스를 상속받아 Car 클래스와 Truck 클래스 생성\n",
        "* Car 클래스와 Truck 클래스는 up_speed 메소드를 오버라이딩\n",
        "* Car 클래스는 속도가 240 초과되면 240으로 조정\n",
        "* Truck 클래스는 속도가 180 초과되면 180으로 조정"
      ]
    },
    {
      "cell_type": "code",
      "metadata": {
        "id": "WAQOF_BcB2ww"
      },
      "source": [
        "class Vehicle(object):\n",
        "  speed = 0\n",
        "  def up_speed(self, value):\n",
        "    self.speed += value\n",
        "  \n",
        "  def down_speed(self, value):\n",
        "    self.speed -= value\n",
        "  \n",
        "  def print_speed(self):\n",
        "    print(\"Speed:\", str(self.speed))\n",
        "\n",
        "class Car(Vehicle):\n",
        "  def up_speed(self, value):\n",
        "    self.speed += value\n",
        "    if self.speed > 240: self.speed = 240 #셀프 스피드가 240 이상이면 240으로 고정해버리기\n",
        "\n",
        "\n",
        "class Truck(Vehicle):\n",
        "  def up_speed(self, value):\n",
        "    self.speed += value\n",
        "    if self.speed > 180: self.speed = 180"
      ],
      "execution_count": 58,
      "outputs": []
    },
    {
      "cell_type": "code",
      "metadata": {
        "id": "xjlG-ZDM3tXw",
        "colab": {
          "base_uri": "https://localhost:8080/"
        },
        "outputId": "b8f8927f-d26d-49d5-d184-63473a65af31"
      },
      "source": [
        "car = Car()\n",
        "car.up_speed(300)\n",
        "car.print_speed()\n",
        "\n",
        "truck = Truck()\n",
        "truck.up_speed(200)\n",
        "truck.print_speed()\n",
        "# 위셀의 비히클에서는 저렇게 정의했지만 밑에 상속받는데에서는 오버라이딩을 통해 카와 트럭의 다른 특성을 사용할수 있게 됨"
      ],
      "execution_count": 59,
      "outputs": [
        {
          "output_type": "stream",
          "name": "stdout",
          "text": [
            "Speed: 240\n",
            "Speed: 180\n"
          ]
        }
      ]
    }
  ]
}
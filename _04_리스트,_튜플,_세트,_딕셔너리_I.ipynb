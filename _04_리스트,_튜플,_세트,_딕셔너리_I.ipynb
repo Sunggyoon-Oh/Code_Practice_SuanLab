{
  "nbformat": 4,
  "nbformat_minor": 0,
  "metadata": {
    "colab": {
      "name": "_04 리스트, 튜플, 세트, 딕셔너리 I.ipynb",
      "provenance": [],
      "collapsed_sections": []
    },
    "kernelspec": {
      "name": "python3",
      "display_name": "Python 3"
    },
    "accelerator": "GPU",
    "gpuClass": "standard"
  },
  "cells": [
    {
      "cell_type": "markdown",
      "metadata": {
        "id": "bg5ZXMV2sn1M"
      },
      "source": [
        "# 리스트, 튜플, 세트, 딕셔너리"
      ]
    },
    {
      "cell_type": "markdown",
      "source": [
        "# 리스트<br>\n",
        "변경 가능 시퀀스 자료형<br>\n",
        "하나의 변수에 여러값 할당 가능<br>\n",
        "같은 자료형이 아니라 다른 자료형을 가지는 값들 포함 가능<br>\n",
        "일반적으로 비슷하 항목들 모음을 순서대로 저장"
      ],
      "metadata": {
        "id": "ZBx51dPkHTtU"
      }
    },
    {
      "cell_type": "markdown",
      "metadata": {
        "id": "Lj_iZPKnCRP0"
      },
      "source": [
        "\n",
        "\n",
        "---\n",
        "\n"
      ]
    },
    {
      "cell_type": "markdown",
      "metadata": {
        "id": "aKsMBDZohTu4"
      },
      "source": [
        "## 리스트(List)\n",
        "\n"
      ]
    },
    {
      "cell_type": "code",
      "metadata": {
        "id": "qLh1E-1_hxR_",
        "colab": {
          "base_uri": "https://localhost:8080/"
        },
        "outputId": "efa77420-8d24-4519-a8e7-cf441be62553"
      },
      "source": [
        "print([])\n",
        "print([1,2,3])\n",
        "print(['One', 'Two', 'Three'])\n",
        "print([1, 'One', 2, 'Two', 3, 'Three']) # 서로 다른 자료형인데 리스트에 포함돼서 나옴\n",
        "print([1, 2, 3, ['One', 'Two', 'Three']]) # 리스트 안에 리스트 들어가는 형태도 가능"
      ],
      "execution_count": null,
      "outputs": [
        {
          "output_type": "stream",
          "name": "stdout",
          "text": [
            "[]\n",
            "[1, 2, 3]\n",
            "['One', 'Two', 'Three']\n",
            "[1, 'One', 2, 'Two', 3, 'Three']\n",
            "[1, 2, 3, ['One', 'Two', 'Three']]\n"
          ]
        }
      ]
    },
    {
      "cell_type": "markdown",
      "metadata": {
        "id": "YApkWxX_Yo7K"
      },
      "source": [
        "### 리스트 인덱싱(List Indexing)\n",
        "\n",
        "* 리스트의 각 위치에 해당하는 값에 접근하기 위해서 주소 개념의 숫자를 사용"
      ]
    },
    {
      "cell_type": "markdown",
      "source": [
        "One', 'Two', 'Three' <br>\n",
        "0     1       2<br>\n",
        "-3    -2      -1"
      ],
      "metadata": {
        "id": "91qSjb1nIKbK"
      }
    },
    {
      "cell_type": "code",
      "metadata": {
        "id": "DapQSgP4ZEM_",
        "colab": {
          "base_uri": "https://localhost:8080/"
        },
        "outputId": "d7bd4e9a-8ed2-4095-f920-14c9b267cc47"
      },
      "source": [
        "list = ['One', 'Two', 'Three']\n",
        "print(list)\n",
        "print(list[0])\n",
        "print(list[1])\n",
        "print(list[2])\n",
        "print(list[-1]) # 항상 -1 인덱스는 오른쪽 끝\n",
        "print(list[-2])\n",
        "print(list[-3])"
      ],
      "execution_count": null,
      "outputs": [
        {
          "output_type": "stream",
          "name": "stdout",
          "text": [
            "['One', 'Two', 'Three']\n",
            "One\n",
            "Two\n",
            "Three\n",
            "Three\n",
            "Two\n",
            "One\n"
          ]
        }
      ]
    },
    {
      "cell_type": "markdown",
      "metadata": {
        "id": "zudx4zfHdAvz"
      },
      "source": [
        "### 중첩 리스트 인덱싱(Nested List Indexing)\n",
        "\n",
        "* 리스트 안에 리스트가 있을 경우 인덱스 접근 방법"
      ]
    },
    {
      "cell_type": "code",
      "metadata": {
        "id": "4-AbAyBsdiu4",
        "colab": {
          "base_uri": "https://localhost:8080/"
        },
        "outputId": "661d5176-ab21-4c72-bebe-9870a1013b9d"
      },
      "source": [
        "list = ([1, 2, 3, ['One', 'Two', 'Three']]) # 리스트 안에 리스트 들어가는 형태도 가능\n",
        "print(list)\n",
        "print(list[3])\n",
        "print(list[3][0]) # 3번째 인덱스 안에서 0번째 인덱스 출력\n",
        "print(list[3][1]) # 3번째 인덱스 안에서 1번째 인덱스 출력\n",
        "print(list[3][2]) # 3번째 인덱스 안에서 2번째 인덱스 출력"
      ],
      "execution_count": null,
      "outputs": [
        {
          "output_type": "stream",
          "name": "stdout",
          "text": [
            "[1, 2, 3, ['One', 'Two', 'Three']]\n",
            "['One', 'Two', 'Three']\n",
            "One\n",
            "Two\n",
            "Three\n"
          ]
        }
      ]
    },
    {
      "cell_type": "markdown",
      "metadata": {
        "id": "qYff3UXAd_gZ"
      },
      "source": [
        "### 리스트 슬라이싱(List Slicing)\n",
        "\n",
        "* 리스트의 인덱스를 통해서 부분만 가져올 때 사용"
      ]
    },
    {
      "cell_type": "code",
      "metadata": {
        "id": "XV6YtlM8eFZ7",
        "colab": {
          "base_uri": "https://localhost:8080/"
        },
        "outputId": "e39985c0-c375-4776-80a2-808f59f84354"
      },
      "source": [
        "list = ['One', 'Two', 'Three']\n",
        "print(list)\n",
        "print(list[0:])\n",
        "print(list[1:2])\n",
        "print(list[1:])"
      ],
      "execution_count": null,
      "outputs": [
        {
          "output_type": "stream",
          "name": "stdout",
          "text": [
            "['One', 'Two', 'Three']\n",
            "['One', 'Two', 'Three']\n",
            "['Two']\n",
            "['Two', 'Three']\n"
          ]
        }
      ]
    },
    {
      "cell_type": "markdown",
      "metadata": {
        "id": "7BBUTCoWfRFY"
      },
      "source": [
        "### 중첩 리스트 슬라이싱(Nested List Slicing)\n",
        "\n",
        "* 중첩된 리스트에서 일부분만 인덱스를 통해서 가져올 때 사용"
      ]
    },
    {
      "cell_type": "code",
      "metadata": {
        "id": "KXqdQhpminGG",
        "colab": {
          "base_uri": "https://localhost:8080/"
        },
        "outputId": "bad734e4-fe07-48f4-e2ae-fd133480ba74"
      },
      "source": [
        "list = [1, 2, 3, ['One', 'Two', 'Three']]\n",
        "print(list)\n",
        "print(list[2:4])\n",
        "print(list[3][2:]) # 세번째 리스트에서 2에서 끝 인덱스\n",
        "print(list[3][:2])"
      ],
      "execution_count": null,
      "outputs": [
        {
          "output_type": "stream",
          "name": "stdout",
          "text": [
            "[1, 2, 3, ['One', 'Two', 'Three']]\n",
            "[3, ['One', 'Two', 'Three']]\n",
            "['Three']\n",
            "['One', 'Two']\n"
          ]
        }
      ]
    },
    {
      "cell_type": "markdown",
      "metadata": {
        "id": "q_9BaaINjg2l"
      },
      "source": [
        "### 리스트 연산자/함수(List Operators/Function)\n",
        "\n",
        "* 더하기 + 연산자\n",
        "* 곱하기 * 연산자\n",
        "* 리스트 길이를 구하는 `len()` 함수"
      ]
    },
    {
      "cell_type": "code",
      "metadata": {
        "id": "iylo3yUBjpBW",
        "colab": {
          "base_uri": "https://localhost:8080/"
        },
        "outputId": "a0684a9d-9358-44b5-97a5-7aa38f8ff659"
      },
      "source": [
        "list_1 = ['One', 'Two', 'Three']\n",
        "list_2 = ['Four', 'Five', 'Six']\n",
        "print(list_1)\n",
        "print(list_2)\n",
        "print(list_1 + list_2)\n",
        "print(list_1 * 3)\n",
        "print(len(list_1))\n",
        "print(len(list_1 * 3)) # 리스트1을 세번 곱한 출력물의 길이를 구한것."
      ],
      "execution_count": null,
      "outputs": [
        {
          "output_type": "stream",
          "name": "stdout",
          "text": [
            "['One', 'Two', 'Three']\n",
            "['Four', 'Five', 'Six']\n",
            "['One', 'Two', 'Three', 'Four', 'Five', 'Six']\n",
            "['One', 'Two', 'Three', 'One', 'Two', 'Three', 'One', 'Two', 'Three']\n",
            "3\n",
            "9\n"
          ]
        }
      ]
    },
    {
      "cell_type": "markdown",
      "metadata": {
        "id": "XTQWWsI7j-g0"
      },
      "source": [
        "### 리스트 수정(List Modify)\n",
        "\n",
        "* 리스트 인덱스 주소를 이용한 값 수정"
      ]
    },
    {
      "cell_type": "code",
      "metadata": {
        "id": "ZAvCJXhPkDIN",
        "colab": {
          "base_uri": "https://localhost:8080/"
        },
        "outputId": "d662d334-95c1-4110-82f1-4421a83b037f"
      },
      "source": [
        "list = ['One', 'Two', 'Three']\n",
        "print(list)\n",
        "list[2] =3\n",
        "print(list) # 'Three'가 3으로 바뀜\n",
        "list[1] = 2\n",
        "print(list) # Two 가 2가됨\n",
        "list[0] = 1 \n",
        "print(list)# One 이 1이됨"
      ],
      "execution_count": null,
      "outputs": [
        {
          "output_type": "stream",
          "name": "stdout",
          "text": [
            "['One', 'Two', 'Three']\n",
            "['One', 'Two', 3]\n",
            "['One', 2, 3]\n",
            "[1, 2, 3]\n"
          ]
        }
      ]
    },
    {
      "cell_type": "markdown",
      "metadata": {
        "id": "OolpuGcLlHrs"
      },
      "source": [
        "### 리스트 메소드(List Methods)\n"
      ]
    },
    {
      "cell_type": "markdown",
      "metadata": {
        "id": "m5xHM2-jlQh3"
      },
      "source": [
        "#### append()\n",
        "\n",
        "* 리스트 요소 추가"
      ]
    },
    {
      "cell_type": "code",
      "metadata": {
        "id": "8AaEGUxSlU_a",
        "colab": {
          "base_uri": "https://localhost:8080/"
        },
        "outputId": "0b22203f-8747-4d21-cc66-bb19240aaa10"
      },
      "source": [
        "list = ['One', 'Two', 'Three']\n",
        "list.append('Four') #Four를 추가함\n",
        "print(list)\n",
        "list.append([1, 2, 3, 4]) #리스트를 리스트에 추가함\n",
        "print(list)"
      ],
      "execution_count": null,
      "outputs": [
        {
          "output_type": "stream",
          "name": "stdout",
          "text": [
            "['One', 'Two', 'Three', 'Four']\n",
            "['One', 'Two', 'Three', 'Four', [1, 2, 3, 4]]\n"
          ]
        }
      ]
    },
    {
      "cell_type": "markdown",
      "metadata": {
        "id": "sIkoHvkJmQjD"
      },
      "source": [
        "#### sort()\n",
        "\n",
        "* 리스트 정렬"
      ]
    },
    {
      "cell_type": "code",
      "metadata": {
        "id": "XxCsua37mU7R",
        "colab": {
          "base_uri": "https://localhost:8080/"
        },
        "outputId": "d973ab08-85e1-4bf8-ac84-2d44db07ee85"
      },
      "source": [
        "list = [10, 40, 20, 30]\n",
        "print(list) # 정렬 안된 리스트\n",
        "list.sort() # 정렬하기\n",
        "print(list)\n",
        "list = ['orange', 'appple', 'banana', 'strawberry']\n",
        "print(list)\n",
        "list.sort() # 알파벳순으로 정렬\n",
        "print(list)"
      ],
      "execution_count": null,
      "outputs": [
        {
          "output_type": "stream",
          "name": "stdout",
          "text": [
            "[10, 40, 20, 30]\n",
            "[10, 20, 30, 40]\n",
            "['orange', 'appple', 'banana', 'strawberry']\n",
            "['appple', 'banana', 'orange', 'strawberry']\n"
          ]
        }
      ]
    },
    {
      "cell_type": "markdown",
      "metadata": {
        "id": "YdfEfFUEmmBZ"
      },
      "source": [
        "#### reverse()\n",
        "\n",
        "* 리스트 요소 반전"
      ]
    },
    {
      "cell_type": "code",
      "metadata": {
        "id": "gaqQQwm0mrAs",
        "colab": {
          "base_uri": "https://localhost:8080/"
        },
        "outputId": "e7835fd7-ba5a-4c11-c5c1-8cf25ac4d214"
      },
      "source": [
        "list = ['orange', 'appple', 'banana', 'strawberry']\n",
        "print(list)\n",
        "list.reverse() # 인덱스 순서 반대로 출력\n",
        "print(list) "
      ],
      "execution_count": null,
      "outputs": [
        {
          "output_type": "stream",
          "name": "stdout",
          "text": [
            "['orange', 'appple', 'banana', 'strawberry']\n",
            "['strawberry', 'banana', 'appple', 'orange']\n"
          ]
        }
      ]
    },
    {
      "cell_type": "markdown",
      "metadata": {
        "id": "B9GFsndRnwor"
      },
      "source": [
        "#### index()\n",
        "\n",
        "* 리스트의 요소 값에 대한 인덱스를 반환"
      ]
    },
    {
      "cell_type": "code",
      "metadata": {
        "id": "xs1Nlc_Hn1S3",
        "colab": {
          "base_uri": "https://localhost:8080/"
        },
        "outputId": "ba633672-f65c-46c4-bfe1-1eae60b25dcb"
      },
      "source": [
        "list = [10, 40, 20, 30]\n",
        "print(list)\n",
        "print(list.index(10)) # .index 메서드가 0번째 리스트에 있다는 걸 알려줌\n",
        "print(list.index(20))"
      ],
      "execution_count": null,
      "outputs": [
        {
          "output_type": "stream",
          "name": "stdout",
          "text": [
            "[10, 40, 20, 30]\n",
            "0\n",
            "2\n"
          ]
        }
      ]
    },
    {
      "cell_type": "markdown",
      "metadata": {
        "id": "nSuJKFcUn9UK"
      },
      "source": [
        "#### insert()\n",
        "\n",
        "* 리스트 요소 삽입"
      ]
    },
    {
      "cell_type": "code",
      "metadata": {
        "id": "3crOTMcLoAdE",
        "colab": {
          "base_uri": "https://localhost:8080/"
        },
        "outputId": "5ce8851c-3611-4368-f114-655df4f1947f"
      },
      "source": [
        "list = [10, 40, 20, 30]\n",
        "print(list)\n",
        "list.insert(4, 50) # 원하는 인덱스(4)에다 내가 원하는값(50)을 추가. append는 그냥 맨 끝에 추가하는거. 둘이 다름\n",
        "print(list)\n",
        "list.insert(0, 60)\n",
        "print(list)"
      ],
      "execution_count": null,
      "outputs": [
        {
          "output_type": "stream",
          "name": "stdout",
          "text": [
            "[10, 40, 20, 30]\n",
            "[10, 40, 20, 30, 50]\n",
            "[60, 10, 40, 20, 30, 50]\n"
          ]
        }
      ]
    }
  ]
}
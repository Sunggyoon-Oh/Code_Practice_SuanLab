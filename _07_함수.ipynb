{
  "nbformat": 4,
  "nbformat_minor": 0,
  "metadata": {
    "colab": {
      "name": "_07 함수.ipynb",
      "provenance": [],
      "collapsed_sections": []
    },
    "kernelspec": {
      "name": "python3",
      "display_name": "Python 3"
    },
    "accelerator": "GPU",
    "gpuClass": "standard"
  },
  "cells": [
    {
      "cell_type": "markdown",
      "metadata": {
        "id": "bg5ZXMV2sn1M"
      },
      "source": [
        "# 함수(Function)"
      ]
    },
    {
      "cell_type": "markdown",
      "metadata": {
        "id": "Lj_iZPKnCRP0"
      },
      "source": [
        "\n",
        "\n",
        "---\n",
        "\n"
      ]
    },
    {
      "cell_type": "markdown",
      "metadata": {
        "id": "zXbENjlMCrkU"
      },
      "source": [
        "## 함수 기본"
      ]
    },
    {
      "cell_type": "markdown",
      "source": [
        "함수 개념\n",
        "+ 특정값 X를 인자로 받고, 결과값을 반환: Y = f(X)\n",
        "+ 함수가 필요할 때마다 호출 가능\n",
        "+ 논리적인 단위로 분할 가능\n",
        "+ 코드의 캡슐화(Capsulation) - 코드에서 어떤 역할에 따라 부분부분을 캡슐처럼 나눌수 있는데 그 역할에 맞는걸로 나눈다 해서 캡슐레이션이라 함\n",
        "+ 중복되는 코드를 최소화 - 함수로 정해놓으면 다시 불러오기만 하면 됨\n",
        "+ 소스코드의 재사용성을 높임 - 하나의 함수형태로 코드를 정리해놓으면 그것만으로 캡슐레이션이 되고 그것으로 어디서나 부를수 있기 때문에 재사용성이 높아짐"
      ],
      "metadata": {
        "id": "Oln3zYLA6ntR"
      }
    },
    {
      "cell_type": "markdown",
      "metadata": {
        "id": "GWTyreZRzzmW"
      },
      "source": [
        "### 함수 선언\n",
        "\n"
      ]
    },
    {
      "cell_type": "code",
      "source": [
        "함수선언문법\n",
        "\n",
        "def 함수명(매개변수): # 디파인 함수명(함수에서 입력값으로 사용하는 변수=매개변수)\n",
        "  <수행문>\n",
        "  return <반환값>"
      ],
      "metadata": {
        "id": "RiCc0KFq7P16"
      },
      "execution_count": null,
      "outputs": []
    },
    {
      "cell_type": "markdown",
      "source": [
        "* def: 정의(데피니션)의 줄임\n",
        "* 함수명: 사용자가 임의로 지정\n",
        "* 함수명 컨벤션(convention) -정해진 법칙이 아니라 우리가 통용할 룰\n",
        "  + 짧고 명료한 이름\n",
        "  + 소문자로 입력\n",
        "  + 띄어쓰기는 `_` 기호 사용 (hello_world)\n",
        "  + 동사와 명사를 함께 사용 (find_name)\n",
        "* 매개변수(parameter): 함수에서 입력값으로 사용하는 변수\n",
        "* 반환값: 함수에서 반환할 결과값 지정\n"
      ],
      "metadata": {
        "id": "n__GR2Yn7htk"
      }
    },
    {
      "cell_type": "markdown",
      "metadata": {
        "id": "qQc_0nwV1YyE"
      },
      "source": [
        "### 매개변수(입력값)와 반환값(결과값)이 없는 함수\n",
        "\n",
        "* 함수에 매개변수와 반환값이 없이 사용 가능\n",
        "* 함수를 호출하면 함수의 수행문이 실행"
      ]
    },
    {
      "cell_type": "code",
      "metadata": {
        "id": "VIauKM25w6Aw",
        "colab": {
          "base_uri": "https://localhost:8080/"
        },
        "outputId": "62e097e6-a060-4940-ae42-a4869ec4da6b"
      },
      "source": [
        "def hello(): # 함수명을 hello라고 디파인 해줌. 매개변수(입력값)은 없음\n",
        "  print(\"Hello Python\") #함수명 hello를 입력하면 이런문장을 출력하라는 블럭을 만들어줌\n",
        "\n",
        "hello() # hello 함수를 \"호출\"했더니 hello python 문장이 잘 나옴"
      ],
      "execution_count": 3,
      "outputs": [
        {
          "output_type": "stream",
          "name": "stdout",
          "text": [
            "Hello Python\n"
          ]
        }
      ]
    },
    {
      "cell_type": "markdown",
      "metadata": {
        "id": "eeldN6Kq20h4"
      },
      "source": [
        "### 매개변수만 있는 함수\n",
        "\n",
        "* 문자열 매개변수를 사용한 함수"
      ]
    },
    {
      "cell_type": "code",
      "metadata": {
        "id": "DhVqlr5f24Px",
        "colab": {
          "base_uri": "https://localhost:8080/"
        },
        "outputId": "8cb46aa0-c3a1-4d61-cd75-3493c84fa77b"
      },
      "source": [
        "def hello(string): # 스트링이 매개변수\n",
        "  print(\"Hello\", string) # 반환값이 없음(리턴값)\n",
        "\n",
        "hello(\"Python\") # 여기서 Python이 첫문장의 string으로 들어가고 두번째 문장의 print 문에서 출력이 되는것. \n",
        "# 그래서 뭘 치든 Hello는 무조건 나오는 거고 그 뒤에 매개변수로 쓴 스트링값이 출력됨."
      ],
      "execution_count": 5,
      "outputs": [
        {
          "output_type": "stream",
          "name": "stdout",
          "text": [
            "Hello Python\n"
          ]
        }
      ]
    },
    {
      "cell_type": "markdown",
      "metadata": {
        "id": "mmzbeJNq3uMA"
      },
      "source": [
        "### 반환 값만 있는 함수\n",
        "\n",
        "* 문자열 반환 값을 사용한 함수"
      ]
    },
    {
      "cell_type": "code",
      "metadata": {
        "id": "hv7QPvAN33bB",
        "colab": {
          "base_uri": "https://localhost:8080/",
          "height": 35
        },
        "outputId": "706a49f9-2ce1-4b24-e382-9d84df96fe3c"
      },
      "source": [
        "def hello(): # 매개변수 없음\n",
        "  return \"Hello Python\" # 헬로 파이썬이 반환값\n",
        "\n",
        "hello()  # hello를 호출하면 리턴 문장이 그대로 나오게 됨"
      ],
      "execution_count": 6,
      "outputs": [
        {
          "output_type": "execute_result",
          "data": {
            "text/plain": [
              "'Hello Python'"
            ],
            "application/vnd.google.colaboratory.intrinsic+json": {
              "type": "string"
            }
          },
          "metadata": {},
          "execution_count": 6
        }
      ]
    },
    {
      "cell_type": "markdown",
      "metadata": {
        "id": "KY_pW4pZ4CbM"
      },
      "source": [
        "### 매개변수와 반환 값이 있는 함수\n",
        "\n",
        "* 정수형 매개변수와 반환 값을 사용한 함수"
      ]
    },
    {
      "cell_type": "code",
      "metadata": {
        "id": "c3aDaQLX4Hwf",
        "colab": {
          "base_uri": "https://localhost:8080/"
        },
        "outputId": "7f4b5d8f-931a-49c3-aaed-96b85b9cb965"
      },
      "source": [
        "def square(num): # num 이 매개변수임\n",
        "  return num * num  # num * num 이 반환값임\n",
        "\n",
        "square(5)"
      ],
      "execution_count": 8,
      "outputs": [
        {
          "output_type": "execute_result",
          "data": {
            "text/plain": [
              "25"
            ]
          },
          "metadata": {},
          "execution_count": 8
        }
      ]
    },
    {
      "cell_type": "markdown",
      "metadata": {
        "id": "BY9mQXbf4TRK"
      },
      "source": [
        "### 매개변수가 여러개 있는 함수\n",
        "\n",
        "* 정수형 매개변수 여러개를 사용한 함수\n",
        "* 매개변수를 지정하여 호출 가능"
      ]
    },
    {
      "cell_type": "code",
      "metadata": {
        "id": "DBc8hUNE4YKr",
        "colab": {
          "base_uri": "https://localhost:8080/"
        },
        "outputId": "ff94d111-0106-4552-cce2-ea8f03f17bb0"
      },
      "source": [
        "def add(n1, n2):\n",
        "  return n1 + n2\n",
        "\n",
        "print(add(5, 8)) # n1 5, n2 8로 자동으로 지정됨\n",
        "print(add(n2 = 5, n1 = 8)) # 임의로 지정을 바꿀수도 있음 n1 8, n2 5"
      ],
      "execution_count": 10,
      "outputs": [
        {
          "output_type": "stream",
          "name": "stdout",
          "text": [
            "13\n",
            "13\n"
          ]
        }
      ]
    },
    {
      "cell_type": "markdown",
      "metadata": {
        "id": "meUZXmUR4knx"
      },
      "source": [
        "### 키워드 매개변수\n",
        "\n",
        "* 함수의 매개변수를 변수명을 지정하여 호출 가능"
      ]
    },
    {
      "cell_type": "code",
      "metadata": {
        "id": "k0FipvNp4pXl",
        "colab": {
          "base_uri": "https://localhost:8080/"
        },
        "outputId": "0e057c08-6b77-4605-ba52-e1dff55d5773"
      },
      "source": [
        "def add(n1, n2):\n",
        "  return n1 + n2\n",
        "\n",
        "print(add(n2 = 5, n1 = 8))"
      ],
      "execution_count": 11,
      "outputs": [
        {
          "output_type": "stream",
          "name": "stdout",
          "text": [
            "13\n"
          ]
        }
      ]
    },
    {
      "cell_type": "markdown",
      "metadata": {
        "id": "3f_8Jxyh5EKA"
      },
      "source": [
        "### 가변 매개변수\n",
        "\n",
        "* 매개변수가 몇 개인지 알 수 없을 때 사용\n",
        "* 매개변수 앞에 '*'을 표시"
      ]
    },
    {
      "cell_type": "code",
      "metadata": {
        "id": "uVpBRKq65JLe",
        "colab": {
          "base_uri": "https://localhost:8080/"
        },
        "outputId": "db813b73-043a-48d7-883c-9966f5e1afa5"
      },
      "source": [
        "def sum(*args): # 아규먼트\n",
        "  result = 0\n",
        "  for i in args: # 아규먼트로 들어온만큼 반복\n",
        "    result = result + i\n",
        "  return result # 반복 다 돌았으면 리설트로 반환\n",
        "\n",
        "print(sum(1, 2, 3))\n",
        "print(sum(1, 2, 3, 4, 5))"
      ],
      "execution_count": 14,
      "outputs": [
        {
          "output_type": "stream",
          "name": "stdout",
          "text": [
            "6\n",
            "15\n"
          ]
        }
      ]
    },
    {
      "cell_type": "code",
      "source": [
        "def sum(*args): # 아규먼트\n",
        "  result = 0\n",
        "  for i in args: # 아규먼트로 들어온만큼 반복\n",
        "    print(i)\n",
        "\n",
        "print(sum(1, 2, 3)) # 여기에 1,2,3dl for문의 args로 들어가서 하나씩 프린트 되는 것임\n",
        "print(sum(1, 2, 3, 4, 5))"
      ],
      "metadata": {
        "colab": {
          "base_uri": "https://localhost:8080/"
        },
        "id": "KZfuCuRrF4H-",
        "outputId": "988b5241-5178-42fe-d2d1-6787065dba26"
      },
      "execution_count": 15,
      "outputs": [
        {
          "output_type": "stream",
          "name": "stdout",
          "text": [
            "1\n",
            "2\n",
            "3\n",
            "None\n",
            "1\n",
            "2\n",
            "3\n",
            "4\n",
            "5\n",
            "None\n"
          ]
        }
      ]
    },
    {
      "cell_type": "markdown",
      "metadata": {
        "id": "czo-wmdL5YRR"
      },
      "source": [
        "### 가변 키워드 매개변수\n",
        "\n",
        "* 매개변수의 이름을 따로 지정하지 않고 사용\n",
        "* 매개변수 앞에 '**'을 표시"
      ]
    },
    {
      "cell_type": "code",
      "metadata": {
        "id": "jcPIBpWF5d9N",
        "colab": {
          "base_uri": "https://localhost:8080/"
        },
        "outputId": "d103fe77-53f0-4868-9ccf-fae57150c7a7"
      },
      "source": [
        "def print_kwargs(**kwargs): # 키워드 아규먼츠\n",
        "  print(kwargs)\n",
        "\n",
        "print_kwargs(n1 = 5, n2 = 8)\n",
        "print_kwargs(id = \"Suan\", pw = \"1234\")\n",
        "# 타입 출력해보면 딕셔너리임. 키 밸류 키 밸류 형태로 잘 받아옴."
      ],
      "execution_count": 20,
      "outputs": [
        {
          "output_type": "stream",
          "name": "stdout",
          "text": [
            "{'n1': 5, 'n2': 8}\n",
            "{'id': 'Suan', 'pw': '1234'}\n"
          ]
        }
      ]
    },
    {
      "cell_type": "markdown",
      "metadata": {
        "id": "BcE5o1GR5ugB"
      },
      "source": [
        "### 초기값 매개변수\n",
        "\n",
        "* 매개변수에 초기값을 설정하여 사용\n",
        "* 함수에 매개변수를 사용하지 않을 때 초기값을 사용"
      ]
    },
    {
      "cell_type": "code",
      "metadata": {
        "id": "Wdsz0tcZ50s_",
        "colab": {
          "base_uri": "https://localhost:8080/"
        },
        "outputId": "f569a50b-6784-424c-af56-57bb816c572b"
      },
      "source": [
        "def power(b = 2, n = 2):\n",
        "  return pow(b, n)\n",
        "\n",
        "print(power()) # 2의 2승\n",
        "print(power(3)) # 파라미터 두갠데 하나만 넣음. 앞의 파라미터로 들어감. 3의 2승\n",
        "print(power(5, 2)) # 5의 2승\n",
        "print(power(n = 3)) # n만 바꿔줌"
      ],
      "execution_count": 24,
      "outputs": [
        {
          "output_type": "stream",
          "name": "stdout",
          "text": [
            "4\n",
            "9\n",
            "25\n",
            "8\n"
          ]
        }
      ]
    },
    {
      "cell_type": "markdown",
      "metadata": {
        "id": "zEmGFAyv6ARs"
      },
      "source": [
        "### 여러 반환 값이 있는 함수\n",
        "\n",
        "* 함수의 반환값은 하나\n",
        "* 여러 반환값을 사용할 경우 튜플 형태로 반환"
      ]
    },
    {
      "cell_type": "code",
      "metadata": {
        "id": "4uA_PmQR6FW5",
        "colab": {
          "base_uri": "https://localhost:8080/"
        },
        "outputId": "d2d36e17-1ae1-45e7-c2f0-a1ba42fc8d03"
      },
      "source": [
        "def plus_and_minus(n1, n2):\n",
        "  return n1 + n2, n1 - n2\n",
        "\n",
        "result = plus_and_minus(8, 5)\n",
        "print(result) \n",
        "# 반환값이 여러개면 튜플형태임\n",
        "\n",
        "result1, result2 = plus_and_minus(8, 5)\n",
        "print(result1, result2)"
      ],
      "execution_count": 26,
      "outputs": [
        {
          "output_type": "stream",
          "name": "stdout",
          "text": [
            "(13, 3)\n",
            "13 3\n"
          ]
        }
      ]
    },
    {
      "cell_type": "markdown",
      "metadata": {
        "id": "XM8NFJC96cX7"
      },
      "source": [
        "### [Lab] 계산기 함수\n",
        "\n",
        "* 두 수에 대해서 덧셈, 뺄셈, 곱셈, 나눗셈을 수행하는 함수"
      ]
    },
    {
      "cell_type": "code",
      "metadata": {
        "id": "XDXeVHIJ6gpm",
        "colab": {
          "base_uri": "https://localhost:8080/"
        },
        "outputId": "fb6d6941-2393-444e-90d3-fe07e053c152"
      },
      "source": [
        "def calc(op, n1, n2): # op는 오퍼레이터, 연산기호\n",
        "  result = 0\n",
        "  if op == '+':\n",
        "    result = n1 + n2\n",
        "  elif op == '-':\n",
        "    result = n1 - n2\n",
        "  elif op == '*':\n",
        "    result = n1 * n2\n",
        "  elif op == '/':\n",
        "    result = n1 / n2\n",
        "\n",
        "  return result\n",
        "\n",
        "print(calc('+', 8, 5)) # 위에서 한번 계산기 함수를 잘 정의해 놓으면 호출만 하면 돼서 편함.\n",
        "print(calc('*', 8, 5))"
      ],
      "execution_count": 30,
      "outputs": [
        {
          "output_type": "stream",
          "name": "stdout",
          "text": [
            "13\n",
            "40\n"
          ]
        }
      ]
    },
    {
      "cell_type": "markdown",
      "metadata": {
        "id": "GXfPMgdV696x"
      },
      "source": [
        "### [Lab] 가변 매개변수의 평균값 계산\n",
        "\n",
        "* 가변 매개변수로 들어오는 모든 수의 평균값 계산"
      ]
    },
    {
      "cell_type": "code",
      "metadata": {
        "id": "xgVFwpIm7CPY",
        "colab": {
          "base_uri": "https://localhost:8080/"
        },
        "outputId": "def22f02-fc35-4776-c03d-8d66891f8fa9"
      },
      "source": [
        "def avg(*args):\n",
        "  sum = 0\n",
        "  for i in args:\n",
        "    sum += i\n",
        "  return (sum / len(args))\n",
        "\n",
        "print(avg(1, 2, 3, 4, 5))"
      ],
      "execution_count": 31,
      "outputs": [
        {
          "output_type": "stream",
          "name": "stdout",
          "text": [
            "3.0\n"
          ]
        }
      ]
    },
    {
      "cell_type": "markdown",
      "metadata": {
        "id": "G8OTXx4aw7mY"
      },
      "source": [
        "\n",
        "\n",
        "---\n",
        "\n"
      ]
    },
    {
      "cell_type": "markdown",
      "metadata": {
        "id": "4y7j6wwPw9zd"
      },
      "source": [
        "## 변수의 유효범위\n"
      ]
    },
    {
      "cell_type": "markdown",
      "metadata": {
        "id": "UjzGwc9D7b9d"
      },
      "source": [
        "### 유효 범위\n",
        "\n",
        "* 변수는 유효한 범위가 존재 - 이 변수가 어디까지 영향을 줄 수 있는지 특징\n",
        "* 함수 안에서 선언된 변수는 함수 내부에서 유효함"
      ]
    },
    {
      "cell_type": "code",
      "metadata": {
        "id": "vvew4Dhq7gYv",
        "colab": {
          "base_uri": "https://localhost:8080/"
        },
        "outputId": "112a194a-8cac-46d8-8493-58122e282d7a"
      },
      "source": [
        "def var_scope(a):\n",
        "  a = a + 1\n",
        "\n",
        "a = 10\n",
        "var_scope(a)\n",
        "print(a) # a가 10이고 var_scope 함수로 들어가서 a+1이 돼서 a는 11이 돼서 11이 출력되어야 하는데 10이 출력됨. 뭐지?\n",
        "# 이게 우리가 말한 그 scope임. 위에 블럭 아래 블럭 같은 a라도 전혀 다른 메모리 위치값을 가짐. \n",
        "# 밑의 a가 def 에 전달은 되는데 위 아래 a가 다름. 프린트로 출력한 a는 그냥 밑에 있는거 출력함."
      ],
      "execution_count": 32,
      "outputs": [
        {
          "output_type": "stream",
          "name": "stdout",
          "text": [
            "10\n"
          ]
        }
      ]
    },
    {
      "cell_type": "markdown",
      "metadata": {
        "id": "7O3U3dYT7nXD"
      },
      "source": [
        "### 변수의 종류\n",
        "\n",
        "* 지역 변수: 한정된 지역에서만 사용되는 변수\n",
        "* 전역 변수: 프로그램 전체에서 사용되는 변수"
      ]
    },
    {
      "cell_type": "code",
      "metadata": {
        "id": "dhTOG0Uj7tOL",
        "colab": {
          "base_uri": "https://localhost:8080/"
        },
        "outputId": "4f672b6e-bc80-4fe7-9e26-a477ecfa363d"
      },
      "source": [
        "a = 10\n",
        "def func1():\n",
        "  a = 20 # 펑션1 `안에서만 사용되는` 지역변수\n",
        "  print(a) # 20이 출력이 됨\n",
        "\n",
        "def func2(): #여기는 정의되어있는 a가 없음\n",
        "  print(a) # `맨위에 있는 a=10 전역변수`를 출력을 해줌\n",
        "\n",
        "func1()\n",
        "func2()"
      ],
      "execution_count": 35,
      "outputs": [
        {
          "output_type": "stream",
          "name": "stdout",
          "text": [
            "20\n",
            "10\n"
          ]
        }
      ]
    },
    {
      "cell_type": "markdown",
      "metadata": {
        "id": "3-OF8own71vk"
      },
      "source": [
        "### 전역 변수 사용 global\n",
        "\n",
        "* 함수 내부에서 전역 변수를 사용하기 위한 `global` 키워드"
      ]
    },
    {
      "cell_type": "code",
      "metadata": {
        "id": "J_P_WGSr75jp",
        "colab": {
          "base_uri": "https://localhost:8080/"
        },
        "outputId": "eb7c795e-8d25-4281-c276-e8e588cefb96"
      },
      "source": [
        "a = 10\n",
        "def func1():\n",
        "  global a # a라는 전역변수를 사용할래 라고 아예 줘버림.\n",
        "  a = 20  # 거기에 20 넣을래\n",
        "  print(a)  #출력할래\n",
        "\n",
        "def func2(): # 여기 a는 전역변수에 대한 a임\n",
        "  print(a) # 따라서 20임  \n",
        "\n",
        "func1()\n",
        "func2()"
      ],
      "execution_count": 36,
      "outputs": [
        {
          "output_type": "stream",
          "name": "stdout",
          "text": [
            "20\n",
            "20\n"
          ]
        }
      ]
    },
    {
      "cell_type": "markdown",
      "metadata": {
        "id": "NxjgnIKoxGkH"
      },
      "source": [
        "\n",
        "\n",
        "---\n",
        "\n"
      ]
    },
    {
      "cell_type": "markdown",
      "metadata": {
        "id": "8x-oWtbBxCpE"
      },
      "source": [
        "## 함수 심화"
      ]
    },
    {
      "cell_type": "markdown",
      "metadata": {
        "id": "GbFr5qM78B41"
      },
      "source": [
        "### 내부 함수(Nested Function)\n",
        "\n",
        "* 함수 안에 함수가 존재\n",
        "* 내부 함수는 외부에서 호출 불가"
      ]
    },
    {
      "cell_type": "code",
      "metadata": {
        "id": "6aBHDw7x8Gr5",
        "colab": {
          "base_uri": "https://localhost:8080/"
        },
        "outputId": "3f7df8e0-1852-41c4-be8e-b72bcc3d4c27"
      },
      "source": [
        "def func1(n1, n2):\n",
        "  def func2(num1, num2):\n",
        "    return num1 + num2\n",
        "  return func2(n1, n2)\n",
        "\n",
        "print(func1(5, 8))\n",
        "# 5, 8이 들어온걸 n1 n2에다 넣고 그게 다시 num1, num2로 들어감"
      ],
      "execution_count": 4,
      "outputs": [
        {
          "output_type": "stream",
          "name": "stdout",
          "text": [
            "13\n"
          ]
        }
      ]
    },
    {
      "cell_type": "code",
      "source": [
        "def func1(n1, n2):\n",
        "  def func2(num1, num2):\n",
        "    return num1 + num2\n",
        "  return func2(n1, n2)\n",
        "\n",
        "print(func1(5, 8))\n",
        "print(func2(5, 8))\n",
        "# 똑같은 식인데 func2로 호출하면 오류남. func2는 내부함수임"
      ],
      "metadata": {
        "colab": {
          "base_uri": "https://localhost:8080/",
          "height": 246
        },
        "id": "t9xEFFzOdpVr",
        "outputId": "0a1d0599-9aeb-44d8-a6c4-84d5884753db"
      },
      "execution_count": 7,
      "outputs": [
        {
          "output_type": "stream",
          "name": "stdout",
          "text": [
            "13\n"
          ]
        },
        {
          "output_type": "error",
          "ename": "NameError",
          "evalue": "ignored",
          "traceback": [
            "\u001b[0;31m---------------------------------------------------------------------------\u001b[0m",
            "\u001b[0;31mNameError\u001b[0m                                 Traceback (most recent call last)",
            "\u001b[0;32m<ipython-input-7-9c8f1faff0c9>\u001b[0m in \u001b[0;36m<module>\u001b[0;34m()\u001b[0m\n\u001b[1;32m      5\u001b[0m \u001b[0;34m\u001b[0m\u001b[0m\n\u001b[1;32m      6\u001b[0m \u001b[0mprint\u001b[0m\u001b[0;34m(\u001b[0m\u001b[0mfunc1\u001b[0m\u001b[0;34m(\u001b[0m\u001b[0;36m5\u001b[0m\u001b[0;34m,\u001b[0m \u001b[0;36m8\u001b[0m\u001b[0;34m)\u001b[0m\u001b[0;34m)\u001b[0m\u001b[0;34m\u001b[0m\u001b[0;34m\u001b[0m\u001b[0m\n\u001b[0;32m----> 7\u001b[0;31m \u001b[0mprint\u001b[0m\u001b[0;34m(\u001b[0m\u001b[0mfunc2\u001b[0m\u001b[0;34m(\u001b[0m\u001b[0;36m5\u001b[0m\u001b[0;34m,\u001b[0m \u001b[0;36m8\u001b[0m\u001b[0;34m)\u001b[0m\u001b[0;34m)\u001b[0m\u001b[0;34m\u001b[0m\u001b[0;34m\u001b[0m\u001b[0m\n\u001b[0m\u001b[1;32m      8\u001b[0m \u001b[0;31m# 똑같은 식인데 func2로 호출하면 오류남. func2는 내부함수임\u001b[0m\u001b[0;34m\u001b[0m\u001b[0;34m\u001b[0m\u001b[0;34m\u001b[0m\u001b[0m\n",
            "\u001b[0;31mNameError\u001b[0m: name 'func2' is not defined"
          ]
        }
      ]
    },
    {
      "cell_type": "markdown",
      "metadata": {
        "id": "RMlNesEi87cD"
      },
      "source": [
        "### 재귀 함수(Recursive Function)\n",
        "\n",
        "* 함수가 자기 자신을 다시 부르는 함수\n",
        "* `count()` 함수 내부에서 `count()` 함수를 호출\n",
        "* 재귀적으로 카운트 수를 출력"
      ]
    },
    {
      "cell_type": "code",
      "metadata": {
        "id": "ATwXBqDH9Fuk",
        "colab": {
          "base_uri": "https://localhost:8080/"
        },
        "outputId": "bfe0ba73-8211-41e8-df12-b14b66459767"
      },
      "source": [
        "def count(n): # 10을 파라미터로 넣음\n",
        "  if n >= 1: # n이 10 이상임\n",
        "    print(n, end=' ') # 10과 공백을 출력함\n",
        "    count(n - 1) #10-1=9를 다시 맨위 디파인 카운트 (n)에 넣어줌. And so on 1까지.\n",
        "  else:    # 0이 되면 그냥 리턴\n",
        "    return # 그냥 종료\n",
        "  \n",
        "count(10)"
      ],
      "execution_count": 9,
      "outputs": [
        {
          "output_type": "stream",
          "name": "stdout",
          "text": [
            "10 9 8 7 6 5 4 3 2 1 "
          ]
        }
      ]
    },
    {
      "cell_type": "markdown",
      "metadata": {
        "id": "8GTG0ukpIfRm"
      },
      "source": [
        "#### [Lab] 재귀 함수를 이용한 합계\n",
        "\n",
        "* `sum()` 함수 내부에서 `sum()` 함수를 호출\n",
        "* 재귀적으로 합계를 계산"
      ]
    },
    {
      "cell_type": "code",
      "metadata": {
        "id": "5oIubHWwHj_j",
        "colab": {
          "base_uri": "https://localhost:8080/"
        },
        "outputId": "0ad6030d-bb0b-4fa8-8ceb-57b60502cc3a"
      },
      "source": [
        "def sum(n):\n",
        "  if n == 1: #10은 1이 아니니 else문으로 넘어감\n",
        "    return 1\n",
        "  else:\n",
        "    return n + sum(n-1) # 10 + (n-1=9), n이 9가됨, 현재 10+9=19임.\n",
        "                        # n=9가 다시 디파인에 들어가서 -1해서 n=8되고 19에 8이 더해지고\n",
        "                        # 다시 또 n=8이 디파인에 들어가서 8-1=7되서 27+7 돼서 34됨.\n",
        "                        # 다시 7-1 =6 돼서 디파인에 들어감 2까지 그렇게되고\n",
        "                        # 1이 되면 if문으로 들어가서 1이 되고 끝.\n",
        "\n",
        "print(sum(10))\n",
        "print(sum(100))"
      ],
      "execution_count": 11,
      "outputs": [
        {
          "output_type": "stream",
          "name": "stdout",
          "text": [
            "55\n",
            "5050\n"
          ]
        }
      ]
    },
    {
      "cell_type": "markdown",
      "metadata": {
        "id": "fB5LHNGv9v_U"
      },
      "source": [
        "#### [Lab] 팩토리얼 함수(Factorial Function)\n",
        "\n",
        "* 팩토리얼(factorial) 함수는 대표적인 재귀 함수\n",
        "* 팩토리얼 함수: $n!=1 \\times 2 \\times 3 \\dots (n-2) \\times (n-1) \\times n = n! = n \\times (n-1)!$"
      ]
    },
    {
      "cell_type": "code",
      "metadata": {
        "id": "Mh_3nSfC9ggl",
        "colab": {
          "base_uri": "https://localhost:8080/"
        },
        "outputId": "7a4322ef-8a4e-4571-d14c-b1763df2d31a"
      },
      "source": [
        "def factorial(n):\n",
        "  if n == 1:\n",
        "    return 1\n",
        "  else:\n",
        "    return n * factorial(n-1)\n",
        "\n",
        "print(factorial(3))\n",
        "print(factorial(5))\n",
        "print(factorial(10))"
      ],
      "execution_count": 14,
      "outputs": [
        {
          "output_type": "stream",
          "name": "stdout",
          "text": [
            "6\n",
            "120\n",
            "3628800\n"
          ]
        }
      ]
    },
    {
      "cell_type": "markdown",
      "metadata": {
        "id": "zxfnzzyh_CVn"
      },
      "source": [
        "### 람다 함수(Lambda Function)\n",
        "\n",
        "* 함수를 한 줄로 간결하게 만들어 사용"
      ]
    },
    {
      "cell_type": "code",
      "metadata": {
        "id": "Dm05soHF-7O1",
        "colab": {
          "base_uri": "https://localhost:8080/"
        },
        "outputId": "327f3f6c-6ef4-43ea-b347-1ce14f9553b5"
      },
      "source": [
        "def add(n1, n2):\n",
        "  return n1 + n2\n",
        "\n",
        "print(add(5, 8)) # 이 식을 람다라는 형태로 표현하는것\n",
        "\n",
        "add2 = lambda n1, n2 : n1 + n2 # 램다 함수 적용하는 법. 간결하에 만들기 좋아서 알아두면 좋음\n",
        "print(add2(5, 8))"
      ],
      "execution_count": 18,
      "outputs": [
        {
          "output_type": "stream",
          "name": "stdout",
          "text": [
            "13\n",
            "13\n"
          ]
        }
      ]
    },
    {
      "cell_type": "markdown",
      "metadata": {
        "id": "Rwi3kI22_tMu"
      },
      "source": [
        "#### map()\n",
        "\n",
        "* `map()`: built-in 함수로 list 나 dictionary 와 같은 iterable 한 데이터를 인자로 받아 list 안의 개별 item을 함수의 인자로 전달하여 결과를 list로 형태로 반환해 주는 함수\n",
        "* 람다 함수와 `map()` 함수를 이용한 리스트 계산"
      ]
    },
    {
      "cell_type": "code",
      "metadata": {
        "id": "1TajyYRT_Sld",
        "colab": {
          "base_uri": "https://localhost:8080/"
        },
        "outputId": "8e8d3bbd-2f02-4eca-9b5a-6d6372f85a6b"
      },
      "source": [
        "li = [1, 2, 3, 4, 5]\n",
        "square = lambda n : n * n\n",
        "li = list(map(square, li)) # 맵 안에 정의했던 램다함수 스퀘어를 넣어버림. li를 재정의한것임\n",
        "print(li) # 스퀘어한 결과를 넣은 리스트(li) 값을 다시 li에 넣어줌. 그것을  출력함"
      ],
      "execution_count": 20,
      "outputs": [
        {
          "output_type": "stream",
          "name": "stdout",
          "text": [
            "[1, 4, 9, 16, 25]\n"
          ]
        }
      ]
    },
    {
      "cell_type": "code",
      "source": [
        "li_1 = [1, 2, 3, 4, 5]\n",
        "li_2 = [6, 7, 8, 9, 10]\n",
        "li = list(map(lambda n_1, n_2 : n_1 + n_2, li_1, li_2)) # li1의 값은 n1 li2의 값은 n2로 각각 지정돼서 나오는 것.\n",
        "print(li)"
      ],
      "metadata": {
        "colab": {
          "base_uri": "https://localhost:8080/"
        },
        "id": "g16b2GyfkWje",
        "outputId": "75ea1503-1a4b-4880-d3ec-61a4f96b9f12"
      },
      "execution_count": 22,
      "outputs": [
        {
          "output_type": "stream",
          "name": "stdout",
          "text": [
            "[7, 9, 11, 13, 15]\n"
          ]
        }
      ]
    },
    {
      "cell_type": "markdown",
      "metadata": {
        "id": "GjjDPmSgGST7"
      },
      "source": [
        "### filter()\n",
        "\n",
        "* `filter()` 함수: iterable 한 데이터를 인자로 개별 item을 특정 조건에 해당하는 값으로만 필터링\n",
        "* 람다 함수와 `filter()` 함수를 이용한 리스트 필터링"
      ]
    },
    {
      "cell_type": "code",
      "metadata": {
        "id": "Uplpmb0kGMVt",
        "colab": {
          "base_uri": "https://localhost:8080/"
        },
        "outputId": "f9da6e23-498b-4beb-c3d9-a03a917345b8"
      },
      "source": [
        "li = list(range(10))\n",
        "print(li)\n",
        "evens = filter(lambda n : n % 2 is 0, li) #짝수의 조건\n",
        "print(list(evens))"
      ],
      "execution_count": 25,
      "outputs": [
        {
          "output_type": "stream",
          "name": "stdout",
          "text": [
            "[0, 1, 2, 3, 4, 5, 6, 7, 8, 9]\n",
            "[0, 2, 4, 6, 8]\n"
          ]
        }
      ]
    },
    {
      "cell_type": "markdown",
      "metadata": {
        "id": "upgP4WxEG347"
      },
      "source": [
        "### reduce()\n",
        "\n",
        "* reduce() 함수: iterable 한 데이터를 인자로 받아 개별 item을 축약하여 **하나의 값**으로 만들어 가는 과정\n",
        "* 람다 함수와 reduce() 함수를 이용한 리스트 계산"
      ]
    },
    {
      "cell_type": "code",
      "metadata": {
        "id": "7-O3VyyYGexM",
        "colab": {
          "base_uri": "https://localhost:8080/"
        },
        "outputId": "35fd8750-116f-435f-e755-be570179f233"
      },
      "source": [
        "import functools\n",
        "li = list(range(10))\n",
        "print(li)\n",
        "sum = functools.reduce(lambda x, y: x + y, li)\n",
        "print(sum)\n",
        "sum = functools.reduce(lambda x, y: x + 1, li, 0) # x를 처음에 0으로 셋팅해줘서 0,1,2,3,~ 가 되는것임\n",
        "print(len)\n",
        "max = functools.reduce(lambda x, y: x if x > y else y, li)\n",
        "print(max)\n",
        "\n",
        "# 전체적으로 y값은 고려 안하는듯. x값만 레인지에서 가져오고 y는 노상관"
      ],
      "execution_count": 30,
      "outputs": [
        {
          "output_type": "stream",
          "name": "stdout",
          "text": [
            "[0, 1, 2, 3, 4, 5, 6, 7, 8, 9]\n",
            "45\n",
            "<built-in function len>\n",
            "9\n"
          ]
        }
      ]
    },
    {
      "cell_type": "markdown",
      "metadata": {
        "id": "QJg6wYdSHKFh"
      },
      "source": [
        "## 제너레이터(generator)와 yield\n",
        "\n",
        "* 함수 안에서 yield를 사용하면 제너레이터\n",
        "* yield: 함수를 끝내지 않고 값을 계속 반환"
      ]
    },
    {
      "cell_type": "code",
      "metadata": {
        "id": "iI142ekSHH5z",
        "colab": {
          "base_uri": "https://localhost:8080/"
        },
        "outputId": "4b27ebea-b941-4371-83af-9baa4f14bd52"
      },
      "source": [
        "def gen():\n",
        "  yield 1\n",
        "  yield 2\n",
        "  yield 3\n",
        "\n",
        "print(gen())\n",
        "print(list(gen()))"
      ],
      "execution_count": 31,
      "outputs": [
        {
          "output_type": "stream",
          "name": "stdout",
          "text": [
            "<generator object gen at 0x7fea4200edd0>\n",
            "[1, 2, 3]\n"
          ]
        }
      ]
    },
    {
      "cell_type": "code",
      "metadata": {
        "id": "aVpEaM_jHX0_",
        "colab": {
          "base_uri": "https://localhost:8080/"
        },
        "outputId": "4cd2df48-a1f0-4864-e8a9-b0f14a21279f"
      },
      "source": [
        "for i in gen(): # 제너레이터가 함수를 끝내지 않고 계속 반환함 = range와 같은 역할을 하는것임\n",
        "  print(i)"
      ],
      "execution_count": 33,
      "outputs": [
        {
          "output_type": "stream",
          "name": "stdout",
          "text": [
            "1\n",
            "2\n",
            "3\n"
          ]
        }
      ]
    },
    {
      "cell_type": "code",
      "metadata": {
        "id": "phpfTn9gHeUy",
        "colab": {
          "base_uri": "https://localhost:8080/"
        },
        "outputId": "97698628-b8df-457e-938c-7f62d3868aab"
      },
      "source": [
        "g = gen()\n",
        "print(next(g))\n",
        "print(next(g))\n",
        "print(next(g))"
      ],
      "execution_count": 34,
      "outputs": [
        {
          "output_type": "stream",
          "name": "stdout",
          "text": [
            "1\n",
            "2\n",
            "3\n"
          ]
        }
      ]
    },
    {
      "cell_type": "markdown",
      "metadata": {
        "id": "vCwxB_lyIv5D"
      },
      "source": [
        "### [Lab] 짝수만 생성하는 제너레이터\n",
        "\n",
        "* 0 ~ n개의 숫자 중에서 짝수만 생성하는 제너레이터 함수 생성"
      ]
    },
    {
      "cell_type": "code",
      "metadata": {
        "id": "U3T8U0tpItDl",
        "colab": {
          "base_uri": "https://localhost:8080/"
        },
        "outputId": "697dfe9c-72fb-4983-a048-d5d6457ed0ef"
      },
      "source": [
        "def gen_even(n):\n",
        "  for i in range(n):\n",
        "    if i % 2 == 0:\n",
        "      yield i # yield 1(one)으로 해서 어쩐지 1만 5개가 나오더라...\n",
        "\n",
        "for i in gen_even(10):\n",
        "  print(i)"
      ],
      "execution_count": 40,
      "outputs": [
        {
          "output_type": "stream",
          "name": "stdout",
          "text": [
            "0\n",
            "2\n",
            "4\n",
            "6\n",
            "8\n"
          ]
        }
      ]
    }
  ]
}
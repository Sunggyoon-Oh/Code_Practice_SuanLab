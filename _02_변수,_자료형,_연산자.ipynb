{
  "nbformat": 4,
  "nbformat_minor": 0,
  "metadata": {
    "colab": {
      "name": "_02 변수, 자료형, 연산자.ipynb",
      "provenance": [],
      "collapsed_sections": []
    },
    "kernelspec": {
      "name": "python3",
      "display_name": "Python 3"
    },
    "accelerator": "GPU",
    "gpuClass": "standard"
  },
  "cells": [
    {
      "cell_type": "markdown",
      "metadata": {
        "id": "6XGDdKnJyGJF"
      },
      "source": [
        "# 변수, 자료형, 연산자\n",
        "\n"
      ]
    },
    {
      "cell_type": "markdown",
      "metadata": {
        "id": "HAstuUfPCTnB"
      },
      "source": [
        "\n",
        "\n",
        "---\n",
        "\n"
      ]
    },
    {
      "cell_type": "markdown",
      "metadata": {
        "id": "90qvtJp_yMg4"
      },
      "source": [
        "\n",
        "## 변수(Variables)"
      ]
    },
    {
      "cell_type": "markdown",
      "source": [
        "어떠한 값을 저장하는 공간(메모리)<br>\n",
        "일반적으로 데이터의 저장 위치와 데이터 값으로 구분<br>\n",
        "변수에 값을 넣는 순간 메모리 저장 위치를 할당하고 그 위치는 메모리 주소로 관리\n",
        "\n",
        "실제 변수에 대해서 실습하기 위해 그림과 같이 변수 name에 문자열 \"Suan\"을 넣고, 변수 num에 값 123을 넣기"
      ],
      "metadata": {
        "id": "tQcQNLV2VN1L"
      }
    },
    {
      "cell_type": "code",
      "metadata": {
        "id": "Wnq3OFyHy3FV",
        "colab": {
          "base_uri": "https://localhost:8080/"
        },
        "outputId": "c9cbf226-a0c1-4dd2-9a63-e97fb1c1e28a"
      },
      "source": [
        "#변수의 이름 name, 그 값인 Suan을 넣어줌\n",
        "name='Suan'\n",
        "print(name)  # 실제 값이 아니라 ''변수''를 사용하려고 변수를 쓰는것임!! "
      ],
      "execution_count": 1,
      "outputs": [
        {
          "output_type": "stream",
          "name": "stdout",
          "text": [
            "Suan\n"
          ]
        }
      ]
    },
    {
      "cell_type": "code",
      "source": [
        "num=123\n",
        "print(num)  #숫자값은 따옴표 안써두됨"
      ],
      "metadata": {
        "colab": {
          "base_uri": "https://localhost:8080/"
        },
        "id": "zHv_-X-oV24F",
        "outputId": "209ae316-6fd1-4752-b482-841560ce77b2"
      },
      "execution_count": 2,
      "outputs": [
        {
          "output_type": "stream",
          "name": "stdout",
          "text": [
            "123\n"
          ]
        }
      ]
    },
    {
      "cell_type": "markdown",
      "metadata": {
        "id": "RJfm_0kbyZih"
      },
      "source": [
        "### 변수명 규칙\n"
      ]
    },
    {
      "cell_type": "markdown",
      "source": [
        "* 알파벳, 숫자, 언더스코어로 선언가능\n",
        "* 의미있는 단어로 표기하는 것이 좋다(다른사람들의 가독성을 위해!)\n",
        "* 대소문자 구분해야함!! 중간에 대소문자 바꾸는것도 다 다른변수 취급됨.\n",
        "* 특별한 의미가 있는 예약어는 사용못함 and, exec, not, break, for 등등.."
      ],
      "metadata": {
        "id": "h452uRVvV-OZ"
      }
    },
    {
      "cell_type": "code",
      "metadata": {
        "id": "SPyXej-mys0A",
        "colab": {
          "base_uri": "https://localhost:8080/"
        },
        "outputId": "265bc255-6854-40ed-960d-d378f00adaee"
      },
      "source": [
        "abc = \"abc\"\n",
        "abc_123 = 123\n",
        "Abc_123 = 123\n",
        "print(abc)\n",
        "print(abc_123)\n",
        "print(Abc_123)  #다 다른 변수임"
      ],
      "execution_count": 3,
      "outputs": [
        {
          "output_type": "stream",
          "name": "stdout",
          "text": [
            "abc\n",
            "123\n",
            "123\n"
          ]
        }
      ]
    },
    {
      "cell_type": "markdown",
      "metadata": {
        "id": "IzVR_OF3CV7l"
      },
      "source": [
        "\n",
        "\n",
        "---\n",
        "\n"
      ]
    },
    {
      "cell_type": "markdown",
      "metadata": {
        "id": "UnmfTSSR7gI8"
      },
      "source": [
        "## 자료형(Data Types)\n",
        "\n"
      ]
    },
    {
      "cell_type": "markdown",
      "source": [
        "* 파이썬의 자료형은 유형에 따라 논리형, 수치형, 문자형, 구조형으로 구분...\n",
        "* 일반적으로 숫자와 문자, 그리고 구조에 따른 저장을 위해서 여러가지 구분된 자료형을 제공"
      ],
      "metadata": {
        "id": "CC_5F89OWxrD"
      }
    },
    {
      "cell_type": "markdown",
      "source": [
        "논리형: 불리언, 참 또는 거짓<br>\n",
        "\n",
        "수치형: 정수, 자연수 포함 값의 영역이 정수로 한정된 값<br>\n",
        "2진수, 바이너리 타입, 숫자가 0b, 0B로 시작<br>\n",
        "8진수, 옥탈 타입, 0o, 0O로 시작<br>\n",
        "16진수(헥사디시멀), 0x로 시작<br>\n",
        "실수, 플로팅 포인트, 소수점 포함된 값<br>\n",
        "복소수, 컴플렉스 타입<br>\n",
        "\n",
        "문자형: 문자열, 스트링 타입<br>\n",
        "\n",
        "시퀀스형: 자료의 구조가 있는 것임. 리스트 튜플 범위<br>\n",
        "리스트: 여러 요소를 묶어 하나의 변수로 사용<br>\n",
        "튜플: 리스트와 유사하게 여러요소를 묶지만, but 수정이 안됨. 생성삭제수정X<br>\n",
        "\n",
        "범위: 레인지 타입, 숫자가 불변한 형태의 시퀀스<br>\n",
        "집합형: 셋타입, 중복과 순서가 없는 집합을 위한 자료형<br>\n",
        "불변집합: 불변한 집한을 위한 자료형<br>\n",
        "\n",
        "매핑형: 딕셔너리, 키와 값"
      ],
      "metadata": {
        "id": "kjL8BwqQXILd"
      }
    },
    {
      "cell_type": "markdown",
      "metadata": {
        "id": "E6w1S0AG7093"
      },
      "source": [
        "### 불리언형 자료형(Boolean Type)\n",
        "\n",
        "* 불리언은 `True`와 `False` 값으로만 표현할 때 사용하는 자료형\n",
        "* 예제 코드에서 변수 `b`에 `True` 값을 넣으면 불리언 자료형으로 결정\n",
        "* 자료형을 반환하는 내장함수 `type()` 함수를 이용하여 자료형을 확인하면 `bool`로 반환된 결과를 볼 수 있음"
      ]
    },
    {
      "cell_type": "code",
      "metadata": {
        "id": "VEmJO0Hl7uSL",
        "colab": {
          "base_uri": "https://localhost:8080/"
        },
        "outputId": "a6cc4584-c1a7-4a59-c636-f365b0d57192"
      },
      "source": [
        "b = True\n",
        "print(b)\n",
        "print(type(b))"
      ],
      "execution_count": 6,
      "outputs": [
        {
          "output_type": "stream",
          "name": "stdout",
          "text": [
            "True\n",
            "<class 'bool'>\n"
          ]
        }
      ]
    },
    {
      "cell_type": "markdown",
      "metadata": {
        "id": "zEQ7zJg8aafd"
      },
      "source": [
        "### 정수형 자료형(Integer Type)"
      ]
    },
    {
      "cell_type": "markdown",
      "metadata": {
        "id": "QyQdYV_If3kQ"
      },
      "source": [
        "#### 10진수(Decimal) \n",
        "\n",
        "* 10진수는 일반적인 숫자 표현을 그대로 사용\n",
        "* 변수 `i`에 10진수로 숫자 10을 값으로 넣고, `type()` 함수를 통해 자료형을 확인하기\n"
      ]
    },
    {
      "cell_type": "code",
      "metadata": {
        "id": "Mt5AV2bR8NFr",
        "colab": {
          "base_uri": "https://localhost:8080/"
        },
        "outputId": "ba289a52-a813-4cb9-a55d-29130df7a96c"
      },
      "source": [
        "i = 10\n",
        "print(i)\n",
        "print(type(i))"
      ],
      "execution_count": 7,
      "outputs": [
        {
          "output_type": "stream",
          "name": "stdout",
          "text": [
            "10\n",
            "<class 'int'>\n"
          ]
        }
      ]
    },
    {
      "cell_type": "markdown",
      "metadata": {
        "id": "oXUZbCF_z4ks"
      },
      "source": [
        "#### 2진수(Binary)\n",
        "\n",
        "* 2진수는 앞에 `0b`를 붙여서 표현\n",
        "* 변수 `b`에 2진수 표현으로 `0b010`을 넣고, `type()` 함수를 통해 자료형을 확인하기"
      ]
    },
    {
      "cell_type": "code",
      "metadata": {
        "id": "xxmW8Xp0u01Q",
        "colab": {
          "base_uri": "https://localhost:8080/"
        },
        "outputId": "0f7cbb0c-4b38-4da0-bd1e-6c3d05a1b5cf"
      },
      "source": [
        "b=0b010 #10진수로 바꾸면 2임\n",
        "print(b)\n",
        "print(type(b))"
      ],
      "execution_count": 9,
      "outputs": [
        {
          "output_type": "stream",
          "name": "stdout",
          "text": [
            "2\n",
            "<class 'int'>\n"
          ]
        }
      ]
    },
    {
      "cell_type": "markdown",
      "metadata": {
        "id": "uWuYvhlMz-pL"
      },
      "source": [
        "#### 8진수(Octal)\n",
        "\n",
        "* 8진수는 앞에 `0o`를 붙여서 표현\n",
        "* 변수 `o`에 8진수 표현으로 `0o130`을 넣고 확인하기"
      ]
    },
    {
      "cell_type": "code",
      "metadata": {
        "id": "uS9NsK2ZYU8l",
        "colab": {
          "base_uri": "https://localhost:8080/"
        },
        "outputId": "8fe31e11-2b39-406f-c176-2a2dd308c848"
      },
      "source": [
        "o = 0o130\n",
        "print(o)\n",
        "print(type(o))"
      ],
      "execution_count": 10,
      "outputs": [
        {
          "output_type": "stream",
          "name": "stdout",
          "text": [
            "88\n",
            "<class 'int'>\n"
          ]
        }
      ]
    },
    {
      "cell_type": "markdown",
      "metadata": {
        "id": "ObGeQFIA0CfR"
      },
      "source": [
        "#### 16진수(Hexadecimal)\n",
        "\n",
        "* 16진수은 앞에 `0x`를 붙여서 표현\n",
        "* 변수 `h`에 16진수 표현으로 `0xABC`를 넣고 확인하기\n",
        "* 16진수는 10진수와 달리 10부터 A에서 F까지 알파벳을 사용하여 표현"
      ]
    },
    {
      "cell_type": "code",
      "metadata": {
        "id": "t6AMAPRLYVHG",
        "colab": {
          "base_uri": "https://localhost:8080/"
        },
        "outputId": "50f435c0-20c4-4fae-8f2b-2e4fe440c79a"
      },
      "source": [
        "h = 0xABC\n",
        "print(h)\n",
        "print(type(h))"
      ],
      "execution_count": 11,
      "outputs": [
        {
          "output_type": "stream",
          "name": "stdout",
          "text": [
            "2748\n",
            "<class 'int'>\n"
          ]
        }
      ]
    },
    {
      "cell_type": "markdown",
      "metadata": {
        "id": "ExS5VLXYgC0K"
      },
      "source": [
        "### 실수형 자료형(Floating-Point Type)\n",
        "\n",
        "* 실수형 자료형 표현은 고정소수점과 부동소수점으로 구분"
      ]
    },
    {
      "cell_type": "markdown",
      "metadata": {
        "id": "o9wEy__Akh68"
      },
      "source": [
        "#### 고정소수점(Fixed-Point)\n",
        "\n",
        "* 기본적으로 고정된 자리수의 소수를 사용하는 고정소수점 방식\n",
        "* 실수형 변수 `f`에 소수점이 포함된 `12.34` 값을 넣고 확인하기\n",
        "* `type(f)`를 통해서 결과를 확인해보면 실수형(float) 자료형으로 출력\n",
        "* 파이썬에서는 소수에서 정수부가 0인 경우에는 제외해서 표현 가능\n",
        "* 코드에서 값 `.123`은 `0.123`을 의미"
      ]
    },
    {
      "cell_type": "code",
      "metadata": {
        "id": "zRx3Lg_soF-d",
        "colab": {
          "base_uri": "https://localhost:8080/"
        },
        "outputId": "753937db-0db9-4fe2-c088-bdbb8945bba0"
      },
      "source": [
        "f = 12.34\n",
        "print(f)\n",
        "print(type(f)) #플로팅 포인트 타입(실수형 자료형)이라서 클래스가 float이라고 출력됨."
      ],
      "execution_count": 13,
      "outputs": [
        {
          "output_type": "stream",
          "name": "stdout",
          "text": [
            "12.34\n",
            "<class 'float'>\n"
          ]
        }
      ]
    },
    {
      "cell_type": "code",
      "metadata": {
        "id": "YLdTH0EtgupN",
        "colab": {
          "base_uri": "https://localhost:8080/"
        },
        "outputId": "83eb7045-0e00-423d-f239-d4659afca058"
      },
      "source": [
        "f = .123  # 0을 제외해도 그냥 실수라고 인식함\n",
        "print(f)"
      ],
      "execution_count": 15,
      "outputs": [
        {
          "output_type": "stream",
          "name": "stdout",
          "text": [
            "0.123\n"
          ]
        }
      ]
    },
    {
      "cell_type": "markdown",
      "metadata": {
        "id": "NSsefZL8hx83"
      },
      "source": [
        "#### 부동소수점(Floating-Point)\n",
        "\n",
        "* 컴퓨터에서 소수점의 위치가 고정되지 않고 넓은 범위의 값을 근사하여 표현하는 부동소수점 방식이 있음\n",
        "* 부동소수점에 대한 개념을 모르는 경우에는 [링크](https://ko.wikipedia.org/wiki/%EB%B6%80%EB%8F%99%EC%86%8C%EC%88%98%EC%A0%90)를 참고\n",
        "* 파이썬에서는 e 기호를 이용하여 지수에 대한 표현을 사용\n",
        "* `e` 변수에 할당한 `1234e-2` 라는 표현은 $1234 \\times 10^{-2}$를 의미하고 실제 결과 값은 12.34\n",
        "* `type(e)` 함수를 통해 타입을 확인해보면 실수형\n",
        "* 마찬가지로 `123e-3`은 $123 \\times 10^{-3}$를 의미하며 결과는 0.123"
      ]
    },
    {
      "cell_type": "code",
      "metadata": {
        "id": "VflCID3tgVrO",
        "colab": {
          "base_uri": "https://localhost:8080/"
        },
        "outputId": "fb119960-2ae3-47e8-8092-524af106256d"
      },
      "source": [
        "e = 1234e-2\n",
        "print(e)\n",
        "print(type(e))"
      ],
      "execution_count": 17,
      "outputs": [
        {
          "output_type": "stream",
          "name": "stdout",
          "text": [
            "12.34\n",
            "<class 'float'>\n"
          ]
        }
      ]
    },
    {
      "cell_type": "code",
      "metadata": {
        "id": "CmJN7I6EgVxT",
        "colab": {
          "base_uri": "https://localhost:8080/"
        },
        "outputId": "bfefa3e4-2bc3-40c5-c071-ef096575357f"
      },
      "source": [
        "e = 123e-3\n",
        "print(e)\n",
        "print(type(e))"
      ],
      "execution_count": 18,
      "outputs": [
        {
          "output_type": "stream",
          "name": "stdout",
          "text": [
            "0.123\n",
            "<class 'float'>\n"
          ]
        }
      ]
    },
    {
      "cell_type": "markdown",
      "metadata": {
        "id": "B6TXm4YJoGFF"
      },
      "source": [
        "###복소수형 자료형(Complex Type)\n",
        "\n",
        "* 복소수(complex number)는 임의의 실수 $a$, $b$에 대해 $a + bi$의 꼴로 나타내는 수를 의미\n",
        "* 여기서 $a$는 실수, $b$는 허수 부분\n",
        "* i는 제곱하여 -1이 되는 수로 허수(imaginary number) 단위라고 함\n",
        "* 복소수에 대한 개념을 모르는 경우에는 [링크](https://ko.wikipedia.org/wiki/%EB%B3%B5%EC%86%8C%EC%88%98) 참고\n",
        "* 파이썬에서는 i 대신에 j 또는 J로 표현\n",
        "* $1 + 23j$와 같이 복소수로 표현하기\n",
        "* `print()` 함수를 이용해 출력한 결과 `(1+23j)`\n",
        "* 실수부는 `c.real`로 허수부는 `c.imag`로 출력\n",
        "* 복소수의 경우에는 `type()` 함수로 타입을 살펴보면 결과는 'complex'"
      ]
    },
    {
      "cell_type": "code",
      "metadata": {
        "id": "0I7Dr_S1sp_a",
        "colab": {
          "base_uri": "https://localhost:8080/"
        },
        "outputId": "73d1e259-58c8-477f-d402-3b224e81a3df"
      },
      "source": [
        "c = 1+23j #컴플렉스-복소수형 정의하는 거다~\n",
        "print(c)\n",
        "print(type(c))\n",
        "print(c.imag)\n",
        "print(type(c))"
      ],
      "execution_count": 21,
      "outputs": [
        {
          "output_type": "stream",
          "name": "stdout",
          "text": [
            "(1+23j)\n",
            "<class 'complex'>\n",
            "23.0\n",
            "<class 'complex'>\n"
          ]
        }
      ]
    },
    {
      "cell_type": "markdown",
      "metadata": {
        "id": "-KDyVNOYErfS"
      },
      "source": [
        "### 문자열 자료형(String Type)\n",
        "\n",
        "* 문자열(string)은 문자들의 집합을 의미\n",
        "* 문자열을 저장하는 변수를 문자열 변수라고 함"
      ]
    },
    {
      "cell_type": "code",
      "metadata": {
        "id": "vMbIM94dEq85",
        "colab": {
          "base_uri": "https://localhost:8080/"
        },
        "outputId": "4648ced2-34f6-4ee7-8f5d-41f4191294d4"
      },
      "source": [
        "string = \"Suan\" #더블쿼테이션, 쌍따옴표!! 싱글도 됨! 이렇게 해야 문자열이라는 의미!\n",
        "print(type(string))"
      ],
      "execution_count": 23,
      "outputs": [
        {
          "output_type": "stream",
          "name": "stdout",
          "text": [
            "<class 'str'>\n"
          ]
        }
      ]
    },
    {
      "cell_type": "markdown",
      "metadata": {
        "id": "mCkLTLt_GkqB"
      },
      "source": [
        "### 리스트 자료형(List Type)\n",
        "\n",
        "* 리스트(list)는 여러 값을 하나의 변수에 담을 수 있는 자료형\n",
        "* 대괄호 안에 여러 값을 쉽표를 구분자로 표현하여 리스트 변수 생성\n",
        "* 간단하게 리스트 생성과 출력을 위해 변수 `l` 안에 값 1, 2, 3을 넣어보자\n",
        "* 자료형을 출력해보면 'list'라는 결과 값을 가지는 것을 알 수 있음"
      ]
    },
    {
      "cell_type": "code",
      "metadata": {
        "id": "Y_KxRefG_AlV",
        "colab": {
          "base_uri": "https://localhost:8080/"
        },
        "outputId": "c7bfa019-cf04-4c45-f29a-07c9da4e462c"
      },
      "source": [
        "l = [1, 2, 3]\n",
        "print(l)\n",
        "print(type(l))"
      ],
      "execution_count": 25,
      "outputs": [
        {
          "output_type": "stream",
          "name": "stdout",
          "text": [
            "[1, 2, 3]\n",
            "<class 'list'>\n"
          ]
        }
      ]
    },
    {
      "cell_type": "markdown",
      "metadata": {
        "id": "YyMEboAsJA_f"
      },
      "source": [
        "* 리스트 자료형은 같은 자료형이 아니라 다른 자료형을 가지는 값들도 포함하여 구성 가능\n",
        "* 숫자와 문자열이 포함된 리스트 변수 사용하기"
      ]
    },
    {
      "cell_type": "code",
      "metadata": {
        "id": "_RxMxJkRILKq",
        "colab": {
          "base_uri": "https://localhost:8080/"
        },
        "outputId": "bfecc9af-6e6b-4602-eb13-1add52f55f2a"
      },
      "source": [
        "l = [1, \"One\", 2, \"Two\", 3, \"Three\"] #서로 다른 자료형이 섞여있음. 숫자, 문자 숫자 문자 등 \n",
        "print(l)\n",
        "print(type(l)) #그래도 리스트로 타입이 나온다"
      ],
      "execution_count": 29,
      "outputs": [
        {
          "output_type": "stream",
          "name": "stdout",
          "text": [
            "[1, 'One', 2, 'Two', 3, 'Three']\n",
            "<class 'list'>\n"
          ]
        }
      ]
    },
    {
      "cell_type": "markdown",
      "metadata": {
        "id": "NrO0CmiFJTet"
      },
      "source": [
        "### 튜플 자료형(Tuple Type)\n",
        "\n",
        "* 튜플 자료형은 리스트 자료형과 유사하지만 생성, 삭제, 수정이 불가\n",
        "* 튜플은 괄호 안에 여러 값을 쉼표로 구분하여 사용\n",
        "* 변수 `t` 안에 값 1, 2, 3을 저장하고, 변수와 변수의 타입을 출력하기"
      ]
    },
    {
      "cell_type": "code",
      "metadata": {
        "id": "_Wm3Q7k_JPaX",
        "colab": {
          "base_uri": "https://localhost:8080/"
        },
        "outputId": "cd612d79-b487-4737-ff32-7eec664113d7"
      },
      "source": [
        "t = (1, 2, 3) # 튜플은 그냥 괄호! 아님 소괄호!!!\n",
        "print(t)\n",
        "print(type(t))"
      ],
      "execution_count": 30,
      "outputs": [
        {
          "output_type": "stream",
          "name": "stdout",
          "text": [
            "(1, 2, 3)\n",
            "<class 'tuple'>\n"
          ]
        }
      ]
    },
    {
      "cell_type": "markdown",
      "metadata": {
        "id": "xQJGvN1CVGST"
      },
      "source": [
        "### 범위 자료형(Range Type)\n",
        "\n",
        "* 불변한 숫자 시퀀스 자료형"
      ]
    },
    {
      "cell_type": "code",
      "metadata": {
        "id": "efGjqZz7VGqz",
        "colab": {
          "base_uri": "https://localhost:8080/"
        },
        "outputId": "765e2ae7-ea71-4477-f482-7f7ce8f2f981"
      },
      "source": [
        "r = range(10) # 0부터 10까지 레인지를 받는다는 뜻.. 반복문에 자주 씀\n",
        "print(r)\n",
        "print(type(r))"
      ],
      "execution_count": 32,
      "outputs": [
        {
          "output_type": "stream",
          "name": "stdout",
          "text": [
            "range(0, 10)\n",
            "<class 'range'>\n"
          ]
        }
      ]
    },
    {
      "cell_type": "markdown",
      "metadata": {
        "id": "cjPLDAii4Oj7"
      },
      "source": [
        "### 집합 자료형(Set Type)\n",
        "\n",
        "* 집합 자료형은 중복과 순서가 없다는 특징을 가지며 집합 처리를 쉽게할 수 있음\n",
        "* 집합은 중괄호를 이용해서 값을 쉼표로 구분하여 넣음\n",
        "* 변수 `s` 안에 값 2, 3, 1을 넣고 변수 `s`의 값과 타입을 출력한 예제\n",
        "* 변경 불가능한 집합 자료형으로 fronzenset이 있음"
      ]
    },
    {
      "cell_type": "code",
      "metadata": {
        "id": "ZvEn8hlvKDaE",
        "colab": {
          "base_uri": "https://localhost:8080/"
        },
        "outputId": "4292f472-d716-4056-f9b4-2d35d68900ed"
      },
      "source": [
        "s = {2, 3, 1} #순서를 뒤죽박죽 넣었는데 프린트는 순서대로 뜸. 순서가 노상관이라는 뜻!\n",
        "print(s)\n",
        "print(type(s))\n",
        "\n",
        "fs = frozenset(s)\n",
        "print(fs)\n",
        "print(type(fs))"
      ],
      "execution_count": 35,
      "outputs": [
        {
          "output_type": "stream",
          "name": "stdout",
          "text": [
            "{1, 2, 3}\n",
            "<class 'set'>\n",
            "frozenset({1, 2, 3})\n",
            "<class 'frozenset'>\n"
          ]
        }
      ]
    },
    {
      "cell_type": "markdown",
      "metadata": {
        "id": "9O8GBpoTa1HO"
      },
      "source": [
        "### 딕셔너리 자료형(Dictionary Type)\n",
        "\n",
        "* 딕셔너리 자료형은 다른 자료형과 달리 키(key)와 값(value)를 한 쌍으로 갖는 자료형\n",
        "* 변수 `d`에 키와 값을 구분자 `:`를 이용해서 쌍으로 묶어서 `1: 'One', 2: 'Two'` 형태로 넣을 수 있음"
      ]
    },
    {
      "cell_type": "code",
      "metadata": {
        "id": "9R-eJj_ja1oD",
        "colab": {
          "base_uri": "https://localhost:8080/"
        },
        "outputId": "12aa5367-0a34-46c6-ed20-d2a138692802"
      },
      "source": [
        "d = {1:'One', 2:'Two'}\n",
        "print(d)\n",
        "print(type(d))"
      ],
      "execution_count": 36,
      "outputs": [
        {
          "output_type": "stream",
          "name": "stdout",
          "text": [
            "{1: 'One', 2: 'Two'}\n",
            "<class 'dict'>\n"
          ]
        }
      ]
    },
    {
      "cell_type": "markdown",
      "metadata": {
        "id": "rbjYd180xOgd"
      },
      "source": [
        "### 바이트 시퀀스형(Byte Sequence Type)\n",
        "\n",
        "* 바이트 자료형은 1바이트 단위의 값을 연속적으로 저장하는 시퀀스 자료형\n",
        "* 1바이트는 8비트에 해당하며, 정수값 0 ~ 255(0x00~0xFF) 사용\n",
        "* 이진 데이터로 사용되어지거나 1바이트 문자로 고정을 위해 사용\n",
        "* 유니코드가 아닌 문자열을 사용하는 것과 유사\n",
        "* 바이트 자료형의 시퀀스 형태로 `bytearray` 자료형 사용\n",
        "* 바이트 자료형의 메모리 값의 표현으로 `memoryview` 자료형 사용\n"
      ]
    },
    {
      "cell_type": "code",
      "metadata": {
        "id": "N364DWyAuinp",
        "colab": {
          "base_uri": "https://localhost:8080/"
        },
        "outputId": "159fa98c-c5ee-4e5a-aa00-ba22c9a2b3c8"
      },
      "source": [
        "byte = b'\\x00'\n",
        "print(byte)\n",
        "print(type(byte))\n",
        "\n",
        "byte = b\"Hello\"\n",
        "print(byte)\n",
        "print(type(byte))\n",
        "\n",
        "ba = bytearray(byte)\n",
        "print(ba)\n",
        "print(type(ba))\n",
        "\n",
        "mv = memoryview(ba)\n",
        "print(mv)\n",
        "print(type(mv))"
      ],
      "execution_count": 41,
      "outputs": [
        {
          "output_type": "stream",
          "name": "stdout",
          "text": [
            "b'\\x00'\n",
            "<class 'bytes'>\n",
            "b'Hello'\n",
            "<class 'bytes'>\n",
            "bytearray(b'Hello')\n",
            "<class 'bytearray'>\n",
            "<memory at 0x7fce5b903530>\n",
            "<class 'memoryview'>\n"
          ]
        }
      ]
    },
    {
      "cell_type": "markdown",
      "metadata": {
        "id": "aYEHLAuDCZcj"
      },
      "source": [
        "\n",
        "\n",
        "---\n",
        "\n"
      ]
    },
    {
      "cell_type": "markdown",
      "metadata": {
        "id": "RsSgmmjFXFAS"
      },
      "source": [
        "## 자료형 변환"
      ]
    },
    {
      "cell_type": "markdown",
      "source": [
        "* bool([x]) x를 불리언형으로 변환\n",
        "* int(x[,base]) x를 정수로 변환 x가 문자열일 경우 base를 써줘야함-10진수라면 10진수 로 명시를 해줘야함\n",
        "* float(x) x를 실수형으로 전환\n",
        "* complex(real, [,img]) 복소수 생성\n",
        "* str(x) x를 문자열로 변환\n",
        "* repr(x) x를 표현식(representation) 문자열로 변환\n",
        "* eval(str) 문자열을 평가하고 남은결과 객체반환\n",
        "\n",
        "\n",
        "* tuple(s) s를 튜플로\n",
        "* list(s) s를 리스트로\n",
        "* set(s) s를 집합으로\n",
        "* dict(d) 딕셔너리 생성, d는 키값- 튜플의 시퀀스여야함\n",
        "* frozenset(s) s를 고정집합으로\n",
        "\n",
        "\n",
        "* chr(x) 정수를 문자로 character\n",
        "* ord(x) 단일 문자를 정수값으로\n",
        "* bin(x) 정수를 2진수 문자열로\n",
        "* oct(x) 정수를 8진수 문자열로\n",
        "* hex(x) 정수를 16진수 문자열로\n",
        "* bytes(x) 자료형을 바이트형으로\n",
        "* bytearray(x) 자료형을 변경가능한 바이트형으로\n",
        "* memoryview(x) 바이트 자료형을 메모리의 이진 데이터로"
      ],
      "metadata": {
        "id": "Ky8JNYkAjrHD"
      }
    },
    {
      "cell_type": "markdown",
      "metadata": {
        "id": "-FxX0V7IUgl9"
      },
      "source": [
        "#### bool()\n",
        "\n",
        "* `bool()` 함수는 다양한 자료형을 불리언형으로 변환\n",
        "* `0`이나 `False` 값이 아닌 경우는 모두 True로 변환"
      ]
    },
    {
      "cell_type": "code",
      "metadata": {
        "id": "levVjrt-UPGE",
        "colab": {
          "base_uri": "https://localhost:8080/"
        },
        "outputId": "ff0dfc84-05ab-4abb-8286-8cf9d7a37e3b"
      },
      "source": [
        "print(bool(True))\n",
        "print(bool(False))\n",
        "print(bool(10))\n",
        "print(bool(0b010))\n",
        "print(bool(0o130))\n",
        "print(bool(0xABC))\n",
        "print(bool(12.34))\n",
        "print(bool(1234e-2))\n",
        "print(bool('10'))\n",
        "#False와 0 빼고 나머지는 다 True로 반환해줌"
      ],
      "execution_count": 2,
      "outputs": [
        {
          "output_type": "stream",
          "name": "stdout",
          "text": [
            "True\n",
            "False\n",
            "True\n",
            "True\n",
            "True\n",
            "True\n",
            "True\n",
            "True\n",
            "True\n"
          ]
        }
      ]
    },
    {
      "cell_type": "markdown",
      "metadata": {
        "id": "KpA7BboIHjok"
      },
      "source": [
        "### int() - 정수형(소수점 이하 다 버린다)\n",
        "\n",
        "* `int()` 함수는 다양한 자료형을 **정수형**으로 변환\n",
        "* 복소수형은 정수로 `int()` 함수를 통해 변환이 되지 않음\n",
        "* 불리언 형은 값으로 `True`와 `False`만 가지고 `int()` 함수를 통해 정수로 변환되면 `True`는 1로 `False`는 0으로 변환\n",
        "* 정수값 10과 2진수 `0b010`, 8진수 `0o130`, 16진수 `0xABC`는 모두 같은 정수형이라서 그대로 값을 유지하고, 10진수 형태로 변환되어 출력\n",
        "* 실수형을 정수형으로 변환하는 경우에는 고정소수점이든 부동소수점이든지 소수점 이하를 제외하고 변환, 예를 들어, 12.34는 12로 소수점을 제외하고 변환\n",
        "* 문자형은 기본적으로는 문자열을 10진수 변환, 예를 들어, `int('10')`은 기본 10진수로 문자열 '10'을 정수형 10으로 변환\n",
        "* 2진수, 8진수, 16진수 등의 다른 진수로 된 문자열일 경우에는 몇 진수에 해당되는지를 입력해주면 그에 맞추어 변환\n",
        "* `int('010', 2)`와 같이 문자열 '010'을 2진수라고 알려주고 변환하기 위해서 2라고 입력하고, 8진수과 16진수도 마찬가지"
      ]
    },
    {
      "cell_type": "code",
      "metadata": {
        "id": "aFXT-t5qWRvX",
        "colab": {
          "base_uri": "https://localhost:8080/"
        },
        "outputId": "ce86d792-1eff-4062-e66b-822f67fd3845"
      },
      "source": [
        "print(int(True))\n",
        "print(int(False))\n",
        "print(int(10))\n",
        "print(int(0b010))\n",
        "print(int(0o130))\n",
        "print(int(0xABC))\n",
        "print(int(12.34))\n",
        "print(int(1234e-2))\n",
        "print(int('10'))\n",
        "print(int('010', 2)) # 2진수 하려면 2라고 표시해줘야함\n",
        "print(int('130', 8))\n",
        "print(int('ABC', 16))"
      ],
      "execution_count": 3,
      "outputs": [
        {
          "output_type": "stream",
          "name": "stdout",
          "text": [
            "1\n",
            "0\n",
            "10\n",
            "2\n",
            "88\n",
            "2748\n",
            "12\n",
            "12\n",
            "10\n",
            "2\n",
            "88\n",
            "2748\n"
          ]
        }
      ]
    },
    {
      "cell_type": "markdown",
      "metadata": {
        "id": "l1DTbBym3gb_"
      },
      "source": [
        "### float() - 실수형(소수점 포함)으로 변환해줌\n",
        "\n",
        "* `float()` 함수는 자료형을 **실수형**으로 변환\n",
        "* 복소수형은 변환이 되지 않고, 문자열 형태의 2진수, 8진수, 16진수도 변환이 되지 않음\n",
        "* `int()` 함수를 사용한 결과와 유사하지만, **소수점 이하 값이 포함**\n",
        "* 만약 소수점 이하 값이 없다면 .0으로 변환되고, 소수점 이하 값이 있는 실수형은 동일한 값으로 변환"
      ]
    },
    {
      "cell_type": "code",
      "metadata": {
        "id": "xKGdUbHXGnrt",
        "colab": {
          "base_uri": "https://localhost:8080/"
        },
        "outputId": "18066d37-6531-44cc-e9e5-037b2f88f16a"
      },
      "source": [
        "print(float(True))\n",
        "print(float(False))\n",
        "print(float(10))\n",
        "print(float(0b010))\n",
        "print(float(0o130))\n",
        "print(float(0xABC))\n",
        "print(float(12.34))\n",
        "print(float(1234e-2))\n",
        "print(float('10'))"
      ],
      "execution_count": 5,
      "outputs": [
        {
          "output_type": "stream",
          "name": "stdout",
          "text": [
            "1.0\n",
            "0.0\n",
            "10.0\n",
            "2.0\n",
            "88.0\n",
            "2748.0\n",
            "12.34\n",
            "12.34\n",
            "10.0\n"
          ]
        }
      ]
    },
    {
      "cell_type": "markdown",
      "metadata": {
        "id": "C4E7PyVIfjGp"
      },
      "source": [
        "### complex()\n",
        "\n",
        "* `complex()` 함수는 자료형을 **복소수형**으로 변환\n",
        "* 불리언형, 정수형, 실수형, 복소수형, 문자형 모두 복소수형으로 변환 가능\n",
        "* 허수가 있는 복소수형을 제외하고 다른 자료형은 허수 부분이 없어서 `Oj`로 변환"
      ]
    },
    {
      "cell_type": "code",
      "metadata": {
        "id": "2VkxG3V17t0Q",
        "colab": {
          "base_uri": "https://localhost:8080/"
        },
        "outputId": "2500af34-2150-496f-eaa0-93c822b11fd3"
      },
      "source": [
        "print(complex(True))\n",
        "print(complex(False)) #값이 0이라서 그냥 0j로 뜸\n",
        "print(complex(10))\n",
        "print(complex(0b010))\n",
        "print(complex(0o130))\n",
        "print(complex(0xABC))\n",
        "print(complex(12.34))\n",
        "print(complex(1234e-2))\n",
        "print(complex(1+23j))\n",
        "print(complex('10'))"
      ],
      "execution_count": 8,
      "outputs": [
        {
          "output_type": "stream",
          "name": "stdout",
          "text": [
            "(1+0j)\n",
            "0j\n",
            "(10+0j)\n",
            "(2+0j)\n",
            "(88+0j)\n",
            "(2748+0j)\n",
            "(12.34+0j)\n",
            "(12.34+0j)\n",
            "(1+23j)\n",
            "(10+0j)\n"
          ]
        }
      ]
    },
    {
      "cell_type": "markdown",
      "metadata": {
        "id": "4B6kUxK5dqaT"
      },
      "source": [
        "### str()\n",
        "\n",
        "* `str()` 함수는 파이썬의 모든 자료형을 문자열로 변환\n",
        "* 자료형의 값을 그대로 문자열 형태로 변환\n"
      ]
    },
    {
      "cell_type": "markdown",
      "source": [
        "str() repr()의 비교\n",
        "* str() 함수와 유사하게 repr() 함수 존재\n",
        "* str 함수는 내부적으로 __str__ 메소드를 호출\n",
        "*  __str__ 비공식적 문자열 출력에 사용, 사용자가 보기 쉬운 형태로 보여줄때 씀<br>\n",
        " repe() 함수는 내부적으로 __repr__ 메소드 호출<br> \n",
        "  __repr__은 공식적인 문자열을 출력할때 사용되며, 주로 해당 객체를 인식할 수 있는 공식적인 문자열을 나타낼 때 사용"
      ],
      "metadata": {
        "id": "f29GtEIuwOOe"
      }
    },
    {
      "cell_type": "code",
      "metadata": {
        "id": "AWnqw88hfotE",
        "colab": {
          "base_uri": "https://localhost:8080/"
        },
        "outputId": "e39e6091-6099-41b5-d82b-c53ed63bd38f"
      },
      "source": [
        "print(str(True))\n",
        "print(str(False)) #값이 0이라서 그냥 0j로 뜸\n",
        "print(str(10))\n",
        "print(str(0b010))\n",
        "print(str(0o130))\n",
        "print(str(0xABC))\n",
        "print(str(12.34))\n",
        "print(str(1234e-2))\n",
        "print(str(1+23j))\n",
        "print(str('10'))\n",
        "print(str([1, 2, 3]))\n",
        "print(str((1, 2, 3)))\n",
        "print(str({2, 3, 1}))\n",
        "print(str({1: 'One', 2: 'Two'}))"
      ],
      "execution_count": 9,
      "outputs": [
        {
          "output_type": "stream",
          "name": "stdout",
          "text": [
            "True\n",
            "False\n",
            "10\n",
            "2\n",
            "88\n",
            "2748\n",
            "12.34\n",
            "12.34\n",
            "(1+23j)\n",
            "10\n",
            "[1, 2, 3]\n",
            "(1, 2, 3)\n",
            "{1, 2, 3}\n",
            "{1: 'One', 2: 'Two'}\n"
          ]
        }
      ]
    },
    {
      "cell_type": "markdown",
      "metadata": {
        "id": "XU9RZbXykzXt"
      },
      "source": [
        "### eval()\n",
        "\n",
        "* `eval()` 함수는 문자열에 포함된 수식을 **계산하여 나온 결과**를 반환\n",
        "* '1 + 2'라는 문자열에 대해서 그대로 출력하는 것과 달리 계산된 결과 값은 3을 출력\n",
        "* 그 밖에도 -, *, /와 같은 여러 수식들에 대해서도 계산 가능"
      ]
    },
    {
      "cell_type": "code",
      "metadata": {
        "id": "m3Fh1-2leEru",
        "colab": {
          "base_uri": "https://localhost:8080/"
        },
        "outputId": "605f0c99-3def-47d9-d713-2479653a2b64"
      },
      "source": [
        "print(\"1+2\")\n",
        "print(eval(\"1+2\"))\n",
        "print(eval(\"10+20-30\"))\n",
        "print(eval(\"10*10\"))\n",
        "print(eval(\"100/10\"))\n",
        "#문자열 안의 수식의 연산된 결과값이 출력됨"
      ],
      "execution_count": 13,
      "outputs": [
        {
          "output_type": "stream",
          "name": "stdout",
          "text": [
            "1+2\n",
            "3\n",
            "0\n",
            "100\n",
            "10.0\n"
          ]
        }
      ]
    },
    {
      "cell_type": "markdown",
      "metadata": {
        "id": "nhChZjK3n9KE"
      },
      "source": [
        "### tuple()\n",
        "\n",
        "* `tuple()` 함수는 문자열, 리스트, 튜플 등의 자료형을 튜플 자료형으로 변환\n",
        "* 문자열 `'Suan'`을 문자 단위로 구분하여 튜플 자료형으로 변환\n",
        "* 리스트 자료형 `[1, 2, 3]`이나 튜플 자료형 `(1, 2, 3)`도 튜플 자료형으로 `(1, 2, 3)`으로 변환"
      ]
    },
    {
      "cell_type": "code",
      "metadata": {
        "id": "--4Db23Glh-5",
        "colab": {
          "base_uri": "https://localhost:8080/"
        },
        "outputId": "15b88952-747b-4a22-912f-ccf9278d3c65"
      },
      "source": [
        "print(tuple('Suan')) # 문자열을 튜플로 변환\n",
        "print(tuple([1, 2, 3])) # 리스트를 튜플로 변환\n",
        "print(tuple((1, 2, 3))) # 튜플을 튜플로 변환"
      ],
      "execution_count": 16,
      "outputs": [
        {
          "output_type": "stream",
          "name": "stdout",
          "text": [
            "('S', 'u', 'a', 'n')\n",
            "(1, 2, 3)\n",
            "(1, 2, 3)\n"
          ]
        }
      ]
    },
    {
      "cell_type": "markdown",
      "metadata": {
        "id": "PStvlrGiaphP"
      },
      "source": [
        "### list()\n",
        "\n",
        "* `list()` 함수는 문자열, 리스트, 튜플 등의 자료형을 리스트 자료형으로 변환\n",
        "* 문자열 `'Suan'`, 리스트 `[1, 2, 3]`, 튜플 `(1, 2, 3)`에 대해서 리스트 자료형으로 변환"
      ]
    },
    {
      "cell_type": "code",
      "metadata": {
        "id": "OGUiqkOMaova",
        "colab": {
          "base_uri": "https://localhost:8080/"
        },
        "outputId": "b774e868-da45-4dfe-a99c-881053fae327"
      },
      "source": [
        "print(list('Suan')) # 문자열을 리스트로 변환\n",
        "print(list([1, 2, 3])) # 리스트를 리스트로 변환\n",
        "print(list((1, 2, 3))) # 튜플을 리스트로 변환"
      ],
      "execution_count": 17,
      "outputs": [
        {
          "output_type": "stream",
          "name": "stdout",
          "text": [
            "['S', 'u', 'a', 'n']\n",
            "[1, 2, 3]\n",
            "[1, 2, 3]\n"
          ]
        }
      ]
    },
    {
      "cell_type": "markdown",
      "metadata": {
        "id": "J0kr_j2KatLD"
      },
      "source": [
        "### set()\n",
        "\n",
        "* `set()` 함수는 문자열, 리스트, 튜플, 집합, 딕셔너리 자료형을 집합 자료형으로 변환\n",
        "* 집합의 특성답게 요소에 대해서 **순서를 고려하지 않고** 변환\n",
        "* 리스트, 튜플, 집합 자료형도 집합 형태로 변환이 되며, 딕셔너리 자료형도 집합으로 변환\n",
        "* 딕셔너리 자료형은 키와 값으로 구성된 구조에서 키 값에 해당하는 것만 집합으로 변환\n"
      ]
    },
    {
      "cell_type": "code",
      "metadata": {
        "id": "zW0-GhJiavlg",
        "colab": {
          "base_uri": "https://localhost:8080/"
        },
        "outputId": "4b98c508-cf81-46c3-b09a-74bbc3fe809d"
      },
      "source": [
        "print(set('Suan')) # 문자열을 집합으로 변환 - 근데 Suan 순서가 뒤죽박죽으로 됨! 집합의 특성: 순서 고려하지 않는다.\n",
        "print(set([1, 2, 3])) # 리스트를 집합으로 변환\n",
        "print(set((1, 2, 3))) # 튜플을 집합으로 변환\n",
        "print(set({1, 2, 3})) # 집합을 집합으로 변환\n",
        "print(set({1: 'One', 2: 'Two'})) # 딕셔너리를 집합으로 변환, 딕셔너리를 집합으로 변환할땐 키 값만 나온다."
      ],
      "execution_count": 18,
      "outputs": [
        {
          "output_type": "stream",
          "name": "stdout",
          "text": [
            "{'n', 'a', 'S', 'u'}\n",
            "{1, 2, 3}\n",
            "{1, 2, 3}\n",
            "{1, 2, 3}\n",
            "{1, 2}\n"
          ]
        }
      ]
    },
    {
      "cell_type": "markdown",
      "metadata": {
        "id": "O3OowqxXayn7"
      },
      "source": [
        "### frozenset()\n",
        "\n",
        "* `frozenset()` 함수는 문자열을 고정 집합 형태로 변환\n",
        "* `set()` 함수는 집합의 값을 추가 및 제거 등이 가능\n",
        "* `frozenset()` 함수는 **수정 불가능**한 집합 자료형"
      ]
    },
    {
      "cell_type": "code",
      "metadata": {
        "id": "VLwYuHvha0ef",
        "colab": {
          "base_uri": "https://localhost:8080/"
        },
        "outputId": "55fc4ece-dac1-4622-ca7d-2cf8c4487ff7"
      },
      "source": [
        "print(frozenset('Suan'))\n",
        "print(frozenset([1, 2, 3]))"
      ],
      "execution_count": 19,
      "outputs": [
        {
          "output_type": "stream",
          "name": "stdout",
          "text": [
            "frozenset({'n', 'a', 'S', 'u'})\n",
            "frozenset({1, 2, 3})\n"
          ]
        }
      ]
    },
    {
      "cell_type": "markdown",
      "metadata": {
        "id": "c5caSaibawSN"
      },
      "source": [
        "### dict()\n",
        "\n",
        "* `dict()` 함수는 딕셔너리 자료형으로 변환하는 역할\n",
        "* (키: 값)으로 구성된 튜플의 시퀀스 형태로 값을 가짐\n"
      ]
    },
    {
      "cell_type": "code",
      "metadata": {
        "id": "60x8BRJFayPO",
        "colab": {
          "base_uri": "https://localhost:8080/"
        },
        "outputId": "641f917e-4224-4dac-a48b-97b6ce1e05be"
      },
      "source": [
        "print(dict({1: 'One', 2: 'Two'}))\n",
        "print(dict({'One': 1, 'Two': 2}))"
      ],
      "execution_count": 20,
      "outputs": [
        {
          "output_type": "stream",
          "name": "stdout",
          "text": [
            "{1: 'One', 2: 'Two'}\n",
            "{'One': 1, 'Two': 2}\n"
          ]
        }
      ]
    },
    {
      "cell_type": "markdown",
      "metadata": {
        "id": "2ACrynyca1DD"
      },
      "source": [
        "### chr()\n",
        "\n",
        "* `chr()` 함수는 정수를 문자로 변환\n",
        "* 컴퓨터에서는 문자를 처리하기 위해 각 문자마다 특정 정수값으로 매핑: ASCII(American Standard Code for Information Interchange)\n",
        "\n",
        "* `chr()` 함수는 ASCII 기준에 따라서 정수값에 해당하는 문자를 나타냄\n",
        "* 예를 들어, ASCII에서 정수 값 97은 문자 a에 매핑되어 `chr(97)`의 결과 값은 문자 a"
      ]
    },
    {
      "cell_type": "code",
      "metadata": {
        "id": "4IozRAYUa27n",
        "colab": {
          "base_uri": "https://localhost:8080/"
        },
        "outputId": "fe02dfd9-1e8b-448e-dc7f-d2770a81aa45"
      },
      "source": [
        "print(chr(97)) #ASCII 에서는 97을 a로 이미 딱딱 정해놈\n",
        "print(chr(65))\n",
        "print(chr(122))\n",
        "print(chr(90))"
      ],
      "execution_count": 22,
      "outputs": [
        {
          "output_type": "stream",
          "name": "stdout",
          "text": [
            "a\n",
            "A\n",
            "z\n",
            "Z\n"
          ]
        }
      ]
    },
    {
      "cell_type": "markdown",
      "metadata": {
        "id": "pqxx-K67a3Vf"
      },
      "source": [
        "### ord() -chr와 반대작용\n",
        "\n",
        "* `ord()` 함수는 `chr()` 함수와 반대로 문자를 정수 값으로 변환\n",
        "* ASCII에 맞춰서 문자 'a'에 해당하는 정수 값인 97을 출력하기"
      ]
    },
    {
      "cell_type": "code",
      "metadata": {
        "id": "Hucvh-qxa5iG",
        "colab": {
          "base_uri": "https://localhost:8080/"
        },
        "outputId": "72bc4fae-6083-43c5-f96e-2f0f162f71b2"
      },
      "source": [
        "print(ord('a'))\n",
        "print(ord('A'))\n",
        "print(ord('z'))\n",
        "print(ord('Z'))"
      ],
      "execution_count": 23,
      "outputs": [
        {
          "output_type": "stream",
          "name": "stdout",
          "text": [
            "97\n",
            "65\n",
            "122\n",
            "90\n"
          ]
        }
      ]
    },
    {
      "cell_type": "markdown",
      "metadata": {
        "id": "0TDNXL3saLad"
      },
      "source": [
        "### bin()\n",
        "\n",
        "* `bin()` 함수는 정수를 2진수 문자열로 변환\n",
        "* 자료형을 2진수 표기인 '0b'가 붙은 형태의 문자열로 변환\n",
        "* `bin()` 함수로 `True`는 `0b1`로 출력하고, `False`는 `0b0`으로 출력하기\n",
        "* 10진수, 2진수, 8진수, 16진수 정수형도 2진수로 변환되어 출력"
      ]
    },
    {
      "cell_type": "code",
      "metadata": {
        "id": "Ia5W7GjVaNSO",
        "colab": {
          "base_uri": "https://localhost:8080/"
        },
        "outputId": "7ea1f9bb-5504-425f-fcaf-6df90c0e9e12"
      },
      "source": [
        "print(bin(True))\n",
        "print(bin(False))\n",
        "print(bin(10))\n",
        "print(bin(0b010))\n",
        "print(bin(0o130))\n",
        "print(bin(0xABC))"
      ],
      "execution_count": 24,
      "outputs": [
        {
          "output_type": "stream",
          "name": "stdout",
          "text": [
            "0b1\n",
            "0b0\n",
            "0b1010\n",
            "0b10\n",
            "0b1011000\n",
            "0b101010111100\n"
          ]
        }
      ]
    },
    {
      "cell_type": "markdown",
      "metadata": {
        "id": "GhKuz0R7a8nh"
      },
      "source": [
        "### oct()\n",
        "\n",
        "* `oct()` 함수는 정수를 8진수 문자열로 변환\n",
        "* 불리언형, 정수형 등의 자료형을 8진수 표기인 '0o'가 붙은 형태의 문자열로 변환\n",
        "* `oct()` 함수를 이용해 `True`는 `0o1`로 출력되고, `False`는 `0o0`으로 출력하기\n",
        "* 10진수, 2진수, 8진수, 16진수 정수형도 8진수로 변환되어 출력"
      ]
    },
    {
      "cell_type": "code",
      "metadata": {
        "id": "hLc4zMe7a-L0",
        "colab": {
          "base_uri": "https://localhost:8080/"
        },
        "outputId": "ba6c03c4-a2fe-4a6b-c02f-61d8cdf0f38f"
      },
      "source": [
        "print(oct(True))\n",
        "print(oct(False))\n",
        "print(oct(10))\n",
        "print(oct(0b010))\n",
        "print(oct(0o130))\n",
        "print(oct(0xABC))"
      ],
      "execution_count": 25,
      "outputs": [
        {
          "output_type": "stream",
          "name": "stdout",
          "text": [
            "0o1\n",
            "0o0\n",
            "0o12\n",
            "0o2\n",
            "0o130\n",
            "0o5274\n"
          ]
        }
      ]
    },
    {
      "cell_type": "markdown",
      "metadata": {
        "id": "_fRnnZfPa59a"
      },
      "source": [
        "### hex()\n",
        "\n",
        "* `hex()` 함수는 정수를 16진수 문자열로 변환\n",
        "* 주어진 자료형을 16진수 표기인 '0x'가 붙은 16진수 형태의 문자열로 변환\n",
        "* 불리언형과 정수형 모두 16진수 표기의 문자열로 변환하기\n"
      ]
    },
    {
      "cell_type": "code",
      "metadata": {
        "id": "w_hQsUVTa8Mi",
        "colab": {
          "base_uri": "https://localhost:8080/"
        },
        "outputId": "bb819ccb-4b56-46e2-aceb-672cc11e336e"
      },
      "source": [
        "print(hex(True))\n",
        "print(hex(False))\n",
        "print(hex(10))\n",
        "print(hex(0b010))\n",
        "print(hex(0o130))\n",
        "print(hex(0xABC))"
      ],
      "execution_count": 26,
      "outputs": [
        {
          "output_type": "stream",
          "name": "stdout",
          "text": [
            "0x1\n",
            "0x0\n",
            "0xa\n",
            "0x2\n",
            "0x58\n",
            "0xabc\n"
          ]
        }
      ]
    },
    {
      "cell_type": "markdown",
      "metadata": {
        "id": "algkb-Zv_v3y"
      },
      "source": [
        "### bytes()\n",
        "\n",
        "* `bytes()` 함수는 자료형을 바이트형으로 변환\n",
        "* 객체를 바이트 객체로 변환"
      ]
    },
    {
      "cell_type": "code",
      "metadata": {
        "id": "fBuAnYJQ_wp0",
        "colab": {
          "base_uri": "https://localhost:8080/"
        },
        "outputId": "c69090d8-c50b-4b83-9cde-eadb51bbbf6e"
      },
      "source": [
        "print(bytes(True))\n",
        "print(bytes(False))\n",
        "print(bytes(10))\n",
        "print(bytes(b'Hello'))\n",
        "print(bytes([1, 2, 3]))"
      ],
      "execution_count": 27,
      "outputs": [
        {
          "output_type": "stream",
          "name": "stdout",
          "text": [
            "b'\\x00'\n",
            "b''\n",
            "b'\\x00\\x00\\x00\\x00\\x00\\x00\\x00\\x00\\x00\\x00'\n",
            "b'Hello'\n",
            "b'\\x01\\x02\\x03'\n"
          ]
        }
      ]
    },
    {
      "cell_type": "markdown",
      "metadata": {
        "id": "6Ow3gwEoBhLt"
      },
      "source": [
        "### bytearray()\n",
        "\n",
        "* `bytearray()` 함수는 자료형을 변경가능한 바이트형으로 변환"
      ]
    },
    {
      "cell_type": "code",
      "metadata": {
        "id": "g81YWjlACBuI",
        "colab": {
          "base_uri": "https://localhost:8080/"
        },
        "outputId": "e6d5118a-e570-4523-c199-0afa0b47f7da"
      },
      "source": [
        "ba = bytearray(b'hello')\n",
        "print(ba)\n",
        "ba[0]=ord('H')\n",
        "print(ba)\n",
        "print(type(ba))\n",
        "\n",
        "ba = bytearray([1, 2, 3])\n",
        "print(ba)\n",
        "ba[0]= 4\n",
        "print(ba)\n",
        "print(type(ba))"
      ],
      "execution_count": 32,
      "outputs": [
        {
          "output_type": "stream",
          "name": "stdout",
          "text": [
            "bytearray(b'hello')\n",
            "bytearray(b'Hello')\n",
            "<class 'bytearray'>\n",
            "bytearray(b'\\x01\\x02\\x03')\n",
            "bytearray(b'\\x04\\x02\\x03')\n",
            "<class 'bytearray'>\n"
          ]
        }
      ]
    },
    {
      "cell_type": "markdown",
      "metadata": {
        "id": "aP84dGJOEDpt"
      },
      "source": [
        "### memoryview()\n",
        "\n",
        "* 바이트 자료형을 메모리의 이진 데이터로 변환한 자료형"
      ]
    },
    {
      "cell_type": "code",
      "metadata": {
        "id": "MxbONoOsEEKH",
        "colab": {
          "base_uri": "https://localhost:8080/"
        },
        "outputId": "82391867-4d31-4a31-aac5-340f79ae31c8"
      },
      "source": [
        "ba = bytearray(b'Hello')\n",
        "mv = memoryview(ba)\n",
        "ba[0]=72\n",
        "print(ba)\n",
        "print(mv)\n",
        "print(type(mv))"
      ],
      "execution_count": 33,
      "outputs": [
        {
          "output_type": "stream",
          "name": "stdout",
          "text": [
            "bytearray(b'Hello')\n",
            "<memory at 0x7fba73a84d50>\n",
            "<class 'memoryview'>\n"
          ]
        }
      ]
    },
    {
      "cell_type": "markdown",
      "metadata": {
        "id": "TUtif65eQ4kN"
      },
      "source": [
        "## 자료형 계산"
      ]
    },
    {
      "cell_type": "markdown",
      "source": [
        "자료형들 간의 계산이 가능하도록 몇가지 유용한 내장함수를 제공 (빌트인 펑션)<br>\n",
        "min 최솟값<br>\n",
        "max 최댓값<br>\n",
        "sum 값들의 합<br>\n",
        "divmod(a, b) a를 b로 나눈 값과 나머지를 쌍으로 반환<br>\n",
        "abs 절댓값(앱솔루트)<br>\n",
        "pow(a, b) a의 b승<br>\n",
        "len(s) 시퀀스(문자열 바이트 튜플 리스트)의 갯수를 반환<br>\n",
        "round 소수점 뒤를 반올림한 값<br>\n",
        "all 모든값이 true이거나 비어있을때 true로 반환<br>\n",
        "any 어떤값이 true이면 true 반환, 값이 비어있을때 false 반환"
      ],
      "metadata": {
        "id": "6i7q-3QZ2iZY"
      }
    },
    {
      "cell_type": "markdown",
      "metadata": {
        "id": "C3IjTWeSRHWa"
      },
      "source": [
        "### min()\n",
        "\n",
        "* 입력된 값들 중에서 가장 작은 값을 반환하는 함수"
      ]
    },
    {
      "cell_type": "code",
      "metadata": {
        "id": "MCgOSP0qRKfn",
        "colab": {
          "base_uri": "https://localhost:8080/"
        },
        "outputId": "1fa28c34-628b-4bbd-9cd8-f7327054e883"
      },
      "source": [
        "print(min(1,2,3))\n",
        "print(min([3, 4, 5]))"
      ],
      "execution_count": 4,
      "outputs": [
        {
          "output_type": "stream",
          "name": "stdout",
          "text": [
            "1\n",
            "3\n"
          ]
        }
      ]
    },
    {
      "cell_type": "markdown",
      "metadata": {
        "id": "cMVIBtqRRvg0"
      },
      "source": [
        "### max()\n",
        "\n",
        "* 입력된 값들 중에서 가장 큰 값을 반환하는 함수"
      ]
    },
    {
      "cell_type": "code",
      "metadata": {
        "id": "GZfgc91LRzda",
        "colab": {
          "base_uri": "https://localhost:8080/"
        },
        "outputId": "8782ddbe-fbe2-4091-c11f-eb472e735602"
      },
      "source": [
        "print(max(1,2,3))\n",
        "print(max([3, 4, 5]))"
      ],
      "execution_count": 5,
      "outputs": [
        {
          "output_type": "stream",
          "name": "stdout",
          "text": [
            "3\n",
            "5\n"
          ]
        }
      ]
    },
    {
      "cell_type": "markdown",
      "metadata": {
        "id": "OcnIj5EjR_JJ"
      },
      "source": [
        "### sum()\n",
        "\n",
        "* 입력된 값들의 전체 합을 반환"
      ]
    },
    {
      "cell_type": "code",
      "metadata": {
        "id": "FRnME2kiSETx",
        "colab": {
          "base_uri": "https://localhost:8080/"
        },
        "outputId": "baec380d-6997-447a-d159-2c5c721559b0"
      },
      "source": [
        "print(sum((1,2,3)))\n",
        "print(sum([3, 4, 5]))"
      ],
      "execution_count": 6,
      "outputs": [
        {
          "output_type": "stream",
          "name": "stdout",
          "text": [
            "6\n",
            "12\n"
          ]
        }
      ]
    },
    {
      "cell_type": "markdown",
      "metadata": {
        "id": "6t8L1aUkSfuG"
      },
      "source": [
        "### divmod()\n",
        "\n",
        "* 나눈 값과 나머지 값을 쌍으로 반환\n",
        "* `(a // b, a % b)`와 동일한 값"
      ]
    },
    {
      "cell_type": "code",
      "metadata": {
        "id": "0tEUJTJ5Smt_",
        "colab": {
          "base_uri": "https://localhost:8080/"
        },
        "outputId": "47e00330-dd13-4648-c263-b47506cc3f6f"
      },
      "source": [
        "print(divmod(3, 5))\n",
        "print(divmod(10, 5))\n",
        "print((10//5, 10%5))"
      ],
      "execution_count": 11,
      "outputs": [
        {
          "output_type": "stream",
          "name": "stdout",
          "text": [
            "(0, 3)\n",
            "(2, 0)\n",
            "(2, 0)\n"
          ]
        }
      ]
    },
    {
      "cell_type": "markdown",
      "metadata": {
        "id": "bA34pYq5TOBo"
      },
      "source": [
        "### abs()\n",
        "\n",
        "* 절대값 $|x|$으로 반환 "
      ]
    },
    {
      "cell_type": "code",
      "metadata": {
        "id": "k9Tk7j77TRdM",
        "colab": {
          "base_uri": "https://localhost:8080/"
        },
        "outputId": "9833b56f-402a-404c-ee63-5887ba09d709"
      },
      "source": [
        "print(abs(-4))\n",
        "print(abs(5))\n",
        "print(abs(-10))"
      ],
      "execution_count": 12,
      "outputs": [
        {
          "output_type": "stream",
          "name": "stdout",
          "text": [
            "4\n",
            "5\n",
            "10\n"
          ]
        }
      ]
    },
    {
      "cell_type": "markdown",
      "metadata": {
        "id": "um3henXBThud"
      },
      "source": [
        "### pow()\n",
        "\n",
        "* 지수승의 값 $a^b$으로 반환"
      ]
    },
    {
      "cell_type": "code",
      "metadata": {
        "id": "leZovwlVT-Yl",
        "colab": {
          "base_uri": "https://localhost:8080/"
        },
        "outputId": "c9ee6215-d213-4e04-eef2-7eec377f02c1"
      },
      "source": [
        "print(pow(2, 3))\n",
        "print(pow(10, 4))"
      ],
      "execution_count": 13,
      "outputs": [
        {
          "output_type": "stream",
          "name": "stdout",
          "text": [
            "8\n",
            "10000\n"
          ]
        }
      ]
    },
    {
      "cell_type": "markdown",
      "metadata": {
        "id": "W4b6TVEIU2gw"
      },
      "source": [
        "### len(s)\n",
        "\n",
        "* 다양한 시퀀스의 갯수를 반환"
      ]
    },
    {
      "cell_type": "code",
      "metadata": {
        "id": "NIzuE0EVU6yC",
        "colab": {
          "base_uri": "https://localhost:8080/"
        },
        "outputId": "afab2530-e1b3-4e15-d29a-4b3521fc7143"
      },
      "source": [
        "print(len(\"String\"))\n",
        "print(len((1,2,3)))\n",
        "print(len([4,5]))"
      ],
      "execution_count": 14,
      "outputs": [
        {
          "output_type": "stream",
          "name": "stdout",
          "text": [
            "6\n",
            "3\n",
            "2\n"
          ]
        }
      ]
    },
    {
      "cell_type": "markdown",
      "metadata": {
        "id": "Me-tvSeTVF3I"
      },
      "source": [
        "### round()\n",
        "\n",
        "* 소수점 뒤를 반올림한 값을 반환"
      ]
    },
    {
      "cell_type": "code",
      "metadata": {
        "id": "l1m2_f7dVJky",
        "colab": {
          "base_uri": "https://localhost:8080/"
        },
        "outputId": "cad11f24-a463-4a4e-fd51-912f9b1f8d7a"
      },
      "source": [
        "print(round(3.14))\n",
        "print(round(3.141527, 2))\n",
        "print(round(0.6))\n",
        "print(round(0.4))"
      ],
      "execution_count": 16,
      "outputs": [
        {
          "output_type": "stream",
          "name": "stdout",
          "text": [
            "3\n",
            "3.14\n",
            "1\n",
            "0\n"
          ]
        }
      ]
    },
    {
      "cell_type": "markdown",
      "metadata": {
        "id": "F39_FXWHVVKh"
      },
      "source": [
        "### all()\n",
        "\n",
        "* 모든 값이 `True` 이거나 비어있을 때 `True` 반환"
      ]
    },
    {
      "cell_type": "code",
      "metadata": {
        "id": "ndPHacrvVbeS",
        "colab": {
          "base_uri": "https://localhost:8080/"
        },
        "outputId": "b2e1e9ed-1b4d-45a9-d036-d4db4e03008d"
      },
      "source": [
        "print(all((1,2,3)))\n",
        "print(all(()))\n",
        "print(all((False, True, False)))\n",
        "print(all((False, False, False)))"
      ],
      "execution_count": 17,
      "outputs": [
        {
          "output_type": "stream",
          "name": "stdout",
          "text": [
            "True\n",
            "True\n",
            "False\n",
            "False\n"
          ]
        }
      ]
    },
    {
      "cell_type": "markdown",
      "metadata": {
        "id": "fanBFnO1V0Zu"
      },
      "source": [
        "### any()\n",
        "\n",
        "* 어떤 값이 `True` 이면 `True` 반환\n",
        "* 값이 비어있으면 `False` 반환"
      ]
    },
    {
      "cell_type": "code",
      "metadata": {
        "id": "oA6TIhIoV5gF",
        "colab": {
          "base_uri": "https://localhost:8080/"
        },
        "outputId": "e8c6dbe2-5da1-481a-b5db-570b5a3039a2"
      },
      "source": [
        "print(any((1,2,3)))\n",
        "print(any(()))\n",
        "print(any((False, True, False)))\n",
        "print(any((False, False, False)))"
      ],
      "execution_count": 18,
      "outputs": [
        {
          "output_type": "stream",
          "name": "stdout",
          "text": [
            "True\n",
            "False\n",
            "True\n",
            "False\n"
          ]
        }
      ]
    },
    {
      "cell_type": "markdown",
      "metadata": {
        "id": "D_yWm1gBEo4p"
      },
      "source": [
        "\n",
        "\n",
        "---\n",
        "\n"
      ]
    },
    {
      "cell_type": "markdown",
      "metadata": {
        "id": "mypjHsFSEtLz"
      },
      "source": [
        "# 연산자(Operators)\n",
        "\n"
      ]
    },
    {
      "cell_type": "markdown",
      "source": [
        "* 피연산자의 계산을 위해 다양한 연산자들이 존재\n",
        "* 파이썬에서 제공하는 연산자들의 종류<br>\n",
        " 산술<br>\n",
        " 비교<br>\n",
        " 할당<br>\n",
        " 비트<br>\n",
        " 논리<br>\n",
        " 멤버<br>\n",
        " 식별"
      ],
      "metadata": {
        "id": "2G8On4TcSxTD"
      }
    },
    {
      "cell_type": "markdown",
      "metadata": {
        "id": "5vw1RQEmFpTn"
      },
      "source": [
        "## 산술 연산자(Arithmetic Operators)\n",
        "\n"
      ]
    },
    {
      "cell_type": "code",
      "source": [
        "print(str(\"+ - * / % **(제곱) //(몫)\"))"
      ],
      "metadata": {
        "colab": {
          "base_uri": "https://localhost:8080/"
        },
        "id": "iU_B3u3bTagF",
        "outputId": "88e5f329-0e42-42ba-d621-cca2a57731b7"
      },
      "execution_count": 20,
      "outputs": [
        {
          "output_type": "stream",
          "name": "stdout",
          "text": [
            "+ - * / % **(제곱) //(몫)\n"
          ]
        }
      ]
    },
    {
      "cell_type": "code",
      "metadata": {
        "id": "iaozGCpH-Sze",
        "colab": {
          "base_uri": "https://localhost:8080/"
        },
        "outputId": "418d21e1-6266-4a2d-868e-6c49a5b4b783"
      },
      "source": [
        "a=6\n",
        "b=4\n",
        "print(a/b)\n",
        "print(a%b)\n",
        "print(a**b)\n",
        "print(a//b)"
      ],
      "execution_count": 21,
      "outputs": [
        {
          "output_type": "stream",
          "name": "stdout",
          "text": [
            "1.5\n",
            "2\n",
            "1296\n",
            "1\n"
          ]
        }
      ]
    },
    {
      "cell_type": "markdown",
      "metadata": {
        "id": "BbNJjYvkSzyQ"
      },
      "source": [
        "## 비교 연산자(Comparison Operators)\n",
        "\n"
      ]
    },
    {
      "cell_type": "code",
      "metadata": {
        "id": "EZELCQFgPmgI",
        "colab": {
          "base_uri": "https://localhost:8080/"
        },
        "outputId": "aa637a57-d1ad-49a8-d81a-7894dcb5955a"
      },
      "source": [
        "a, b = 6, 4\n",
        "print(a==b)\n",
        "print(a!=b)\n",
        "print(a>b)\n",
        "print(a<b)\n",
        "print(a>=b)\n",
        "print(a<=b)"
      ],
      "execution_count": 22,
      "outputs": [
        {
          "output_type": "stream",
          "name": "stdout",
          "text": [
            "False\n",
            "True\n",
            "True\n",
            "False\n",
            "True\n",
            "False\n"
          ]
        }
      ]
    },
    {
      "cell_type": "markdown",
      "metadata": {
        "id": "aKigU9vxWMPE"
      },
      "source": [
        "## 할당 연산자(Assignment Operators)\n",
        "\n"
      ]
    },
    {
      "cell_type": "markdown",
      "source": [
        "= 오른쪽 피연산자의 값을 왼쪽 피연산자에 할당<br>\n",
        "+= 왼쪽 피연산자의 값을 오른쪽 피연산자에 **더하고** 그 결과를 왼쪽 피연산자에 대입<br>\n",
        "-= 왼쪽 피연산자의 값을 오른쪽 피연산자에 더하고 그 결과를 왼쪽 피연산자에 대입<br>\n",
        "*= 왼쪽 피연산자의 값을 오른쪽 피연산자에 **곱하고** 그 결과를 왼쪽 피연산자에 대입<br>\n",
        "/= 왼쪽 피연산자의 값을 오른쪽 피연산자에 **나누고** 그 결과를 왼쪽 피연산자에 대입<br>\n",
        "%= 왼쪽 피연산자의 값을 오른쪽 피연산자에 나눈 **나머지 값을** 왼쪽 피연산자에 대입<br>\n",
        "**= 왼쪽 피연산자의 값을 오른쪽 피연산자에 **제곱한 값을** 왼쪽 피연산자에 대입<br>\n",
        "//= 왼쪽 피연산자의 값을 오른쪽 피연산자에 **나눈 몫을** 왼쪽 피연산자에 대입"
      ],
      "metadata": {
        "id": "93zpgP7-UHzE"
      }
    },
    {
      "cell_type": "code",
      "metadata": {
        "id": "8kQmBvcgVZag",
        "colab": {
          "base_uri": "https://localhost:8080/"
        },
        "outputId": "318e82f6-3e68-4af8-f483-40f6c29a4903"
      },
      "source": [
        "a, b = 6, 4\n",
        "print(a, b)\n",
        "a+=b  #a에다 b를 더한 값을 -> 다시 a에 넣어라\n",
        "print(a) # 6+4 는 10\n",
        "a-=b #10에서 4를 뺀 값을 다시 a에 넣어라\n",
        "print(a) # a=6\n",
        "a*=b #6*4를 다시 a에 넣어라\n",
        "print(a) # a=24\n",
        "a/=b #24/4 한값을 다시 a에 넣어라\n",
        "print(a) # a=6\n",
        "a%=b # 6/4의 나머지를 a에 넣어라\n",
        "print(a) # a=2\n",
        "a**=b #2**4를 다시 a에 넣어라\n",
        "print(a) #a=16\n",
        "a//=b #16/4의 몫을 a에 넣어라\n",
        "print(a) # a=4"
      ],
      "execution_count": 24,
      "outputs": [
        {
          "output_type": "stream",
          "name": "stdout",
          "text": [
            "6 4\n",
            "10\n",
            "6\n",
            "24\n",
            "6.0\n",
            "2.0\n",
            "16.0\n",
            "4.0\n"
          ]
        }
      ]
    },
    {
      "cell_type": "markdown",
      "metadata": {
        "id": "fEbvvt68ZEkR"
      },
      "source": [
        "## 비트 연산자(Bitwise Operators)\n"
      ]
    },
    {
      "cell_type": "code",
      "metadata": {
        "id": "p7Py0jU6Xb-Y",
        "colab": {
          "base_uri": "https://localhost:8080/"
        },
        "outputId": "821b4666-9ecb-43aa-9121-934e766edfe9"
      },
      "source": [
        "a, b = 6, 4\n",
        "print(bin(a)) #바이너리로 표시\n",
        "print(bin(b))\n",
        "print(a&b, bin(a&b))\n",
        "print(a|b, bin(a|b))\n",
        "print(a^b, bin(a^b))\n",
        "print(~a, bin(~a))\n",
        "print(a<<b, bin(a<<b))\n",
        "print(a>>b, bin(a>>b))"
      ],
      "execution_count": 25,
      "outputs": [
        {
          "output_type": "stream",
          "name": "stdout",
          "text": [
            "0b110\n",
            "0b100\n",
            "4 0b100\n",
            "6 0b110\n",
            "2 0b10\n",
            "-7 -0b111\n",
            "96 0b1100000\n",
            "0 0b0\n"
          ]
        }
      ]
    },
    {
      "cell_type": "markdown",
      "metadata": {
        "id": "mTlDlBfHb56x"
      },
      "source": [
        "## 논리 연산자(Logical Operators)\n"
      ]
    },
    {
      "cell_type": "code",
      "metadata": {
        "id": "h_cAKWdLbRrT",
        "colab": {
          "base_uri": "https://localhost:8080/"
        },
        "outputId": "b0975e8f-2d3e-4c46-c5bd-6fd7e6a58a16"
      },
      "source": [
        "print(True and True)\n",
        "print(True and False)\n",
        "print(True or True)\n",
        "print(not True)\n",
        "print(not False)\n",
        "print(not(True and False))"
      ],
      "execution_count": 26,
      "outputs": [
        {
          "output_type": "stream",
          "name": "stdout",
          "text": [
            "True\n",
            "False\n",
            "True\n",
            "False\n",
            "True\n",
            "True\n"
          ]
        }
      ]
    },
    {
      "cell_type": "markdown",
      "metadata": {
        "id": "7YkZ_IM1cqO_"
      },
      "source": [
        "## 멤버 연산자(Membership Operators)\n"
      ]
    },
    {
      "cell_type": "code",
      "metadata": {
        "id": "7ZOrVkhMcfUE",
        "colab": {
          "base_uri": "https://localhost:8080/"
        },
        "outputId": "bf1cb2c7-97d4-4d4a-ce14-282e81234819"
      },
      "source": [
        "a, b = 6, 4\n",
        "l = [2, 4, 8]\n",
        "print(a in l)\n",
        "print(b in l)\n",
        "print(a not in l)\n",
        "print(b not in l)"
      ],
      "execution_count": 28,
      "outputs": [
        {
          "output_type": "stream",
          "name": "stdout",
          "text": [
            "False\n",
            "True\n",
            "True\n",
            "False\n"
          ]
        }
      ]
    },
    {
      "cell_type": "markdown",
      "metadata": {
        "id": "rolPOjSYdQvA"
      },
      "source": [
        "## 식별 연산자(Identity Operators)\n"
      ]
    },
    {
      "cell_type": "code",
      "metadata": {
        "id": "tZ5C_GI_dChN",
        "colab": {
          "base_uri": "https://localhost:8080/"
        },
        "outputId": "fe7e4f7f-8aea-4eef-e702-7d88334bfe53"
      },
      "source": [
        "a, b = 6, 4\n",
        "print(a is b)\n",
        "print(b is not b)\n",
        "a, b = 5, 5\n",
        "print(a is b)\n",
        "print(a is not b)"
      ],
      "execution_count": 30,
      "outputs": [
        {
          "output_type": "stream",
          "name": "stdout",
          "text": [
            "False\n",
            "False\n",
            "True\n",
            "False\n"
          ]
        }
      ]
    }
  ]
}
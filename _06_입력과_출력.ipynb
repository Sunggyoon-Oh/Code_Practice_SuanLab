{
  "nbformat": 4,
  "nbformat_minor": 0,
  "metadata": {
    "colab": {
      "name": "_06 입력과 출력.ipynb",
      "provenance": [],
      "collapsed_sections": [
        "zXbENjlMCrkU",
        "QerabWfwCvtt",
        "7eTpB0QqxKI5",
        "i8D8CzQAyLET",
        "dq9yEA9J20Mg",
        "ll_m-EALwmJ-",
        "ZfKg8LniN113",
        "mwhDmG2GBd-P",
        "lTETVHfIBYER",
        "h1fePk0YCnXV",
        "iCfc-ODYDZQY",
        "Hpq36wnEGoYT",
        "JP9cNh9bGso1",
        "Y4JzUhHklI3f",
        "WNkV859qiqU1",
        "Qb_pHnyWmXhf",
        "ynAP34NKmzBs",
        "wfRSe7X7YQQr",
        "AW6SmMx8aEVn",
        "Qy5AKrmZexQR",
        "TGOuMtV-fmzX",
        "L_Suw_pGgTir",
        "pdqlyRyrhJrO"
      ]
    },
    "kernelspec": {
      "name": "python3",
      "display_name": "Python 3"
    },
    "accelerator": "GPU",
    "gpuClass": "standard"
  },
  "cells": [
    {
      "cell_type": "markdown",
      "metadata": {
        "id": "bg5ZXMV2sn1M"
      },
      "source": [
        "# 입력과 출력"
      ]
    },
    {
      "cell_type": "markdown",
      "metadata": {
        "id": "Lj_iZPKnCRP0"
      },
      "source": [
        "\n",
        "\n",
        "---\n",
        "\n"
      ]
    },
    {
      "cell_type": "markdown",
      "metadata": {
        "id": "zXbENjlMCrkU"
      },
      "source": [
        "## 표준 입출력(Standard Input/Output)\n",
        "\n",
        "\n"
      ]
    },
    {
      "cell_type": "markdown",
      "source": [
        "표준입력장치(키보드) -> 표준입력함수((input)) -> 파이썬 프로그램 -> 표준출력함수((print)) -> 표준출력장치(모니터)"
      ],
      "metadata": {
        "id": "w4AFY3G_bwPe"
      }
    },
    {
      "cell_type": "markdown",
      "metadata": {
        "id": "QerabWfwCvtt"
      },
      "source": [
        "### 표준 입력 함수\n"
      ]
    },
    {
      "cell_type": "markdown",
      "source": [
        "input() 함수: 콘솔 창을 통해 사용자 입력을 받는 표준입력 함수<br>\n",
        "input() 함수: 함수 안에 입력 받기 위한 질문을 텍스트로 넣을 수 있음"
      ],
      "metadata": {
        "id": "49hkrksdb5Of"
      }
    },
    {
      "cell_type": "code",
      "metadata": {
        "id": "22ALZ21LE60j",
        "colab": {
          "base_uri": "https://localhost:8080/"
        },
        "outputId": "29fa1322-2d86-4d9d-a74b-62d95c50b9be"
      },
      "source": [
        "name = input(\"이름: \")\n",
        "print(name) # 입력을 할수 있게 입력창이 뜸. \n",
        "# 밑에 빈칸에 오대근을 넣으면 위에 input(\"이름: \")으로 들어감 -> 오대근이 name 변수에 저장 -> 프린트문으로 출력"
      ],
      "execution_count": null,
      "outputs": [
        {
          "output_type": "stream",
          "name": "stdout",
          "text": [
            "이름: 오대근\n",
            "오대근\n"
          ]
        }
      ]
    },
    {
      "cell_type": "markdown",
      "metadata": {
        "id": "7eTpB0QqxKI5"
      },
      "source": [
        "#### [Lab] 섭씨 온도를 화씨 온도로 변환\n",
        "\n",
        "* 섭씨 온도를 화씨 온도로 변환하는 공식: $F = (C * 1.8) + 32$"
      ]
    },
    {
      "cell_type": "code",
      "metadata": {
        "id": "ILFOCS30xVAJ",
        "colab": {
          "base_uri": "https://localhost:8080/"
        },
        "outputId": "cc4647ec-fe4a-4db8-a2c7-81da46798c3d"
      },
      "source": [
        "celsius = float(input(\"섭씨 온도: \")) # 온도니까 실수라고 float 써주는거\n",
        "fahrenheit = (celsius * 1.8) + 32\n",
        "print(\"화씨 온도: \",fahrenheit)"
      ],
      "execution_count": null,
      "outputs": [
        {
          "output_type": "stream",
          "name": "stdout",
          "text": [
            "섭씨 온도: 30\n",
            "화씨 온도:  86.0\n"
          ]
        }
      ]
    },
    {
      "cell_type": "markdown",
      "metadata": {
        "id": "i8D8CzQAyLET"
      },
      "source": [
        "#### [Lab] 구구단 중의 하나의 단을 입력받아 계산\n",
        "\n",
        "* 출력할 단을 입력\n",
        "* 해당 단의 계산 결과 출력"
      ]
    },
    {
      "cell_type": "code",
      "metadata": {
        "id": "s5_zXZsvyXu1",
        "colab": {
          "base_uri": "https://localhost:8080/"
        },
        "outputId": "5b5feffb-5653-4385-d1b1-7108dd8c06c9"
      },
      "source": [
        "i = int(input(\"출력할 단: \"))\n",
        "for j in range(1, 10): # 레인지는 1부터 10\n",
        "  print(\"{0} x {1} = {2}\".format(i, j, i * j))"
      ],
      "execution_count": null,
      "outputs": [
        {
          "output_type": "stream",
          "name": "stdout",
          "text": [
            "출력할 단: 9\n",
            "9 x 1 = 9\n",
            "9 x 2 = 18\n",
            "9 x 3 = 27\n",
            "9 x 4 = 36\n",
            "9 x 5 = 45\n",
            "9 x 6 = 54\n",
            "9 x 7 = 63\n",
            "9 x 8 = 72\n",
            "9 x 9 = 81\n"
          ]
        }
      ]
    },
    {
      "cell_type": "markdown",
      "metadata": {
        "id": "dq9yEA9J20Mg"
      },
      "source": [
        "### 표준 출력 함수\n"
      ]
    },
    {
      "cell_type": "markdown",
      "source": [
        "+ `print()` 함수: 콘솔 창을 통해서 결과를 출력하는 표준 출력함수 <br>\n",
        "+ sep = 'separator': 개체가 분리하는 방법 지정, 기본값은 ''<br>\n",
        "+ end = 'end': 끝에 출력할 항목 지정, 기본값은'\\n'<br>\n",
        "+ file: 쓰기 방법이 있는 객체, 기본값은 sys.stdout<br>\n",
        "+ flush: True일 경우 flush 하고, False일 경우 버퍼, 기본값은 False"
      ],
      "metadata": {
        "id": "LUsLkZW_hWuv"
      }
    },
    {
      "cell_type": "code",
      "metadata": {
        "id": "pUGNUXMx292v",
        "colab": {
          "base_uri": "https://localhost:8080/"
        },
        "outputId": "f01f026f-ee13-4903-ca53-9b75ddededbc"
      },
      "source": [
        "print(\"Hello Python\")\n",
        "print(\"안녕 파이썬\")\n",
        "print(7)\n",
        "print(3.14)\n",
        "print([1, 2, 3])\n",
        "\n",
        "print(\"Hello\", \"Python\", sep = \"---\") # separator 구분하기\n",
        "print(1, 2, 3)\n",
        "print(1, end = ' ') # 여기서부터\n",
        "print(2, end = ' ')\n",
        "print(3, end = ' ') # 여기까지 뉴 라인으로 된게 아니라 스페이스바로 한칸 띄고 1 2 3 이 주르륵 나옴. 저 공백에 원리 '\\n' 이렇게 들어가 있어야 함."
      ],
      "execution_count": null,
      "outputs": [
        {
          "output_type": "stream",
          "name": "stdout",
          "text": [
            "Hello Python\n",
            "안녕 파이썬\n",
            "7\n",
            "3.14\n",
            "[1, 2, 3]\n",
            "Hello---Python\n",
            "1 2 3\n",
            "1 2 3 "
          ]
        }
      ]
    },
    {
      "cell_type": "markdown",
      "metadata": {
        "id": "ll_m-EALwmJ-"
      },
      "source": [
        "#### [Lab] 구구단 출력\n",
        "\n",
        "* `print()` 함수를 사용하여 각 단마다 횡으로 출력\n"
      ]
    },
    {
      "cell_type": "code",
      "metadata": {
        "id": "wgtwEAQywy03",
        "colab": {
          "base_uri": "https://localhost:8080/"
        },
        "outputId": "037b55aa-2eca-47d2-b78c-015c2651a144"
      },
      "source": [
        "for i in range(2, 10):\n",
        "  for j in range(1, 10):\n",
        "    print(\"{0}x{1}={2}\".format(i, j, i * j))\n",
        "  print()  # 기본적으로 엔드값이 뉴라인으로 돼있기 때문에 종으로 나옴"
      ],
      "execution_count": null,
      "outputs": [
        {
          "output_type": "stream",
          "name": "stdout",
          "text": [
            "2x1=2\n",
            "2x2=4\n",
            "2x3=6\n",
            "2x4=8\n",
            "2x5=10\n",
            "2x6=12\n",
            "2x7=14\n",
            "2x8=16\n",
            "2x9=18\n",
            "\n",
            "3x1=3\n",
            "3x2=6\n",
            "3x3=9\n",
            "3x4=12\n",
            "3x5=15\n",
            "3x6=18\n",
            "3x7=21\n",
            "3x8=24\n",
            "3x9=27\n",
            "\n",
            "4x1=4\n",
            "4x2=8\n",
            "4x3=12\n",
            "4x4=16\n",
            "4x5=20\n",
            "4x6=24\n",
            "4x7=28\n",
            "4x8=32\n",
            "4x9=36\n",
            "\n",
            "5x1=5\n",
            "5x2=10\n",
            "5x3=15\n",
            "5x4=20\n",
            "5x5=25\n",
            "5x6=30\n",
            "5x7=35\n",
            "5x8=40\n",
            "5x9=45\n",
            "\n",
            "6x1=6\n",
            "6x2=12\n",
            "6x3=18\n",
            "6x4=24\n",
            "6x5=30\n",
            "6x6=36\n",
            "6x7=42\n",
            "6x8=48\n",
            "6x9=54\n",
            "\n",
            "7x1=7\n",
            "7x2=14\n",
            "7x3=21\n",
            "7x4=28\n",
            "7x5=35\n",
            "7x6=42\n",
            "7x7=49\n",
            "7x8=56\n",
            "7x9=63\n",
            "\n",
            "8x1=8\n",
            "8x2=16\n",
            "8x3=24\n",
            "8x4=32\n",
            "8x5=40\n",
            "8x6=48\n",
            "8x7=56\n",
            "8x8=64\n",
            "8x9=72\n",
            "\n",
            "9x1=9\n",
            "9x2=18\n",
            "9x3=27\n",
            "9x4=36\n",
            "9x5=45\n",
            "9x6=54\n",
            "9x7=63\n",
            "9x8=72\n",
            "9x9=81\n",
            "\n"
          ]
        }
      ]
    },
    {
      "cell_type": "code",
      "source": [
        "for i in range(2, 10):\n",
        "  for j in range(1, 10):\n",
        "    print(\"{0}x{1}={2}\".format(i, j, i * j), end = '\\t') # 기본은 '\\n'인데 t로 바꿔서 탭으로 바꿔줌.\n",
        "  print()  # 탭이라서 횡으로 뜸."
      ],
      "metadata": {
        "colab": {
          "base_uri": "https://localhost:8080/"
        },
        "id": "Bp9wV0ftrpK6",
        "outputId": "419bad27-3a0e-444a-aeb8-386b837ff590"
      },
      "execution_count": null,
      "outputs": [
        {
          "output_type": "stream",
          "name": "stdout",
          "text": [
            "2x1=2\t2x2=4\t2x3=6\t2x4=8\t2x5=10\t2x6=12\t2x7=14\t2x8=16\t2x9=18\t\n",
            "3x1=3\t3x2=6\t3x3=9\t3x4=12\t3x5=15\t3x6=18\t3x7=21\t3x8=24\t3x9=27\t\n",
            "4x1=4\t4x2=8\t4x3=12\t4x4=16\t4x5=20\t4x6=24\t4x7=28\t4x8=32\t4x9=36\t\n",
            "5x1=5\t5x2=10\t5x3=15\t5x4=20\t5x5=25\t5x6=30\t5x7=35\t5x8=40\t5x9=45\t\n",
            "6x1=6\t6x2=12\t6x3=18\t6x4=24\t6x5=30\t6x6=36\t6x7=42\t6x8=48\t6x9=54\t\n",
            "7x1=7\t7x2=14\t7x3=21\t7x4=28\t7x5=35\t7x6=42\t7x7=49\t7x8=56\t7x9=63\t\n",
            "8x1=8\t8x2=16\t8x3=24\t8x4=32\t8x5=40\t8x6=48\t8x7=56\t8x8=64\t8x9=72\t\n",
            "9x1=9\t9x2=18\t9x3=27\t9x4=36\t9x5=45\t9x6=54\t9x7=63\t9x8=72\t9x9=81\t\n"
          ]
        }
      ]
    },
    {
      "cell_type": "markdown",
      "metadata": {
        "id": "0BWIlqrPCr__"
      },
      "source": [
        "\n",
        "\n",
        "---\n",
        "\n"
      ]
    },
    {
      "cell_type": "markdown",
      "metadata": {
        "id": "ZfKg8LniN113"
      },
      "source": [
        "## 파일 입출력(File Input/Output)\n"
      ]
    },
    {
      "cell_type": "markdown",
      "source": [
        "파일 -> 파일입력함수 `read(), readline(), readlines()` -> 파이썬 프로그램 -> 파일출력함수 `write(), writelines()` -> 파일"
      ],
      "metadata": {
        "id": "RyTwPkHsr403"
      }
    },
    {
      "cell_type": "markdown",
      "metadata": {
        "id": "mwhDmG2GBd-P"
      },
      "source": [
        "### 파일 입출력 과정\n",
        "\n",
        "* 파일의 입출력 과정은 단계를 가짐\n",
        "* 1. 파일을 열고, 2. 파일을 읽거나 쓰고, 3. 파일을 닫는 순서"
      ]
    },
    {
      "cell_type": "markdown",
      "metadata": {
        "id": "lTETVHfIBYER"
      },
      "source": [
        "### 파일 열기/닫기\n",
        "\n",
        "* file.txt 파일을 생성하고, 열고 닫기\n"
      ]
    },
    {
      "cell_type": "code",
      "metadata": {
        "id": "nea-tg6gNSQB"
      },
      "source": [
        "f = open(\"file.txt\", 'w')\n",
        "f = open(\"file.txt\", 'r') # 디폴트는 r, 읽기모드임\n",
        "f.close()"
      ],
      "execution_count": null,
      "outputs": []
    },
    {
      "cell_type": "code",
      "metadata": {
        "id": "dzvmCBufDrhK",
        "colab": {
          "base_uri": "https://localhost:8080/"
        },
        "outputId": "800b7fbe-00e7-4b1f-8fa6-b90aa515789f"
      },
      "source": [
        "!ls file.txt"
      ],
      "execution_count": null,
      "outputs": [
        {
          "output_type": "stream",
          "name": "stdout",
          "text": [
            "file.txt\n"
          ]
        }
      ]
    },
    {
      "cell_type": "markdown",
      "metadata": {
        "id": "h1fePk0YCnXV"
      },
      "source": [
        "### 파일 모드(File Mode)\n"
      ]
    },
    {
      "cell_type": "markdown",
      "source": [
        "(생략) r과 동일<br>\n",
        "r 읽기<br>\n",
        "w 쓰기, 기존에 파일 있으면 덮어쓰기<br>\n",
        "a 쓰기, 기존에 파일 있으면 이어서 씀(append)<br>\n",
        "`+` 읽기/쓰기 모드<br>\n",
        "t 텍스트모드(디폴트), 텍스트 파일을 처리<br>\n",
        "b 이진모드, 이진파일처리"
      ],
      "metadata": {
        "id": "6M6n2daFtK7l"
      }
    },
    {
      "cell_type": "markdown",
      "metadata": {
        "id": "iCfc-ODYDZQY"
      },
      "source": [
        "### 텍스트 파일 쓰기\n"
      ]
    },
    {
      "cell_type": "markdown",
      "source": [
        "표준입력장치(키보드) > 표준입력함수 `input()` -> 파이썬 프로그램 -> 파일출력 함수 `write(), writelines()` -> 파일"
      ],
      "metadata": {
        "id": "WL2B4bg6thbE"
      }
    },
    {
      "cell_type": "markdown",
      "metadata": {
        "id": "Hpq36wnEGoYT"
      },
      "source": [
        "#### write()\n",
        "\n",
        "* `write()`를 이용하여 파일에 쓰기"
      ]
    },
    {
      "cell_type": "code",
      "metadata": {
        "id": "7TftagQSBp7Y"
      },
      "source": [
        "f = open(\"file.txt\", 'w')\n",
        "f.write(\"Hello Python\")\n",
        "f.close()"
      ],
      "execution_count": null,
      "outputs": []
    },
    {
      "cell_type": "code",
      "metadata": {
        "id": "Vu2IvULnDo71",
        "colab": {
          "base_uri": "https://localhost:8080/"
        },
        "outputId": "76afbbc3-f38e-4537-c2f3-c63a766ced09"
      },
      "source": [
        "!cat file.txt"
      ],
      "execution_count": null,
      "outputs": [
        {
          "output_type": "stream",
          "name": "stdout",
          "text": [
            "Hello Python"
          ]
        }
      ]
    },
    {
      "cell_type": "markdown",
      "metadata": {
        "id": "JP9cNh9bGso1"
      },
      "source": [
        "#### writelines()\n",
        "\n",
        "* `writelines()`를 이용하여 list를 파일에 쓰기"
      ]
    },
    {
      "cell_type": "code",
      "metadata": {
        "id": "uQih5aQjD1ie"
      },
      "source": [
        "list = [\"One\\n\", 'Two\\n', \"Three\\n\"] #writelines를 표현하기 위해 \\n을 넣음\n",
        "f = open(\"file.txt\", 'w')\n",
        "f.writelines(list)\n",
        "f.close()"
      ],
      "execution_count": null,
      "outputs": []
    },
    {
      "cell_type": "code",
      "metadata": {
        "id": "tziPz-7uHDIN",
        "colab": {
          "base_uri": "https://localhost:8080/"
        },
        "outputId": "f41510ef-666a-4150-efbe-1b8f14069a0a"
      },
      "source": [
        "! cat file.txt"
      ],
      "execution_count": null,
      "outputs": [
        {
          "output_type": "stream",
          "name": "stdout",
          "text": [
            "One\n",
            "Two\n",
            "Three\n"
          ]
        }
      ]
    },
    {
      "cell_type": "markdown",
      "metadata": {
        "id": "Y4JzUhHklI3f"
      },
      "source": [
        "#### 표준 입력 → 파일 쓰기\n",
        "\n",
        "* 표준 입력을 `input()` 함수를 통해 입력 받고, `write()` 함수를 통해 파일에 쓰기"
      ]
    },
    {
      "cell_type": "code",
      "metadata": {
        "id": "0hUDWW-zHJp3",
        "colab": {
          "base_uri": "https://localhost:8080/"
        },
        "outputId": "26504e61-9cc7-4f6b-ce0b-c497e1149e24"
      },
      "source": [
        "text = input(\"입력: \")\n",
        "f = open(\"file.txt\", 'w')\n",
        "f.write(text)\n",
        "f.close()\n",
        "# 밑에 박스에 뭘 입력하든 다 파일에 기록이 된다.\n",
        "# 밑에 박스에 오대근을 치면 그게 text 변수에 저장이 되고 text는 다시 f.write 변수로 파일에 쓰여져 저장됨."
      ],
      "execution_count": null,
      "outputs": [
        {
          "name": "stdout",
          "output_type": "stream",
          "text": [
            "입력: 오대근\n"
          ]
        }
      ]
    },
    {
      "cell_type": "code",
      "metadata": {
        "id": "YX-QNXwEjEA0",
        "colab": {
          "base_uri": "https://localhost:8080/"
        },
        "outputId": "be0889fd-5aa0-4930-c21b-13d7c532c863"
      },
      "source": [
        "!cat file.txt"
      ],
      "execution_count": null,
      "outputs": [
        {
          "output_type": "stream",
          "name": "stdout",
          "text": [
            "오대근"
          ]
        }
      ]
    },
    {
      "cell_type": "code",
      "metadata": {
        "id": "7szpp1H5kWrr",
        "colab": {
          "base_uri": "https://localhost:8080/"
        },
        "outputId": "a8ba3bc2-6dd1-4319-cbe1-7dc898cffbcf"
      },
      "source": [
        "text = input(\"여러 값 입력: \").split()\n",
        "print(text) # 스플릿 쓰니까 값이 모두 따로 저장됨"
      ],
      "execution_count": 1,
      "outputs": [
        {
          "output_type": "stream",
          "name": "stdout",
          "text": [
            "여러 값 입력: 1 2 3 4 5\n",
            "['1', '2', '3', '4', '5']\n"
          ]
        }
      ]
    },
    {
      "cell_type": "code",
      "source": [
        "text = input(\"여러 값 입력: \").split()\n",
        "f = open(\"file.txt\", 'w')\n",
        "f.writelines(text)\n",
        "f.close()"
      ],
      "metadata": {
        "colab": {
          "base_uri": "https://localhost:8080/"
        },
        "id": "3Yu1og0kmpMN",
        "outputId": "ae93e5cb-1264-4525-e0d7-6ec818e51cdd"
      },
      "execution_count": 3,
      "outputs": [
        {
          "name": "stdout",
          "output_type": "stream",
          "text": [
            "여러 값 입력: 1 2 3 4 5\n"
          ]
        }
      ]
    },
    {
      "cell_type": "code",
      "source": [
        "!cat file.txt"
      ],
      "metadata": {
        "colab": {
          "base_uri": "https://localhost:8080/"
        },
        "id": "LvMsv0D9m96y",
        "outputId": "19081425-aa79-4b08-cc9b-fa1bcad63863"
      },
      "execution_count": 4,
      "outputs": [
        {
          "output_type": "stream",
          "name": "stdout",
          "text": [
            "12345"
          ]
        }
      ]
    },
    {
      "cell_type": "code",
      "source": [
        "text = [str(text + '\\n') for text in input(\"여러 값 입력: \").split()]\n",
        "f = open(\"file.txt\", 'w')\n",
        "f.writelines(text)\n",
        "f.close() # 1 2 3 4 5를 입력했는데 모두 뉴라인으로 저장됨."
      ],
      "metadata": {
        "colab": {
          "base_uri": "https://localhost:8080/"
        },
        "id": "Qv7rDVIvnJ2u",
        "outputId": "dbdb5282-2b1b-46e4-89d7-8dd1a401073d"
      },
      "execution_count": 6,
      "outputs": [
        {
          "name": "stdout",
          "output_type": "stream",
          "text": [
            "여러 값 입력: 1 2 3 4 5\n"
          ]
        }
      ]
    },
    {
      "cell_type": "code",
      "source": [
        "! cat file.txt"
      ],
      "metadata": {
        "colab": {
          "base_uri": "https://localhost:8080/"
        },
        "id": "8BXxzCC6nJ6d",
        "outputId": "fdde0242-42f7-4a56-b914-eef03b50ef85"
      },
      "execution_count": 7,
      "outputs": [
        {
          "output_type": "stream",
          "name": "stdout",
          "text": [
            "1\n",
            "2\n",
            "3\n",
            "4\n",
            "5\n"
          ]
        }
      ]
    },
    {
      "cell_type": "code",
      "source": [
        "x = \"\"\n",
        "text = \"\" # 위에것들 같은 변수에 영향 없게 초기화\n",
        "while x != 'q':\n",
        "  x = input(\"반복 입력: \")\n",
        "  text += x + '\\n' # 입력받은 x에 뉴라인을 넣어주기\n",
        "\n",
        "f = open(\"file.txt\", 'w')\n",
        "f.writelines(text)\n",
        "f.close() # 마지막에 q를 입력하니 반복이 꺼짐"
      ],
      "metadata": {
        "colab": {
          "base_uri": "https://localhost:8080/"
        },
        "id": "8n0CN4qNnpHA",
        "outputId": "3ba3ae46-e16d-478c-e1aa-86112c09a562"
      },
      "execution_count": 10,
      "outputs": [
        {
          "name": "stdout",
          "output_type": "stream",
          "text": [
            "반복 입력: 1\n",
            "반복 입력: 2\n",
            "반복 입력: 3\n",
            "반복 입력: 4\n",
            "반복 입력: 5\n",
            "반복 입력: ㅂ\n",
            "반복 입력: q\n"
          ]
        }
      ]
    },
    {
      "cell_type": "code",
      "source": [
        "! cat file.txt"
      ],
      "metadata": {
        "colab": {
          "base_uri": "https://localhost:8080/"
        },
        "id": "FcNjuqtToK7e",
        "outputId": "93c11552-03a6-40c2-ba99-ce4af800d786"
      },
      "execution_count": 11,
      "outputs": [
        {
          "output_type": "stream",
          "name": "stdout",
          "text": [
            "1\n",
            "2\n",
            "3\n",
            "4\n",
            "5\n",
            "ㅂ\n",
            "q\n"
          ]
        }
      ]
    },
    {
      "cell_type": "markdown",
      "metadata": {
        "id": "WNkV859qiqU1"
      },
      "source": [
        "### [Lab] 구구단 결과를 파일에 쓰기\n",
        "\n",
        "* 구구단 결과를 파일에 쓰기"
      ]
    },
    {
      "cell_type": "code",
      "metadata": {
        "id": "Z-Dj-GKcnyvq"
      },
      "source": [
        "f = open(\"dan.txt\", 'w')\n",
        "for i in range(2, 10):\n",
        "  for j in range(1, 10):\n",
        "    f.write(\"{0} x {1} = {2} \".format(i, j, i * j))\n",
        "  else:\n",
        "    f.write(\"\\n\")\n",
        "\n",
        "f.close()"
      ],
      "execution_count": 14,
      "outputs": []
    },
    {
      "cell_type": "code",
      "metadata": {
        "id": "KGuAERghrA1X",
        "colab": {
          "base_uri": "https://localhost:8080/"
        },
        "outputId": "12c28146-9ef3-44d0-c69d-a918f121b9fd"
      },
      "source": [
        "! cat dan.txt"
      ],
      "execution_count": 15,
      "outputs": [
        {
          "output_type": "stream",
          "name": "stdout",
          "text": [
            "2 x 1 = 2 2 x 2 = 4 2 x 3 = 6 2 x 4 = 8 2 x 5 = 10 2 x 6 = 12 2 x 7 = 14 2 x 8 = 16 2 x 9 = 18 \n",
            "3 x 1 = 3 3 x 2 = 6 3 x 3 = 9 3 x 4 = 12 3 x 5 = 15 3 x 6 = 18 3 x 7 = 21 3 x 8 = 24 3 x 9 = 27 \n",
            "4 x 1 = 4 4 x 2 = 8 4 x 3 = 12 4 x 4 = 16 4 x 5 = 20 4 x 6 = 24 4 x 7 = 28 4 x 8 = 32 4 x 9 = 36 \n",
            "5 x 1 = 5 5 x 2 = 10 5 x 3 = 15 5 x 4 = 20 5 x 5 = 25 5 x 6 = 30 5 x 7 = 35 5 x 8 = 40 5 x 9 = 45 \n",
            "6 x 1 = 6 6 x 2 = 12 6 x 3 = 18 6 x 4 = 24 6 x 5 = 30 6 x 6 = 36 6 x 7 = 42 6 x 8 = 48 6 x 9 = 54 \n",
            "7 x 1 = 7 7 x 2 = 14 7 x 3 = 21 7 x 4 = 28 7 x 5 = 35 7 x 6 = 42 7 x 7 = 49 7 x 8 = 56 7 x 9 = 63 \n",
            "8 x 1 = 8 8 x 2 = 16 8 x 3 = 24 8 x 4 = 32 8 x 5 = 40 8 x 6 = 48 8 x 7 = 56 8 x 8 = 64 8 x 9 = 72 \n",
            "9 x 1 = 9 9 x 2 = 18 9 x 3 = 27 9 x 4 = 36 9 x 5 = 45 9 x 6 = 54 9 x 7 = 63 9 x 8 = 72 9 x 9 = 81 \n"
          ]
        }
      ]
    },
    {
      "cell_type": "markdown",
      "metadata": {
        "id": "Qb_pHnyWmXhf"
      },
      "source": [
        "### 텍스트 파일 출력\n"
      ]
    },
    {
      "cell_type": "markdown",
      "source": [
        "파일 -> 파일입력함수 `read(), readline(), readlines()` -> 파이썬 -> 표준출력함수 `print()` -> 표준출력장치"
      ],
      "metadata": {
        "id": "R0A_Gp4NptC7"
      }
    },
    {
      "cell_type": "markdown",
      "metadata": {
        "id": "04674ECuaVeg"
      },
      "source": [
        "* 텍스트 파일 예제"
      ]
    },
    {
      "cell_type": "code",
      "metadata": {
        "id": "ZBqDkuKHmPRl"
      },
      "source": [
        "!echo \"동해물과 백두산이 마르고 닳도록\" > anthem.txt # 에코는 그냥 텍스트 입력하는\n",
        "!echo \"하느님이 보우하사 우리나라 만세\" >> anthem.txt # 어펜드는 꺽쇠 두개"
      ],
      "execution_count": 16,
      "outputs": []
    },
    {
      "cell_type": "markdown",
      "metadata": {
        "id": "ynAP34NKmzBs"
      },
      "source": [
        "#### readline()\n",
        "\n",
        "* `readline()`를 이용하여 텍스트 파일을 라인 단위로 읽고 화면에 출력"
      ]
    },
    {
      "cell_type": "code",
      "metadata": {
        "id": "aSr5-3jbTpXL",
        "colab": {
          "base_uri": "https://localhost:8080/"
        },
        "outputId": "4909a6e3-5410-4fd7-b09a-74c24dd609ff"
      },
      "source": [
        "f = open('anthem.txt', 'r')\n",
        "while True:\n",
        "  line = f.readline() # 안뗌 텍스트를 리드라인으로 한줄씩 가져와서 line 변수에 저장해서 그 라인을 조건문으로 있냐없냐를 따져서 있으면 출력 없으면(not line) 브렝;크\n",
        "  if not line: break\n",
        "  print(line)\n",
        "\n",
        "f.close()"
      ],
      "execution_count": 19,
      "outputs": [
        {
          "output_type": "stream",
          "name": "stdout",
          "text": [
            "동해물과 백두산이 마르고 닳도록\n",
            "\n",
            "하느님이 보우하사 우리나라 만세\n",
            "\n"
          ]
        }
      ]
    },
    {
      "cell_type": "markdown",
      "metadata": {
        "id": "wfRSe7X7YQQr"
      },
      "source": [
        "#### readlines()\n",
        "\n",
        "* `readlines()`를 이용하여 텍스트 파일의 **여러** 라인을 읽고 화면에 출력"
      ]
    },
    {
      "cell_type": "code",
      "metadata": {
        "id": "UKvvxHziYdgS",
        "colab": {
          "base_uri": "https://localhost:8080/"
        },
        "outputId": "9cd63380-c8e3-4cc2-d72e-88dcb1cafb85"
      },
      "source": [
        "f = open(\"anthem.txt\", 'r')\n",
        "lines = f.readlines() # 반복문 여러줄을 한번에 가져온다 = readline's'\n",
        "print(lines)\n",
        "f.close()"
      ],
      "execution_count": 20,
      "outputs": [
        {
          "output_type": "stream",
          "name": "stdout",
          "text": [
            "['동해물과 백두산이 마르고 닳도록\\n', '하느님이 보우하사 우리나라 만세\\n']\n"
          ]
        }
      ]
    },
    {
      "cell_type": "markdown",
      "metadata": {
        "id": "AW6SmMx8aEVn"
      },
      "source": [
        "#### read()\n",
        "\n",
        "* `read()`를 이용하여 텍스트 파일을 읽고 화면에 출력"
      ]
    },
    {
      "cell_type": "code",
      "metadata": {
        "id": "WGgYorQ0Yi6c",
        "colab": {
          "base_uri": "https://localhost:8080/"
        },
        "outputId": "d0cd0f2a-0948-43be-e946-8c9dabd5090f"
      },
      "source": [
        "f = open(\"anthem.txt\", 'r')\n",
        "data = f.read() # read로 그냥 통으로 다 읽어와서 data 변수에 저장\n",
        "print(data)\n",
        "f.close()"
      ],
      "execution_count": 21,
      "outputs": [
        {
          "output_type": "stream",
          "name": "stdout",
          "text": [
            "동해물과 백두산이 마르고 닳도록\n",
            "하느님이 보우하사 우리나라 만세\n",
            "\n"
          ]
        }
      ]
    },
    {
      "cell_type": "markdown",
      "metadata": {
        "id": "Qy5AKrmZexQR"
      },
      "source": [
        "#### tell()\n",
        "\n",
        "* 파일 포인터 위치 변경"
      ]
    },
    {
      "cell_type": "code",
      "metadata": {
        "id": "b5FgVeUjaeB1",
        "colab": {
          "base_uri": "https://localhost:8080/"
        },
        "outputId": "0ae6af76-8b60-492b-b055-53d6e4fd2a1a"
      },
      "source": [
        "f = open(\"anthem.txt\", 'r')\n",
        "while True:\n",
        "  print(f.tell()) # 각라인 앞마다 0번째 46번쨰 92번쨰 위치값을 알려줌\n",
        "  line = f.readline()\n",
        "  if not line: break\n",
        "  print(line)\n",
        "\n",
        "f.close()"
      ],
      "execution_count": 22,
      "outputs": [
        {
          "output_type": "stream",
          "name": "stdout",
          "text": [
            "0\n",
            "동해물과 백두산이 마르고 닳도록\n",
            "\n",
            "46\n",
            "하느님이 보우하사 우리나라 만세\n",
            "\n",
            "92\n"
          ]
        }
      ]
    },
    {
      "cell_type": "markdown",
      "metadata": {
        "id": "TGOuMtV-fmzX"
      },
      "source": [
        "#### seek()\n",
        "\n",
        "* 파일 포인터 위치 이동"
      ]
    },
    {
      "cell_type": "code",
      "metadata": {
        "id": "iv9v8YgWe7ps",
        "colab": {
          "base_uri": "https://localhost:8080/"
        },
        "outputId": "3b923f39-9c60-47de-8d80-82d10734b15a"
      },
      "source": [
        "f = open(\"anthem.txt\", 'r')\n",
        "f.seek(46) # 46번째로 포인터를 이동한 후에\n",
        "line = f.readline()\n",
        "print(line) # 딱 46번째 줄을 읽어줌\n",
        "\n",
        "f.seek(0) # 0번째 리드라인하고\n",
        "line = f.readline()\n",
        "print(line)\n",
        "f.close() # 클로즈 # 파일 포인터 위치를 이동시킬수 있다는데 의의"
      ],
      "execution_count": 24,
      "outputs": [
        {
          "output_type": "stream",
          "name": "stdout",
          "text": [
            "하느님이 보우하사 우리나라 만세\n",
            "\n",
            "동해물과 백두산이 마르고 닳도록\n",
            "\n"
          ]
        }
      ]
    },
    {
      "cell_type": "markdown",
      "metadata": {
        "id": "L_Suw_pGgTir"
      },
      "source": [
        "### with 문\n",
        "\n",
        "* 항상 파일을 `open()` 함수로 열고, `close()` 함수로 닫아야 하는 일을 **자동으로 처리**\n",
        "* with문을 이용하면 with 블록 내에서 파일을 열고 벗어나면 파일을 닫음"
      ]
    },
    {
      "cell_type": "code",
      "metadata": {
        "id": "UoCCDoZSfxfm"
      },
      "source": [
        "f = open(\"file.txt\", 'w')\n",
        "f.write(\"Hello Python\")\n",
        "f.close()"
      ],
      "execution_count": 25,
      "outputs": []
    },
    {
      "cell_type": "code",
      "metadata": {
        "id": "SQRXWFlrgsoz"
      },
      "source": [
        "with open(\"file.txt\", 'w') as f: # with로 열어주고 f로 파일 변수를 받음, 이 위드 블럭 밑에 있는 내용을 벗어나면 바로 자동으로 클로즈를 해줌\n",
        "  f.write(\"Hello Python\")"
      ],
      "execution_count": 26,
      "outputs": []
    },
    {
      "cell_type": "markdown",
      "metadata": {
        "id": "pdqlyRyrhJrO"
      },
      "source": [
        "### [Lab] 표준 입력으로 받은 내용을 파일로 쓰기\n",
        "\n",
        "* 사용자로부터 표준 입력 받음\n",
        "* 받은 내용을 계속 파일 쓰기"
      ]
    },
    {
      "cell_type": "code",
      "metadata": {
        "id": "Qy7mVrrggx8r",
        "colab": {
          "base_uri": "https://localhost:8080/"
        },
        "outputId": "4d016304-6f6e-4339-b41f-062297ab39c9"
      },
      "source": [
        "f = open(\"file.txt\", 'w')\n",
        "line = \"\"\n",
        "while True:\n",
        "  line = input()\n",
        "  if not line: break # 인풋박스 더 안나오고 끝나게 하려면 공백을 엔터치면 됨\n",
        "  f.writelines(line + '\\n')\n",
        "\n",
        "f.close() "
      ],
      "execution_count": 30,
      "outputs": [
        {
          "name": "stdout",
          "output_type": "stream",
          "text": [
            "동해물과 백두산이 마르고 닳도록\n",
            "하나님 보우하사 우리나라 만세\n",
            "\n"
          ]
        }
      ]
    },
    {
      "cell_type": "code",
      "metadata": {
        "id": "CyogsvI8pHDH",
        "colab": {
          "base_uri": "https://localhost:8080/"
        },
        "outputId": "fa5bd2a0-4e5e-447d-8298-ce8d9285ab29"
      },
      "source": [
        "! cat file.txt"
      ],
      "execution_count": 31,
      "outputs": [
        {
          "output_type": "stream",
          "name": "stdout",
          "text": [
            "동해물과 백두산이 마르고 닳도록\n",
            "하나님 보우하사 우리나라 만세\n"
          ]
        }
      ]
    },
    {
      "cell_type": "markdown",
      "source": [
        "# 텍스트파일 vs. 이진 파일\n",
        "텍스트파일: 사람이 읽을수 있는 텍스트로 된 파일<br>\n",
        "이진파일(바이너리파일): 텍스트가 아닌 비트단위의 파일(ppt, mp4, xls, jpg, png, pdf, zip, avi, mp3 등) <br>\n",
        "이진파일 종류: 그림, 음악, 영상, 프로그램 파일 등"
      ],
      "metadata": {
        "id": "WeKMFhDCwDRX"
      }
    },
    {
      "cell_type": "markdown",
      "metadata": {
        "id": "8u3USAlzkYBc"
      },
      "source": [
        "* 이진 파일(이미지) 예제\n"
      ]
    },
    {
      "cell_type": "code",
      "source": [
        "from google.colab import files \n",
        "files.upload()"
      ],
      "metadata": {
        "id": "MuvMuTyfwTRH"
      },
      "execution_count": null,
      "outputs": []
    },
    {
      "cell_type": "code",
      "metadata": {
        "id": "-79_rqZSlAAj",
        "colab": {
          "base_uri": "https://localhost:8080/"
        },
        "outputId": "0c4b2af2-0dc9-45ae-8c8b-c98bbf32ff2b"
      },
      "source": [
        "! ls"
      ],
      "execution_count": 49,
      "outputs": [
        {
          "output_type": "stream",
          "name": "stdout",
          "text": [
            "anthem.txt  file.txt\t\t\t      sample_data  testt\n",
            "dan.txt     KakaoTalk_20220514_010508448.png  test\t   unnamed.png\n"
          ]
        }
      ]
    },
    {
      "cell_type": "markdown",
      "metadata": {
        "id": "xAIKkI0kkNCc"
      },
      "source": [
        "### 이진 파일 복사\n",
        "\n",
        "* 하나의 이진 파일을 읽어서 다른 이진 파일로 쓰기 (복사)"
      ]
    },
    {
      "cell_type": "code",
      "metadata": {
        "id": "O1Lgc0xJifEe"
      },
      "source": [
        "input = open(\"unnamed.png\", \"rb\") # 바이너리니까 r뒤에 b를 붙임\n",
        "output = open(\"unnamed_copy.png\", \"wb\")\n",
        "while True:\n",
        "  fp = input.read(1) # 파일포인트fp, 인풋을, 읽어줘, 1개씩.\n",
        "  if not fp: break\n",
        "  output.write(fp)\n",
        "\n",
        "input.close()\n",
        "output.close()"
      ],
      "execution_count": 54,
      "outputs": []
    },
    {
      "cell_type": "code",
      "metadata": {
        "id": "FYokBMPGloiG",
        "colab": {
          "base_uri": "https://localhost:8080/"
        },
        "outputId": "9d0a3e00-41de-4e6d-e88e-ea821fb52a57"
      },
      "source": [
        "!ls"
      ],
      "execution_count": 55,
      "outputs": [
        {
          "output_type": "stream",
          "name": "stdout",
          "text": [
            "anthem.txt  KakaoTalk_20220514_010508448.png  testt\n",
            "dan.txt     sample_data\t\t\t      unnamed_copy.png\n",
            "file.txt    test\t\t\t      unnamed.png\n"
          ]
        }
      ]
    },
    {
      "cell_type": "markdown",
      "metadata": {
        "id": "6cGa9Yu6aYTw"
      },
      "source": [
        "## 디렉토리 및 파일 처리"
      ]
    },
    {
      "cell_type": "markdown",
      "metadata": {
        "id": "Gx6vy4ugmTx3"
      },
      "source": [
        "### 디렉토리 생성\n",
        "\n",
        "* 디렉토리와 파일을 다루는 다양한 함수를 제공하는 shutil와 os 라이브러리\n",
        "* `mkdir()`: 디렉토리 생성"
      ]
    },
    {
      "cell_type": "code",
      "metadata": {
        "id": "7BjQCHTelp3J",
        "colab": {
          "base_uri": "https://localhost:8080/",
          "height": 248
        },
        "outputId": "91b743eb-d4bb-425d-8482-9954fa3773ec"
      },
      "source": [
        "import os\n",
        "import shutil # shell util\n",
        "os.mkdir('testt')\n",
        "os.mkdir('testt/1')\n",
        "os.mkdir('testt/2')\n",
        "os.mkdir('testt/3')"
      ],
      "execution_count": 52,
      "outputs": [
        {
          "output_type": "error",
          "ename": "FileExistsError",
          "evalue": "ignored",
          "traceback": [
            "\u001b[0;31m---------------------------------------------------------------------------\u001b[0m",
            "\u001b[0;31mFileExistsError\u001b[0m                           Traceback (most recent call last)",
            "\u001b[0;32m<ipython-input-52-bb62db0ef68e>\u001b[0m in \u001b[0;36m<module>\u001b[0;34m()\u001b[0m\n\u001b[1;32m      1\u001b[0m \u001b[0;32mimport\u001b[0m \u001b[0mos\u001b[0m\u001b[0;34m\u001b[0m\u001b[0;34m\u001b[0m\u001b[0m\n\u001b[1;32m      2\u001b[0m \u001b[0;32mimport\u001b[0m \u001b[0mshutil\u001b[0m \u001b[0;31m# shell util\u001b[0m\u001b[0;34m\u001b[0m\u001b[0;34m\u001b[0m\u001b[0m\n\u001b[0;32m----> 3\u001b[0;31m \u001b[0mos\u001b[0m\u001b[0;34m.\u001b[0m\u001b[0mmkdir\u001b[0m\u001b[0;34m(\u001b[0m\u001b[0;34m'testt'\u001b[0m\u001b[0;34m)\u001b[0m\u001b[0;34m\u001b[0m\u001b[0;34m\u001b[0m\u001b[0m\n\u001b[0m\u001b[1;32m      4\u001b[0m \u001b[0mos\u001b[0m\u001b[0;34m.\u001b[0m\u001b[0mmkdir\u001b[0m\u001b[0;34m(\u001b[0m\u001b[0;34m'testt/1'\u001b[0m\u001b[0;34m)\u001b[0m\u001b[0;34m\u001b[0m\u001b[0;34m\u001b[0m\u001b[0m\n\u001b[1;32m      5\u001b[0m \u001b[0mos\u001b[0m\u001b[0;34m.\u001b[0m\u001b[0mmkdir\u001b[0m\u001b[0;34m(\u001b[0m\u001b[0;34m'testt/2'\u001b[0m\u001b[0;34m)\u001b[0m\u001b[0;34m\u001b[0m\u001b[0;34m\u001b[0m\u001b[0m\n",
            "\u001b[0;31mFileExistsError\u001b[0m: [Errno 17] File exists: 'testt'"
          ]
        }
      ]
    },
    {
      "cell_type": "code",
      "metadata": {
        "id": "C7MpVtiJmi24",
        "colab": {
          "base_uri": "https://localhost:8080/"
        },
        "outputId": "bdbc96c2-a664-4a5a-d3c7-0a7591778c24"
      },
      "source": [
        "!ls"
      ],
      "execution_count": 56,
      "outputs": [
        {
          "output_type": "stream",
          "name": "stdout",
          "text": [
            "anthem.txt  KakaoTalk_20220514_010508448.png  testt\n",
            "dan.txt     sample_data\t\t\t      unnamed_copy.png\n",
            "file.txt    test\t\t\t      unnamed.png\n"
          ]
        }
      ]
    },
    {
      "cell_type": "code",
      "metadata": {
        "id": "bTzCbKxGmmYD",
        "colab": {
          "base_uri": "https://localhost:8080/"
        },
        "outputId": "eb659191-68d0-4e92-ec96-157a94b7c89b"
      },
      "source": [
        "!ls testt # testt 디렉토리 안에 1 2 3 이라는 세개의 디렉토리가 생성됨\n",
        "# 디렉토리 생성은 mkdir로 하면 됨"
      ],
      "execution_count": 47,
      "outputs": [
        {
          "output_type": "stream",
          "name": "stdout",
          "text": [
            "1  2  3\n"
          ]
        }
      ]
    },
    {
      "cell_type": "markdown",
      "metadata": {
        "id": "O_RHayEvmsZI"
      },
      "source": [
        "### 디렉토리 및 파일 복사\n",
        "\n",
        "* `shutil.copy()`: 파일 복사\n",
        "* `shutil.copytree()`: 디렉토리 전체 복사"
      ]
    },
    {
      "cell_type": "code",
      "metadata": {
        "id": "WoEn0xGxmn0n",
        "colab": {
          "base_uri": "https://localhost:8080/",
          "height": 35
        },
        "outputId": "2cb59c58-3dd4-4ac6-c835-cca1bf88ffa5"
      },
      "source": [
        "import shutil\n",
        "shutil.copy('unnamed.png', 'unnamed_copy2.png')"
      ],
      "execution_count": 58,
      "outputs": [
        {
          "output_type": "execute_result",
          "data": {
            "text/plain": [
              "'unnamed_copy2.png'"
            ],
            "application/vnd.google.colaboratory.intrinsic+json": {
              "type": "string"
            }
          },
          "metadata": {},
          "execution_count": 58
        }
      ]
    },
    {
      "cell_type": "code",
      "metadata": {
        "id": "kvhbuSyPnYCw",
        "colab": {
          "base_uri": "https://localhost:8080/"
        },
        "outputId": "028f7bc9-e321-4860-c6f8-2d5149b05728"
      },
      "source": [
        "!ls"
      ],
      "execution_count": 59,
      "outputs": [
        {
          "output_type": "stream",
          "name": "stdout",
          "text": [
            "anthem.txt\t\t\t  sample_data\t unnamed_copy2.png\n",
            "dan.txt\t\t\t\t  test\t\t unnamed_copy.png\n",
            "file.txt\t\t\t  testt\t\t unnamed.png\n",
            "KakaoTalk_20220514_010508448.png  unnamed_copy2\n"
          ]
        }
      ]
    },
    {
      "cell_type": "code",
      "metadata": {
        "id": "V5TS0NAnnY8z",
        "colab": {
          "base_uri": "https://localhost:8080/",
          "height": 35
        },
        "outputId": "448a9242-085a-4a1c-be77-0c8c5d12e268"
      },
      "source": [
        "import shutil\n",
        "shutil.copytree('testt', 'testt2')"
      ],
      "execution_count": 63,
      "outputs": [
        {
          "output_type": "execute_result",
          "data": {
            "text/plain": [
              "'testt2'"
            ],
            "application/vnd.google.colaboratory.intrinsic+json": {
              "type": "string"
            }
          },
          "metadata": {},
          "execution_count": 63
        }
      ]
    },
    {
      "cell_type": "code",
      "metadata": {
        "id": "Y_Uglnwjngzs",
        "colab": {
          "base_uri": "https://localhost:8080/"
        },
        "outputId": "ddecfd47-84f9-41bc-fa8e-d48299345d17"
      },
      "source": [
        "!ls"
      ],
      "execution_count": 64,
      "outputs": [
        {
          "output_type": "stream",
          "name": "stdout",
          "text": [
            "anthem.txt\t\t\t  sample_data  testt2\t\t  unnamed.png\n",
            "dan.txt\t\t\t\t  test\t       unnamed_copy2\n",
            "file.txt\t\t\t  test2        unnamed_copy2.png\n",
            "KakaoTalk_20220514_010508448.png  testt        unnamed_copy.png\n"
          ]
        }
      ]
    },
    {
      "cell_type": "code",
      "metadata": {
        "id": "GvoCuP-znh5Z",
        "colab": {
          "base_uri": "https://localhost:8080/"
        },
        "outputId": "09421f9d-f520-4fb4-f19f-d7d018f33801"
      },
      "source": [
        "!ls testt2"
      ],
      "execution_count": 65,
      "outputs": [
        {
          "output_type": "stream",
          "name": "stdout",
          "text": [
            "1  2  3\n"
          ]
        }
      ]
    },
    {
      "cell_type": "markdown",
      "metadata": {
        "id": "V75epsj4nng9"
      },
      "source": [
        "### 디렉토리 및 파일 확인\n",
        "\n",
        "* `isdir()`: 디렉토리 존재 확인\n",
        "* `isfile()`: 파일 존재 확인\n",
        "* `exists()`: 디렉토리/파일 존재 확인"
      ]
    },
    {
      "cell_type": "code",
      "metadata": {
        "id": "aJjYdh2HnjdB",
        "colab": {
          "base_uri": "https://localhost:8080/"
        },
        "outputId": "5e686792-80ef-4a8a-f550-6d2dc5532a5f"
      },
      "source": [
        "import os.path\n",
        "print(os.path.isdir('testt'))\n",
        "print(os.path.isdir('testt/1'))\n",
        "print(os.path.isdir('testt/4'))\n",
        "print(os.path.isdir('testt2'))\n",
        "print(os.path.isdir('testt2/1'))\n",
        "print(os.path.isdir('testt2/4'))\n",
        "# 있는 디렉토리는 트루, 없는 디렉은 펄스로 나옴\n",
        "\n",
        "print(os.path.isfile('unnamed.png'))\n",
        "print(os.path.isfile('unnamed_copy.png'))\n",
        "print(os.path.isfile('unnamed_copy2.png'))\n",
        "# 있는 파일은 트루 없는건 펄스"
      ],
      "execution_count": 72,
      "outputs": [
        {
          "output_type": "stream",
          "name": "stdout",
          "text": [
            "True\n",
            "True\n",
            "False\n",
            "True\n",
            "True\n",
            "False\n",
            "True\n",
            "True\n",
            "True\n"
          ]
        }
      ]
    },
    {
      "cell_type": "markdown",
      "metadata": {
        "id": "dmMqt-iCoD8O"
      },
      "source": [
        "### 디렉토리 목록 보기\n",
        "\n",
        "* `os.walk()`: 디렉토리 목록 보기"
      ]
    },
    {
      "cell_type": "code",
      "metadata": {
        "id": "8dl_wZjKn30X",
        "colab": {
          "base_uri": "https://localhost:8080/"
        },
        "outputId": "957ecba8-589d-4b20-bbef-eaaa84819d21"
      },
      "source": [
        "import os\n",
        "for dir_name, dir_list, file_names in os.walk('./'):  # ./ 쩜슬래쉬는 현재 디렉토리를 의미함. os walk의 결과값으로 디렉네임, 디렉리스트 파일네임을 준다는 뜻\n",
        "  for file_name in file_names:\n",
        "    print(os.path.join(dir_name, file_name)) # 지금까지 사용한 다양한 파일들이 출력됨. 뒷부분(config)은 기본적으로 있는 데이타임."
      ],
      "execution_count": 74,
      "outputs": [
        {
          "output_type": "stream",
          "name": "stdout",
          "text": [
            "./KakaoTalk_20220514_010508448.png\n",
            "./unnamed.png\n",
            "./anthem.txt\n",
            "./unnamed_copy.png\n",
            "./unnamed_copy2.png\n",
            "./file.txt\n",
            "./unnamed_copy2\n",
            "./dan.txt\n",
            "./.config/active_config\n",
            "./.config/.last_survey_prompt.yaml\n",
            "./.config/gce\n",
            "./.config/config_sentinel\n",
            "./.config/.last_update_check.json\n",
            "./.config/.last_opt_in_prompt.yaml\n",
            "./.config/configurations/config_default\n",
            "./.config/logs/2022.07.13/13.42.53.106562.log\n",
            "./.config/logs/2022.07.13/13.42.32.441281.log\n",
            "./.config/logs/2022.07.13/13.42.25.014838.log\n",
            "./.config/logs/2022.07.13/13.42.05.105178.log\n",
            "./.config/logs/2022.07.13/13.42.53.841315.log\n",
            "./.config/logs/2022.07.13/13.41.43.930690.log\n",
            "./sample_data/README.md\n",
            "./sample_data/anscombe.json\n",
            "./sample_data/mnist_train_small.csv\n",
            "./sample_data/california_housing_train.csv\n",
            "./sample_data/california_housing_test.csv\n",
            "./sample_data/mnist_test.csv\n"
          ]
        }
      ]
    },
    {
      "cell_type": "markdown",
      "metadata": {
        "id": "estvZcJApGpc"
      },
      "source": [
        "### 디렉토리 및 파일 삭제\n",
        "\n",
        "* `os.remove()`: 파일 삭제\n",
        "* `shutil.rmtree()`: 디렉토리 안에 모든 파일/디렉토리 삭제"
      ]
    },
    {
      "cell_type": "code",
      "metadata": {
        "id": "czvnvkrKoTLm"
      },
      "source": [
        "import os\n",
        "os.remove('unnamed_copy2')"
      ],
      "execution_count": 82,
      "outputs": []
    },
    {
      "cell_type": "code",
      "metadata": {
        "id": "CwMlBpVFpXQ-",
        "colab": {
          "base_uri": "https://localhost:8080/"
        },
        "outputId": "cc6dafda-7072-44bd-fed0-c69760719be0"
      },
      "source": [
        "!ls"
      ],
      "execution_count": 83,
      "outputs": [
        {
          "output_type": "stream",
          "name": "stdout",
          "text": [
            "anthem.txt  file.txt\t test\ttestt\tunnamed.png\n",
            "dan.txt     sample_data  test2\ttestt2\n"
          ]
        }
      ]
    },
    {
      "cell_type": "code",
      "metadata": {
        "id": "-dNA3t0Gpb-E"
      },
      "source": [
        "import shutil\n",
        "shutil.rmtree('testt')\n",
        "shutil.rmtree('testt2')"
      ],
      "execution_count": 86,
      "outputs": []
    },
    {
      "cell_type": "code",
      "metadata": {
        "id": "NHqsllWupeU2",
        "colab": {
          "base_uri": "https://localhost:8080/"
        },
        "outputId": "2b5e0078-2bf5-4285-d75a-5eefee85b8ec"
      },
      "source": [
        "!ls"
      ],
      "execution_count": 87,
      "outputs": [
        {
          "output_type": "stream",
          "name": "stdout",
          "text": [
            "anthem.txt  dan.txt  file.txt  sample_data  unnamed.png\n"
          ]
        }
      ]
    },
    {
      "cell_type": "markdown",
      "metadata": {
        "id": "DiN7c--0pkYn"
      },
      "source": [
        "### 파일 크기\n",
        "\n",
        "* `os.path.getsize()`: 파일의 크기를 바이트 단위로 출력"
      ]
    },
    {
      "cell_type": "code",
      "metadata": {
        "id": "rmiTPJYDpe9m",
        "colab": {
          "base_uri": "https://localhost:8080/"
        },
        "outputId": "68ab2d46-37a2-4a76-a33e-fcf8d32d550d"
      },
      "source": [
        "import os.path\n",
        "print(os.path.getsize('anthem.txt'))"
      ],
      "execution_count": 90,
      "outputs": [
        {
          "output_type": "stream",
          "name": "stdout",
          "text": [
            "92\n"
          ]
        }
      ]
    },
    {
      "cell_type": "markdown",
      "metadata": {
        "id": "9GITxX2sp0tx"
      },
      "source": [
        "### 파일 압축\n"
      ]
    },
    {
      "cell_type": "markdown",
      "source": [
        "zipfile: 압축 관련 라이브러리<br>\n",
        "`Zipfile()`: 압축파일 열기<br>\n",
        "`write()`: 압출파일에 쓰기<br>\n",
        "`extracttall()`: 전체 압축 해제<br>\n",
        "`close()`: 압축파일 닫기"
      ],
      "metadata": {
        "id": "9IwxCMjS2-Yp"
      }
    },
    {
      "cell_type": "code",
      "metadata": {
        "id": "JCXOQV2Ipt-E"
      },
      "source": [
        "import zipfile\n",
        "comp = zipfile.ZipFile('new.zip', 'w') # comp는 컴프레스\n",
        "comp.write('unnamed.png')\n",
        "comp.close() \n",
        "# 이제 압축이 됨"
      ],
      "execution_count": 92,
      "outputs": []
    },
    {
      "cell_type": "code",
      "metadata": {
        "id": "cpSLp4pGqeec",
        "colab": {
          "base_uri": "https://localhost:8080/"
        },
        "outputId": "311e43e0-8108-4136-db72-20ab999575be"
      },
      "source": [
        "!ls\n",
        "# 언네임드 png를 new.zip으로 압축함"
      ],
      "execution_count": 93,
      "outputs": [
        {
          "output_type": "stream",
          "name": "stdout",
          "text": [
            "anthem.txt  dan.txt  file.txt  new.zip\tsample_data  unnamed.png\n"
          ]
        }
      ]
    },
    {
      "cell_type": "code",
      "metadata": {
        "id": "PpUzZdiAqfPp"
      },
      "source": [
        "decomp = zipfile.ZipFile('new.zip', 'r') #압축을 풀려면 일단 리드모드\n",
        "decomp.extractall('new')\n",
        "decomp.close()"
      ],
      "execution_count": 94,
      "outputs": []
    },
    {
      "cell_type": "code",
      "metadata": {
        "id": "Akgb1WQYqnzq",
        "colab": {
          "base_uri": "https://localhost:8080/"
        },
        "outputId": "ab48ae21-5d66-42c1-f374-c10b0b89b893"
      },
      "source": [
        "!ls\n",
        "# new 라는 디렉토리 생김"
      ],
      "execution_count": 95,
      "outputs": [
        {
          "output_type": "stream",
          "name": "stdout",
          "text": [
            "anthem.txt  dan.txt  file.txt  new  new.zip  sample_data  unnamed.png\n"
          ]
        }
      ]
    },
    {
      "cell_type": "code",
      "source": [
        "!ls new \n",
        "# 압축풀려있음."
      ],
      "metadata": {
        "colab": {
          "base_uri": "https://localhost:8080/"
        },
        "id": "dPYjrwpZ4Jkz",
        "outputId": "d809919e-4acb-474f-eefe-164c72621f3f"
      },
      "execution_count": 96,
      "outputs": [
        {
          "output_type": "stream",
          "name": "stdout",
          "text": [
            "unnamed.png\n"
          ]
        }
      ]
    }
  ]
}
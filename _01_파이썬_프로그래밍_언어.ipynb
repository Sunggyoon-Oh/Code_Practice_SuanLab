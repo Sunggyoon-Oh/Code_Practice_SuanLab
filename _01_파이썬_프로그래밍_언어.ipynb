{
  "nbformat": 4,
  "nbformat_minor": 0,
  "metadata": {
    "colab": {
      "name": "_01 파이썬 프로그래밍 언어.ipynb",
      "provenance": [],
      "collapsed_sections": [],
      "toc_visible": true
    },
    "kernelspec": {
      "name": "python3",
      "display_name": "Python 3"
    },
    "accelerator": "GPU",
    "gpuClass": "standard"
  },
  "cells": [
    {
      "cell_type": "markdown",
      "metadata": {
        "id": "bg5ZXMV2sn1M"
      },
      "source": [
        "# 파이썬 프로그래밍 언어(Python Programming Language)"
      ]
    },
    {
      "cell_type": "markdown",
      "source": [
        "프로그래머 -> 프로그래밍 언어 -> 프로그래밍 -> 소프트웨어\n",
        "\n",
        "프로그래머: 프로그래밍 언어를 사용 소프트웨어 만드는사람<br>\n",
        "프로그래밍 언어: 컴퓨터 시스템을 구동시키는 소프트웨어를 작성하기 위한 형식 언어<br>\n",
        "프로그래밍: 프로그래밍 언어를 사용하여 프로그램을 개발하는 것"
      ],
      "metadata": {
        "id": "5l3J6meTDmKz"
      }
    },
    {
      "cell_type": "markdown",
      "source": [
        "파이썬 소개\n",
        "귀도 반 로섬이 제작. 1991년 발표\n",
        "2020년 기준 가장 인기있는 언어 1위"
      ],
      "metadata": {
        "id": "WYsZEll-D8zF"
      }
    },
    {
      "cell_type": "markdown",
      "source": [
        "# 파이썬 특징\n",
        "쉬운 문법 간결<br>\n",
        "* 사람의 사고체계와 유사, 문법 자체가 아주 쉽고 간결<br>\n",
        "* 소스코드가 이해하기 쉬워 공동작업과 유지 보수가 쉬움\n",
        "\n",
        "동적타이핑 범용 프로그래밍 언어\n",
        "* 프로그램의 실행 시점에서 프로그램 변수의 타입을 결정하는 언어\n",
        "\n",
        "다양한 플랫폼 지원과 호환성\n",
        "* 다양한 플랫폼에서 동작하도록 지원\n",
        "* c언어와의 호환성이 매우 뛰어남\n",
        "\n",
        "풍부한 라이브러리(모듈)\n",
        "* 다양한 파이썬 내부 라이브러리 뿐만 아니라 다양한 -서드파티 라이브러리 사용 가능\n",
        "\n",
        "글루 언어\n",
        "* 다른 언어로 쓰인 모듈들을 연결하는 언어로 자주 이용\n",
        "-c나 c++언어로 만든 프로그램을 파이썬에서 사용 가능\n",
        "\n",
        "다양한 언어의 문자 처리\n",
        "* 유니코드 문자열을 지원해서 다양한 언어의 문자 처리 가능"
      ],
      "metadata": {
        "id": "NdO_I2roELat"
      }
    },
    {
      "cell_type": "markdown",
      "metadata": {
        "id": "Lj_iZPKnCRP0"
      },
      "source": [
        "\n",
        "\n",
        "---\n",
        "\n"
      ]
    },
    {
      "cell_type": "markdown",
      "source": [
        "# 파이썬 응용\n",
        "\n",
        "시스템 유틸리티\n",
        "* 인증/권한 관리\n",
        "* 캐시관리/파일 시스템 도구\n",
        "* 코드 분석/빌드, 디버깅 도구\n",
        "\n",
        "GUI 그래픽 유저 인터페이스 개발\n",
        "*윈도우 형태의 프로그래밍 가능\n",
        "* Tkinter 패키지\n",
        "\n",
        "웹프로그래밍\n",
        "* 웹에서 회원가입, 게시판, 블로그 등의 프로그램 제작 가능\n",
        "* Django, Flask 등 파이썬 기반 웹 프레임워크\n",
        "\n",
        "데이터베이스\n",
        "* 오라클 MySQL, PostgreSQL 등의 데이터베이스에 접근가능한 도구 제공\n",
        "* 데이터베이스를 이용한 다양한 프로그램 제작 가능\n",
        "\n",
        "데이터분석 및 시각화\n",
        "* 데이터 처리 탐색 분석 시각화까지 구현 가능\n",
        "* 넘파이, 판다스, 데이터프레임, 맷플럿립 패키지\n",
        "\n",
        "기계학습/딥러닝 모델\n",
        "* 모델 생성과 데이터 학습 등을 위한 편리한 도구 제공\n",
        "* 사이킷런, 텐서플로, 파이토치, 케라스 패키지\n",
        "\n",
        "이미지처리/컴퓨터비전\n",
        "* 컴퓨터비전과 관련된 다양한 처리와 알고리즘을 제공\n",
        "* OpenCV 패키지\n",
        "\n",
        "자연어처리\n",
        "* 텍스트데이터나 자연어 처리를 위한 다양한 모델 제공\n",
        "* 워드클라우드, 제니즘 패키지"
      ],
      "metadata": {
        "id": "hGcKFbw1FyGS"
      }
    },
    {
      "cell_type": "markdown",
      "metadata": {
        "id": "qHumj4Amv_r0"
      },
      "source": [
        "## 파이썬 시작하기\n",
        "\n",
        "* 프로그래밍 언어를 배울 때 보통 가장 먼저 하는 것은 인사\n",
        "* 가장 기본이 되는 화면 출력 함수인 `print()`를 이용해서 문자열 \"Hello Python\"을 출력"
      ]
    },
    {
      "cell_type": "code",
      "metadata": {
        "id": "wGQsH_uNlSbS",
        "colab": {
          "base_uri": "https://localhost:8080/"
        },
        "outputId": "47754c2f-6cbc-4b37-cfe5-253b4dcbfbb8"
      },
      "source": [
        "print('Hello, Python!')"
      ],
      "execution_count": 1,
      "outputs": [
        {
          "output_type": "stream",
          "name": "stdout",
          "text": [
            "Hello, Python!\n"
          ]
        }
      ]
    },
    {
      "cell_type": "markdown",
      "metadata": {
        "id": "6LUMthH9Lf9Z"
      },
      "source": [
        "## 파이썬으로 계산하기"
      ]
    },
    {
      "cell_type": "markdown",
      "metadata": {
        "id": "zImoFsf6T4U9"
      },
      "source": [
        "### 사칙연산\n",
        "\n",
        "* 파이썬에서는 기본적인 산술 연산을 바로 수행 가능\n",
        "* 더하기, 빼기, 곱하기, 나누기 같은 간단한 산술연산 예제"
      ]
    },
    {
      "cell_type": "code",
      "metadata": {
        "id": "VaRaodRLF6N_",
        "colab": {
          "base_uri": "https://localhost:8080/"
        },
        "outputId": "515aa589-1407-4a07-ee78-99955c3253d6"
      },
      "source": [
        "1 + 1"
      ],
      "execution_count": 2,
      "outputs": [
        {
          "output_type": "execute_result",
          "data": {
            "text/plain": [
              "2"
            ]
          },
          "metadata": {},
          "execution_count": 2
        }
      ]
    },
    {
      "cell_type": "code",
      "metadata": {
        "id": "zpBz_0y9H_7I",
        "colab": {
          "base_uri": "https://localhost:8080/"
        },
        "outputId": "0155b1c6-72c5-492c-8516-8575ef483589"
      },
      "source": [
        "5-1"
      ],
      "execution_count": 3,
      "outputs": [
        {
          "output_type": "execute_result",
          "data": {
            "text/plain": [
              "4"
            ]
          },
          "metadata": {},
          "execution_count": 3
        }
      ]
    },
    {
      "cell_type": "code",
      "metadata": {
        "id": "PLTZwXWFHPmv",
        "colab": {
          "base_uri": "https://localhost:8080/"
        },
        "outputId": "2e383aca-fab4-4fc0-d38d-d94219a805aa"
      },
      "source": [
        "4*3"
      ],
      "execution_count": 4,
      "outputs": [
        {
          "output_type": "execute_result",
          "data": {
            "text/plain": [
              "12"
            ]
          },
          "metadata": {},
          "execution_count": 4
        }
      ]
    },
    {
      "cell_type": "code",
      "metadata": {
        "id": "8BFrh9HmHVkz",
        "colab": {
          "base_uri": "https://localhost:8080/"
        },
        "outputId": "dc10d361-13c1-4d46-e77e-015f5fa78464"
      },
      "source": [
        "3/5"
      ],
      "execution_count": 5,
      "outputs": [
        {
          "output_type": "execute_result",
          "data": {
            "text/plain": [
              "0.6"
            ]
          },
          "metadata": {},
          "execution_count": 5
        }
      ]
    },
    {
      "cell_type": "markdown",
      "metadata": {
        "id": "G3WJblW4KKLh"
      },
      "source": [
        "### 실수 사칙연산\n",
        "\n",
        "* 실수에 대해서도 사칙연산 가능"
      ]
    },
    {
      "cell_type": "code",
      "metadata": {
        "id": "SUWi_GcFKSH5",
        "colab": {
          "base_uri": "https://localhost:8080/"
        },
        "outputId": "097cd0c9-c592-4f8c-eb5e-045a523395d4"
      },
      "source": [
        "1.1+2.4"
      ],
      "execution_count": 6,
      "outputs": [
        {
          "output_type": "execute_result",
          "data": {
            "text/plain": [
              "3.5"
            ]
          },
          "metadata": {},
          "execution_count": 6
        }
      ]
    },
    {
      "cell_type": "code",
      "metadata": {
        "id": "CqBZeD9oKU72",
        "colab": {
          "base_uri": "https://localhost:8080/"
        },
        "outputId": "89d1b623-4bd5-4d83-c025-9b48d7802113"
      },
      "source": [
        "4.2-1.2"
      ],
      "execution_count": 7,
      "outputs": [
        {
          "output_type": "execute_result",
          "data": {
            "text/plain": [
              "3.0"
            ]
          },
          "metadata": {},
          "execution_count": 7
        }
      ]
    },
    {
      "cell_type": "code",
      "metadata": {
        "id": "s1xyEhRJKXZL",
        "colab": {
          "base_uri": "https://localhost:8080/"
        },
        "outputId": "89a47962-3b10-405a-a2c5-cb393b7fd542"
      },
      "source": [
        "1.2*2.2"
      ],
      "execution_count": 8,
      "outputs": [
        {
          "output_type": "execute_result",
          "data": {
            "text/plain": [
              "2.64"
            ]
          },
          "metadata": {},
          "execution_count": 8
        }
      ]
    },
    {
      "cell_type": "code",
      "metadata": {
        "id": "XKz3Ahc6KZwu",
        "colab": {
          "base_uri": "https://localhost:8080/"
        },
        "outputId": "73b19117-05d9-4263-8c76-eedd63c2e753"
      },
      "source": [
        "5.4/2.7"
      ],
      "execution_count": 9,
      "outputs": [
        {
          "output_type": "execute_result",
          "data": {
            "text/plain": [
              "2.0"
            ]
          },
          "metadata": {},
          "execution_count": 9
        }
      ]
    },
    {
      "cell_type": "markdown",
      "metadata": {
        "id": "2g1kd0ReKnvh"
      },
      "source": [
        "### 복잡한 연산\n",
        "\n",
        "* 여러 산술연산들이 포함된 복잡한 연산들도 가능"
      ]
    },
    {
      "cell_type": "code",
      "metadata": {
        "id": "06Tq0A94KvqH",
        "colab": {
          "base_uri": "https://localhost:8080/"
        },
        "outputId": "f1100aeb-ca9a-44a1-edfb-e50220cd6117"
      },
      "source": [
        "1+2+3/3*2"
      ],
      "execution_count": 10,
      "outputs": [
        {
          "output_type": "execute_result",
          "data": {
            "text/plain": [
              "5.0"
            ]
          },
          "metadata": {},
          "execution_count": 10
        }
      ]
    },
    {
      "cell_type": "code",
      "metadata": {
        "id": "zODjpBPxKyKy",
        "colab": {
          "base_uri": "https://localhost:8080/"
        },
        "outputId": "3562004c-b8fc-4d58-e7ce-8e6859003bd6"
      },
      "source": [
        "4/2*2-10/4"
      ],
      "execution_count": 11,
      "outputs": [
        {
          "output_type": "execute_result",
          "data": {
            "text/plain": [
              "1.5"
            ]
          },
          "metadata": {},
          "execution_count": 11
        }
      ]
    },
    {
      "cell_type": "code",
      "metadata": {
        "id": "yCDpG51AK6Vm",
        "colab": {
          "base_uri": "https://localhost:8080/"
        },
        "outputId": "798d950d-70f2-40d2-fa0c-e8e216995779"
      },
      "source": [
        "(10-2*4)/(1+2)*(10-4)"
      ],
      "execution_count": 12,
      "outputs": [
        {
          "output_type": "execute_result",
          "data": {
            "text/plain": [
              "4.0"
            ]
          },
          "metadata": {},
          "execution_count": 12
        }
      ]
    },
    {
      "cell_type": "markdown",
      "metadata": {
        "id": "dI2C7NDyQ_Uq"
      },
      "source": [
        "\n",
        "\n",
        "---\n",
        "\n"
      ]
    },
    {
      "cell_type": "markdown",
      "metadata": {
        "id": "FiUzzSZOVuIK"
      },
      "source": [
        "## 파이썬 문법(Python Syntax)\n"
      ]
    },
    {
      "cell_type": "markdown",
      "metadata": {
        "id": "Ia0eyXfzV5b7"
      },
      "source": [
        "### 들여쓰기(Indentation)\n",
        "\n",
        "* 코드 라인의 시작 부분에 들여쓰기\n",
        "* 파이썬은 들여쓰기로 코드의 블록을 표시"
      ]
    },
    {
      "cell_type": "code",
      "metadata": {
        "id": "jDZmAkxVV32c",
        "colab": {
          "base_uri": "https://localhost:8080/"
        },
        "outputId": "e053c0b8-7760-422b-d3b5-cd3b803cc6df"
      },
      "source": [
        "if 2 > 1:\n",
        "  print(2) #들여쓰기 스페이스나 탭 쓰기. 아무거나 써도 되지만 중요한 것은 하나로 통일하기"
      ],
      "execution_count": 14,
      "outputs": [
        {
          "output_type": "stream",
          "name": "stdout",
          "text": [
            "2\n"
          ]
        }
      ]
    },
    {
      "cell_type": "code",
      "metadata": {
        "id": "Hffc6CB4b8F6",
        "colab": {
          "base_uri": "https://localhost:8080/"
        },
        "outputId": "a6efd3fd-b84f-47ef-ae26-78bf0138b2c2"
      },
      "source": [
        "if 2>1:\n",
        " print(2) # 들여쓰기 안하면 오류남. 스페이스 한칸이라도 해야"
      ],
      "execution_count": 16,
      "outputs": [
        {
          "output_type": "stream",
          "name": "stdout",
          "text": [
            "2\n"
          ]
        }
      ]
    },
    {
      "cell_type": "markdown",
      "metadata": {
        "id": "XmkeU7cUWy2A"
      },
      "source": [
        "### 주석(Comments)\n",
        "\n",
        "* 코드에 대해 설명하는데 사용하고 가독성 증가\n",
        "* 일부 코드를 주석처리하여 실행 방지 가능"
      ]
    },
    {
      "cell_type": "code",
      "metadata": {
        "id": "qw9MLmHrW16P",
        "colab": {
          "base_uri": "https://localhost:8080/"
        },
        "outputId": "ebb5dc2a-a644-4463-cd79-37a538e7a2d2"
      },
      "source": [
        "# 주석부분\n",
        "print('주석문') #주석\n",
        "#print('Comment')"
      ],
      "execution_count": 18,
      "outputs": [
        {
          "output_type": "stream",
          "name": "stdout",
          "text": [
            "주석문\n"
          ]
        }
      ]
    }
  ]
}
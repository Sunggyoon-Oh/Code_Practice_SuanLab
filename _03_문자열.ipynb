{
  "nbformat": 4,
  "nbformat_minor": 0,
  "metadata": {
    "colab": {
      "name": "_03 문자열.ipynb",
      "provenance": [],
      "collapsed_sections": [
        "bg5ZXMV2sn1M",
        "E3Cd7WwAxDxm",
        "aKsMBDZohTu4",
        "z250OOXBirgb"
      ]
    },
    "kernelspec": {
      "name": "python3",
      "display_name": "Python 3"
    },
    "accelerator": "GPU",
    "gpuClass": "standard"
  },
  "cells": [
    {
      "cell_type": "markdown",
      "metadata": {
        "id": "bg5ZXMV2sn1M"
      },
      "source": [
        "# 문자열(String)"
      ]
    },
    {
      "cell_type": "markdown",
      "metadata": {
        "id": "Lj_iZPKnCRP0"
      },
      "source": [
        "\n",
        "\n",
        "---\n",
        "\n"
      ]
    },
    {
      "cell_type": "markdown",
      "metadata": {
        "id": "E3Cd7WwAxDxm"
      },
      "source": [
        "## 문자열 정의\n"
      ]
    },
    {
      "cell_type": "markdown",
      "source": [
        "* 문자 단어 등으로 구성된 문자들의 집합\n",
        "* 시퀀스 자료형(sequence data type)"
      ],
      "metadata": {
        "id": "JGmRL6Nl6J7_"
      }
    },
    {
      "cell_type": "code",
      "metadata": {
        "id": "YLGtw6y5iHPK",
        "colab": {
          "base_uri": "https://localhost:8080/"
        },
        "outputId": "67479d40-b3e9-4e87-cac4-77a445b2c042"
      },
      "source": [
        "s=\"String\"\n",
        "print(s)\n",
        "print(s[0]) #0번째 인덱스 출력\n",
        "print(s[1])\n",
        "print(s[2])\n",
        "print(s[3])\n",
        "print(s[4])\n",
        "print(s[5])"
      ],
      "execution_count": 2,
      "outputs": [
        {
          "output_type": "stream",
          "name": "stdout",
          "text": [
            "String\n",
            "S\n",
            "t\n",
            "r\n",
            "i\n",
            "n\n",
            "g\n"
          ]
        }
      ]
    },
    {
      "cell_type": "code",
      "metadata": {
        "id": "1t41e-64iKjc",
        "colab": {
          "base_uri": "https://localhost:8080/"
        },
        "outputId": "76150b7e-e859-45b7-deaf-e76c57317391"
      },
      "source": [
        "s='문자열'\n",
        "print(s) #한글에 대해서도 지원함 유니코드로\n",
        "print(s[0])\n",
        "print(s[1])\n",
        "print(s[2])"
      ],
      "execution_count": 3,
      "outputs": [
        {
          "output_type": "stream",
          "name": "stdout",
          "text": [
            "문자열\n",
            "문\n",
            "자\n",
            "열\n"
          ]
        }
      ]
    },
    {
      "cell_type": "markdown",
      "metadata": {
        "id": "aKsMBDZohTu4"
      },
      "source": [
        "## 문자열 생성\n",
        "\n",
        "* 파이썬에서 문자열은 작은따옴표(') 또는 큰 따옴표(\")로 표현\n"
      ]
    },
    {
      "cell_type": "code",
      "metadata": {
        "id": "qLh1E-1_hxR_",
        "colab": {
          "base_uri": "https://localhost:8080/"
        },
        "outputId": "0fdce622-3133-4a4d-a7ba-dcc19e4249d0"
      },
      "source": [
        "print('Hello')\n",
        "print(\"파이썬은 재미있다.\")\n",
        "print('''파이썬은 심플하다.''')\n",
        "print(\"\"\"파이썬은 문자열 처리가 뛰어나다.\"\"\")"
      ],
      "execution_count": 1,
      "outputs": [
        {
          "output_type": "stream",
          "name": "stdout",
          "text": [
            "Hello\n",
            "파이썬은 재미있다.\n",
            "파이썬은 심플하다.\n",
            "파이썬은 문자열 처리가 뛰어나다.\n"
          ]
        }
      ]
    },
    {
      "cell_type": "markdown",
      "metadata": {
        "id": "z250OOXBirgb"
      },
      "source": [
        "### 따옴표가 있는 문자열 생성\n",
        "\n",
        "* 문자열에 작은따옴표가 있을 경우, 큰따옴표로 둘러싸서 표현\n",
        "* 문자열에 큰따옴표가 있을 경우, 작은따옴표로 둘러싸서 표현\n",
        "* 이스케이프 코드 \\ (원화표시=백슬래쉬)를 이용하여 작은따옴표(‘)와 큰따옴표(“)를 문자열에 포함"
      ]
    },
    {
      "cell_type": "code",
      "metadata": {
        "id": "JYNKaVT0i0aF",
        "colab": {
          "base_uri": "https://localhost:8080/",
          "height": 137
        },
        "outputId": "04643c3d-f3d9-4b8b-d58a-ca55d1b779bd"
      },
      "source": [
        "string=\"Python's built-in string classes\"\n",
        "print(string) #잘나온다\n",
        "string='Python's built-in string classes'\n",
        "print(string) #에러난다"
      ],
      "execution_count": 3,
      "outputs": [
        {
          "output_type": "error",
          "ename": "SyntaxError",
          "evalue": "ignored",
          "traceback": [
            "\u001b[0;36m  File \u001b[0;32m\"<ipython-input-3-315f7b23bd02>\"\u001b[0;36m, line \u001b[0;32m3\u001b[0m\n\u001b[0;31m    string='Python's built-in string classes'\u001b[0m\n\u001b[0m                   ^\u001b[0m\n\u001b[0;31mSyntaxError\u001b[0m\u001b[0;31m:\u001b[0m invalid syntax\n"
          ]
        }
      ]
    },
    {
      "cell_type": "code",
      "source": [
        "string='모두가 \"파이썬을 매우 쉽다.\"라고 말한다.'\n",
        "print(string)\n",
        "string='Python\\'s built-in string classes' #이스케이프 문자를 써서 ' 뒤에도 문자열로 인식되게 한다.\n",
        "print(string)\n",
        "string = \"모두가 \\\"파이썬을 매우 쉽다.\\\"라고 말한다.\" # 안쪽의 쌍따옴표, 이스케이프 바로 뒤에 있는 문자가 이스케이프 효과를 받음.\n",
        "print(string)"
      ],
      "metadata": {
        "colab": {
          "base_uri": "https://localhost:8080/"
        },
        "id": "UcimQNbSjBzm",
        "outputId": "9bd685b0-234d-442d-92f7-12a17cd40dce"
      },
      "execution_count": 5,
      "outputs": [
        {
          "output_type": "stream",
          "name": "stdout",
          "text": [
            "모두가 \"파이썬을 매우 쉽다.\"라고 말한다.\n",
            "Python's built-in string classes\n",
            "모두가 \"파이썬을 매우 쉽다.\"라고 말한다.\n"
          ]
        }
      ]
    },
    {
      "cell_type": "markdown",
      "source": [
        "# 이스케이프 문자\n",
        "* 특수 문자\n",
        "* 문자 앞에 백슬래쉬를 사용\n",
        "* 문자열에서 특수 문자를 표현하는데 사용<br>\n",
        "\\<br>\n",
        "\\'<br>\n",
        "\\\"<br>\n",
        "\\a<br>\n",
        "̄̄\\b<br>\n",
        "\\f<br>                                     \n",
        "\\n<br> 한줄 내려주는거 라인피드\n",
        "\\r<br>\n",
        "\\t<br>\n",
        "\\v<br>\n",
        "\\ooo<br>\n",
        "\\xhh"
      ],
      "metadata": {
        "id": "ueUhGDs7kSUF"
      }
    },
    {
      "cell_type": "markdown",
      "metadata": {
        "id": "rM5rFj7nnx6Z"
      },
      "source": [
        "\n",
        "\\### 여러 줄이 있는 문자열 생성\n",
        "\n",
        "* 이스케이프 문자(\\\\n)를 이용하여 여러 줄이 있는 문자열 생성 가능"
      ]
    },
    {
      "cell_type": "code",
      "metadata": {
        "id": "XWqwisIai6ot",
        "colab": {
          "base_uri": "https://localhost:8080/"
        },
        "outputId": "9f65194a-dcc7-4402-9c07-77d10de7f4b9"
      },
      "source": [
        "text = \"동해물과 백두산이 마르고 닳도록\\n하느님이 보우하사 우리나라 만세\\n무궁화 삼천리 화려강산\\n대한사람, 대한으로 길이 보전하세.\"\n",
        "print(text)"
      ],
      "execution_count": 2,
      "outputs": [
        {
          "output_type": "stream",
          "name": "stdout",
          "text": [
            "동해물과 백두산이 마르고 닳도록\n",
            "하느님이 보우하사 우리나라 만세\n",
            "무궁화 삼천리 화려강산\n",
            "대한사람, 대한으로 길이 보전하세.\n"
          ]
        }
      ]
    },
    {
      "cell_type": "markdown",
      "metadata": {
        "id": "IKC5jvDpoGAT"
      },
      "source": [
        "* 작은 따옴표 3개 또는 큰 따옴표 3개를 이용하여 여러 줄이 있는 문자열 생성"
      ]
    },
    {
      "cell_type": "code",
      "metadata": {
        "id": "pgxgO7QwoDH8",
        "colab": {
          "base_uri": "https://localhost:8080/"
        },
        "outputId": "2286c1ab-dd89-44c3-ed82-be8a65a70c20"
      },
      "source": [
        "text = \"\"\"동해물과 백두산이 마르고 닳도록\n",
        "하느님이 보우하사 우리나라 만세.\n",
        "무궁화 삼천리 화려강산\n",
        "대한사람, 대한으로 길이 보전하세.\"\"\"\n",
        "print(text)"
      ],
      "execution_count": 3,
      "outputs": [
        {
          "output_type": "stream",
          "name": "stdout",
          "text": [
            "동해물과 백두산이 마르고 닳도록\n",
            "하느님이 보우하사 우리나라 만세.\n",
            "무궁화 삼천리 화려강산\n",
            "대한사람, 대한으로 길이 보전하세.\n"
          ]
        }
      ]
    },
    {
      "cell_type": "markdown",
      "metadata": {
        "id": "PzXHy8FxoW5l"
      },
      "source": [
        "\n",
        "\n",
        "---\n",
        "\n"
      ]
    },
    {
      "cell_type": "markdown",
      "metadata": {
        "id": "d38eO6_roX5E"
      },
      "source": [
        "## 문자열 연산(String Operators)"
      ]
    },
    {
      "cell_type": "markdown",
      "metadata": {
        "id": "SP7ztoZhXRV4"
      },
      "source": [
        "### 문자열 더하기\n",
        "\n",
        "+ 연산자를 사용하여 문자열 연결\n"
      ]
    },
    {
      "cell_type": "code",
      "metadata": {
        "id": "ZuecZ1D2oPnq",
        "colab": {
          "base_uri": "https://localhost:8080/"
        },
        "outputId": "4255e53d-f72a-4dd5-ec3e-68f975a3b443"
      },
      "source": [
        "s1 = \"동해물과 \"\n",
        "s2 = \"백두산이\"\n",
        "print(s1 + s2)"
      ],
      "execution_count": 6,
      "outputs": [
        {
          "output_type": "stream",
          "name": "stdout",
          "text": [
            "동해물과 백두산이\n"
          ]
        }
      ]
    },
    {
      "cell_type": "markdown",
      "metadata": {
        "id": "0CPt-XMbvjWx"
      },
      "source": [
        "### 문자열 곱하기\n",
        "\n",
        "* \\* 연산자를 사용하여 문자열 반복\n"
      ]
    },
    {
      "cell_type": "code",
      "metadata": {
        "id": "tmpi5CMDolHd",
        "colab": {
          "base_uri": "https://localhost:8080/"
        },
        "outputId": "bccfa23b-0ff0-4419-fe7e-532a425c30f7"
      },
      "source": [
        "s = \"String \"\n",
        "print(s * 3)"
      ],
      "execution_count": 7,
      "outputs": [
        {
          "output_type": "stream",
          "name": "stdout",
          "text": [
            "String String String \n"
          ]
        }
      ]
    },
    {
      "cell_type": "markdown",
      "metadata": {
        "id": "pjKywfKlvvp5"
      },
      "source": [
        "### 문자열 길이(length)\n",
        "\n",
        "* 문자열 길이를 구하는 `len()` 함수"
      ]
    },
    {
      "cell_type": "code",
      "metadata": {
        "id": "vKff0qQdvtqh",
        "colab": {
          "base_uri": "https://localhost:8080/"
        },
        "outputId": "e94d7e11-6311-4a71-f993-273557d4f9ab"
      },
      "source": [
        "s = \"String\"\n",
        "print(len(s)) # 7개\n",
        "print(len(s * 3)) # 7개 * 3"
      ],
      "execution_count": 8,
      "outputs": [
        {
          "output_type": "stream",
          "name": "stdout",
          "text": [
            "6\n",
            "18\n"
          ]
        }
      ]
    },
    {
      "cell_type": "markdown",
      "metadata": {
        "id": "QaeVCcgnv_lD"
      },
      "source": [
        "### 문자열 인덱싱(indexing)\n",
        "\n",
        "* 문자열은 리스트처럼 문자 하나하나가 상대적인 주소(offset)를 가짐\n",
        "* 이 주소를 사용해 할당된 값을 가져오는 인덱싱을 사용"
      ]
    },
    {
      "cell_type": "markdown",
      "source": [
        " S  t  r  i  n  g <br>\n",
        " 0  1  2  3  4  5 <br>\n",
        "-6 -5 -4 -3 -2 -1<br>\n",
        "\n",
        "앞에서는 그냥 알던대로 0 1 2 3 ~~<br>\n",
        "뒤에서 시작하면 0이 아니라 -1 -2 -3 -4 ~"
      ],
      "metadata": {
        "id": "9wR4qFYhAY3q"
      }
    },
    {
      "cell_type": "code",
      "metadata": {
        "id": "yuYQOYe3v5iF",
        "colab": {
          "base_uri": "https://localhost:8080/"
        },
        "outputId": "377bcacd-8339-417e-cdab-f7b450b21a31"
      },
      "source": [
        "s = \"String\"\n",
        "print(s)\n",
        "print(s[-6])\n",
        "print(s[-5])\n",
        "print(s[-4])\n",
        "print(s[-3])\n",
        "print(s[-2])\n",
        "print(s[-1])"
      ],
      "execution_count": 9,
      "outputs": [
        {
          "output_type": "stream",
          "name": "stdout",
          "text": [
            "String\n",
            "S\n",
            "t\n",
            "r\n",
            "i\n",
            "n\n",
            "g\n"
          ]
        }
      ]
    },
    {
      "cell_type": "markdown",
      "metadata": {
        "id": "zcTUuycAw7np"
      },
      "source": [
        "### 문자열 슬라이싱(slicing)\n",
        "\n",
        "* 문자열의 주소를 이용하여 문자열을 조각(부분)을 추출"
      ]
    },
    {
      "cell_type": "code",
      "metadata": {
        "id": "JJUbjwcgw6PG",
        "colab": {
          "base_uri": "https://localhost:8080/"
        },
        "outputId": "b771d857-9768-449b-8cdc-e6e968a03ee6"
      },
      "source": [
        "s = \"SuanLab - Suan computer laboratory\"\n",
        "print(s)\n",
        "print(s[0:7]) #0번째 인덱스부터 6번째 인덱스\n",
        "print(s[:7]) #0은 생략이 가능 바로 위랑 같음\n",
        "print(s[10:]) #끝값도 안써 됨. 끝까지 다 출력하겠다 그러면 콜론뒤에 안쓰면 됨\n",
        "print(s[-10:]) # -10(L)부터 끝까지 출력해라\n",
        "print(s[-19:-11]) # -19(C)부터 -11(r)까지 출력하기~"
      ],
      "execution_count": 17,
      "outputs": [
        {
          "output_type": "stream",
          "name": "stdout",
          "text": [
            "SuanLab - Suan computer laboratory\n",
            "SuanLab\n",
            "SuanLab\n",
            "Suan computer laboratory\n",
            "laboratory\n",
            "computer\n"
          ]
        }
      ]
    },
    {
      "cell_type": "markdown",
      "metadata": {
        "id": "-drrAXi3xY3y"
      },
      "source": [
        "\n",
        "\n",
        "---\n",
        "\n"
      ]
    },
    {
      "cell_type": "markdown",
      "metadata": {
        "id": "ZYyzer0TxVll"
      },
      "source": [
        "## 문자열 메소드(String Methods)\n"
      ]
    },
    {
      "cell_type": "markdown",
      "source": [
        "문자열 처리를 쉽게하는 메서드 제공 <br>\n",
        "capitalize 첫문자 대문자 나머지 소문자<br>\n",
        "casefold 모든 대소문자 구분 제거<br>\n",
        "count<br>\n",
        "find<br>\n",
        "rfind<br>\n",
        "index<br>\n",
        "rindex<br>\n",
        "isalnum 다 숫자면 true 아니면 false 반환<br>\n",
        "isalpha<br>\n",
        "isdecimal<br>\n",
        "isdigit<br>\n",
        "isnumeric<br>\n",
        "isidentifier 문자열이 유효한 식별자인 경우 True<br>\n",
        "isnumeric<br>\n",
        "isspace<br>\n",
        "istitle<br>\n",
        "islower<br>\n",
        "isupper<br>\n",
        "<br>\n",
        "lower 다 소문자로 바꿔서 반환<br>\n",
        "upper<br>\n",
        "title  첫글짜만 대문자 나머지는 소문자 문자열로 반환<br>\n",
        "swapcase 대 소문자 서로바꿔서 반환<br>\n",
        "<br>\n",
        "strip([chars]) 문자열 양쪽의 chars 또는 공백을 제거한 문자열을 반환\n",
        "<br>"
      ],
      "metadata": {
        "id": "fQmKXSoGB3V7"
      }
    },
    {
      "cell_type": "markdown",
      "metadata": {
        "id": "5VO3DGMAyxHc"
      },
      "source": [
        "### capitalize() / casefold()\n",
        "\n",
        "* 문자열 \"string\"에 대해 `capitalize()`를 실행하면, 첫 문자가 대문자인 \"String\" 문자열로 변환\n",
        "* 문자열 \"String\"에 대해 `casefold()`를 실행하면, 모든 문자가 소문자인 \"string\" 문자열로 변환"
      ]
    },
    {
      "cell_type": "code",
      "source": [
        "s = \"string\"\n",
        "print(s)\n",
        "s = s.capitalize()\n",
        "print(s)\n",
        "s=s.casefold()\n",
        "print(s)"
      ],
      "metadata": {
        "colab": {
          "base_uri": "https://localhost:8080/"
        },
        "id": "yZIwA7FGUoI5",
        "outputId": "0b47fe88-7652-4331-c69d-3dcb8b3b6009"
      },
      "execution_count": 19,
      "outputs": [
        {
          "output_type": "stream",
          "name": "stdout",
          "text": [
            "string\n",
            "String\n",
            "string\n"
          ]
        }
      ]
    },
    {
      "cell_type": "markdown",
      "metadata": {
        "id": "XE4t6o1f0haA"
      },
      "source": [
        "### count()\n",
        "\n",
        "* 문자열 \"string string\"에 포함된 문자 's'의 갯수를 반환하도록 `count()`를 실행\n",
        "* 문자 's'가 총 2개 존재하므로 2를 반환\n",
        "* 부분 문자열 \"str\"이 몇개인지 반환하는 것도 가능하고, 부분 문자열 \"str\"이 총 2개 존재하므로 2를 반환"
      ]
    },
    {
      "cell_type": "code",
      "metadata": {
        "id": "4o34mT_N0UDY",
        "colab": {
          "base_uri": "https://localhost:8080/"
        },
        "outputId": "ddd92831-8d4d-40c5-b2fd-ac9876c98a41"
      },
      "source": [
        "s=\"string string\"\n",
        "print(s)\n",
        "print(s.count('s')) # s의 갯수가 몇갠지 반환\n",
        "print(s.count(\"str\")) # str의 갯수가 몇갠지 반환"
      ],
      "execution_count": 24,
      "outputs": [
        {
          "output_type": "stream",
          "name": "stdout",
          "text": [
            "string string\n",
            "2\n",
            "2\n"
          ]
        }
      ]
    },
    {
      "cell_type": "markdown",
      "metadata": {
        "id": "8k0mftqo0yVe"
      },
      "source": [
        "### find() / rfind()\n",
        "\n",
        "* 문자열 \"string string\"에서 문자 's'의 해당 위치를 `find()`를 통해 반환\n",
        "* 문자열 \"string string\"에서 부분 문자열 \"ing\"의 해당 위치를 `find()`를 통해 반환\n",
        "* 문자열 \"string string\"에서 문자 's'를 해당 위치를 `rfind()`를 통해 오른쪽부터 탐색하여 가장 큰 인덱스를 반환\n",
        "* 문자열 \"string string\"에서 부분 문자열 \"ring\"를 해당 위치를 `rfind()`를 통해 오른쪽부터 탐색하여 가장 큰 인덱스를 반환"
      ]
    },
    {
      "cell_type": "code",
      "metadata": {
        "id": "1TDT5Akz0nQn",
        "colab": {
          "base_uri": "https://localhost:8080/"
        },
        "outputId": "fa22d3aa-c7f5-4e18-bc26-f1d9e2a3fd7d"
      },
      "source": [
        "s='string string'\n",
        "print(s.find('s')) # s에 대해서 위치값(인덱스)를 반환\n",
        "print(s.find('ing')) # ing는 인덱스 3에 있음\n",
        "print(s.rfind('s')) # rfind는 오른쪽부터 찾는거 7번 인덱스에 있다.\n",
        "print(s.rfind('ing')) # 위와 동일 10 인덱스에 있다."
      ],
      "execution_count": 29,
      "outputs": [
        {
          "output_type": "stream",
          "name": "stdout",
          "text": [
            "0\n",
            "3\n",
            "7\n",
            "10\n"
          ]
        }
      ]
    },
    {
      "cell_type": "markdown",
      "metadata": {
        "id": "T9p8ylMq1-u7"
      },
      "source": [
        "### index() / rindex()\n",
        "\n",
        "* 문자열 \"string string\"에서 문자 's'의 해당 위치를 `index()`를 통해 반환\n",
        "* 문자열 \"string string\"에서 부분 문자열 \"ing\"의 해당 위치를 `index()`를 통해 반환\n",
        "* 문자열 \"string string\"에서 문자 's'를 해당 위치를 `rindex()`를 통해 오른쪽부터 탐색하여 가장 큰 인덱스를 반환\n",
        "* 문자열 \"string string\"에서 부분 문자열 \"ring\"를 해당 위치를 `rindex()`를 통해 오른쪽부터 탐색하여 가장 큰 인덱스를 반환\n",
        "* 문자열 \"string string\"에서 문자 'z'를 해당 위치를 `rindex()` 함수를 통해 오른쪽부터 탐색하지만 찾을 수 없어서 'ValueError' 발생"
      ]
    },
    {
      "cell_type": "code",
      "metadata": {
        "id": "tzp-p20519Bv",
        "colab": {
          "base_uri": "https://localhost:8080/"
        },
        "outputId": "3fb31ad6-8497-42e3-9315-18340aa03101"
      },
      "source": [
        "s='string string'\n",
        "print(s.index('s')) # s에 대해서 위치값(인덱스)를 반환\n",
        "print(s.index('ing')) # ing는 인덱스 3에 있음\n",
        "print(s.rindex('s')) # rfind는 오른쪽부터 찾는거 7번 인덱스에 있다.\n",
        "print(s.rindex('ing')) # 위와 동일 10 인덱스에 있다.\n",
        "#print(s.rindex('z')) #없는걸 찾으면 밸류에러가 뜬다. "
      ],
      "execution_count": 30,
      "outputs": [
        {
          "output_type": "stream",
          "name": "stdout",
          "text": [
            "0\n",
            "3\n",
            "7\n",
            "10\n"
          ]
        }
      ]
    },
    {
      "cell_type": "markdown",
      "metadata": {
        "id": "prav01jjje_G"
      },
      "source": [
        "### isalnum()\n",
        "\n",
        "* `isalnum()`은 문자열에 알파벳이나 숫자가 1개 이상 있으면 True 반환\n",
        "* 문자열 \"string\"은 알파벳으로 구성 되었으므로 True 반환\n",
        "* 문자열 \"한글\"은 알파벳으로 구성 되어있으므로 True 반환\n",
        "* 문자열 \"!@#\"은 특수기호로 구성 되어있으므로 False 반환\n",
        "* 문자열 \"123\"은 숫자들로 구성 되어있으므로 True 반환"
      ]
    },
    {
      "cell_type": "code",
      "metadata": {
        "id": "6H6gBF44DIke",
        "colab": {
          "base_uri": "https://localhost:8080/"
        },
        "outputId": "221c8fc7-4b89-4e35-cf96-9ba2d2bd150f"
      },
      "source": [
        "print(\"string\".isalnum()) # 문자열에 바로 점 찍고 메서드 사용가능\n",
        "print(\"한글\".isalnum()) # 한글도 유니코드라서 알파벳임.\n",
        "print(\"!@#\".isalnum()) # 알파벳도 아니고 넘버도 아니다.\n",
        "print(\"123\".isalnum())"
      ],
      "execution_count": 31,
      "outputs": [
        {
          "output_type": "stream",
          "name": "stdout",
          "text": [
            "True\n",
            "True\n",
            "False\n",
            "True\n"
          ]
        }
      ]
    },
    {
      "cell_type": "markdown",
      "metadata": {
        "id": "eHIt6rNFYCGE"
      },
      "source": [
        "### isalpha()\n",
        "\n",
        "* `isalpha()`는 문자열에 알파벳이 1개 이상 있으면 True 반환\n",
        "* 문자열 \"string\"은 알파벳으로 구성 되었으므로 True 반환\n",
        "* 문자열 \"한글\"은 알파벳으로 구성 되어있으므로 True 반환\n",
        "* 문자열 \"!@#\"은 특수기호로 구성 되어있으므로 False 반환\n",
        "* 문자열 \"123\"은 숫자들로 구성 되어있으므로 Flase 반환"
      ]
    },
    {
      "cell_type": "code",
      "metadata": {
        "id": "_dFo8ynlmd_B",
        "colab": {
          "base_uri": "https://localhost:8080/"
        },
        "outputId": "cf7ca2e6-6ec1-41e0-85c8-0d76aefe1ffa"
      },
      "source": [
        "print(\"string\".isalpha()) # 문자열에 바로 점 찍고 메서드 사용가능\n",
        "print(\"한글\".isalpha()) # 한글도 유니크도라서 알파벳임.\n",
        "print(\"!@#\".isalpha()) # 알파벳도 아니고 넘버도 아니다.\n",
        "print(\"123\".isalpha())"
      ],
      "execution_count": 32,
      "outputs": [
        {
          "output_type": "stream",
          "name": "stdout",
          "text": [
            "True\n",
            "True\n",
            "False\n",
            "False\n"
          ]
        }
      ]
    },
    {
      "cell_type": "markdown",
      "metadata": {
        "id": "_WGNBgfilCZg"
      },
      "source": [
        "### isdecimal()\n",
        "\n",
        "* `isdecimal()`는 문자열의 모든 문자가 10진수 문자이면 True 반환\n",
        "* 문자열 \"123\"은 모두 10진수 문자열이므로 True 반환\n",
        "* 문자열 \"1.23\"은 실수형 문자열이므로 False 반환"
      ]
    },
    {
      "cell_type": "code",
      "metadata": {
        "id": "E2kVKYNHjtlN",
        "colab": {
          "base_uri": "https://localhost:8080/"
        },
        "outputId": "af8d8eb3-c373-45f8-bea0-d9593de142fd"
      },
      "source": [
        "print(\"string\".isdecimal()) \n",
        "print(\"한글\".isdecimal()) \n",
        "print(\"!@#\".isdecimal()) \n",
        "print(\"123\".isdecimal()) # 얘만 10진수 숫자\n",
        "print(\"1.23\".isdecimal()) # 실수는 안됨"
      ],
      "execution_count": 37,
      "outputs": [
        {
          "output_type": "stream",
          "name": "stdout",
          "text": [
            "False\n",
            "False\n",
            "False\n",
            "True\n",
            "False\n"
          ]
        }
      ]
    },
    {
      "cell_type": "markdown",
      "metadata": {
        "id": "J0pJ-8T_Yhlx"
      },
      "source": [
        "### isdigit()\n",
        "\n",
        "* `isdigit()`는 문자열의 모든 문자가 숫자일 때 True 반환\n",
        "* 문자열 \"123\"은 모든 문자가 숫자에 해당하므로 True 반환\n",
        "* 문자열 \"1.23\"은 문자 중 숫자에 해당안되는 . 이 존재하여 False"
      ]
    },
    {
      "cell_type": "code",
      "metadata": {
        "id": "oOsCWfMhmjHo",
        "colab": {
          "base_uri": "https://localhost:8080/"
        },
        "outputId": "43e5f568-e014-4c98-873e-e22e67c92f2b"
      },
      "source": [
        "print(\"string\".isdigit()) \n",
        "print(\"한글\".isdigit()) \n",
        "print(\"!@#\".isdigit()) \n",
        "print(\"123\".isdigit()) \n",
        "print(\"1.23\".isdigit()) # 점이 껴있어서 false임."
      ],
      "execution_count": 39,
      "outputs": [
        {
          "output_type": "stream",
          "name": "stdout",
          "text": [
            "False\n",
            "False\n",
            "False\n",
            "True\n",
            "False\n"
          ]
        }
      ]
    },
    {
      "cell_type": "markdown",
      "metadata": {
        "id": "2jPib-Z8ZAlj"
      },
      "source": [
        "### isnumeric()\n",
        "\n",
        "* `isnumeric()`는 문자열의 모든 문자가 수치형일 때 True 반환\n",
        "* 문자열 \"123\"은 모든 문자가 숫자에 해당하므로 True 반환\n",
        "* 문자열 \"1.23\"은 문자 중 수치형에 해당안되는 . 이 존재하여 False"
      ]
    },
    {
      "cell_type": "code",
      "metadata": {
        "id": "J5EsHyjfpidQ",
        "colab": {
          "base_uri": "https://localhost:8080/"
        },
        "outputId": "e4efafb0-52fd-4284-fc48-22c9773e94b5"
      },
      "source": [
        "print(\"123\".isnumeric()) # 다 수치형\n",
        "print(\"1.23\".isnumeric()) # ,이 수치형이 아니니까 false"
      ],
      "execution_count": 40,
      "outputs": [
        {
          "output_type": "stream",
          "name": "stdout",
          "text": [
            "True\n",
            "False\n"
          ]
        }
      ]
    },
    {
      "cell_type": "markdown",
      "metadata": {
        "id": "krM9QrrEp5TB"
      },
      "source": [
        "### isidentifier()\n",
        "\n",
        "* `isidentifier()`는 문자열이 파이썬에서 사용하는 식별자인 경우 True 반환\n",
        "* 문자열 \"123\"은 식별자로 사용되지 않는 문자열이라서 False 반환\n",
        "* 문자열 \"True\"는 식별자로 사용되기 때문에 True 반환\n",
        "* 문자열 \"print\"는 식별자로 사용되기 때문에 True 반환"
      ]
    },
    {
      "cell_type": "code",
      "metadata": {
        "id": "ir5WknFUpO7r",
        "colab": {
          "base_uri": "https://localhost:8080/"
        },
        "outputId": "f03a567b-44ad-4277-eaa7-445129bc8f97"
      },
      "source": [
        "print(\"123\".isidentifier())\n",
        "print(\"True\".isidentifier()) # True 이런게 식별자임.\n",
        "print(\"Print\".isidentifier()) # Print가 식별자임"
      ],
      "execution_count": 43,
      "outputs": [
        {
          "output_type": "stream",
          "name": "stdout",
          "text": [
            "False\n",
            "True\n",
            "True\n"
          ]
        }
      ]
    },
    {
      "cell_type": "markdown",
      "metadata": {
        "id": "jHm6aRyAlypa"
      },
      "source": [
        "### isspace()\n",
        "\n",
        "* 문자열 \" \"은 문자열 내에 공백 문자가 있어서 True 반환\n",
        "* 문자열 \" 1 \"은 문자열 내에 공백 아닌 문자가 있어서 False 반환"
      ]
    },
    {
      "cell_type": "code",
      "metadata": {
        "id": "x0Nmi2NtqQpI",
        "colab": {
          "base_uri": "https://localhost:8080/"
        },
        "outputId": "137e733c-9854-4c4c-8604-359eca491ff2"
      },
      "source": [
        "print(\" \".isspace()) #공백이 있으면 트루\n",
        "print(\" 1\".isspace()) #공백이 아닌 문자가 포함돼있어서 펄스"
      ],
      "execution_count": 45,
      "outputs": [
        {
          "output_type": "stream",
          "name": "stdout",
          "text": [
            "True\n",
            "False\n"
          ]
        }
      ]
    },
    {
      "cell_type": "markdown",
      "metadata": {
        "id": "SG3Odc9fIHpT"
      },
      "source": [
        "### istitle()\n",
        "\n",
        "* 문자열 \"String\"은 문자열 내에 제목과 같이 첫 글자가 대문자여서 True 반환\n",
        "* 문자열 \"STRING\"은 모든 문자가 대문자이기 때문에 False 반환"
      ]
    },
    {
      "cell_type": "code",
      "metadata": {
        "id": "c7eht5HErgrr",
        "colab": {
          "base_uri": "https://localhost:8080/"
        },
        "outputId": "9c9c65e1-b732-41a5-ab9a-3d437a172d68"
      },
      "source": [
        "print(\"String\".istitle()) # 첫자만 대문자면 트루\n",
        "print(\"STRING\".istitle()) # 다 대문자면 펄스"
      ],
      "execution_count": 47,
      "outputs": [
        {
          "output_type": "stream",
          "name": "stdout",
          "text": [
            "True\n",
            "False\n"
          ]
        }
      ]
    },
    {
      "cell_type": "markdown",
      "metadata": {
        "id": "ctZKMIrHI8-A"
      },
      "source": [
        "### islower()\n",
        "\n",
        "* 문자열 \"string\"은 모든 문자가 소문자여서 True 반환\n",
        "* 문자열 \"String\"은 첫 문자가 대문자여서 False 반환"
      ]
    },
    {
      "cell_type": "code",
      "metadata": {
        "id": "xznSyZT9lzp5",
        "colab": {
          "base_uri": "https://localhost:8080/"
        },
        "outputId": "4b88e62a-3bd0-4b97-f165-8508a4a743f8"
      },
      "source": [
        "print(\"string\".islower())\n",
        "print(\"String\".islower())"
      ],
      "execution_count": 48,
      "outputs": [
        {
          "output_type": "stream",
          "name": "stdout",
          "text": [
            "True\n",
            "False\n"
          ]
        }
      ]
    },
    {
      "cell_type": "markdown",
      "metadata": {
        "id": "KVnECEUXI_MN"
      },
      "source": [
        "### isupper() 함수\n",
        "\n",
        "* 문자열 \"STRING\"은 모든 문자가 대문자여서 True 반환\n",
        "* 문자열 \"String\"은 첫 문자만 대문자여서 False 반환"
      ]
    },
    {
      "cell_type": "code",
      "metadata": {
        "id": "ZAmXy2lCqIbi",
        "colab": {
          "base_uri": "https://localhost:8080/"
        },
        "outputId": "27a9047b-8436-4c81-ec92-32c99fa6ca07"
      },
      "source": [
        "print(\"STRING\".isupper())\n",
        "print(\"String\".isupper())"
      ],
      "execution_count": 49,
      "outputs": [
        {
          "output_type": "stream",
          "name": "stdout",
          "text": [
            "True\n",
            "False\n"
          ]
        }
      ]
    },
    {
      "cell_type": "markdown",
      "metadata": {
        "id": "mGdbqGsSr8Ee"
      },
      "source": [
        "### join()\n",
        "\n",
        "* 문자열 \"String\"에 대해서 `join()`으로 공백 문자 ' '를 문자 사이마다 추가한 문자열 \"S t r i n g\"을 반환\n",
        "* 문자열 \"String\"에 대해서 `join()` 으로 공백 문자 '_'를 문자 사이마다 추가한 문자열 \"S_t_r_i_n_g\"을 반환\n",
        "* 문자열 \"String\"에 대해서 `join()` 으로 공백 문자 '|'를 문자 사이마다 추가한 문자열 \"S|t|r|i|n|g\"을 반환"
      ]
    },
    {
      "cell_type": "code",
      "metadata": {
        "id": "A8tTe2l3rwLw",
        "colab": {
          "base_uri": "https://localhost:8080/"
        },
        "outputId": "da676ad4-1ea3-47d2-fdb8-03b80713e92b"
      },
      "source": [
        "s = \"String\"\n",
        "print(' '.join(s))  # String 글자 사이사이에 공백이 들어가게 됨\n",
        "print('_'.join(s))\n",
        "print('|'.join(s))"
      ],
      "execution_count": 52,
      "outputs": [
        {
          "output_type": "stream",
          "name": "stdout",
          "text": [
            "S t r i n g\n",
            "S_t_r_i_n_g\n",
            "S|t|r|i|n|g\n"
          ]
        }
      ]
    },
    {
      "cell_type": "markdown",
      "metadata": {
        "id": "zDmq0ExIsdtu"
      },
      "source": [
        "### center() / ljust() / rjust()\n",
        "\n",
        "* 문자열 \"String\"에 대해서 `center()`를 사용하여 너비 10에 해당하는 문자열 길이에 가운데 정렬한 문자열 '  String  '로 변환\n",
        "* 문자열 \"String\"에 대해서 `ljust()`를 사용하여 너비 10에 해당하는 문자열 길이에 왼쪽 정렬한 문자열 'String    '로 변환\n",
        "* 문자열 \"String\"에 대해서 `rjust()`를 사용하여 너비 10에 해당하는 문자열 길이에 오른쪽 정렬한 문자열 '    String'로 변환"
      ]
    },
    {
      "cell_type": "code",
      "metadata": {
        "id": "sFA02kX3sf2q",
        "colab": {
          "base_uri": "https://localhost:8080/"
        },
        "outputId": "8701ac59-67ab-43d8-9dce-61fccea49700"
      },
      "source": [
        "print(\"'\" + \"String\".center(10) + \"'\") # '과 ' 사이에 String을 가운데 정렬시킴\n",
        "print(\"'\" + \"String\".ljust(10) + \"'\") # 왼쪽으로 정렬\n",
        "print(\"'\" + \"String\".rjust(10) + \"'\") # 오른쪽으로 정렬"
      ],
      "execution_count": 57,
      "outputs": [
        {
          "output_type": "stream",
          "name": "stdout",
          "text": [
            "'  String  '\n",
            "'String    '\n",
            "'    String'\n"
          ]
        }
      ]
    },
    {
      "cell_type": "markdown",
      "metadata": {
        "id": "-iP2QrFn0kWZ"
      },
      "source": [
        "### lower() / upper() / title() / swapcase()\n",
        "\n",
        "* 문자열 \"String\"을 `lower()`를 이용하여 모든 문자가 소문자로 변환된 \"string\" 반환\n",
        "* 문자열 \"String\"을 `upper()`를 이용하여 모든 문자가 대문자로 변환된 \"STRING\" 반환\n",
        "* 문자열 \"string\"을 `title()`를 이용하여 첫 문자가 대문자로 변환된 \"String\" 반환\n",
        "* 문자열 \"String\"을 `swapcase()`를 이용하여 대문자는 소문자로 변환되고 소문자는 대문자로 변환된 \"sTRING\" 반환\n"
      ]
    },
    {
      "cell_type": "code",
      "metadata": {
        "id": "K8JmvhjC0j-e",
        "colab": {
          "base_uri": "https://localhost:8080/"
        },
        "outputId": "56398e61-e16b-4cd3-8345-4f93f02545b3"
      },
      "source": [
        "print(\"String\".lower())\n",
        "print(\"String\".upper())\n",
        "print(\"String\".title())\n",
        "print(\"String\".swapcase())"
      ],
      "execution_count": 58,
      "outputs": [
        {
          "output_type": "stream",
          "name": "stdout",
          "text": [
            "string\n",
            "STRING\n",
            "String\n",
            "sTRING\n"
          ]
        }
      ]
    },
    {
      "cell_type": "markdown",
      "metadata": {
        "id": "oyk35mDo1d2M"
      },
      "source": [
        "### strip() / lstrip() / rstrip()\n",
        "\n",
        "* 양쪽 공백이 포함된 문자열 \"  String  \"을 `strip()`를 통해 공백 제거\n",
        "* 양쪽 공백이 포함된 문자열 \"  String  \"을 `lstrip()`를 통해 왼쪽 공백 제거\n",
        "* 양쪽 공백이 포함된 문자열 \"  String  \"을 `rstrip()`를 통해 오른쪽 공백 제거"
      ]
    },
    {
      "cell_type": "code",
      "metadata": {
        "id": "Y8D90szl1YOa",
        "colab": {
          "base_uri": "https://localhost:8080/"
        },
        "outputId": "45371571-6ece-465d-d2d7-5c9e0ca1e251"
      },
      "source": [
        "print(\"   String   \".strip()) # 양쪽공백이 제거된 결과 반환\n",
        "print(\"   String   \".lstrip()) # 왼쪽 공백이 제거된 결과 반환\n",
        "print(\"   String   \".rstrip()) # 오른쪽 공백이 제거된 결과 반환"
      ],
      "execution_count": 60,
      "outputs": [
        {
          "output_type": "stream",
          "name": "stdout",
          "text": [
            "String\n",
            "String   \n",
            "   String\n"
          ]
        }
      ]
    },
    {
      "cell_type": "markdown",
      "metadata": {
        "id": "zPLZHaXu7OYj"
      },
      "source": [
        "### partition() / rpartition()\n",
        "\n",
        "* 문자열 \"String\"을 `partition()`를 이용하여 문자 't' 기준으로 분할\n",
        "* 문자열 \"String String\"을 `rpartition()`를 이용하여 마지막 문자 'S'를 기준으로 분할"
      ]
    },
    {
      "cell_type": "code",
      "metadata": {
        "id": "fhmrvPHl4I6Q",
        "colab": {
          "base_uri": "https://localhost:8080/"
        },
        "outputId": "53cbccea-3061-4c96-83fa-008511c54e71"
      },
      "source": [
        "print(\"String\".partition('t')) # t를 기준으로 3개로 나눈다.\n",
        "print(\"String String\".rpartition('S')) # r 이니까 오른쪽에 있는 인덱스 큰 s를 기준으로 파티션"
      ],
      "execution_count": 65,
      "outputs": [
        {
          "output_type": "stream",
          "name": "stdout",
          "text": [
            "('S', 't', 'ring')\n",
            "('String ', 'S', 'tring')\n"
          ]
        }
      ]
    },
    {
      "cell_type": "markdown",
      "metadata": {
        "id": "8YF_Rheq7fe6"
      },
      "source": [
        "### replace()\n",
        "\n",
        "* 문자열 \"String\"을 `replace()`를 이용해 문자열 \"Str\"을 문자 'R'로 교체"
      ]
    },
    {
      "cell_type": "code",
      "metadata": {
        "id": "nNuELc1q7Wwf",
        "colab": {
          "base_uri": "https://localhost:8080/"
        },
        "outputId": "568f1e6d-6615-47f7-aa03-812b55588f34"
      },
      "source": [
        "print(\"String\".replace(\"Str\", 'R'))"
      ],
      "execution_count": 66,
      "outputs": [
        {
          "output_type": "stream",
          "name": "stdout",
          "text": [
            "Ring\n"
          ]
        }
      ]
    },
    {
      "cell_type": "markdown",
      "metadata": {
        "id": "rIP8GXbM7p3w"
      },
      "source": [
        "### split() / rsplit() / splitlines()\n",
        "\n",
        "* 문자열 \"1 2 3\"을 `split()`의 기본 구분자를 이용하여 '1', '2', '3' 으로 구분\n",
        "* 문자열 \"1_2_3\"을 `split()`으로 구분자 '_'를 이용하여 '1', '2', '3' 으로 구분\n",
        "* 문자열 \"1 2 3\"을 `rsplit()`으로 구분자 '_'를 이용하여 오른쪽부터 1번만 구분하여 '1_2', '3' 으로 구분\n",
        "* 문자열 \"123\\n123\\n123\\n\"을 `splitlines()` 함수를 이용하여 라인 단위로 구분하여 '123, '123, '123 반환"
      ]
    },
    {
      "cell_type": "code",
      "metadata": {
        "id": "Ns3ZMQJ17mv7",
        "colab": {
          "base_uri": "https://localhost:8080/"
        },
        "outputId": "7f31a6cd-8b91-4934-880c-c843bd6cd5ae"
      },
      "source": [
        "print(\"1 2 3\".split()) # 123이 1, 2, 3으로 구분됨. 기본구분자(공백)이 사용됨\n",
        "print(\"1_2_3\".split('_'))\n",
        "print(\"1_2_3\".rsplit('_', 1)) # r이니까 오른쪽서부터 1, 한번만 스플릿해라.\n",
        "print(\"123\\n123\\n123\\n\".splitlines()) # 라인단위\\n로 스플릿하기"
      ],
      "execution_count": 71,
      "outputs": [
        {
          "output_type": "stream",
          "name": "stdout",
          "text": [
            "['1', '2', '3']\n",
            "['1', '2', '3']\n",
            "['1_2', '3']\n",
            "['123', '123', '123']\n"
          ]
        }
      ]
    },
    {
      "cell_type": "markdown",
      "metadata": {
        "id": "tx8dAOPm8DTv"
      },
      "source": [
        "### startswith() / endswith()\n",
        "\n",
        "* 문자열 \"String\"에서 시작 문자가 'S'인지 `startswith()`를 통해 확인\n",
        "* 문자열 \"String\"에서 마지막 문자가 'g'인지 `endswith()`를 통해 확인"
      ]
    },
    {
      "cell_type": "code",
      "metadata": {
        "id": "dNB3Da_x7587",
        "colab": {
          "base_uri": "https://localhost:8080/"
        },
        "outputId": "0826def5-1945-45a8-c077-3f197c0af11b"
      },
      "source": [
        "print(\"String\".startswith('S'))\n",
        "print(\"String\".endswith('g')) #뭘로 시작하고 뭘로 끝나는지 알수 있는 메서드"
      ],
      "execution_count": 74,
      "outputs": [
        {
          "output_type": "stream",
          "name": "stdout",
          "text": [
            "True\n",
            "True\n"
          ]
        }
      ]
    },
    {
      "cell_type": "markdown",
      "metadata": {
        "id": "OZatwJSe8Svd"
      },
      "source": [
        "### zfill()\n",
        "\n",
        "* 문자열 \"123\"에서 너비 8만큼으로 늘리고 비어있는 부분에 '0'이 채워진 문자열 \"00000123\" 반환"
      ]
    },
    {
      "cell_type": "code",
      "metadata": {
        "id": "rWqlvXJV8MJF",
        "colab": {
          "base_uri": "https://localhost:8080/"
        },
        "outputId": "5ba38268-8459-41da-ed58-e90ffc323971"
      },
      "source": [
        "print(\"123\".zfill(8)) # zfill=zerofill 문자열이 123이 있는데 총 8개 글자로 만들고 빈곳은 0으로 채워줘 "
      ],
      "execution_count": 76,
      "outputs": [
        {
          "output_type": "stream",
          "name": "stdout",
          "text": [
            "00000123\n"
          ]
        }
      ]
    },
    {
      "cell_type": "markdown",
      "metadata": {
        "id": "yjsh7OcA8fIu"
      },
      "source": [
        "\n",
        "\n",
        "---\n",
        "\n"
      ]
    },
    {
      "cell_type": "markdown",
      "metadata": {
        "id": "Og91a1bd8gd-"
      },
      "source": [
        "## 문자열 서식(String Format)\n"
      ]
    },
    {
      "cell_type": "markdown",
      "metadata": {
        "id": "U7QLYGjk8qbO"
      },
      "source": [
        "### 문자열 포맷팅(String Formatting)\n",
        "\n",
        "* 문자열 내에서 서식에 맞추어 특정 값을 삽입 또는 변경\n",
        "* 기호 % 뒤에 있는 값이 문자열 내의 서식에 순서대로 매핑"
      ]
    },
    {
      "cell_type": "code",
      "metadata": {
        "id": "_z3A1Rmu8Wex",
        "colab": {
          "base_uri": "https://localhost:8080/"
        },
        "outputId": "a514a001-f4d0-4601-fee5-174098f9d7ad"
      },
      "source": [
        "print(\"나는 사과가 %d개 있다.\" % 2) # % 뒤라는 위치에 2라는 값이 매핑이 되는것.\n",
        "print(\"나는 사과가 %s개 있다.\" % \"두 \")\n",
        "print(\"나는 %s가 %d개 있다.\" % (\"배\", 5)) # 퍼센트가 두군데면 괄호치고 콤마로 구분"
      ],
      "execution_count": 83,
      "outputs": [
        {
          "output_type": "stream",
          "name": "stdout",
          "text": [
            "나는 사과가 2개 있다.\n",
            "나는 사과가 두 개 있다.\n",
            "나는 배가 5개 있다.\n"
          ]
        }
      ]
    },
    {
      "cell_type": "markdown",
      "metadata": {
        "id": "PP32b9L3-eVL"
      },
      "source": [
        "### 정렬, 공백, 소수점 포맷\n",
        "\n",
        "* 포맷 문자 앞에 숫자는 길이를 의미\n",
        "* -는 왼쪽 정렬을 의미\n",
        "* 소수점 ‘.’ 뒤에 숫자는 소숫점 이하 개수를 의미"
      ]
    },
    {
      "cell_type": "code",
      "metadata": {
        "id": "uG9qhf2L9K_A",
        "colab": {
          "base_uri": "https://localhost:8080/"
        },
        "outputId": "94aef58e-6b1e-44b8-bb06-b4b742b41eff"
      },
      "source": [
        "print(\"%8s\" % \"Hello\") # 총길이를 8로 해놔서 헬로 앞에 공백 3개 들어감\n",
        "print(\"%-8s\" % \"Hello\") # 8개의 길이를 가지는데 -니까 왼쪽정렬\n",
        "print(\"%-8sPython\" % \"Hello\") # %-8 Hello를 먼저 인식하고(8자 왼쪽정렬) 써놓고 그담에 파이썬을 씀\n",
        "print(\"%0.2f\" % 3.1415926535)\n",
        "print(\"%8.2f\" % 3.1415926535)\n",
        "print(\"%-8.2f\" % 3.1415926535)"
      ],
      "execution_count": 89,
      "outputs": [
        {
          "output_type": "stream",
          "name": "stdout",
          "text": [
            "   Hello\n",
            "Hello   \n",
            "Hello   Python\n",
            "3.14\n",
            "    3.14\n",
            "3.14    \n"
          ]
        }
      ]
    },
    {
      "cell_type": "markdown",
      "metadata": {
        "id": "SrIx3mkM_C8G"
      },
      "source": [
        "### 문자열 format 메소드\n",
        "\n",
        "* 문자열 `format()`의 인덱스를 이용한 고급 포맷팅\n",
        "* 인덱스 번호에 따라 `format()` 함수의 각 값들이 매핑"
      ]
    },
    {
      "cell_type": "code",
      "metadata": {
        "id": "uf469Z6l-6E0",
        "colab": {
          "base_uri": "https://localhost:8080/"
        },
        "outputId": "88227fac-b28b-42c6-d6fb-82a3635cdf4c"
      },
      "source": [
        "print(\"나는 사과가 {0}개 있다.\".format(2))\n",
        "print(\"나는 사과가 {0}개 있다.\".format(\"두\"))\n",
        "print(\"나는 {0}가 {1}개 있다.\".format(\"사과\", 2))"
      ],
      "execution_count": 91,
      "outputs": [
        {
          "output_type": "stream",
          "name": "stdout",
          "text": [
            "나는 사과가 2개 있다.\n",
            "나는 사과가 두개 있다.\n",
            "나는 사과가 2개 있다.\n"
          ]
        }
      ]
    },
    {
      "cell_type": "markdown",
      "metadata": {
        "id": "0pTK7FHW_jIn"
      },
      "source": [
        "* 문자열 `format()` 메소드의 인덱스와 변수 이름을 이용한 포맷팅\n",
        "* 변수 이름 s와 n을 지정하여 \"사과\"와 숫자 2를 매핑"
      ]
    },
    {
      "cell_type": "code",
      "metadata": {
        "id": "Bwx0XnkE_Yvn",
        "colab": {
          "base_uri": "https://localhost:8080/"
        },
        "outputId": "f7936bc0-c0a8-442d-a7fc-9a5807abc9aa"
      },
      "source": [
        "print(\"나는 사과가 {n}개 있다.\".format(n=2))\n",
        "print(\"나는 {s}가 {n}개 있다.\".format(s=\"사과\", n=2))"
      ],
      "execution_count": 92,
      "outputs": [
        {
          "output_type": "stream",
          "name": "stdout",
          "text": [
            "나는 사과가 2개 있다.\n",
            "나는 사과가 2개 있다.\n"
          ]
        }
      ]
    },
    {
      "cell_type": "markdown",
      "metadata": {
        "id": "0yErNkKPAA2F"
      },
      "source": [
        "* 문자열 `format()` 함수의 정렬, 공백, 소수점\n"
      ]
    },
    {
      "cell_type": "code",
      "metadata": {
        "id": "Nfi9kAeD_z3p",
        "colab": {
          "base_uri": "https://localhost:8080/"
        },
        "outputId": "a2047db5-57a7-49fd-851e-45133459707e"
      },
      "source": [
        "print(\"{0:8}\".format(\"Hello\"))\n",
        "print(\"{0:<8}\".format(\"Hello\")) #왼쪽정렬\n",
        "print(\"{0:>8}\".format(\"Hello\")) #오른쪽정렬\n",
        "print(\"{0:^8}\".format(\"Hello\")) #가운데 정렬\n",
        "print(\"{0:~^8}\".format(\"Hello\")) #~로 공백들을 채우기"
      ],
      "execution_count": 95,
      "outputs": [
        {
          "output_type": "stream",
          "name": "stdout",
          "text": [
            "Hello   \n",
            "Hello   \n",
            "   Hello\n",
            " Hello  \n",
            "~Hello~~\n"
          ]
        }
      ]
    },
    {
      "cell_type": "markdown",
      "metadata": {
        "id": "1GS_wR86BmtE"
      },
      "source": [
        "### f 문자열 포맷팅\n",
        "\n",
        "* 문자열 포맷팅을 위해 새롭게 나온 기능으로 문자열 앞에 f를 붙여서 구분\n",
        "* 변수 s와 n에 대해서 문자열에 포함된 이름으로 매핑하여 사용 가능"
      ]
    },
    {
      "cell_type": "code",
      "metadata": {
        "id": "3ffhQ807BYLf",
        "colab": {
          "base_uri": "https://localhost:8080/"
        },
        "outputId": "10d60f23-c535-4182-8050-3741e5bf5aa0"
      },
      "source": [
        "s = \"사과\"\n",
        "n = 2\n",
        "print(f\"나는 사과가 {n}개 있다.\") # f로 티를 내는것. 지금 f문자 포맷팅하는거다~\n",
        "print(f\"나는 {s}가 {n}개 있다.\") # 앞에 있는 변수를 알아서 심플하게 맵핑해서 사용"
      ],
      "execution_count": 97,
      "outputs": [
        {
          "output_type": "stream",
          "name": "stdout",
          "text": [
            "나는 사과가 2개 있다.\n",
            "나는 사과가 2개 있다.\n"
          ]
        }
      ]
    },
    {
      "cell_type": "markdown",
      "metadata": {
        "id": "9zQ6zYkRR_dt"
      },
      "source": [
        "* 기존의 문자열 포맷을 문자열 다음 기호 : 뒤에 표현하여 그대로 사용 가능"
      ]
    },
    {
      "cell_type": "code",
      "metadata": {
        "id": "UOYcnlERBxhy",
        "colab": {
          "base_uri": "https://localhost:8080/"
        },
        "outputId": "9c9f688d-b01e-439e-a377-9f0e82be57ad"
      },
      "source": [
        "print(f'{\"Hello\":8}')\n",
        "print(f'{\"Hello\":<8}')#왼쪽정렬\n",
        "print(f'{\"Hello\":>8}') #오른쪽정렬\n",
        "print(f'{\"Hello\":^8}') #가운데 정렬\n",
        "print(f'{\"Hello\":~^8}') #~로 공백들을 채우기"
      ],
      "execution_count": 102,
      "outputs": [
        {
          "output_type": "stream",
          "name": "stdout",
          "text": [
            "Hello   \n",
            "Hello   \n",
            "   Hello\n",
            " Hello  \n",
            "~Hello~~\n"
          ]
        }
      ]
    }
  ]
}